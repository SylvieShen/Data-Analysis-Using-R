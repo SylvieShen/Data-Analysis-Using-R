{
 "cells": [
  {
   "cell_type": "markdown",
   "metadata": {
    "deletable": false,
    "editable": false,
    "nbgrader": {
     "cell_type": "markdown",
     "checksum": "bc1eb3913b65a9403e2b7d0119f2aebf",
     "grade": false,
     "grade_id": "cell-441786adbe710cac",
     "locked": true,
     "schema_version": 3,
     "solution": false,
     "task": false
    }
   },
   "source": [
    "# Worksheet B-3: Nesting, List Columns, and `purrr`\n",
    "\n",
    "\n",
    "From this topic, students are anticipated to be able to:\n",
    "\n",
    "- Use the `map` family of functions from the purrr package to iteratively apply a function.\n",
    "- Create and operate on list columns in a tibble using `nest()`, `unnest()`, and the `map` family of functions.\n",
    "- Define functions on-the-fly within a `map` function using shortcuts.\n",
    "- Apply list columns to cases in data analysis: columns of models, columns of nested lists (JSON-style data), and operating on entire groups within a tibble.\n",
    "\n",
    "Load the worksheet requirements:"
   ]
  },
  {
   "cell_type": "code",
   "execution_count": 55,
   "metadata": {
    "deletable": false,
    "editable": false,
    "nbgrader": {
     "cell_type": "code",
     "checksum": "d16886e26612b456ba4d4035d4de4922",
     "grade": false,
     "grade_id": "cell-04b3e77f6b2aa884",
     "locked": true,
     "schema_version": 3,
     "solution": false,
     "task": false
    }
   },
   "outputs": [],
   "source": [
    "suppressPackageStartupMessages(library(testthat))\n",
    "suppressPackageStartupMessages(library(digest))\n",
    "suppressPackageStartupMessages(library(tidyverse))\n",
    "suppressPackageStartupMessages(library(palmerpenguins))\n",
    "suppressPackageStartupMessages(library(glue))\n",
    "suppressPackageStartupMessages(library(gapminder))\n",
    "suppressPackageStartupMessages(library(broom))\n",
    "suppressPackageStartupMessages(library(distplyr)) # install with devtools::install_github('vincenzocoia/distplyr')\n",
    "suppressPackageStartupMessages(library(repurrrsive))"
   ]
  },
  {
   "cell_type": "markdown",
   "metadata": {
    "deletable": false,
    "editable": false,
    "nbgrader": {
     "cell_type": "markdown",
     "checksum": "9d6a249b12de79a88eac2cfbfe1b2991",
     "grade": false,
     "grade_id": "cell-8cc5ec4510ee55b3",
     "locked": true,
     "schema_version": 3,
     "solution": false,
     "task": false
    }
   },
   "source": [
    "The following code chunk has been unlocked, to give you the flexibility to start this document with some of your own code. Remember, it's bad manners to keep a call to `install.packages()` in your source code, so don't forget to delete these lines if you ever need to run them. \n",
    "\n",
    "Most likely you will need to install `devtools`, to order to install `distplyr`."
   ]
  },
  {
   "cell_type": "code",
   "execution_count": null,
   "metadata": {},
   "outputs": [],
   "source": []
  },
  {
   "cell_type": "markdown",
   "metadata": {
    "deletable": false,
    "editable": false,
    "nbgrader": {
     "cell_type": "markdown",
     "checksum": "27868ca7100c39aa8b141db8769e683b",
     "grade": false,
     "grade_id": "cell-b8ef43336df77928",
     "locked": true,
     "schema_version": 3,
     "solution": false,
     "task": false
    }
   },
   "source": [
    "# Part 1: Exploring `purrr` Fundamentals\n",
    "\n",
    "The `purrr` package is also part of the `tidyverse`.\n",
    "\n",
    "Apply a function to each element in a list/vector with `map`.\n",
    "\n",
    "General usage: `purrr::map(VECTOR_OR_LIST, YOUR_FUNCTION)`\n",
    "\n",
    "Note:\n",
    "\n",
    "- `map` always returns a list.\n",
    "- `YOUR_FUNCTION` can return anything!\n",
    "\n",
    "There are many variations of `map_*`, which you can find in this [cheatsheet](https://github.com/rstudio/cheatsheets/blob/master/purrr.pdf)."
   ]
  },
  {
   "cell_type": "markdown",
   "metadata": {
    "deletable": false,
    "editable": false,
    "nbgrader": {
     "cell_type": "markdown",
     "checksum": "b7c4b02883ef58a728c8d47843a522e9",
     "grade": false,
     "grade_id": "cell-39402bc67d445e29",
     "locked": true,
     "schema_version": 3,
     "solution": false,
     "task": false
    }
   },
   "source": [
    "For the next few tasks, you will be converting for-loop(s) to vectorized expressions that reproduce the output (numbers should be the same, the format can be different).\n",
    "\n",
    "## QUESTION 1\n",
    "\n",
    "Without using vectorization, take the square root of the following vector:"
   ]
  },
  {
   "cell_type": "code",
   "execution_count": 4,
   "metadata": {
    "deletable": false,
    "editable": false,
    "nbgrader": {
     "cell_type": "code",
     "checksum": "b9fd99c626cde4c068997118d3a65d68",
     "grade": false,
     "grade_id": "cell-cf14f37393dfb8aa",
     "locked": true,
     "schema_version": 3,
     "solution": false,
     "task": false
    }
   },
   "outputs": [],
   "source": [
    "x <- 1:10"
   ]
  },
  {
   "cell_type": "markdown",
   "metadata": {
    "deletable": false,
    "editable": false,
    "nbgrader": {
     "cell_type": "markdown",
     "checksum": "1a5b1797851d248be569e8e32b93f5d8",
     "grade": false,
     "grade_id": "cell-a05a931e588540a5",
     "locked": true,
     "schema_version": 3,
     "solution": false,
     "task": false
    }
   },
   "source": [
    "The result should be a list of the calculations. Store your answer in `answer1`.\n",
    "\n",
    "```r\n",
    "answer1 <- map(FILL_THIS_IN, FILL_THIS_IN)\n",
    "```"
   ]
  },
  {
   "cell_type": "code",
   "execution_count": 5,
   "metadata": {
    "deletable": false,
    "nbgrader": {
     "cell_type": "code",
     "checksum": "0baa83c880dc41e0e19ffd73efb8af73",
     "grade": false,
     "grade_id": "cell-6284b5e7fedca3b9",
     "locked": false,
     "schema_version": 3,
     "solution": true,
     "task": false
    }
   },
   "outputs": [
    {
     "data": {
      "text/html": [
       "<ol>\n",
       "\t<li>1</li>\n",
       "\t<li>1.4142135623731</li>\n",
       "\t<li>1.73205080756888</li>\n",
       "\t<li>2</li>\n",
       "\t<li>2.23606797749979</li>\n",
       "\t<li>2.44948974278318</li>\n",
       "\t<li>2.64575131106459</li>\n",
       "\t<li>2.82842712474619</li>\n",
       "\t<li>3</li>\n",
       "\t<li>3.16227766016838</li>\n",
       "</ol>\n"
      ],
      "text/latex": [
       "\\begin{enumerate}\n",
       "\\item 1\n",
       "\\item 1.4142135623731\n",
       "\\item 1.73205080756888\n",
       "\\item 2\n",
       "\\item 2.23606797749979\n",
       "\\item 2.44948974278318\n",
       "\\item 2.64575131106459\n",
       "\\item 2.82842712474619\n",
       "\\item 3\n",
       "\\item 3.16227766016838\n",
       "\\end{enumerate}\n"
      ],
      "text/markdown": [
       "1. 1\n",
       "2. 1.4142135623731\n",
       "3. 1.73205080756888\n",
       "4. 2\n",
       "5. 2.23606797749979\n",
       "6. 2.44948974278318\n",
       "7. 2.64575131106459\n",
       "8. 2.82842712474619\n",
       "9. 3\n",
       "10. 3.16227766016838\n",
       "\n",
       "\n"
      ],
      "text/plain": [
       "[[1]]\n",
       "[1] 1\n",
       "\n",
       "[[2]]\n",
       "[1] 1.414214\n",
       "\n",
       "[[3]]\n",
       "[1] 1.732051\n",
       "\n",
       "[[4]]\n",
       "[1] 2\n",
       "\n",
       "[[5]]\n",
       "[1] 2.236068\n",
       "\n",
       "[[6]]\n",
       "[1] 2.44949\n",
       "\n",
       "[[7]]\n",
       "[1] 2.645751\n",
       "\n",
       "[[8]]\n",
       "[1] 2.828427\n",
       "\n",
       "[[9]]\n",
       "[1] 3\n",
       "\n",
       "[[10]]\n",
       "[1] 3.162278\n"
      ]
     },
     "metadata": {},
     "output_type": "display_data"
    }
   ],
   "source": [
    "answer1 <- map(x, sqrt)\n",
    "answer1"
   ]
  },
  {
   "cell_type": "code",
   "execution_count": 6,
   "metadata": {
    "deletable": false,
    "editable": false,
    "nbgrader": {
     "cell_type": "code",
     "checksum": "c14040d5e67790c0675608b2aee4add3",
     "grade": true,
     "grade_id": "cell-24f033554d4e73c0",
     "locked": true,
     "points": 1,
     "schema_version": 3,
     "solution": false,
     "task": false
    }
   },
   "outputs": [
    {
     "name": "stdout",
     "output_type": "stream",
     "text": [
      "\u001b[32mTest passed\u001b[39m \n"
     ]
    }
   ],
   "source": [
    "test_that('Question 1', {\n",
    "    expect_known_hash(mode(answer1), '086ebc4c59c08c43e75bae74f1e16897')\n",
    "    expect_known_hash(round(unlist(answer1), 4), 'ad16817e39d61cdf2ce38234f61306de')\n",
    "})"
   ]
  },
  {
   "cell_type": "markdown",
   "metadata": {
    "deletable": false,
    "editable": false,
    "nbgrader": {
     "cell_type": "markdown",
     "checksum": "ce01f1ff01893272ef0dd57689701202",
     "grade": false,
     "grade_id": "cell-d71be613854f3101",
     "locked": true,
     "schema_version": 3,
     "solution": false,
     "task": false
    }
   },
   "source": [
    "## QUESTION 2 \n",
    "\n",
    "In Question 1, we used the generic `map` function, and got a list. Let's use a more specific `map_*` function this time.\n",
    "\n",
    "Again without using vectorization, square each component of `x`. The result should be a numeric vector. Store your answer in `answer2`:\n",
    "\n",
    "```r\n",
    "answer2 <- map_dbl(FILL_THIS_IN, FILL_THIS_IN)\n",
    "```\n",
    "\n",
    "_Hint:_ The last `FILL_THIS_IN` corresponds to an anonymous function!"
   ]
  },
  {
   "cell_type": "code",
   "execution_count": 7,
   "metadata": {
    "deletable": false,
    "nbgrader": {
     "cell_type": "code",
     "checksum": "088407d7039474dbf36c2e616aedcfb0",
     "grade": false,
     "grade_id": "cell-7ef5e38acec39a45",
     "locked": false,
     "schema_version": 3,
     "solution": true,
     "task": false
    }
   },
   "outputs": [
    {
     "name": "stdout",
     "output_type": "stream",
     "text": [
      " [1]   1   4   9  16  25  36  49  64  81 100\n"
     ]
    }
   ],
   "source": [
    "answer2 <- map_dbl(x, function(x) x^2)\n",
    "print(answer2)"
   ]
  },
  {
   "cell_type": "code",
   "execution_count": 8,
   "metadata": {
    "deletable": false,
    "editable": false,
    "nbgrader": {
     "cell_type": "code",
     "checksum": "79604b376a235819403e5d62dde4a748",
     "grade": true,
     "grade_id": "cell-e973a44a4a26e248",
     "locked": true,
     "points": 1,
     "schema_version": 3,
     "solution": false,
     "task": false
    }
   },
   "outputs": [
    {
     "name": "stdout",
     "output_type": "stream",
     "text": [
      "\u001b[32mTest passed\u001b[39m \n"
     ]
    }
   ],
   "source": [
    "test_that('Question 2', {\n",
    "    expect_known_hash(mode(answer2), '46606ee201b428a3fa6c8a0d3d9e671c')\n",
    "    expect_known_hash(round(unlist(answer2), 4), '84a2193460cb35ff884e4c3144abf122')\n",
    "})"
   ]
  },
  {
   "cell_type": "markdown",
   "metadata": {
    "deletable": false,
    "editable": false,
    "nbgrader": {
     "cell_type": "markdown",
     "checksum": "912aedb5d0c62777bf8efbc6e7c088ca",
     "grade": false,
     "grade_id": "cell-4b2cd38653067dca",
     "locked": true,
     "schema_version": 3,
     "solution": false,
     "task": false
    }
   },
   "source": [
    "Now we've used both `map` and a more specific `map_dbl`. Now you can see how they differ, and how the use of one is better justified than the other for our purpose. Now it's your turn to choose! Remember to use the [cheatsheet](https://github.com/rstudio/cheatsheets/blob/master/purrr.pdf) if you need it!\n",
    "\n",
    "## QUESTION 3\n",
    "\n",
    "Below is sample code that computes the mean of every column in the `mtcars` dataset. Use the appropriate `purrr` function to vectorize this task."
   ]
  },
  {
   "cell_type": "code",
   "execution_count": 9,
   "metadata": {
    "deletable": false,
    "editable": false,
    "nbgrader": {
     "cell_type": "code",
     "checksum": "f4aae378ca91f36516266b3ea5c5871d",
     "grade": false,
     "grade_id": "cell-d19221d660e2569f",
     "locked": true,
     "schema_version": 3,
     "solution": false,
     "task": false
    }
   },
   "outputs": [
    {
     "data": {
      "text/html": [
       "<style>\n",
       ".list-inline {list-style: none; margin:0; padding: 0}\n",
       ".list-inline>li {display: inline-block}\n",
       ".list-inline>li:not(:last-child)::after {content: \"\\00b7\"; padding: 0 .5ex}\n",
       "</style>\n",
       "<ol class=list-inline><li>20.090625</li><li>6.1875</li><li>230.721875</li><li>146.6875</li><li>3.5965625</li><li>3.21725</li><li>17.84875</li><li>0.4375</li><li>0.40625</li><li>3.6875</li><li>2.8125</li></ol>\n"
      ],
      "text/latex": [
       "\\begin{enumerate*}\n",
       "\\item 20.090625\n",
       "\\item 6.1875\n",
       "\\item 230.721875\n",
       "\\item 146.6875\n",
       "\\item 3.5965625\n",
       "\\item 3.21725\n",
       "\\item 17.84875\n",
       "\\item 0.4375\n",
       "\\item 0.40625\n",
       "\\item 3.6875\n",
       "\\item 2.8125\n",
       "\\end{enumerate*}\n"
      ],
      "text/markdown": [
       "1. 20.090625\n",
       "2. 6.1875\n",
       "3. 230.721875\n",
       "4. 146.6875\n",
       "5. 3.5965625\n",
       "6. 3.21725\n",
       "7. 17.84875\n",
       "8. 0.4375\n",
       "9. 0.40625\n",
       "10. 3.6875\n",
       "11. 2.8125\n",
       "\n",
       "\n"
      ],
      "text/plain": [
       " [1]  20.090625   6.187500 230.721875 146.687500   3.596563   3.217250\n",
       " [7]  17.848750   0.437500   0.406250   3.687500   2.812500"
      ]
     },
     "metadata": {},
     "output_type": "display_data"
    }
   ],
   "source": [
    "mtcars_means <- numeric()\n",
    "for (c in seq_along(mtcars)){\n",
    "  mtcars_means[[c]] <- mean(mtcars[[c]])\n",
    "}\n",
    "mtcars_means"
   ]
  },
  {
   "cell_type": "markdown",
   "metadata": {
    "deletable": false,
    "editable": false,
    "nbgrader": {
     "cell_type": "markdown",
     "checksum": "88434155c9108991b93a5030a330e4df",
     "grade": false,
     "grade_id": "cell-7149931321d1676e",
     "locked": true,
     "schema_version": 3,
     "solution": false,
     "task": false
    }
   },
   "source": [
    "Store your answer in `answer3`; as above, your answer should be a vector. _Hint_: note that a tibble / data frame is just a list, where each entry is a column (a vector).\n",
    "\n",
    "```r\n",
    "answer3 <- FILL_THIS_IN(datasets::mtcars, FILL_THIS_IN)\n",
    "```"
   ]
  },
  {
   "cell_type": "code",
   "execution_count": 10,
   "metadata": {
    "deletable": false,
    "nbgrader": {
     "cell_type": "code",
     "checksum": "b8f773d13f9b6239b96ab669bd40750f",
     "grade": false,
     "grade_id": "cell-57149cc846945d50",
     "locked": false,
     "schema_version": 3,
     "solution": true,
     "task": false
    }
   },
   "outputs": [
    {
     "name": "stdout",
     "output_type": "stream",
     "text": [
      "       mpg        cyl       disp         hp       drat         wt       qsec \n",
      " 20.090625   6.187500 230.721875 146.687500   3.596563   3.217250  17.848750 \n",
      "        vs         am       gear       carb \n",
      "  0.437500   0.406250   3.687500   2.812500 \n"
     ]
    }
   ],
   "source": [
    "answer3 <- map_dbl(datasets::mtcars, mean)\n",
    "print(answer3)"
   ]
  },
  {
   "cell_type": "code",
   "execution_count": 11,
   "metadata": {
    "deletable": false,
    "editable": false,
    "nbgrader": {
     "cell_type": "code",
     "checksum": "ba2f6312ebcfe24b55ffb8f9058db40c",
     "grade": true,
     "grade_id": "cell-4bee819e10679644",
     "locked": true,
     "points": 1,
     "schema_version": 3,
     "solution": false,
     "task": false
    }
   },
   "outputs": [
    {
     "name": "stdout",
     "output_type": "stream",
     "text": [
      "\u001b[32mTest passed\u001b[39m \n"
     ]
    }
   ],
   "source": [
    "test_that('Question 3', {\n",
    "    expect_known_hash(floor(unname(answer3)), '9a69e180a47954630685d24f403fe3af')\n",
    "})"
   ]
  },
  {
   "cell_type": "markdown",
   "metadata": {
    "deletable": false,
    "editable": false,
    "nbgrader": {
     "cell_type": "markdown",
     "checksum": "c04a44a8283dc3b62360035ec5f42133",
     "grade": false,
     "grade_id": "cell-220c9bc0fde4d12c",
     "locked": true,
     "schema_version": 3,
     "solution": false,
     "task": false
    }
   },
   "source": [
    "## QUESTION 4\n",
    "\n",
    "Below is sample code that divides the values in each column of the `mtcars` dataset by the maximum in that column. Underneath it is a vectorized method using `purrr`, returning a list, but we want a data frame instead."
   ]
  },
  {
   "cell_type": "code",
   "execution_count": 13,
   "metadata": {
    "deletable": false,
    "editable": false,
    "nbgrader": {
     "cell_type": "code",
     "checksum": "e97a58d1fef9764ad8a6843e43769e33",
     "grade": false,
     "grade_id": "cell-0b06d241b2c23867",
     "locked": true,
     "schema_version": 3,
     "solution": false,
     "task": false
    }
   },
   "outputs": [
    {
     "data": {
      "text/html": [
       "<table class=\"dataframe\">\n",
       "<caption>A data.frame: 6 × 11</caption>\n",
       "<thead>\n",
       "\t<tr><th></th><th scope=col>mpg</th><th scope=col>cyl</th><th scope=col>disp</th><th scope=col>hp</th><th scope=col>drat</th><th scope=col>wt</th><th scope=col>qsec</th><th scope=col>vs</th><th scope=col>am</th><th scope=col>gear</th><th scope=col>carb</th></tr>\n",
       "\t<tr><th></th><th scope=col>&lt;dbl&gt;</th><th scope=col>&lt;dbl&gt;</th><th scope=col>&lt;dbl&gt;</th><th scope=col>&lt;dbl&gt;</th><th scope=col>&lt;dbl&gt;</th><th scope=col>&lt;dbl&gt;</th><th scope=col>&lt;dbl&gt;</th><th scope=col>&lt;dbl&gt;</th><th scope=col>&lt;dbl&gt;</th><th scope=col>&lt;dbl&gt;</th><th scope=col>&lt;dbl&gt;</th></tr>\n",
       "</thead>\n",
       "<tbody>\n",
       "\t<tr><th scope=row>Mazda RX4</th><td>21.0</td><td>6</td><td>160</td><td>110</td><td>3.90</td><td>2.620</td><td>16.46</td><td>0</td><td>1</td><td>4</td><td>0.8</td></tr>\n",
       "\t<tr><th scope=row>Mazda RX4 Wag</th><td>21.0</td><td>6</td><td>160</td><td>110</td><td>3.90</td><td>2.875</td><td>17.02</td><td>0</td><td>1</td><td>4</td><td>0.8</td></tr>\n",
       "\t<tr><th scope=row>Datsun 710</th><td>22.8</td><td>4</td><td>108</td><td> 93</td><td>3.85</td><td>2.320</td><td>18.61</td><td>1</td><td>1</td><td>4</td><td>0.8</td></tr>\n",
       "\t<tr><th scope=row>Hornet 4 Drive</th><td>21.4</td><td>6</td><td>258</td><td>110</td><td>3.08</td><td>3.215</td><td>19.44</td><td>1</td><td>0</td><td>3</td><td>0.6</td></tr>\n",
       "\t<tr><th scope=row>Hornet Sportabout</th><td>18.7</td><td>8</td><td>360</td><td>175</td><td>3.15</td><td>3.440</td><td>17.02</td><td>0</td><td>0</td><td>3</td><td>0.6</td></tr>\n",
       "\t<tr><th scope=row>Valiant</th><td>18.1</td><td>6</td><td>225</td><td>105</td><td>2.76</td><td>3.460</td><td>20.22</td><td>1</td><td>0</td><td>3</td><td>0.6</td></tr>\n",
       "</tbody>\n",
       "</table>\n"
      ],
      "text/latex": [
       "A data.frame: 6 × 11\n",
       "\\begin{tabular}{r|lllllllllll}\n",
       "  & mpg & cyl & disp & hp & drat & wt & qsec & vs & am & gear & carb\\\\\n",
       "  & <dbl> & <dbl> & <dbl> & <dbl> & <dbl> & <dbl> & <dbl> & <dbl> & <dbl> & <dbl> & <dbl>\\\\\n",
       "\\hline\n",
       "\tMazda RX4 & 21.0 & 6 & 160 & 110 & 3.90 & 2.620 & 16.46 & 0 & 1 & 4 & 0.8\\\\\n",
       "\tMazda RX4 Wag & 21.0 & 6 & 160 & 110 & 3.90 & 2.875 & 17.02 & 0 & 1 & 4 & 0.8\\\\\n",
       "\tDatsun 710 & 22.8 & 4 & 108 &  93 & 3.85 & 2.320 & 18.61 & 1 & 1 & 4 & 0.8\\\\\n",
       "\tHornet 4 Drive & 21.4 & 6 & 258 & 110 & 3.08 & 3.215 & 19.44 & 1 & 0 & 3 & 0.6\\\\\n",
       "\tHornet Sportabout & 18.7 & 8 & 360 & 175 & 3.15 & 3.440 & 17.02 & 0 & 0 & 3 & 0.6\\\\\n",
       "\tValiant & 18.1 & 6 & 225 & 105 & 2.76 & 3.460 & 20.22 & 1 & 0 & 3 & 0.6\\\\\n",
       "\\end{tabular}\n"
      ],
      "text/markdown": [
       "\n",
       "A data.frame: 6 × 11\n",
       "\n",
       "| <!--/--> | mpg &lt;dbl&gt; | cyl &lt;dbl&gt; | disp &lt;dbl&gt; | hp &lt;dbl&gt; | drat &lt;dbl&gt; | wt &lt;dbl&gt; | qsec &lt;dbl&gt; | vs &lt;dbl&gt; | am &lt;dbl&gt; | gear &lt;dbl&gt; | carb &lt;dbl&gt; |\n",
       "|---|---|---|---|---|---|---|---|---|---|---|---|\n",
       "| Mazda RX4 | 21.0 | 6 | 160 | 110 | 3.90 | 2.620 | 16.46 | 0 | 1 | 4 | 0.8 |\n",
       "| Mazda RX4 Wag | 21.0 | 6 | 160 | 110 | 3.90 | 2.875 | 17.02 | 0 | 1 | 4 | 0.8 |\n",
       "| Datsun 710 | 22.8 | 4 | 108 |  93 | 3.85 | 2.320 | 18.61 | 1 | 1 | 4 | 0.8 |\n",
       "| Hornet 4 Drive | 21.4 | 6 | 258 | 110 | 3.08 | 3.215 | 19.44 | 1 | 0 | 3 | 0.6 |\n",
       "| Hornet Sportabout | 18.7 | 8 | 360 | 175 | 3.15 | 3.440 | 17.02 | 0 | 0 | 3 | 0.6 |\n",
       "| Valiant | 18.1 | 6 | 225 | 105 | 2.76 | 3.460 | 20.22 | 1 | 0 | 3 | 0.6 |\n",
       "\n"
      ],
      "text/plain": [
       "                  mpg  cyl disp hp  drat wt    qsec  vs am gear carb\n",
       "Mazda RX4         21.0 6   160  110 3.90 2.620 16.46 0  1  4    0.8 \n",
       "Mazda RX4 Wag     21.0 6   160  110 3.90 2.875 17.02 0  1  4    0.8 \n",
       "Datsun 710        22.8 4   108   93 3.85 2.320 18.61 1  1  4    0.8 \n",
       "Hornet 4 Drive    21.4 6   258  110 3.08 3.215 19.44 1  0  3    0.6 \n",
       "Hornet Sportabout 18.7 8   360  175 3.15 3.440 17.02 0  0  3    0.6 \n",
       "Valiant           18.1 6   225  105 2.76 3.460 20.22 1  0  3    0.6 "
      ]
     },
     "metadata": {},
     "output_type": "display_data"
    }
   ],
   "source": [
    "for (i in seq_along(mtcars)){\n",
    "  mtcars[[c]] <- mtcars[[i]] / max(mtcars[[i]], na.rm = TRUE)\n",
    "}\n",
    "head(mtcars)"
   ]
  },
  {
   "cell_type": "code",
   "execution_count": 14,
   "metadata": {
    "deletable": false,
    "editable": false,
    "nbgrader": {
     "cell_type": "code",
     "checksum": "60be2aa5c87f770af93b979961f8a5b9",
     "grade": false,
     "grade_id": "cell-52d52aad36149942",
     "locked": true,
     "schema_version": 3,
     "solution": false,
     "task": false
    }
   },
   "outputs": [
    {
     "name": "stdout",
     "output_type": "stream",
     "text": [
      "$mpg\n",
      "[1] 0.6194690 0.6194690 0.6725664 0.6312684 0.5516224\n",
      " [ reached getOption(\"max.print\") -- omitted 27 entries ]\n",
      "\n",
      "$cyl\n",
      "[1] 0.75 0.75 0.50 0.75 1.00\n",
      " [ reached getOption(\"max.print\") -- omitted 27 entries ]\n",
      "\n",
      "$disp\n",
      "[1] 0.3389831 0.3389831 0.2288136 0.5466102 0.7627119\n",
      " [ reached getOption(\"max.print\") -- omitted 27 entries ]\n",
      "\n",
      "$hp\n",
      "[1] 0.3283582 0.3283582 0.2776119 0.3283582 0.5223881\n",
      " [ reached getOption(\"max.print\") -- omitted 27 entries ]\n",
      "\n",
      "$drat\n",
      "[1] 0.7910751 0.7910751 0.7809331 0.6247465 0.6389452\n",
      " [ reached getOption(\"max.print\") -- omitted 27 entries ]\n",
      "\n",
      " [ reached getOption(\"max.print\") -- omitted 6 entries ]\n"
     ]
    }
   ],
   "source": [
    "map(mtcars, ~ .x / max(.x)) %>% \n",
    "    print(max = 5)"
   ]
  },
  {
   "cell_type": "markdown",
   "metadata": {
    "deletable": false,
    "editable": false,
    "nbgrader": {
     "cell_type": "markdown",
     "checksum": "491fbe84dce27097f0b5364c8b3187c8",
     "grade": false,
     "grade_id": "cell-b686b505db635e53",
     "locked": true,
     "schema_version": 3,
     "solution": false,
     "task": false
    }
   },
   "source": [
    "Find a way to do this using a _`purrr`-style_ function, using only `dplyr` functions. Store your answer in `answer6`:\n",
    "\n",
    "```r\n",
    "answer6 <- datasets::mtcars %>%\n",
    "  mutate(FILL_THIS_IN(FILL_THIS_IN, FILL_THIS_IN))\n",
    " ```\n",
    " \n",
    " _Hint_: The last `FILL_THIS_IN` corresponds to an anonymous function."
   ]
  },
  {
   "cell_type": "code",
   "execution_count": 15,
   "metadata": {
    "deletable": false,
    "nbgrader": {
     "cell_type": "code",
     "checksum": "a7eed83e84e7d94f62e8e0d2ff1a5d0e",
     "grade": false,
     "grade_id": "cell-b23dda8894947ec3",
     "locked": false,
     "schema_version": 3,
     "solution": true,
     "task": false
    }
   },
   "outputs": [
    {
     "data": {
      "text/html": [
       "<table class=\"dataframe\">\n",
       "<caption>A data.frame: 6 × 11</caption>\n",
       "<thead>\n",
       "\t<tr><th></th><th scope=col>mpg</th><th scope=col>cyl</th><th scope=col>disp</th><th scope=col>hp</th><th scope=col>drat</th><th scope=col>wt</th><th scope=col>qsec</th><th scope=col>vs</th><th scope=col>am</th><th scope=col>gear</th><th scope=col>carb</th></tr>\n",
       "\t<tr><th></th><th scope=col>&lt;dbl&gt;</th><th scope=col>&lt;dbl&gt;</th><th scope=col>&lt;dbl&gt;</th><th scope=col>&lt;dbl&gt;</th><th scope=col>&lt;dbl&gt;</th><th scope=col>&lt;dbl&gt;</th><th scope=col>&lt;dbl&gt;</th><th scope=col>&lt;dbl&gt;</th><th scope=col>&lt;dbl&gt;</th><th scope=col>&lt;dbl&gt;</th><th scope=col>&lt;dbl&gt;</th></tr>\n",
       "</thead>\n",
       "<tbody>\n",
       "\t<tr><th scope=row>Mazda RX4</th><td>0.6194690</td><td>0.75</td><td>0.3389831</td><td>0.3283582</td><td>0.7910751</td><td>0.4830383</td><td>0.7187773</td><td>0</td><td>1</td><td>0.8</td><td>0.500</td></tr>\n",
       "\t<tr><th scope=row>Mazda RX4 Wag</th><td>0.6194690</td><td>0.75</td><td>0.3389831</td><td>0.3283582</td><td>0.7910751</td><td>0.5300516</td><td>0.7432314</td><td>0</td><td>1</td><td>0.8</td><td>0.500</td></tr>\n",
       "\t<tr><th scope=row>Datsun 710</th><td>0.6725664</td><td>0.50</td><td>0.2288136</td><td>0.2776119</td><td>0.7809331</td><td>0.4277286</td><td>0.8126638</td><td>1</td><td>1</td><td>0.8</td><td>0.125</td></tr>\n",
       "\t<tr><th scope=row>Hornet 4 Drive</th><td>0.6312684</td><td>0.75</td><td>0.5466102</td><td>0.3283582</td><td>0.6247465</td><td>0.5927360</td><td>0.8489083</td><td>1</td><td>0</td><td>0.6</td><td>0.125</td></tr>\n",
       "\t<tr><th scope=row>Hornet Sportabout</th><td>0.5516224</td><td>1.00</td><td>0.7627119</td><td>0.5223881</td><td>0.6389452</td><td>0.6342183</td><td>0.7432314</td><td>0</td><td>0</td><td>0.6</td><td>0.250</td></tr>\n",
       "\t<tr><th scope=row>Valiant</th><td>0.5339233</td><td>0.75</td><td>0.4766949</td><td>0.3134328</td><td>0.5598377</td><td>0.6379056</td><td>0.8829694</td><td>1</td><td>0</td><td>0.6</td><td>0.125</td></tr>\n",
       "</tbody>\n",
       "</table>\n"
      ],
      "text/latex": [
       "A data.frame: 6 × 11\n",
       "\\begin{tabular}{r|lllllllllll}\n",
       "  & mpg & cyl & disp & hp & drat & wt & qsec & vs & am & gear & carb\\\\\n",
       "  & <dbl> & <dbl> & <dbl> & <dbl> & <dbl> & <dbl> & <dbl> & <dbl> & <dbl> & <dbl> & <dbl>\\\\\n",
       "\\hline\n",
       "\tMazda RX4 & 0.6194690 & 0.75 & 0.3389831 & 0.3283582 & 0.7910751 & 0.4830383 & 0.7187773 & 0 & 1 & 0.8 & 0.500\\\\\n",
       "\tMazda RX4 Wag & 0.6194690 & 0.75 & 0.3389831 & 0.3283582 & 0.7910751 & 0.5300516 & 0.7432314 & 0 & 1 & 0.8 & 0.500\\\\\n",
       "\tDatsun 710 & 0.6725664 & 0.50 & 0.2288136 & 0.2776119 & 0.7809331 & 0.4277286 & 0.8126638 & 1 & 1 & 0.8 & 0.125\\\\\n",
       "\tHornet 4 Drive & 0.6312684 & 0.75 & 0.5466102 & 0.3283582 & 0.6247465 & 0.5927360 & 0.8489083 & 1 & 0 & 0.6 & 0.125\\\\\n",
       "\tHornet Sportabout & 0.5516224 & 1.00 & 0.7627119 & 0.5223881 & 0.6389452 & 0.6342183 & 0.7432314 & 0 & 0 & 0.6 & 0.250\\\\\n",
       "\tValiant & 0.5339233 & 0.75 & 0.4766949 & 0.3134328 & 0.5598377 & 0.6379056 & 0.8829694 & 1 & 0 & 0.6 & 0.125\\\\\n",
       "\\end{tabular}\n"
      ],
      "text/markdown": [
       "\n",
       "A data.frame: 6 × 11\n",
       "\n",
       "| <!--/--> | mpg &lt;dbl&gt; | cyl &lt;dbl&gt; | disp &lt;dbl&gt; | hp &lt;dbl&gt; | drat &lt;dbl&gt; | wt &lt;dbl&gt; | qsec &lt;dbl&gt; | vs &lt;dbl&gt; | am &lt;dbl&gt; | gear &lt;dbl&gt; | carb &lt;dbl&gt; |\n",
       "|---|---|---|---|---|---|---|---|---|---|---|---|\n",
       "| Mazda RX4 | 0.6194690 | 0.75 | 0.3389831 | 0.3283582 | 0.7910751 | 0.4830383 | 0.7187773 | 0 | 1 | 0.8 | 0.500 |\n",
       "| Mazda RX4 Wag | 0.6194690 | 0.75 | 0.3389831 | 0.3283582 | 0.7910751 | 0.5300516 | 0.7432314 | 0 | 1 | 0.8 | 0.500 |\n",
       "| Datsun 710 | 0.6725664 | 0.50 | 0.2288136 | 0.2776119 | 0.7809331 | 0.4277286 | 0.8126638 | 1 | 1 | 0.8 | 0.125 |\n",
       "| Hornet 4 Drive | 0.6312684 | 0.75 | 0.5466102 | 0.3283582 | 0.6247465 | 0.5927360 | 0.8489083 | 1 | 0 | 0.6 | 0.125 |\n",
       "| Hornet Sportabout | 0.5516224 | 1.00 | 0.7627119 | 0.5223881 | 0.6389452 | 0.6342183 | 0.7432314 | 0 | 0 | 0.6 | 0.250 |\n",
       "| Valiant | 0.5339233 | 0.75 | 0.4766949 | 0.3134328 | 0.5598377 | 0.6379056 | 0.8829694 | 1 | 0 | 0.6 | 0.125 |\n",
       "\n"
      ],
      "text/plain": [
       "                  mpg       cyl  disp      hp        drat      wt       \n",
       "Mazda RX4         0.6194690 0.75 0.3389831 0.3283582 0.7910751 0.4830383\n",
       "Mazda RX4 Wag     0.6194690 0.75 0.3389831 0.3283582 0.7910751 0.5300516\n",
       "Datsun 710        0.6725664 0.50 0.2288136 0.2776119 0.7809331 0.4277286\n",
       "Hornet 4 Drive    0.6312684 0.75 0.5466102 0.3283582 0.6247465 0.5927360\n",
       "Hornet Sportabout 0.5516224 1.00 0.7627119 0.5223881 0.6389452 0.6342183\n",
       "Valiant           0.5339233 0.75 0.4766949 0.3134328 0.5598377 0.6379056\n",
       "                  qsec      vs am gear carb \n",
       "Mazda RX4         0.7187773 0  1  0.8  0.500\n",
       "Mazda RX4 Wag     0.7432314 0  1  0.8  0.500\n",
       "Datsun 710        0.8126638 1  1  0.8  0.125\n",
       "Hornet 4 Drive    0.8489083 1  0  0.6  0.125\n",
       "Hornet Sportabout 0.7432314 0  0  0.6  0.250\n",
       "Valiant           0.8829694 1  0  0.6  0.125"
      ]
     },
     "metadata": {},
     "output_type": "display_data"
    }
   ],
   "source": [
    "answer4 <- datasets::mtcars %>%\n",
    "  mutate(across(everything(), function(x) x / max(x)))\n",
    "head(answer4)"
   ]
  },
  {
   "cell_type": "code",
   "execution_count": 16,
   "metadata": {
    "deletable": false,
    "editable": false,
    "nbgrader": {
     "cell_type": "code",
     "checksum": "3143aa0a324533bcd85dde31cd6c2051",
     "grade": true,
     "grade_id": "cell-e910c3a832bde7db",
     "locked": true,
     "points": 1,
     "schema_version": 3,
     "solution": false,
     "task": false
    }
   },
   "outputs": [
    {
     "name": "stdout",
     "output_type": "stream",
     "text": [
      "\u001b[32mTest passed\u001b[39m \n"
     ]
    }
   ],
   "source": [
    "test_that('Question 4', {\n",
    "    expect_known_hash(class(answer4), '555434c8748e07b094500256087cdcc5')\n",
    "    expect_known_hash(dimnames(answer4), '3a51b37e4731153f63a1f5f9dc188269')\n",
    "    expect_known_hash(round(answer4$mpg, 3), 'af82f570a0aa02d8abcbbd14386e98b0')\n",
    "})"
   ]
  },
  {
   "cell_type": "markdown",
   "metadata": {
    "deletable": false,
    "editable": false,
    "nbgrader": {
     "cell_type": "markdown",
     "checksum": "b17eb1d452051154af1af8030caa3141",
     "grade": false,
     "grade_id": "cell-58c45fca89760512",
     "locked": true,
     "schema_version": 3,
     "solution": false,
     "task": false
    }
   },
   "source": [
    "## QUESTION 5\n",
    "\n",
    "Below is sample code that computes the number of unique values in each column of `mtcars` as a named vector, using for-loops. Use the appropriate `purrr` function to vectorize this task."
   ]
  },
  {
   "cell_type": "code",
   "execution_count": 17,
   "metadata": {
    "deletable": false,
    "editable": false,
    "nbgrader": {
     "cell_type": "code",
     "checksum": "28f025daf9b2193125503ff10f0d7e6c",
     "grade": false,
     "grade_id": "cell-575f9f96064b2ff8",
     "locked": true,
     "schema_version": 3,
     "solution": false,
     "task": false
    }
   },
   "outputs": [
    {
     "data": {
      "text/html": [
       "<style>\n",
       ".dl-inline {width: auto; margin:0; padding: 0}\n",
       ".dl-inline>dt, .dl-inline>dd {float: none; width: auto; display: inline-block}\n",
       ".dl-inline>dt::after {content: \":\\0020\"; padding-right: .5ex}\n",
       ".dl-inline>dt:not(:first-of-type) {padding-left: .5ex}\n",
       "</style><dl class=dl-inline><dt>mpg</dt><dd>25</dd><dt>cyl</dt><dd>3</dd><dt>disp</dt><dd>27</dd><dt>hp</dt><dd>22</dd><dt>drat</dt><dd>22</dd><dt>wt</dt><dd>29</dd><dt>qsec</dt><dd>30</dd><dt>vs</dt><dd>2</dd><dt>am</dt><dd>2</dd><dt>gear</dt><dd>3</dd><dt>carb</dt><dd>6</dd></dl>\n"
      ],
      "text/latex": [
       "\\begin{description*}\n",
       "\\item[mpg] 25\n",
       "\\item[cyl] 3\n",
       "\\item[disp] 27\n",
       "\\item[hp] 22\n",
       "\\item[drat] 22\n",
       "\\item[wt] 29\n",
       "\\item[qsec] 30\n",
       "\\item[vs] 2\n",
       "\\item[am] 2\n",
       "\\item[gear] 3\n",
       "\\item[carb] 6\n",
       "\\end{description*}\n"
      ],
      "text/markdown": [
       "mpg\n",
       ":   25cyl\n",
       ":   3disp\n",
       ":   27hp\n",
       ":   22drat\n",
       ":   22wt\n",
       ":   29qsec\n",
       ":   30vs\n",
       ":   2am\n",
       ":   2gear\n",
       ":   3carb\n",
       ":   6\n",
       "\n"
      ],
      "text/plain": [
       " mpg  cyl disp   hp drat   wt qsec   vs   am gear carb \n",
       "  25    3   27   22   22   29   30    2    2    3    6 "
      ]
     },
     "metadata": {},
     "output_type": "display_data"
    }
   ],
   "source": [
    "mtcars_unique <- numeric()\n",
    "for (c in seq_along(datasets::mtcars)){\n",
    "  mtcars_unique[[c]] <- length(unique(datasets::mtcars[[c]]))\n",
    "}\n",
    "names(mtcars_unique) <- names(datasets::mtcars)\n",
    "mtcars_unique"
   ]
  },
  {
   "cell_type": "markdown",
   "metadata": {
    "deletable": false,
    "editable": false,
    "nbgrader": {
     "cell_type": "markdown",
     "checksum": "a4fb6e3d5012779df0c3dd018200b08c",
     "grade": false,
     "grade_id": "cell-90e334b74bac1fa5",
     "locked": true,
     "schema_version": 3,
     "solution": false,
     "task": false
    }
   },
   "source": [
    "Store your answer in `answer5`:\n",
    "\n",
    "```r\n",
    "answer5 <- datasets::mtcars %>% \n",
    "    FILL_THIS_IN(FILL_THIS_IN) %>% \n",
    "    FILL_THIS_IN(FILL_THIS_IN)\n",
    "```"
   ]
  },
  {
   "cell_type": "code",
   "execution_count": 18,
   "metadata": {
    "deletable": false,
    "nbgrader": {
     "cell_type": "code",
     "checksum": "b6c3e01d6680f103546258cec331bb06",
     "grade": false,
     "grade_id": "cell-bf6e549fb1e34216",
     "locked": false,
     "schema_version": 3,
     "solution": true,
     "task": false
    }
   },
   "outputs": [
    {
     "name": "stdout",
     "output_type": "stream",
     "text": [
      " mpg  cyl disp   hp drat   wt qsec   vs   am gear carb \n",
      "  25    3   27   22   22   29   30    2    2    3    6 \n"
     ]
    }
   ],
   "source": [
    "answer5 <- datasets::mtcars %>% \n",
    "    map(unique) %>% \n",
    "    map_dbl(length)\n",
    "print(answer5)"
   ]
  },
  {
   "cell_type": "code",
   "execution_count": 19,
   "metadata": {
    "deletable": false,
    "editable": false,
    "nbgrader": {
     "cell_type": "code",
     "checksum": "09b6b0a663b24c7d04c6cad0ef2e119f",
     "grade": true,
     "grade_id": "cell-01d694fdcf1ee07a",
     "locked": true,
     "points": 1,
     "schema_version": 3,
     "solution": false,
     "task": false
    }
   },
   "outputs": [
    {
     "name": "stdout",
     "output_type": "stream",
     "text": [
      "\u001b[32mTest passed\u001b[39m \n"
     ]
    }
   ],
   "source": [
    "test_that('Question 5', {\n",
    "    expect_known_hash(mode(answer5), '46606ee201b428a3fa6c8a0d3d9e671c')\n",
    "    expect_known_hash(as.integer(answer5), '1981b33e1151073e1c227fe95218c6f5')\n",
    "})"
   ]
  },
  {
   "cell_type": "markdown",
   "metadata": {
    "deletable": false,
    "editable": false,
    "nbgrader": {
     "cell_type": "markdown",
     "checksum": "d8e1d68c5948f01bff00030f89843797",
     "grade": false,
     "grade_id": "cell-08836080ad992c26",
     "locked": true,
     "schema_version": 3,
     "solution": false,
     "task": false
    }
   },
   "source": [
    "## QUESTION 6\n",
    "\n",
    "Let's use `purrr` to make probability distributions. The Generalized Pareto Distribution is a three-parameter distribution, so if we wanted to make a bunch of these distributions, we'd need a `purrr` function to plug in the three parameters. To make the GPD distributions, we can use a function called `dst_gpd()` from the distplyr R package. Here are the parameters of our 5 GPD distributions:"
   ]
  },
  {
   "cell_type": "code",
   "execution_count": 20,
   "metadata": {
    "deletable": false,
    "editable": false,
    "nbgrader": {
     "cell_type": "code",
     "checksum": "328a58944769b618cb59264913ded107",
     "grade": false,
     "grade_id": "cell-4c98a73fa96ac4a0",
     "locked": true,
     "schema_version": 3,
     "solution": false,
     "task": false
    }
   },
   "outputs": [
    {
     "data": {
      "text/html": [
       "<table class=\"dataframe\">\n",
       "<caption>A tibble: 5 × 3</caption>\n",
       "<thead>\n",
       "\t<tr><th scope=col>location</th><th scope=col>scale</th><th scope=col>shape</th></tr>\n",
       "\t<tr><th scope=col>&lt;dbl&gt;</th><th scope=col>&lt;dbl&gt;</th><th scope=col>&lt;dbl&gt;</th></tr>\n",
       "</thead>\n",
       "<tbody>\n",
       "\t<tr><td>105</td><td>12.2</td><td>0.4</td></tr>\n",
       "\t<tr><td> 99</td><td>13.5</td><td>0.9</td></tr>\n",
       "\t<tr><td>120</td><td>18.5</td><td>0.5</td></tr>\n",
       "\t<tr><td>119</td><td> 9.2</td><td>0.6</td></tr>\n",
       "\t<tr><td>111</td><td>15.5</td><td>0.4</td></tr>\n",
       "</tbody>\n",
       "</table>\n"
      ],
      "text/latex": [
       "A tibble: 5 × 3\n",
       "\\begin{tabular}{lll}\n",
       " location & scale & shape\\\\\n",
       " <dbl> & <dbl> & <dbl>\\\\\n",
       "\\hline\n",
       "\t 105 & 12.2 & 0.4\\\\\n",
       "\t  99 & 13.5 & 0.9\\\\\n",
       "\t 120 & 18.5 & 0.5\\\\\n",
       "\t 119 &  9.2 & 0.6\\\\\n",
       "\t 111 & 15.5 & 0.4\\\\\n",
       "\\end{tabular}\n"
      ],
      "text/markdown": [
       "\n",
       "A tibble: 5 × 3\n",
       "\n",
       "| location &lt;dbl&gt; | scale &lt;dbl&gt; | shape &lt;dbl&gt; |\n",
       "|---|---|---|\n",
       "| 105 | 12.2 | 0.4 |\n",
       "|  99 | 13.5 | 0.9 |\n",
       "| 120 | 18.5 | 0.5 |\n",
       "| 119 |  9.2 | 0.6 |\n",
       "| 111 | 15.5 | 0.4 |\n",
       "\n"
      ],
      "text/plain": [
       "  location scale shape\n",
       "1 105      12.2  0.4  \n",
       "2  99      13.5  0.9  \n",
       "3 120      18.5  0.5  \n",
       "4 119       9.2  0.6  \n",
       "5 111      15.5  0.4  "
      ]
     },
     "metadata": {},
     "output_type": "display_data"
    }
   ],
   "source": [
    "(parameters <- tibble(location = c(105, 99, 120, 119, 111),\n",
    "                      scale = c(12.2, 13.5, 18.5, 9.2, 15.5),\n",
    "                      shape = c(0.4, 0.9, 0.5, 0.6, 0.4)))"
   ]
  },
  {
   "cell_type": "markdown",
   "metadata": {
    "deletable": false,
    "editable": false,
    "nbgrader": {
     "cell_type": "markdown",
     "checksum": "4e7e811c772421a3812b77c45912ab47",
     "grade": false,
     "grade_id": "cell-58f032107ffa80dd",
     "locked": true,
     "schema_version": 3,
     "solution": false,
     "task": false
    }
   },
   "source": [
    "Store your answer in `answer6`. It should be a list of distributions.\n",
    "\n",
    "```r\n",
    "answer6 <- FILL_THIS_IN(FILL_THIS_IN, FILL_THIS_IN)\n",
    "```"
   ]
  },
  {
   "cell_type": "code",
   "execution_count": 21,
   "metadata": {
    "deletable": false,
    "nbgrader": {
     "cell_type": "code",
     "checksum": "0fed8d5b8915e01317553ee9dac07e0b",
     "grade": false,
     "grade_id": "cell-2bcd05dc3ff9bfa9",
     "locked": false,
     "schema_version": 3,
     "solution": true,
     "task": false
    }
   },
   "outputs": [
    {
     "name": "stdout",
     "output_type": "stream",
     "text": [
      "[[1]]\n",
      "gpd parametric dst\n",
      "\n",
      " name :\n",
      "[1] \"gpd\"\n",
      "\n",
      "[[2]]\n",
      "gpd parametric dst\n",
      "\n",
      " name :\n",
      "[1] \"gpd\"\n",
      "\n",
      "[[3]]\n",
      "gpd parametric dst\n",
      "\n",
      " name :\n",
      "[1] \"gpd\"\n",
      "\n",
      "[[4]]\n",
      "gpd parametric dst\n",
      "\n",
      " name :\n",
      "[1] \"gpd\"\n",
      "\n",
      "[[5]]\n",
      "gpd parametric dst\n",
      "\n",
      " name :\n",
      "[1] \"gpd\"\n",
      "\n"
     ]
    }
   ],
   "source": [
    "answer6 <- pmap(parameters, dst_gpd)\n",
    "print(answer6)\n"
   ]
  },
  {
   "cell_type": "code",
   "execution_count": 22,
   "metadata": {
    "deletable": false,
    "editable": false,
    "nbgrader": {
     "cell_type": "code",
     "checksum": "478a60e57c253d3ba51857d8d166f4cb",
     "grade": true,
     "grade_id": "cell-4f59cc325554b20f",
     "locked": true,
     "points": 1,
     "schema_version": 3,
     "solution": false,
     "task": false
    }
   },
   "outputs": [
    {
     "name": "stdout",
     "output_type": "stream",
     "text": [
      "\u001b[32mTest passed\u001b[39m \n"
     ]
    }
   ],
   "source": [
    "test_that('Question 6', {\n",
    "    walk(answer6, ~ expect_equal(class(.x), c(\"gpd\", \"parametric\", \"dst\")))\n",
    "    tibble(p = map(answer6, distionary::parameters)) %>% \n",
    "        unnest_wider(p) %>% \n",
    "        expect_equal(parameters)\n",
    "})"
   ]
  },
  {
   "cell_type": "markdown",
   "metadata": {
    "deletable": false,
    "editable": false,
    "nbgrader": {
     "cell_type": "markdown",
     "checksum": "2b2ea572b1468e39abe209a8e7d296d3",
     "grade": false,
     "grade_id": "cell-088dac25a27d3560",
     "locked": true,
     "schema_version": 3,
     "solution": false,
     "task": false
    }
   },
   "source": [
    "## Question 7\n",
    "\n",
    "Introducing the Big Bang `!!!` and `rlang::exec()`.\n",
    "\n",
    "Let's make a mixture distribution of the above 5 GPD's using the function `distplyr::mix()`. The straightforward way to do this would be to do:"
   ]
  },
  {
   "cell_type": "code",
   "execution_count": 23,
   "metadata": {
    "deletable": false,
    "editable": false,
    "nbgrader": {
     "cell_type": "code",
     "checksum": "7f07fb3d250b5ede3d19a26eecb0eb48",
     "grade": false,
     "grade_id": "cell-2dec91428b3dc3d1",
     "locked": true,
     "schema_version": 3,
     "solution": false,
     "task": false
    }
   },
   "outputs": [
    {
     "data": {
      "text/plain": [
       "Mixture Distribution\n",
       "\n",
       "Components: \n",
       "\u001b[90m# A tibble: 5 x 2\u001b[39m\n",
       "  distributions probs\n",
       "  \u001b[3m\u001b[90m<named list>\u001b[39m\u001b[23m  \u001b[3m\u001b[90m<dbl>\u001b[39m\u001b[23m\n",
       "\u001b[90m1\u001b[39m \u001b[90m<gpd>\u001b[39m           0.2\n",
       "\u001b[90m2\u001b[39m \u001b[90m<gpd>\u001b[39m           0.2\n",
       "\u001b[90m3\u001b[39m \u001b[90m<gpd>\u001b[39m           0.2\n",
       "\u001b[90m4\u001b[39m \u001b[90m<gpd>\u001b[39m           0.2\n",
       "\u001b[90m5\u001b[39m \u001b[90m<gpd>\u001b[39m           0.2"
      ]
     },
     "metadata": {},
     "output_type": "display_data"
    }
   ],
   "source": [
    "distplyr::mix(answer6[[1]], answer6[[2]], answer6[[3]], answer6[[4]], answer6[[5]])"
   ]
  },
  {
   "cell_type": "markdown",
   "metadata": {
    "deletable": false,
    "editable": false,
    "nbgrader": {
     "cell_type": "markdown",
     "checksum": "33a1050d9bce0050f8311872bbfa844d",
     "grade": false,
     "grade_id": "cell-717cccf175800045",
     "locked": true,
     "schema_version": 3,
     "solution": false,
     "task": false
    }
   },
   "source": [
    "But this code is error-prone and not robust against a differing number of distributions. Inputting the list itself via `distplyr::mix(answer10)` throws an error, because `distplyr::mix()` is not expecting a list input. What's the alternative?\n",
    "\n",
    "Your task: use the big bang operator (`!!!`) in front of the list argument, to get the desired result. This effectively takes the arguments of a list, and puts them as arguments to a function.\n",
    "\n",
    "```\n",
    "answer12 <- distplyr::mix(FILL_THIS_IN)\n",
    "```\n",
    "\n",
    "__FYI__: Conveniently, `distplyr::mix()` recognizes the big bang operator. If you have a function that doesn't recognize it (like `sum()`), use `rlang::exec(function, !!!list_of_arguments)` instead."
   ]
  },
  {
   "cell_type": "code",
   "execution_count": 24,
   "metadata": {
    "deletable": false,
    "nbgrader": {
     "cell_type": "code",
     "checksum": "e5aeee95d2ef6a4df4d71f4027d85644",
     "grade": false,
     "grade_id": "cell-dad1190a6db2507f",
     "locked": false,
     "schema_version": 3,
     "solution": true,
     "task": false
    }
   },
   "outputs": [
    {
     "name": "stdout",
     "output_type": "stream",
     "text": [
      "Mixture Distribution\n",
      "\n",
      "Components: \n",
      "\u001b[90m# A tibble: 5 x 2\u001b[39m\n",
      "  distributions probs\n",
      "  \u001b[3m\u001b[90m<named list>\u001b[39m\u001b[23m  \u001b[3m\u001b[90m<dbl>\u001b[39m\u001b[23m\n",
      "\u001b[90m1\u001b[39m \u001b[90m<gpd>\u001b[39m           0.2\n",
      "\u001b[90m2\u001b[39m \u001b[90m<gpd>\u001b[39m           0.2\n",
      "\u001b[90m3\u001b[39m \u001b[90m<gpd>\u001b[39m           0.2\n",
      "\u001b[90m4\u001b[39m \u001b[90m<gpd>\u001b[39m           0.2\n",
      "\u001b[90m5\u001b[39m \u001b[90m<gpd>\u001b[39m           0.2\n"
     ]
    }
   ],
   "source": [
    "answer7 <- distplyr::mix(!!!answer6)\n",
    "print(answer7)"
   ]
  },
  {
   "cell_type": "code",
   "execution_count": 25,
   "metadata": {
    "deletable": false,
    "editable": false,
    "nbgrader": {
     "cell_type": "code",
     "checksum": "79ea6cc19b3346889a6ca5ac2754c955",
     "grade": true,
     "grade_id": "cell-0439d034ce2a106f",
     "locked": true,
     "points": 1,
     "schema_version": 3,
     "solution": false,
     "task": false
    }
   },
   "outputs": [
    {
     "name": "stdout",
     "output_type": "stream",
     "text": [
      "\u001b[32mTest passed\u001b[39m \n"
     ]
    }
   ],
   "source": [
    "test_that('Question 7', {\n",
    "    expect_equal(class(answer7), c(\"mix\", \"dst\"))\n",
    "    map_chr(answer7$components$distributions, ~ class(.x)[1]) %>%\n",
    "        unique() %>% \n",
    "        expect_equal(\"gpd\")\n",
    "})"
   ]
  },
  {
   "cell_type": "markdown",
   "metadata": {
    "deletable": false,
    "editable": false,
    "nbgrader": {
     "cell_type": "markdown",
     "checksum": "9f84805efba7a5bae596f85e3c454b01",
     "grade": false,
     "grade_id": "cell-3f5f8e1e41f41aaa",
     "locked": true,
     "schema_version": 3,
     "solution": false,
     "task": false
    }
   },
   "source": [
    "# Part 2: Nesting and List Columns\n",
    "\n",
    "_One_ of the ways a list-column can be made is by using `nest()`."
   ]
  },
  {
   "cell_type": "markdown",
   "metadata": {
    "deletable": false,
    "editable": false,
    "nbgrader": {
     "cell_type": "markdown",
     "checksum": "7cb0fe0260378e1884f4f3bdfa6eba03",
     "grade": false,
     "grade_id": "cell-b15e31f5618b8b6d",
     "locked": true,
     "schema_version": 3,
     "solution": false,
     "task": false
    }
   },
   "source": [
    "## QUESTION 8\n",
    "\n",
    "Create a tibble that bundles everything in `gapminder` except for `country` and `continent` into a list-column. Name your list column `other` (without using `rename()` or `mutate()`). Store your answer in `answer8`.\n",
    "\n",
    "```r\n",
    "answer8 <- gapminder %>%\n",
    "   nest(FILL_THIS_IN = FILL_THIS_IN)\n",
    "```"
   ]
  },
  {
   "cell_type": "code",
   "execution_count": 26,
   "metadata": {
    "deletable": false,
    "nbgrader": {
     "cell_type": "code",
     "checksum": "7395a871dc4f4f72f29767eb803e203d",
     "grade": false,
     "grade_id": "cell-3a01a9b84f3cf2e5",
     "locked": false,
     "schema_version": 3,
     "solution": true,
     "task": false
    }
   },
   "outputs": [
    {
     "data": {
      "text/html": [
       "<table class=\"dataframe\">\n",
       "<caption>A tibble: 3 × 3</caption>\n",
       "<thead>\n",
       "\t<tr><th scope=col>country</th><th scope=col>continent</th><th scope=col>other</th></tr>\n",
       "\t<tr><th scope=col>&lt;fct&gt;</th><th scope=col>&lt;fct&gt;</th><th scope=col>&lt;list&gt;</th></tr>\n",
       "</thead>\n",
       "<tbody>\n",
       "\t<tr><td>Afghanistan</td><td>Asia  </td><td>1.952000e+03, 1.957000e+03, 1.962000e+03, 1.967000e+03, 1.972000e+03, 1.977000e+03, 1.982000e+03, 1.987000e+03, 1.992000e+03, 1.997000e+03, 2.002000e+03, 2.007000e+03, 2.880100e+01, 3.033200e+01, 3.199700e+01, 3.402000e+01, 3.608800e+01, 3.843800e+01, 3.985400e+01, 4.082200e+01, 4.167400e+01, 4.176300e+01, 4.212900e+01, 4.382800e+01, 8.425333e+06, 9.240934e+06, 1.026708e+07, 1.153797e+07, 1.307946e+07, 1.488037e+07, 1.288182e+07, 1.386796e+07, 1.631792e+07, 2.222742e+07, 2.526841e+07, 3.188992e+07, 7.794453e+02, 8.208530e+02, 8.531007e+02, 8.361971e+02, 7.399811e+02, 7.861134e+02, 9.780114e+02, 8.523959e+02, 6.493414e+02, 6.353414e+02, 7.267341e+02, 9.745803e+02</td></tr>\n",
       "\t<tr><td>Albania    </td><td>Europe</td><td>1952.000, 1957.000, 1962.000, 1967.000, 1972.000, 1977.000, 1982.000, 1987.000, 1992.000, 1997.000, 2002.000, 2007.000, 55.230, 59.280, 64.820, 66.220, 67.690, 68.930, 70.420, 72.000, 71.581, 72.950, 75.651, 76.423, 1282697.000, 1476505.000, 1728137.000, 1984060.000, 2263554.000, 2509048.000, 2780097.000, 3075321.000, 3326498.000, 3428038.000, 3508512.000, 3600523.000, 1601.056, 1942.284, 2312.889, 2760.197, 3313.422, 3533.004, 3630.881, 3738.933, 2497.438, 3193.055, 4604.212, 5937.030</td></tr>\n",
       "\t<tr><td>Algeria    </td><td>Africa</td><td>1952.000, 1957.000, 1962.000, 1967.000, 1972.000, 1977.000, 1982.000, 1987.000, 1992.000, 1997.000, 2002.000, 2007.000, 43.077, 45.685, 48.303, 51.407, 54.518, 58.014, 61.368, 65.799, 67.744, 69.152, 70.994, 72.301, 9279525.000, 10270856.000, 11000948.000, 12760499.000, 14760787.000, 17152804.000, 20033753.000, 23254956.000, 26298373.000, 29072015.000, 31287142.000, 33333216.000, 2449.008, 3013.976, 2550.817, 3246.992, 4182.664, 4910.417, 5745.160, 5681.359, 5023.217, 4797.295, 5288.040, 6223.367</td></tr>\n",
       "</tbody>\n",
       "</table>\n"
      ],
      "text/latex": [
       "A tibble: 3 × 3\n",
       "\\begin{tabular}{lll}\n",
       " country & continent & other\\\\\n",
       " <fct> & <fct> & <list>\\\\\n",
       "\\hline\n",
       "\t Afghanistan & Asia   & 1.952000e+03, 1.957000e+03, 1.962000e+03, 1.967000e+03, 1.972000e+03, 1.977000e+03, 1.982000e+03, 1.987000e+03, 1.992000e+03, 1.997000e+03, 2.002000e+03, 2.007000e+03, 2.880100e+01, 3.033200e+01, 3.199700e+01, 3.402000e+01, 3.608800e+01, 3.843800e+01, 3.985400e+01, 4.082200e+01, 4.167400e+01, 4.176300e+01, 4.212900e+01, 4.382800e+01, 8.425333e+06, 9.240934e+06, 1.026708e+07, 1.153797e+07, 1.307946e+07, 1.488037e+07, 1.288182e+07, 1.386796e+07, 1.631792e+07, 2.222742e+07, 2.526841e+07, 3.188992e+07, 7.794453e+02, 8.208530e+02, 8.531007e+02, 8.361971e+02, 7.399811e+02, 7.861134e+02, 9.780114e+02, 8.523959e+02, 6.493414e+02, 6.353414e+02, 7.267341e+02, 9.745803e+02\\\\\n",
       "\t Albania     & Europe & 1952.000, 1957.000, 1962.000, 1967.000, 1972.000, 1977.000, 1982.000, 1987.000, 1992.000, 1997.000, 2002.000, 2007.000, 55.230, 59.280, 64.820, 66.220, 67.690, 68.930, 70.420, 72.000, 71.581, 72.950, 75.651, 76.423, 1282697.000, 1476505.000, 1728137.000, 1984060.000, 2263554.000, 2509048.000, 2780097.000, 3075321.000, 3326498.000, 3428038.000, 3508512.000, 3600523.000, 1601.056, 1942.284, 2312.889, 2760.197, 3313.422, 3533.004, 3630.881, 3738.933, 2497.438, 3193.055, 4604.212, 5937.030\\\\\n",
       "\t Algeria     & Africa & 1952.000, 1957.000, 1962.000, 1967.000, 1972.000, 1977.000, 1982.000, 1987.000, 1992.000, 1997.000, 2002.000, 2007.000, 43.077, 45.685, 48.303, 51.407, 54.518, 58.014, 61.368, 65.799, 67.744, 69.152, 70.994, 72.301, 9279525.000, 10270856.000, 11000948.000, 12760499.000, 14760787.000, 17152804.000, 20033753.000, 23254956.000, 26298373.000, 29072015.000, 31287142.000, 33333216.000, 2449.008, 3013.976, 2550.817, 3246.992, 4182.664, 4910.417, 5745.160, 5681.359, 5023.217, 4797.295, 5288.040, 6223.367\\\\\n",
       "\\end{tabular}\n"
      ],
      "text/markdown": [
       "\n",
       "A tibble: 3 × 3\n",
       "\n",
       "| country &lt;fct&gt; | continent &lt;fct&gt; | other &lt;list&gt; |\n",
       "|---|---|---|\n",
       "| Afghanistan | Asia   | 1.952000e+03, 1.957000e+03, 1.962000e+03, 1.967000e+03, 1.972000e+03, 1.977000e+03, 1.982000e+03, 1.987000e+03, 1.992000e+03, 1.997000e+03, 2.002000e+03, 2.007000e+03, 2.880100e+01, 3.033200e+01, 3.199700e+01, 3.402000e+01, 3.608800e+01, 3.843800e+01, 3.985400e+01, 4.082200e+01, 4.167400e+01, 4.176300e+01, 4.212900e+01, 4.382800e+01, 8.425333e+06, 9.240934e+06, 1.026708e+07, 1.153797e+07, 1.307946e+07, 1.488037e+07, 1.288182e+07, 1.386796e+07, 1.631792e+07, 2.222742e+07, 2.526841e+07, 3.188992e+07, 7.794453e+02, 8.208530e+02, 8.531007e+02, 8.361971e+02, 7.399811e+02, 7.861134e+02, 9.780114e+02, 8.523959e+02, 6.493414e+02, 6.353414e+02, 7.267341e+02, 9.745803e+02 |\n",
       "| Albania     | Europe | 1952.000, 1957.000, 1962.000, 1967.000, 1972.000, 1977.000, 1982.000, 1987.000, 1992.000, 1997.000, 2002.000, 2007.000, 55.230, 59.280, 64.820, 66.220, 67.690, 68.930, 70.420, 72.000, 71.581, 72.950, 75.651, 76.423, 1282697.000, 1476505.000, 1728137.000, 1984060.000, 2263554.000, 2509048.000, 2780097.000, 3075321.000, 3326498.000, 3428038.000, 3508512.000, 3600523.000, 1601.056, 1942.284, 2312.889, 2760.197, 3313.422, 3533.004, 3630.881, 3738.933, 2497.438, 3193.055, 4604.212, 5937.030 |\n",
       "| Algeria     | Africa | 1952.000, 1957.000, 1962.000, 1967.000, 1972.000, 1977.000, 1982.000, 1987.000, 1992.000, 1997.000, 2002.000, 2007.000, 43.077, 45.685, 48.303, 51.407, 54.518, 58.014, 61.368, 65.799, 67.744, 69.152, 70.994, 72.301, 9279525.000, 10270856.000, 11000948.000, 12760499.000, 14760787.000, 17152804.000, 20033753.000, 23254956.000, 26298373.000, 29072015.000, 31287142.000, 33333216.000, 2449.008, 3013.976, 2550.817, 3246.992, 4182.664, 4910.417, 5745.160, 5681.359, 5023.217, 4797.295, 5288.040, 6223.367 |\n",
       "\n"
      ],
      "text/plain": [
       "  country     continent\n",
       "1 Afghanistan Asia     \n",
       "2 Albania     Europe   \n",
       "3 Algeria     Africa   \n",
       "  other                                                                                                                                                                                                                                                                                                                                                                                                                                                                                                                                                                                                                                                                                         \n",
       "1 1.952000e+03, 1.957000e+03, 1.962000e+03, 1.967000e+03, 1.972000e+03, 1.977000e+03, 1.982000e+03, 1.987000e+03, 1.992000e+03, 1.997000e+03, 2.002000e+03, 2.007000e+03, 2.880100e+01, 3.033200e+01, 3.199700e+01, 3.402000e+01, 3.608800e+01, 3.843800e+01, 3.985400e+01, 4.082200e+01, 4.167400e+01, 4.176300e+01, 4.212900e+01, 4.382800e+01, 8.425333e+06, 9.240934e+06, 1.026708e+07, 1.153797e+07, 1.307946e+07, 1.488037e+07, 1.288182e+07, 1.386796e+07, 1.631792e+07, 2.222742e+07, 2.526841e+07, 3.188992e+07, 7.794453e+02, 8.208530e+02, 8.531007e+02, 8.361971e+02, 7.399811e+02, 7.861134e+02, 9.780114e+02, 8.523959e+02, 6.493414e+02, 6.353414e+02, 7.267341e+02, 9.745803e+02\n",
       "2 1952.000, 1957.000, 1962.000, 1967.000, 1972.000, 1977.000, 1982.000, 1987.000, 1992.000, 1997.000, 2002.000, 2007.000, 55.230, 59.280, 64.820, 66.220, 67.690, 68.930, 70.420, 72.000, 71.581, 72.950, 75.651, 76.423, 1282697.000, 1476505.000, 1728137.000, 1984060.000, 2263554.000, 2509048.000, 2780097.000, 3075321.000, 3326498.000, 3428038.000, 3508512.000, 3600523.000, 1601.056, 1942.284, 2312.889, 2760.197, 3313.422, 3533.004, 3630.881, 3738.933, 2497.438, 3193.055, 4604.212, 5937.030                                                                                                                                                                                    \n",
       "3 1952.000, 1957.000, 1962.000, 1967.000, 1972.000, 1977.000, 1982.000, 1987.000, 1992.000, 1997.000, 2002.000, 2007.000, 43.077, 45.685, 48.303, 51.407, 54.518, 58.014, 61.368, 65.799, 67.744, 69.152, 70.994, 72.301, 9279525.000, 10270856.000, 11000948.000, 12760499.000, 14760787.000, 17152804.000, 20033753.000, 23254956.000, 26298373.000, 29072015.000, 31287142.000, 33333216.000, 2449.008, 3013.976, 2550.817, 3246.992, 4182.664, 4910.417, 5745.160, 5681.359, 5023.217, 4797.295, 5288.040, 6223.367                                                                                                                                                                         "
      ]
     },
     "metadata": {},
     "output_type": "display_data"
    }
   ],
   "source": [
    "answer8 <- gapminder %>%\n",
    "   nest(other = c(-country, -continent))\n",
    "head(answer8, n = 3)"
   ]
  },
  {
   "cell_type": "code",
   "execution_count": 27,
   "metadata": {
    "deletable": false,
    "editable": false,
    "nbgrader": {
     "cell_type": "code",
     "checksum": "8709fabb0dfc9bb659b8665b5d779f67",
     "grade": true,
     "grade_id": "cell-36f1c148426a4e9b",
     "locked": true,
     "points": 1,
     "schema_version": 3,
     "solution": false,
     "task": false
    }
   },
   "outputs": [
    {
     "name": "stdout",
     "output_type": "stream",
     "text": [
      "\u001b[32mTest passed\u001b[39m \n"
     ]
    }
   ],
   "source": [
    "test_that('Question 8', {\n",
    "    expect_known_hash(enc2utf8(sapply(answer8$other, colnames)), 'ceba7fd58def34a537b5b13430a7ec2a')\n",
    "    expect_known_hash(sapply(answer8$other, dim), '388a8eae98b3cb184d3fe8ed8dd46916')\n",
    "    expect_known_hash(sapply(answer8$other, `[[`, 'year'), '0370844f5c0d097891d284949811883e')\n",
    "})"
   ]
  },
  {
   "cell_type": "markdown",
   "metadata": {
    "deletable": false,
    "editable": false,
    "nbgrader": {
     "cell_type": "markdown",
     "checksum": "b9b81396f9f962e28c8688841d0abbab",
     "grade": false,
     "grade_id": "cell-2aaa2f11e285f2bf",
     "locked": true,
     "schema_version": 3,
     "solution": false,
     "task": false
    }
   },
   "source": [
    "## QUESTION 9\n",
    "\n",
    "_Reproducibly_ sample 5 countries in the `gapminder` tibble at random. Store your answer in `answer9`, and set the seed as 123.\n",
    "\n",
    "```r\n",
    "FILL_THIS_IN(123)\n",
    "answer9 <- gapminder %>%\n",
    "    nest(FILL_THIS_IN = FILL_THIS_IN) %>% \n",
    "    sample_n(5) %>% \n",
    "    unnest(cols = FILL_THIS_IN)\n",
    "```"
   ]
  },
  {
   "cell_type": "code",
   "execution_count": 28,
   "metadata": {
    "deletable": false,
    "nbgrader": {
     "cell_type": "code",
     "checksum": "f6eee804daba3bfffd86bccdd397aab8",
     "grade": false,
     "grade_id": "cell-7d3cc906a94b6b46",
     "locked": false,
     "schema_version": 3,
     "solution": true,
     "task": false
    }
   },
   "outputs": [
    {
     "data": {
      "text/html": [
       "<table class=\"dataframe\">\n",
       "<caption>A tibble: 6 × 6</caption>\n",
       "<thead>\n",
       "\t<tr><th scope=col>country</th><th scope=col>continent</th><th scope=col>year</th><th scope=col>lifeExp</th><th scope=col>pop</th><th scope=col>gdpPercap</th></tr>\n",
       "\t<tr><th scope=col>&lt;fct&gt;</th><th scope=col>&lt;fct&gt;</th><th scope=col>&lt;int&gt;</th><th scope=col>&lt;dbl&gt;</th><th scope=col>&lt;int&gt;</th><th scope=col>&lt;dbl&gt;</th></tr>\n",
       "</thead>\n",
       "<tbody>\n",
       "\t<tr><td>Botswana</td><td>Africa</td><td>1952</td><td>47.622</td><td>442308</td><td> 851.2411</td></tr>\n",
       "\t<tr><td>Botswana</td><td>Africa</td><td>1957</td><td>49.618</td><td>474639</td><td> 918.2325</td></tr>\n",
       "\t<tr><td>Botswana</td><td>Africa</td><td>1962</td><td>51.520</td><td>512764</td><td> 983.6540</td></tr>\n",
       "\t<tr><td>Botswana</td><td>Africa</td><td>1967</td><td>53.298</td><td>553541</td><td>1214.7093</td></tr>\n",
       "\t<tr><td>Botswana</td><td>Africa</td><td>1972</td><td>56.024</td><td>619351</td><td>2263.6111</td></tr>\n",
       "\t<tr><td>Botswana</td><td>Africa</td><td>1977</td><td>59.319</td><td>781472</td><td>3214.8578</td></tr>\n",
       "</tbody>\n",
       "</table>\n"
      ],
      "text/latex": [
       "A tibble: 6 × 6\n",
       "\\begin{tabular}{llllll}\n",
       " country & continent & year & lifeExp & pop & gdpPercap\\\\\n",
       " <fct> & <fct> & <int> & <dbl> & <int> & <dbl>\\\\\n",
       "\\hline\n",
       "\t Botswana & Africa & 1952 & 47.622 & 442308 &  851.2411\\\\\n",
       "\t Botswana & Africa & 1957 & 49.618 & 474639 &  918.2325\\\\\n",
       "\t Botswana & Africa & 1962 & 51.520 & 512764 &  983.6540\\\\\n",
       "\t Botswana & Africa & 1967 & 53.298 & 553541 & 1214.7093\\\\\n",
       "\t Botswana & Africa & 1972 & 56.024 & 619351 & 2263.6111\\\\\n",
       "\t Botswana & Africa & 1977 & 59.319 & 781472 & 3214.8578\\\\\n",
       "\\end{tabular}\n"
      ],
      "text/markdown": [
       "\n",
       "A tibble: 6 × 6\n",
       "\n",
       "| country &lt;fct&gt; | continent &lt;fct&gt; | year &lt;int&gt; | lifeExp &lt;dbl&gt; | pop &lt;int&gt; | gdpPercap &lt;dbl&gt; |\n",
       "|---|---|---|---|---|---|\n",
       "| Botswana | Africa | 1952 | 47.622 | 442308 |  851.2411 |\n",
       "| Botswana | Africa | 1957 | 49.618 | 474639 |  918.2325 |\n",
       "| Botswana | Africa | 1962 | 51.520 | 512764 |  983.6540 |\n",
       "| Botswana | Africa | 1967 | 53.298 | 553541 | 1214.7093 |\n",
       "| Botswana | Africa | 1972 | 56.024 | 619351 | 2263.6111 |\n",
       "| Botswana | Africa | 1977 | 59.319 | 781472 | 3214.8578 |\n",
       "\n"
      ],
      "text/plain": [
       "  country  continent year lifeExp pop    gdpPercap\n",
       "1 Botswana Africa    1952 47.622  442308  851.2411\n",
       "2 Botswana Africa    1957 49.618  474639  918.2325\n",
       "3 Botswana Africa    1962 51.520  512764  983.6540\n",
       "4 Botswana Africa    1967 53.298  553541 1214.7093\n",
       "5 Botswana Africa    1972 56.024  619351 2263.6111\n",
       "6 Botswana Africa    1977 59.319  781472 3214.8578"
      ]
     },
     "metadata": {},
     "output_type": "display_data"
    }
   ],
   "source": [
    "set.seed(123)\n",
    "answer9 <- gapminder %>%\n",
    "    nest(other = !country) %>% \n",
    "    sample_n(5) %>% \n",
    "    unnest(cols = other)\n",
    "head(answer9)"
   ]
  },
  {
   "cell_type": "code",
   "execution_count": 29,
   "metadata": {
    "deletable": false,
    "editable": false,
    "nbgrader": {
     "cell_type": "code",
     "checksum": "0a909e784e94a393bc0ad1432aaaf137",
     "grade": true,
     "grade_id": "cell-7e8ef7ae30e0fd6a",
     "locked": true,
     "points": 1,
     "schema_version": 3,
     "solution": false,
     "task": false
    }
   },
   "outputs": [
    {
     "name": "stdout",
     "output_type": "stream",
     "text": [
      "\u001b[32mTest passed\u001b[39m \n"
     ]
    }
   ],
   "source": [
    "test_that('Question 9', {\n",
    "    expect_known_hash(sort(enc2utf8(as.character(answer9$country)), method = 'radix'), 'ca060e5983d51a09aeb24c2393462353')\n",
    "    expect_known_hash(round(answer9$gdpPercap[order(enc2utf8(as.character(answer9$country)), method = 'radix')], 3), '75d94ea77a21140b54a374ed59f2253a')\n",
    "})"
   ]
  },
  {
   "cell_type": "markdown",
   "metadata": {
    "deletable": false,
    "editable": false,
    "nbgrader": {
     "cell_type": "markdown",
     "checksum": "94cd61fbd522895fe0e75f070400cefc",
     "grade": false,
     "grade_id": "cell-a2de145334d77ffe",
     "locked": true,
     "schema_version": 3,
     "solution": false,
     "task": false
    }
   },
   "source": [
    "## QUESTION 10\n",
    "\n",
    "For each `gapminder` continent, fit a linear model of `lifeExp` from `log(gdpPercap)` and put this as a new column. Store your answer into `answer10`:\n",
    "\n",
    "```r\n",
    "answer10 <- gapminder %>% \n",
    "  select(continent, gdpPercap, lifeExp) %>% \n",
    "  nest(data = c(FILL_THIS_IN, FILL_THIS_IN)) %>% \n",
    "  mutate(model = FILL_THIS_IN(data, ~ lm(FILL_THIS_IN ~ FILL_THIS_IN, data = FILL_THIS_IN)))\n",
    "```"
   ]
  },
  {
   "cell_type": "code",
   "execution_count": 30,
   "metadata": {
    "deletable": false,
    "nbgrader": {
     "cell_type": "code",
     "checksum": "cd65f2bed13d416d0aca1efa3ea1f8be",
     "grade": false,
     "grade_id": "cell-cc531935edea8760",
     "locked": false,
     "schema_version": 3,
     "solution": true,
     "task": false
    }
   },
   "outputs": [
    {
     "name": "stdout",
     "output_type": "stream",
     "text": [
      "\u001b[90m# A tibble: 5 x 3\u001b[39m\n",
      "  continent data               model \n",
      "  \u001b[3m\u001b[90m<fct>\u001b[39m\u001b[23m     \u001b[3m\u001b[90m<list>\u001b[39m\u001b[23m             \u001b[3m\u001b[90m<list>\u001b[39m\u001b[23m\n",
      "\u001b[90m1\u001b[39m Asia      \u001b[90m<tibble [396 x 2]>\u001b[39m \u001b[90m<lm>\u001b[39m  \n",
      "\u001b[90m2\u001b[39m Europe    \u001b[90m<tibble [360 x 2]>\u001b[39m \u001b[90m<lm>\u001b[39m  \n",
      "\u001b[90m3\u001b[39m Africa    \u001b[90m<tibble [624 x 2]>\u001b[39m \u001b[90m<lm>\u001b[39m  \n",
      "\u001b[90m4\u001b[39m Americas  \u001b[90m<tibble [300 x 2]>\u001b[39m \u001b[90m<lm>\u001b[39m  \n",
      "\u001b[90m5\u001b[39m Oceania   \u001b[90m<tibble [24 x 2]>\u001b[39m  \u001b[90m<lm>\u001b[39m  \n"
     ]
    }
   ],
   "source": [
    "answer10 <- gapminder %>% \n",
    "  select(continent, gdpPercap, lifeExp) %>% \n",
    "  nest(data = c(lifeExp, gdpPercap)) %>% \n",
    "  mutate(model = map(data, ~ lm(lifeExp ~ log(gdpPercap), data = .x)))\n",
    "print(answer10)"
   ]
  },
  {
   "cell_type": "code",
   "execution_count": 31,
   "metadata": {
    "deletable": false,
    "editable": false,
    "nbgrader": {
     "cell_type": "code",
     "checksum": "0c4dc6073d8651c6180ddccc595674a7",
     "grade": true,
     "grade_id": "cell-4e29da44162c2305",
     "locked": true,
     "points": 1,
     "schema_version": 3,
     "solution": false,
     "task": false
    }
   },
   "outputs": [
    {
     "name": "stdout",
     "output_type": "stream",
     "text": [
      "\u001b[32mTest passed\u001b[39m \n"
     ]
    }
   ],
   "source": [
    "test_that('Question 10', {\n",
    "    expect_known_hash(sapply(answer10$model, class), '2fe5bf6c6fb725f272c801e5f7560afe')\n",
    "    expect_known_hash(round(unlist(lapply(answer10$model, coef)), 3), 'e536d3378586d3c54b920504b3238cde')\n",
    "})"
   ]
  },
  {
   "cell_type": "markdown",
   "metadata": {},
   "source": [
    "## QUESTION 11\n",
    "\n",
    "Using your model from Question 10, make predictions using `augment()` from the `broom` package, and then `unnest`. Store your answer in `answer11`:\n",
    "\n",
    "```r\n",
    "answer11 <- answer10 %>% \n",
    "  transmute(continent, yhat = map(FILL_THIS_IN, FILL_THIS_IN)) %>% \n",
    "  unnest(FILL_THIS_IN)\n",
    "```"
   ]
  },
  {
   "cell_type": "code",
   "execution_count": 32,
   "metadata": {
    "deletable": false,
    "nbgrader": {
     "cell_type": "code",
     "checksum": "301b63d8b8eebf3cdf1f30ca99396f5a",
     "grade": false,
     "grade_id": "cell-5f6d32b6e1be426a",
     "locked": false,
     "schema_version": 3,
     "solution": true,
     "task": false
    }
   },
   "outputs": [
    {
     "name": "stdout",
     "output_type": "stream",
     "text": [
      "\u001b[90m# A tibble: 1,704 x 8\u001b[39m\n",
      "   continent lifeExp `log(gdpPercap)` .fitted    .hat .sigma .cooksd .std.resid\n",
      "   \u001b[3m\u001b[90m<fct>\u001b[39m\u001b[23m       \u001b[3m\u001b[90m<dbl>\u001b[39m\u001b[23m            \u001b[3m\u001b[90m<dbl>\u001b[39m\u001b[23m   \u001b[3m\u001b[90m<dbl>\u001b[39m\u001b[23m   \u001b[3m\u001b[90m<dbl>\u001b[39m\u001b[23m  \u001b[3m\u001b[90m<dbl>\u001b[39m\u001b[23m   \u001b[3m\u001b[90m<dbl>\u001b[39m\u001b[23m      \u001b[3m\u001b[90m<dbl>\u001b[39m\u001b[23m\n",
      "\u001b[90m 1\u001b[39m Asia         28.8             6.66    51.2 0.005\u001b[4m4\u001b[24m\u001b[4m8\u001b[24m   8.54 0.018\u001b[4m8\u001b[24m      -\u001b[31m2\u001b[39m\u001b[31m.\u001b[39m\u001b[31m61\u001b[39m \n",
      "\u001b[90m 2\u001b[39m Asia         30.3             6.71    51.6 0.005\u001b[4m2\u001b[24m\u001b[4m7\u001b[24m   8.55 0.016\u001b[4m2\u001b[24m      -\u001b[31m2\u001b[39m\u001b[31m.\u001b[39m\u001b[31m47\u001b[39m \n",
      "\u001b[90m 3\u001b[39m Asia         32.0             6.75    51.8 0.005\u001b[4m1\u001b[24m\u001b[4m1\u001b[24m   8.56 0.013\u001b[4m7\u001b[24m      -\u001b[31m2\u001b[39m\u001b[31m.\u001b[39m\u001b[31m31\u001b[39m \n",
      "\u001b[90m 4\u001b[39m Asia         34.0             6.73    51.7 0.005\u001b[4m1\u001b[24m\u001b[4m9\u001b[24m   8.57 0.011\u001b[4m0\u001b[24m      -\u001b[31m2\u001b[39m\u001b[31m.\u001b[39m\u001b[31m0\u001b[39m\u001b[31m6\u001b[39m \n",
      "\u001b[90m 5\u001b[39m Asia         36.1             6.61    50.9 0.005\u001b[4m7\u001b[24m\u001b[4m0\u001b[24m   8.58 0.008\u001b[4m5\u001b[24m\u001b[4m5\u001b[24m     -\u001b[31m1\u001b[39m\u001b[31m.\u001b[39m\u001b[31m73\u001b[39m \n",
      "\u001b[90m 6\u001b[39m Asia         38.4             6.67    51.3 0.005\u001b[4m4\u001b[24m\u001b[4m4\u001b[24m   8.59 0.006\u001b[4m1\u001b[24m\u001b[4m3\u001b[24m     -\u001b[31m1\u001b[39m\u001b[31m.\u001b[39m\u001b[31m50\u001b[39m \n",
      "\u001b[90m 7\u001b[39m Asia         39.9             6.89    52.6 0.004\u001b[4m6\u001b[24m\u001b[4m1\u001b[24m   8.59 0.005\u001b[4m1\u001b[24m\u001b[4m4\u001b[24m     -\u001b[31m1\u001b[39m\u001b[31m.\u001b[39m\u001b[31m49\u001b[39m \n",
      "\u001b[90m 8\u001b[39m Asia         40.8             6.75    51.8 0.005\u001b[4m1\u001b[24m\u001b[4m2\u001b[24m   8.60 0.004\u001b[4m2\u001b[24m\u001b[4m0\u001b[24m     -\u001b[31m1\u001b[39m\u001b[31m.\u001b[39m\u001b[31m28\u001b[39m \n",
      "\u001b[90m 9\u001b[39m Asia         41.7             6.48    50.1 0.006\u001b[4m2\u001b[24m\u001b[4m9\u001b[24m   8.60 0.003\u001b[4m0\u001b[24m\u001b[4m4\u001b[24m     -\u001b[31m0\u001b[39m\u001b[31m.\u001b[39m\u001b[31m981\u001b[39m\n",
      "\u001b[90m10\u001b[39m Asia         41.8             6.45    49.9 0.006\u001b[4m4\u001b[24m\u001b[4m0\u001b[24m   8.61 0.002\u001b[4m9\u001b[24m\u001b[4m3\u001b[24m     -\u001b[31m0\u001b[39m\u001b[31m.\u001b[39m\u001b[31m954\u001b[39m\n",
      "\u001b[90m# ... with 1,694 more rows\u001b[39m\n"
     ]
    }
   ],
   "source": [
    "answer11 <- answer10 %>% \n",
    "  transmute(continent, yhat = map(model, broom::augment)) %>% \n",
    "  unnest(yhat)\n",
    "print(answer11)"
   ]
  },
  {
   "cell_type": "code",
   "execution_count": 33,
   "metadata": {
    "deletable": false,
    "editable": false,
    "nbgrader": {
     "cell_type": "code",
     "checksum": "c80b85d99a07955cd851fa9798e5cc49",
     "grade": true,
     "grade_id": "cell-b3e5f2ec8ef04b91",
     "locked": true,
     "points": 1,
     "schema_version": 3,
     "solution": false,
     "task": false
    }
   },
   "outputs": [
    {
     "name": "stdout",
     "output_type": "stream",
     "text": [
      "\u001b[32mTest passed\u001b[39m \n"
     ]
    }
   ],
   "source": [
    "test_that('Question 11', {\n",
    "    expect_known_hash(dimnames(answer11), '2a26d04409e37c9a7c8065dba02d3b3a')\n",
    "    expect_known_hash(round(with(answer11, .fitted[order(lifeExp)]), 3), 'f8db1a712fe6b69f7577c88882248dc5')\n",
    "    expect_known_hash(round(with(answer11, .sigma[order(lifeExp)]), 3), '83e927e2f02fd18c293c3a1ddb7a0ed2')\n",
    "})"
   ]
  },
  {
   "cell_type": "markdown",
   "metadata": {
    "deletable": false,
    "editable": false,
    "nbgrader": {
     "cell_type": "markdown",
     "checksum": "ae0f15cf1ab97bf567dbb5773d514a90",
     "grade": false,
     "grade_id": "cell-2207136242a2f439",
     "locked": true,
     "schema_version": 3,
     "solution": false,
     "task": false
    }
   },
   "source": [
    "## Question 12: `map2`\n",
    "\n",
    "Using the `palmerpenguins::penguins` tibble: \n",
    "\n",
    "1. Make a Normal distribution using `distplyr::dst_norm()` for the body mass of each species, using estimates taken from `mean()` and `var()`. Title the column \"distribution\".\n",
    "2. Calculate the 0.975-quantile from each distribution using `distplyr::eval_quantile()`, under a column named \"quantile\".\n",
    "\n",
    "Starter code:\n",
    "\n",
    "```\n",
    "answer12  <- penguins %>% \n",
    "  group_by(species) %>% \n",
    "  summarise(mean = mean(body_mass_g, na.rm = TRUE),\n",
    "            var  = var(body_mass_g, na.rm = TRUE)) %>% \n",
    "  FILL_THIS_IN\n",
    "```"
   ]
  },
  {
   "cell_type": "code",
   "execution_count": 34,
   "metadata": {
    "deletable": false,
    "nbgrader": {
     "cell_type": "code",
     "checksum": "ae98b77b848619bb4bb0b60d7fe5dbc9",
     "grade": false,
     "grade_id": "cell-faf81ee09a07a4b4",
     "locked": false,
     "schema_version": 3,
     "solution": true,
     "task": false
    }
   },
   "outputs": [
    {
     "name": "stdout",
     "output_type": "stream",
     "text": [
      "\u001b[90m# A tibble: 3 x 5\u001b[39m\n",
      "  species    mean     var distribution quantile\n",
      "  \u001b[3m\u001b[90m<fct>\u001b[39m\u001b[23m     \u001b[3m\u001b[90m<dbl>\u001b[39m\u001b[23m   \u001b[3m\u001b[90m<dbl>\u001b[39m\u001b[23m \u001b[3m\u001b[90m<list>\u001b[39m\u001b[23m          \u001b[3m\u001b[90m<dbl>\u001b[39m\u001b[23m\n",
      "\u001b[90m1\u001b[39m Adelie    \u001b[4m3\u001b[24m701. \u001b[4m2\u001b[24m\u001b[4m1\u001b[24m\u001b[4m0\u001b[24m283. \u001b[90m<norm>\u001b[39m          \u001b[4m4\u001b[24m599.\n",
      "\u001b[90m2\u001b[39m Chinstrap \u001b[4m3\u001b[24m733. \u001b[4m1\u001b[24m\u001b[4m4\u001b[24m\u001b[4m7\u001b[24m713. \u001b[90m<norm>\u001b[39m          \u001b[4m4\u001b[24m486.\n",
      "\u001b[90m3\u001b[39m Gentoo    \u001b[4m5\u001b[24m076. \u001b[4m2\u001b[24m\u001b[4m5\u001b[24m\u001b[4m4\u001b[24m133. \u001b[90m<norm>\u001b[39m          \u001b[4m6\u001b[24m064.\n"
     ]
    }
   ],
   "source": [
    "answer12  <- penguins %>% \n",
    "  group_by(species) %>% \n",
    "  summarise(mean = mean(body_mass_g, na.rm = TRUE),\n",
    "            var  = var(body_mass_g, na.rm = TRUE)) %>% \n",
    "  mutate(distribution = map2(mean, var, ~ dst_norm(.x, .y)), \n",
    "        quantile = map_dbl(distribution, ~eval_quantile(.x, at = 0.975)))\n",
    "print(answer12)"
   ]
  },
  {
   "cell_type": "code",
   "execution_count": 35,
   "metadata": {
    "deletable": false,
    "editable": false,
    "nbgrader": {
     "cell_type": "code",
     "checksum": "66566a0387f5334b355a8ee0e0e28726",
     "grade": true,
     "grade_id": "cell-7fcc013763786e41",
     "locked": true,
     "points": 1,
     "schema_version": 3,
     "solution": false,
     "task": false
    }
   },
   "outputs": [
    {
     "name": "stdout",
     "output_type": "stream",
     "text": [
      "\u001b[32mTest passed\u001b[39m \n"
     ]
    }
   ],
   "source": [
    "test_that('Question 12', {\n",
    "    answer12 %>% \n",
    "        pull(distribution) %>% \n",
    "        map(class) %>% \n",
    "        map_chr(1) %>% \n",
    "        unique() %>% \n",
    "        expect_equal(\"norm\")\n",
    "    answer12 %>% \n",
    "        pull(quantile) %>% \n",
    "        round(4) %>% \n",
    "        expect_known_hash(\"020c1c78b457b2b18a95b9417ae90e67\")\n",
    "    expect_true(\"species\" %in% names(answer12))\n",
    "})"
   ]
  },
  {
   "cell_type": "markdown",
   "metadata": {
    "deletable": false,
    "editable": false,
    "nbgrader": {
     "cell_type": "markdown",
     "checksum": "7c9749b8bca14281fc19ff63ce682fe3",
     "grade": false,
     "grade_id": "cell-b976fcb86678aeec",
     "locked": true,
     "schema_version": 3,
     "solution": false,
     "task": false
    }
   },
   "source": [
    "## Question 13 `unnest()`\n",
    "\n",
    "`unnest()` need not always be paired with `nest()`. For the above distributions, evaluate the 0.25, 0.50, and 0.75 quantiles using the `distplyr::enframe_quantile()` function.\n",
    "\n",
    "Starter code:\n",
    "\n",
    "```\n",
    "answer13 <- answer12 %>% \n",
    "  mutate(quantile = FILL_THIS_IN) %>% \n",
    "  unnest()\n",
    "```"
   ]
  },
  {
   "cell_type": "code",
   "execution_count": 36,
   "metadata": {
    "deletable": false,
    "nbgrader": {
     "cell_type": "code",
     "checksum": "a858a696b3ad20b3235c2f89ea89a262",
     "grade": false,
     "grade_id": "cell-a00906f5aec894e4",
     "locked": false,
     "schema_version": 3,
     "solution": true,
     "task": false
    }
   },
   "outputs": [
    {
     "name": "stdout",
     "output_type": "stream",
     "text": [
      "\u001b[90m# A tibble: 9 x 6\u001b[39m\n",
      "  species    mean     var distribution  .arg quantile\n",
      "  \u001b[3m\u001b[90m<fct>\u001b[39m\u001b[23m     \u001b[3m\u001b[90m<dbl>\u001b[39m\u001b[23m   \u001b[3m\u001b[90m<dbl>\u001b[39m\u001b[23m \u001b[3m\u001b[90m<list>\u001b[39m\u001b[23m       \u001b[3m\u001b[90m<dbl>\u001b[39m\u001b[23m    \u001b[3m\u001b[90m<dbl>\u001b[39m\u001b[23m\n",
      "\u001b[90m1\u001b[39m Adelie    \u001b[4m3\u001b[24m701. \u001b[4m2\u001b[24m\u001b[4m1\u001b[24m\u001b[4m0\u001b[24m283. \u001b[90m<norm>\u001b[39m        0.25    \u001b[4m3\u001b[24m391.\n",
      "\u001b[90m2\u001b[39m Adelie    \u001b[4m3\u001b[24m701. \u001b[4m2\u001b[24m\u001b[4m1\u001b[24m\u001b[4m0\u001b[24m283. \u001b[90m<norm>\u001b[39m        0.5     \u001b[4m3\u001b[24m701.\n",
      "\u001b[90m3\u001b[39m Adelie    \u001b[4m3\u001b[24m701. \u001b[4m2\u001b[24m\u001b[4m1\u001b[24m\u001b[4m0\u001b[24m283. \u001b[90m<norm>\u001b[39m        0.75    \u001b[4m4\u001b[24m010.\n",
      "\u001b[90m4\u001b[39m Chinstrap \u001b[4m3\u001b[24m733. \u001b[4m1\u001b[24m\u001b[4m4\u001b[24m\u001b[4m7\u001b[24m713. \u001b[90m<norm>\u001b[39m        0.25    \u001b[4m3\u001b[24m474.\n",
      "\u001b[90m5\u001b[39m Chinstrap \u001b[4m3\u001b[24m733. \u001b[4m1\u001b[24m\u001b[4m4\u001b[24m\u001b[4m7\u001b[24m713. \u001b[90m<norm>\u001b[39m        0.5     \u001b[4m3\u001b[24m733.\n",
      "\u001b[90m6\u001b[39m Chinstrap \u001b[4m3\u001b[24m733. \u001b[4m1\u001b[24m\u001b[4m4\u001b[24m\u001b[4m7\u001b[24m713. \u001b[90m<norm>\u001b[39m        0.75    \u001b[4m3\u001b[24m992.\n",
      "\u001b[90m7\u001b[39m Gentoo    \u001b[4m5\u001b[24m076. \u001b[4m2\u001b[24m\u001b[4m5\u001b[24m\u001b[4m4\u001b[24m133. \u001b[90m<norm>\u001b[39m        0.25    \u001b[4m4\u001b[24m736.\n",
      "\u001b[90m8\u001b[39m Gentoo    \u001b[4m5\u001b[24m076. \u001b[4m2\u001b[24m\u001b[4m5\u001b[24m\u001b[4m4\u001b[24m133. \u001b[90m<norm>\u001b[39m        0.5     \u001b[4m5\u001b[24m076.\n",
      "\u001b[90m9\u001b[39m Gentoo    \u001b[4m5\u001b[24m076. \u001b[4m2\u001b[24m\u001b[4m5\u001b[24m\u001b[4m4\u001b[24m133. \u001b[90m<norm>\u001b[39m        0.75    \u001b[4m5\u001b[24m416.\n"
     ]
    }
   ],
   "source": [
    "answer13 <- answer12 %>% \n",
    "  mutate(quantile = map(distribution, enframe_quantile, at = c(0.25, 0.5, 0.75))) %>% \n",
    "  unnest(quantile)\n",
    "print(answer13)"
   ]
  },
  {
   "cell_type": "code",
   "execution_count": 37,
   "metadata": {
    "deletable": false,
    "editable": false,
    "nbgrader": {
     "cell_type": "code",
     "checksum": "f939a6282e3ad2b78a596452426aa1ea",
     "grade": true,
     "grade_id": "cell-fe3f5c4c2615d264",
     "locked": true,
     "points": 1,
     "schema_version": 3,
     "solution": false,
     "task": false
    }
   },
   "outputs": [
    {
     "name": "stdout",
     "output_type": "stream",
     "text": [
      "\u001b[32mTest passed\u001b[39m \n"
     ]
    }
   ],
   "source": [
    "test_that('Question 13', {\n",
    "    answer13 %>% \n",
    "        pull(distribution) %>% \n",
    "        map(class) %>% \n",
    "        map_chr(1) %>% \n",
    "        unique() %>% \n",
    "        expect_equal(\"norm\")\n",
    "    answer13 %>% \n",
    "        pull(quantile) %>% \n",
    "        round(4) %>% \n",
    "        expect_known_hash(\"0808f88ec09d4a111bccb0ccc684cbbe\")\n",
    "    expect_true(\"species\" %in% names(answer13))\n",
    "})"
   ]
  },
  {
   "cell_type": "markdown",
   "metadata": {
    "deletable": false,
    "editable": false,
    "nbgrader": {
     "cell_type": "markdown",
     "checksum": "e07cfa4a1e414b28733879f1fa69bd7a",
     "grade": false,
     "grade_id": "cell-653ade75b5c1010d",
     "locked": true,
     "schema_version": 3,
     "solution": false,
     "task": false
    }
   },
   "source": [
    "## Question 14\n",
    "\n",
    "Output a list of gapminder tibbles, one for each continent. Do not include the `continent` column in the divided tibbles -- the name of each list entry should be the continent name. \n",
    "\n",
    "_Hint_: Check out the `enframe()` and `deframe()` functions. \n",
    "\n",
    "Starter code:\n",
    "\n",
    "```\n",
    "answer14 <- gapminder %>% \n",
    "    nest(FILL_THIS_IN) %>% \n",
    "    FILL_THIS_IN()\n",
    "```\n"
   ]
  },
  {
   "cell_type": "code",
   "execution_count": 38,
   "metadata": {
    "deletable": false,
    "nbgrader": {
     "cell_type": "code",
     "checksum": "507dbbbd851bc85e81570405ac69755c",
     "grade": false,
     "grade_id": "cell-059b832f92f8512e",
     "locked": false,
     "schema_version": 3,
     "solution": true,
     "task": false
    }
   },
   "outputs": [
    {
     "name": "stdout",
     "output_type": "stream",
     "text": [
      "$Asia\n",
      "\u001b[90m# A tibble: 396 x 5\u001b[39m\n",
      "   country      year lifeExp      pop gdpPercap\n",
      "   \u001b[3m\u001b[90m<fct>\u001b[39m\u001b[23m       \u001b[3m\u001b[90m<int>\u001b[39m\u001b[23m   \u001b[3m\u001b[90m<dbl>\u001b[39m\u001b[23m    \u001b[3m\u001b[90m<int>\u001b[39m\u001b[23m     \u001b[3m\u001b[90m<dbl>\u001b[39m\u001b[23m\n",
      "\u001b[90m 1\u001b[39m Afghanistan  \u001b[4m1\u001b[24m952    28.8  8\u001b[4m4\u001b[24m\u001b[4m2\u001b[24m\u001b[4m5\u001b[24m333      779.\n",
      "\u001b[90m 2\u001b[39m Afghanistan  \u001b[4m1\u001b[24m957    30.3  9\u001b[4m2\u001b[24m\u001b[4m4\u001b[24m\u001b[4m0\u001b[24m934      821.\n",
      "\u001b[90m 3\u001b[39m Afghanistan  \u001b[4m1\u001b[24m962    32.0 10\u001b[4m2\u001b[24m\u001b[4m6\u001b[24m\u001b[4m7\u001b[24m083      853.\n",
      "\u001b[90m 4\u001b[39m Afghanistan  \u001b[4m1\u001b[24m967    34.0 11\u001b[4m5\u001b[24m\u001b[4m3\u001b[24m\u001b[4m7\u001b[24m966      836.\n",
      "\u001b[90m 5\u001b[39m Afghanistan  \u001b[4m1\u001b[24m972    36.1 13\u001b[4m0\u001b[24m\u001b[4m7\u001b[24m\u001b[4m9\u001b[24m460      740.\n",
      "\u001b[90m 6\u001b[39m Afghanistan  \u001b[4m1\u001b[24m977    38.4 14\u001b[4m8\u001b[24m\u001b[4m8\u001b[24m\u001b[4m0\u001b[24m372      786.\n",
      "\u001b[90m 7\u001b[39m Afghanistan  \u001b[4m1\u001b[24m982    39.9 12\u001b[4m8\u001b[24m\u001b[4m8\u001b[24m\u001b[4m1\u001b[24m816      978.\n",
      "\u001b[90m 8\u001b[39m Afghanistan  \u001b[4m1\u001b[24m987    40.8 13\u001b[4m8\u001b[24m\u001b[4m6\u001b[24m\u001b[4m7\u001b[24m957      852.\n",
      "\u001b[90m 9\u001b[39m Afghanistan  \u001b[4m1\u001b[24m992    41.7 16\u001b[4m3\u001b[24m\u001b[4m1\u001b[24m\u001b[4m7\u001b[24m921      649.\n",
      "\u001b[90m10\u001b[39m Afghanistan  \u001b[4m1\u001b[24m997    41.8 22\u001b[4m2\u001b[24m\u001b[4m2\u001b[24m\u001b[4m7\u001b[24m415      635.\n",
      "\u001b[90m# ... with 386 more rows\u001b[39m\n",
      "\n",
      "$Europe\n",
      "\u001b[90m# A tibble: 360 x 5\u001b[39m\n",
      "   country  year lifeExp     pop gdpPercap\n",
      "   \u001b[3m\u001b[90m<fct>\u001b[39m\u001b[23m   \u001b[3m\u001b[90m<int>\u001b[39m\u001b[23m   \u001b[3m\u001b[90m<dbl>\u001b[39m\u001b[23m   \u001b[3m\u001b[90m<int>\u001b[39m\u001b[23m     \u001b[3m\u001b[90m<dbl>\u001b[39m\u001b[23m\n",
      "\u001b[90m 1\u001b[39m Albania  \u001b[4m1\u001b[24m952    55.2 1\u001b[4m2\u001b[24m\u001b[4m8\u001b[24m\u001b[4m2\u001b[24m697     \u001b[4m1\u001b[24m601.\n",
      "\u001b[90m 2\u001b[39m Albania  \u001b[4m1\u001b[24m957    59.3 1\u001b[4m4\u001b[24m\u001b[4m7\u001b[24m\u001b[4m6\u001b[24m505     \u001b[4m1\u001b[24m942.\n",
      "\u001b[90m 3\u001b[39m Albania  \u001b[4m1\u001b[24m962    64.8 1\u001b[4m7\u001b[24m\u001b[4m2\u001b[24m\u001b[4m8\u001b[24m137     \u001b[4m2\u001b[24m313.\n",
      "\u001b[90m 4\u001b[39m Albania  \u001b[4m1\u001b[24m967    66.2 1\u001b[4m9\u001b[24m\u001b[4m8\u001b[24m\u001b[4m4\u001b[24m060     \u001b[4m2\u001b[24m760.\n",
      "\u001b[90m 5\u001b[39m Albania  \u001b[4m1\u001b[24m972    67.7 2\u001b[4m2\u001b[24m\u001b[4m6\u001b[24m\u001b[4m3\u001b[24m554     \u001b[4m3\u001b[24m313.\n",
      "\u001b[90m 6\u001b[39m Albania  \u001b[4m1\u001b[24m977    68.9 2\u001b[4m5\u001b[24m\u001b[4m0\u001b[24m\u001b[4m9\u001b[24m048     \u001b[4m3\u001b[24m533.\n",
      "\u001b[90m 7\u001b[39m Albania  \u001b[4m1\u001b[24m982    70.4 2\u001b[4m7\u001b[24m\u001b[4m8\u001b[24m\u001b[4m0\u001b[24m097     \u001b[4m3\u001b[24m631.\n",
      "\u001b[90m 8\u001b[39m Albania  \u001b[4m1\u001b[24m987    72   3\u001b[4m0\u001b[24m\u001b[4m7\u001b[24m\u001b[4m5\u001b[24m321     \u001b[4m3\u001b[24m739.\n",
      "\u001b[90m 9\u001b[39m Albania  \u001b[4m1\u001b[24m992    71.6 3\u001b[4m3\u001b[24m\u001b[4m2\u001b[24m\u001b[4m6\u001b[24m498     \u001b[4m2\u001b[24m497.\n",
      "\u001b[90m10\u001b[39m Albania  \u001b[4m1\u001b[24m997    73.0 3\u001b[4m4\u001b[24m\u001b[4m2\u001b[24m\u001b[4m8\u001b[24m038     \u001b[4m3\u001b[24m193.\n",
      "\u001b[90m# ... with 350 more rows\u001b[39m\n",
      "\n",
      "$Africa\n",
      "\u001b[90m# A tibble: 624 x 5\u001b[39m\n",
      "   country  year lifeExp      pop gdpPercap\n",
      "   \u001b[3m\u001b[90m<fct>\u001b[39m\u001b[23m   \u001b[3m\u001b[90m<int>\u001b[39m\u001b[23m   \u001b[3m\u001b[90m<dbl>\u001b[39m\u001b[23m    \u001b[3m\u001b[90m<int>\u001b[39m\u001b[23m     \u001b[3m\u001b[90m<dbl>\u001b[39m\u001b[23m\n",
      "\u001b[90m 1\u001b[39m Algeria  \u001b[4m1\u001b[24m952    43.1  9\u001b[4m2\u001b[24m\u001b[4m7\u001b[24m\u001b[4m9\u001b[24m525     \u001b[4m2\u001b[24m449.\n",
      "\u001b[90m 2\u001b[39m Algeria  \u001b[4m1\u001b[24m957    45.7 10\u001b[4m2\u001b[24m\u001b[4m7\u001b[24m\u001b[4m0\u001b[24m856     \u001b[4m3\u001b[24m014.\n",
      "\u001b[90m 3\u001b[39m Algeria  \u001b[4m1\u001b[24m962    48.3 11\u001b[4m0\u001b[24m\u001b[4m0\u001b[24m\u001b[4m0\u001b[24m948     \u001b[4m2\u001b[24m551.\n",
      "\u001b[90m 4\u001b[39m Algeria  \u001b[4m1\u001b[24m967    51.4 12\u001b[4m7\u001b[24m\u001b[4m6\u001b[24m\u001b[4m0\u001b[24m499     \u001b[4m3\u001b[24m247.\n",
      "\u001b[90m 5\u001b[39m Algeria  \u001b[4m1\u001b[24m972    54.5 14\u001b[4m7\u001b[24m\u001b[4m6\u001b[24m\u001b[4m0\u001b[24m787     \u001b[4m4\u001b[24m183.\n",
      "\u001b[90m 6\u001b[39m Algeria  \u001b[4m1\u001b[24m977    58.0 17\u001b[4m1\u001b[24m\u001b[4m5\u001b[24m\u001b[4m2\u001b[24m804     \u001b[4m4\u001b[24m910.\n",
      "\u001b[90m 7\u001b[39m Algeria  \u001b[4m1\u001b[24m982    61.4 20\u001b[4m0\u001b[24m\u001b[4m3\u001b[24m\u001b[4m3\u001b[24m753     \u001b[4m5\u001b[24m745.\n",
      "\u001b[90m 8\u001b[39m Algeria  \u001b[4m1\u001b[24m987    65.8 23\u001b[4m2\u001b[24m\u001b[4m5\u001b[24m\u001b[4m4\u001b[24m956     \u001b[4m5\u001b[24m681.\n",
      "\u001b[90m 9\u001b[39m Algeria  \u001b[4m1\u001b[24m992    67.7 26\u001b[4m2\u001b[24m\u001b[4m9\u001b[24m\u001b[4m8\u001b[24m373     \u001b[4m5\u001b[24m023.\n",
      "\u001b[90m10\u001b[39m Algeria  \u001b[4m1\u001b[24m997    69.2 29\u001b[4m0\u001b[24m\u001b[4m7\u001b[24m\u001b[4m2\u001b[24m015     \u001b[4m4\u001b[24m797.\n",
      "\u001b[90m# ... with 614 more rows\u001b[39m\n",
      "\n",
      "$Americas\n",
      "\u001b[90m# A tibble: 300 x 5\u001b[39m\n",
      "   country    year lifeExp      pop gdpPercap\n",
      "   \u001b[3m\u001b[90m<fct>\u001b[39m\u001b[23m     \u001b[3m\u001b[90m<int>\u001b[39m\u001b[23m   \u001b[3m\u001b[90m<dbl>\u001b[39m\u001b[23m    \u001b[3m\u001b[90m<int>\u001b[39m\u001b[23m     \u001b[3m\u001b[90m<dbl>\u001b[39m\u001b[23m\n",
      "\u001b[90m 1\u001b[39m Argentina  \u001b[4m1\u001b[24m952    62.5 17\u001b[4m8\u001b[24m\u001b[4m7\u001b[24m\u001b[4m6\u001b[24m956     \u001b[4m5\u001b[24m911.\n",
      "\u001b[90m 2\u001b[39m Argentina  \u001b[4m1\u001b[24m957    64.4 19\u001b[4m6\u001b[24m\u001b[4m1\u001b[24m\u001b[4m0\u001b[24m538     \u001b[4m6\u001b[24m857.\n",
      "\u001b[90m 3\u001b[39m Argentina  \u001b[4m1\u001b[24m962    65.1 21\u001b[4m2\u001b[24m\u001b[4m8\u001b[24m\u001b[4m3\u001b[24m783     \u001b[4m7\u001b[24m133.\n",
      "\u001b[90m 4\u001b[39m Argentina  \u001b[4m1\u001b[24m967    65.6 22\u001b[4m9\u001b[24m\u001b[4m3\u001b[24m\u001b[4m4\u001b[24m225     \u001b[4m8\u001b[24m053.\n",
      "\u001b[90m 5\u001b[39m Argentina  \u001b[4m1\u001b[24m972    67.1 24\u001b[4m7\u001b[24m\u001b[4m7\u001b[24m\u001b[4m9\u001b[24m799     \u001b[4m9\u001b[24m443.\n",
      "\u001b[90m 6\u001b[39m Argentina  \u001b[4m1\u001b[24m977    68.5 26\u001b[4m9\u001b[24m\u001b[4m8\u001b[24m\u001b[4m3\u001b[24m828    \u001b[4m1\u001b[24m\u001b[4m0\u001b[24m079.\n",
      "\u001b[90m 7\u001b[39m Argentina  \u001b[4m1\u001b[24m982    69.9 29\u001b[4m3\u001b[24m\u001b[4m4\u001b[24m\u001b[4m1\u001b[24m374     \u001b[4m8\u001b[24m998.\n",
      "\u001b[90m 8\u001b[39m Argentina  \u001b[4m1\u001b[24m987    70.8 31\u001b[4m6\u001b[24m\u001b[4m2\u001b[24m\u001b[4m0\u001b[24m918     \u001b[4m9\u001b[24m140.\n",
      "\u001b[90m 9\u001b[39m Argentina  \u001b[4m1\u001b[24m992    71.9 33\u001b[4m9\u001b[24m\u001b[4m5\u001b[24m\u001b[4m8\u001b[24m947     \u001b[4m9\u001b[24m308.\n",
      "\u001b[90m10\u001b[39m Argentina  \u001b[4m1\u001b[24m997    73.3 36\u001b[4m2\u001b[24m\u001b[4m0\u001b[24m\u001b[4m3\u001b[24m463    \u001b[4m1\u001b[24m\u001b[4m0\u001b[24m967.\n",
      "\u001b[90m# ... with 290 more rows\u001b[39m\n",
      "\n",
      "$Oceania\n",
      "\u001b[90m# A tibble: 24 x 5\u001b[39m\n",
      "   country    year lifeExp      pop gdpPercap\n",
      "   \u001b[3m\u001b[90m<fct>\u001b[39m\u001b[23m     \u001b[3m\u001b[90m<int>\u001b[39m\u001b[23m   \u001b[3m\u001b[90m<dbl>\u001b[39m\u001b[23m    \u001b[3m\u001b[90m<int>\u001b[39m\u001b[23m     \u001b[3m\u001b[90m<dbl>\u001b[39m\u001b[23m\n",
      "\u001b[90m 1\u001b[39m Australia  \u001b[4m1\u001b[24m952    69.1  8\u001b[4m6\u001b[24m\u001b[4m9\u001b[24m\u001b[4m1\u001b[24m212    \u001b[4m1\u001b[24m\u001b[4m0\u001b[24m040.\n",
      "\u001b[90m 2\u001b[39m Australia  \u001b[4m1\u001b[24m957    70.3  9\u001b[4m7\u001b[24m\u001b[4m1\u001b[24m\u001b[4m2\u001b[24m569    \u001b[4m1\u001b[24m\u001b[4m0\u001b[24m950.\n",
      "\u001b[90m 3\u001b[39m Australia  \u001b[4m1\u001b[24m962    70.9 10\u001b[4m7\u001b[24m\u001b[4m9\u001b[24m\u001b[4m4\u001b[24m968    \u001b[4m1\u001b[24m\u001b[4m2\u001b[24m217.\n",
      "\u001b[90m 4\u001b[39m Australia  \u001b[4m1\u001b[24m967    71.1 11\u001b[4m8\u001b[24m\u001b[4m7\u001b[24m\u001b[4m2\u001b[24m264    \u001b[4m1\u001b[24m\u001b[4m4\u001b[24m526.\n",
      "\u001b[90m 5\u001b[39m Australia  \u001b[4m1\u001b[24m972    71.9 13\u001b[4m1\u001b[24m\u001b[4m7\u001b[24m\u001b[4m7\u001b[24m000    \u001b[4m1\u001b[24m\u001b[4m6\u001b[24m789.\n",
      "\u001b[90m 6\u001b[39m Australia  \u001b[4m1\u001b[24m977    73.5 14\u001b[4m0\u001b[24m\u001b[4m7\u001b[24m\u001b[4m4\u001b[24m100    \u001b[4m1\u001b[24m\u001b[4m8\u001b[24m334.\n",
      "\u001b[90m 7\u001b[39m Australia  \u001b[4m1\u001b[24m982    74.7 15\u001b[4m1\u001b[24m\u001b[4m8\u001b[24m\u001b[4m4\u001b[24m200    \u001b[4m1\u001b[24m\u001b[4m9\u001b[24m477.\n",
      "\u001b[90m 8\u001b[39m Australia  \u001b[4m1\u001b[24m987    76.3 16\u001b[4m2\u001b[24m\u001b[4m5\u001b[24m\u001b[4m7\u001b[24m249    \u001b[4m2\u001b[24m\u001b[4m1\u001b[24m889.\n",
      "\u001b[90m 9\u001b[39m Australia  \u001b[4m1\u001b[24m992    77.6 17\u001b[4m4\u001b[24m\u001b[4m8\u001b[24m\u001b[4m1\u001b[24m977    \u001b[4m2\u001b[24m\u001b[4m3\u001b[24m425.\n",
      "\u001b[90m10\u001b[39m Australia  \u001b[4m1\u001b[24m997    78.8 18\u001b[4m5\u001b[24m\u001b[4m6\u001b[24m\u001b[4m5\u001b[24m243    \u001b[4m2\u001b[24m\u001b[4m6\u001b[24m998.\n",
      "\u001b[90m# ... with 14 more rows\u001b[39m\n",
      "\n"
     ]
    }
   ],
   "source": [
    "answer14 <- gapminder %>% \n",
    "    nest(data = !continent) %>% \n",
    "    deframe()\n",
    "print(answer14)"
   ]
  },
  {
   "cell_type": "code",
   "execution_count": 39,
   "metadata": {
    "deletable": false,
    "editable": false,
    "nbgrader": {
     "cell_type": "code",
     "checksum": "8cda8c2612088ba409472b28913023d1",
     "grade": true,
     "grade_id": "cell-8af823c5c35e01e1",
     "locked": true,
     "points": 1,
     "schema_version": 3,
     "solution": false,
     "task": false
    }
   },
   "outputs": [
    {
     "name": "stdout",
     "output_type": "stream",
     "text": [
      "\u001b[32mTest passed\u001b[39m \n"
     ]
    }
   ],
   "source": [
    "test_that('Question 14', {\n",
    "    expect_known_hash(names(answer14), '90da4aa25e5abc752edec3d524ea2677')\n",
    "    map(answer14, pull, gdpPercap) %>% \n",
    "        unlist() %>% \n",
    "        unname() %>% \n",
    "        round(4) %>% \n",
    "        expect_known_hash(\"a621bfc9dba8da1f02e4dc19fa4083f6\")\n",
    "})"
   ]
  },
  {
   "cell_type": "markdown",
   "metadata": {
    "deletable": false,
    "editable": false,
    "nbgrader": {
     "cell_type": "markdown",
     "checksum": "62cf840907e0f4541c35f38c05739e51",
     "grade": false,
     "grade_id": "cell-2e2dcca21fb850f2",
     "locked": true,
     "schema_version": 3,
     "solution": false,
     "task": false
    }
   },
   "source": [
    "## Question 15 \n",
    "\n",
    "Sometimes the vector/list we're iterating over has names, and it's useful to use those names. To access these names, use the `imap` family.\n",
    "\n",
    "For the list of tibbles made in the above question, save each one to file using the appropriate purrr function, using the names as the file names.\n",
    "\n",
    "Starter code:\n",
    "\n",
    "```\n",
    "answer15 <- FILL_THIS_IN(answer14, ~ write_csv(FILL_THIS_IN, glue::glue(FILL_THIS_IN, \".csv\")))\n",
    "```"
   ]
  },
  {
   "cell_type": "code",
   "execution_count": 41,
   "metadata": {
    "deletable": false,
    "nbgrader": {
     "cell_type": "code",
     "checksum": "1b9f45df4b237f0cc7d7ac95193f260d",
     "grade": false,
     "grade_id": "cell-614dfd0842b259c8",
     "locked": false,
     "schema_version": 3,
     "solution": true,
     "task": false
    }
   },
   "outputs": [
    {
     "data": {
      "text/html": [
       "<style>\n",
       ".list-inline {list-style: none; margin:0; padding: 0}\n",
       ".list-inline>li {display: inline-block}\n",
       ".list-inline>li:not(:last-child)::after {content: \"\\00b7\"; padding: 0 .5ex}\n",
       "</style>\n",
       "<ol class=list-inline><li>'2019W1'</li><li>'2019W2'</li><li>'Africa.csv'</li><li>'Americas.csv'</li><li>'Asia.csv'</li><li>'Europe.csv'</li><li>'Oceania.csv'</li><li>'worksheet_b03.ipynb'</li></ol>\n"
      ],
      "text/latex": [
       "\\begin{enumerate*}\n",
       "\\item '2019W1'\n",
       "\\item '2019W2'\n",
       "\\item 'Africa.csv'\n",
       "\\item 'Americas.csv'\n",
       "\\item 'Asia.csv'\n",
       "\\item 'Europe.csv'\n",
       "\\item 'Oceania.csv'\n",
       "\\item 'worksheet\\_b03.ipynb'\n",
       "\\end{enumerate*}\n"
      ],
      "text/markdown": [
       "1. '2019W1'\n",
       "2. '2019W2'\n",
       "3. 'Africa.csv'\n",
       "4. 'Americas.csv'\n",
       "5. 'Asia.csv'\n",
       "6. 'Europe.csv'\n",
       "7. 'Oceania.csv'\n",
       "8. 'worksheet_b03.ipynb'\n",
       "\n",
       "\n"
      ],
      "text/plain": [
       "[1] \"2019W1\"              \"2019W2\"              \"Africa.csv\"         \n",
       "[4] \"Americas.csv\"        \"Asia.csv\"            \"Europe.csv\"         \n",
       "[7] \"Oceania.csv\"         \"worksheet_b03.ipynb\""
      ]
     },
     "metadata": {},
     "output_type": "display_data"
    }
   ],
   "source": [
    "answer15 <- iwalk(answer14, ~ write_csv(.x, glue::glue(.y, \".csv\")))\n",
    "dir()"
   ]
  },
  {
   "cell_type": "code",
   "execution_count": 42,
   "metadata": {
    "deletable": false,
    "editable": false,
    "nbgrader": {
     "cell_type": "code",
     "checksum": "415ee4419d8314d6f37baf2a11c85eb5",
     "grade": true,
     "grade_id": "cell-abc180f44f0aabb7",
     "locked": true,
     "points": 1,
     "schema_version": 3,
     "solution": false,
     "task": false
    }
   },
   "outputs": [
    {
     "name": "stdout",
     "output_type": "stream",
     "text": [
      "\u001b[32mTest passed\u001b[39m \n"
     ]
    }
   ],
   "source": [
    "test_that('Question 15', {\n",
    "    expect_true(\"Africa.csv\" %in% dir())\n",
    "    expect_true(\"Americas.csv\" %in% dir())\n",
    "    expect_true(\"Asia.csv\" %in% dir())\n",
    "    expect_true(\"Europe.csv\" %in% dir())\n",
    "    expect_true(\"Oceania.csv\" %in% dir())\n",
    "})"
   ]
  },
  {
   "cell_type": "markdown",
   "metadata": {
    "deletable": false,
    "editable": false,
    "nbgrader": {
     "cell_type": "markdown",
     "checksum": "ca0b1a06a2d78f301da83a3faadc228c",
     "grade": false,
     "grade_id": "cell-efa35d5d0539e9ea",
     "locked": true,
     "schema_version": 3,
     "solution": false,
     "task": false
    }
   },
   "source": [
    "# Part 3: Recursive Lists\n",
    "\n",
    "We won't focus much on recursive lists in this course, but here is a little taste of it.\n",
    "\n",
    "## Question 16: `unnest_wider()` and `unnest_longer()`\n",
    "\n",
    "Explore the `repurrrsive::got_chars` nested list. It contains information about Game of Thrones characters."
   ]
  },
  {
   "cell_type": "code",
   "execution_count": 46,
   "metadata": {
    "deletable": false,
    "editable": false,
    "nbgrader": {
     "cell_type": "code",
     "checksum": "3a96aaf242fd3a16c1b94196fa61dca3",
     "grade": false,
     "grade_id": "cell-c37d34ac0130b86c",
     "locked": true,
     "schema_version": 3,
     "solution": false,
     "task": false
    }
   },
   "outputs": [
    {
     "name": "stdout",
     "output_type": "stream",
     "text": [
      "List of 30\n",
      " $ :List of 18\n",
      "  ..$ url        : chr \"https://www.anapioficeandfire.com/api/characters/1022\"\n",
      "  ..$ id         : int 1022\n",
      "  ..$ name       : chr \"Theon Greyjoy\"\n",
      "  ..$ gender     : chr \"Male\"\n",
      "  .. [list output truncated]\n",
      " $ :List of 18\n",
      "  ..$ url        : chr \"https://www.anapioficeandfire.com/api/characters/1052\"\n",
      "  ..$ id         : int 1052\n",
      "  ..$ name       : chr \"Tyrion Lannister\"\n",
      "  ..$ gender     : chr \"Male\"\n",
      "  .. [list output truncated]\n",
      " $ :List of 18\n",
      "  ..$ url        : chr \"https://www.anapioficeandfire.com/api/characters/1074\"\n",
      "  ..$ id         : int 1074\n",
      "  ..$ name       : chr \"Victarion Greyjoy\"\n",
      "  ..$ gender     : chr \"Male\"\n",
      "  .. [list output truncated]\n",
      " $ :List of 18\n",
      "  ..$ url        : chr \"https://www.anapioficeandfire.com/api/characters/1109\"\n",
      "  ..$ id         : int 1109\n",
      "  ..$ name       : chr \"Will\"\n",
      "  ..$ gender     : chr \"Male\"\n",
      "  .. [list output truncated]\n",
      "  [list output truncated]\n"
     ]
    }
   ],
   "source": [
    "str(got_chars, list.len = 4)"
   ]
  },
  {
   "cell_type": "markdown",
   "metadata": {
    "deletable": false,
    "editable": false,
    "nbgrader": {
     "cell_type": "markdown",
     "checksum": "053e00298f46ea7ae12b7dd4c21b0674",
     "grade": false,
     "grade_id": "cell-66f68f131707e56e",
     "locked": true,
     "schema_version": 3,
     "solution": false,
     "task": false
    }
   },
   "source": [
    "Put the list in a tibble:"
   ]
  },
  {
   "cell_type": "code",
   "execution_count": 47,
   "metadata": {
    "deletable": false,
    "editable": false,
    "nbgrader": {
     "cell_type": "code",
     "checksum": "ed020a751cb363019a1e5151c1bd8f5b",
     "grade": false,
     "grade_id": "cell-c66bef51ab12f7d8",
     "locked": true,
     "schema_version": 3,
     "solution": false,
     "task": false
    }
   },
   "outputs": [
    {
     "name": "stdout",
     "output_type": "stream",
     "text": [
      "\u001b[90m# A tibble: 30 x 1\u001b[39m\n",
      "  character        \n",
      "  \u001b[3m\u001b[90m<list>\u001b[39m\u001b[23m           \n",
      "\u001b[90m1\u001b[39m \u001b[90m<named list [18]>\u001b[39m\n",
      "\u001b[90m2\u001b[39m \u001b[90m<named list [18]>\u001b[39m\n",
      "\u001b[90m3\u001b[39m \u001b[90m<named list [18]>\u001b[39m\n",
      "\u001b[90m4\u001b[39m \u001b[90m<named list [18]>\u001b[39m\n",
      "\u001b[90m5\u001b[39m \u001b[90m<named list [18]>\u001b[39m\n",
      "\u001b[90m# ... with 25 more rows\u001b[39m\n"
     ]
    }
   ],
   "source": [
    "got_chars_tbl <- tibble(character = repurrrsive::got_chars)\n",
    "print(got_chars_tbl, n = 5)"
   ]
  },
  {
   "cell_type": "markdown",
   "metadata": {
    "deletable": false,
    "editable": false,
    "nbgrader": {
     "cell_type": "markdown",
     "checksum": "b07d7d6f48f765e1df83f4a4b2c4902a",
     "grade": false,
     "grade_id": "cell-12ce31c0bc8833a2",
     "locked": true,
     "schema_version": 3,
     "solution": false,
     "task": false
    }
   },
   "source": [
    "Would widening the list column work best, or lengthening? Do it.\n",
    "\n",
    "```\n",
    "answer16 <- FILL_THIS_IN(got_chars_tbl, character)\n",
    "```"
   ]
  },
  {
   "cell_type": "code",
   "execution_count": 52,
   "metadata": {
    "deletable": false,
    "nbgrader": {
     "cell_type": "code",
     "checksum": "3b658b59c62c9f028ae3cf6db1ef6524",
     "grade": false,
     "grade_id": "cell-c2c0d6d323c4f08a",
     "locked": false,
     "schema_version": 3,
     "solution": true,
     "task": false
    }
   },
   "outputs": [
    {
     "name": "stdout",
     "output_type": "stream",
     "text": [
      "\u001b[90m# A tibble: 30 x 18\u001b[39m\n",
      "  url         id name   gender culture born   died   alive titles aliases father\n",
      "  \u001b[3m\u001b[90m<chr>\u001b[39m\u001b[23m    \u001b[3m\u001b[90m<int>\u001b[39m\u001b[23m \u001b[3m\u001b[90m<chr>\u001b[39m\u001b[23m  \u001b[3m\u001b[90m<chr>\u001b[39m\u001b[23m  \u001b[3m\u001b[90m<chr>\u001b[39m\u001b[23m   \u001b[3m\u001b[90m<chr>\u001b[39m\u001b[23m  \u001b[3m\u001b[90m<chr>\u001b[39m\u001b[23m  \u001b[3m\u001b[90m<lgl>\u001b[39m\u001b[23m \u001b[3m\u001b[90m<list>\u001b[39m\u001b[23m \u001b[3m\u001b[90m<list>\u001b[39m\u001b[23m  \u001b[3m\u001b[90m<chr>\u001b[39m\u001b[23m \n",
      "\u001b[90m1\u001b[39m https:/~  \u001b[4m1\u001b[24m022 Theon~ Male   \u001b[90m\"\u001b[39mIronb~ \u001b[90m\"\u001b[39mIn 2~ \u001b[90m\"\u001b[39m\u001b[90m\"\u001b[39m     TRUE  \u001b[90m<chr \u001b[0m~ \u001b[90m<chr [\u001b[0m~ \u001b[90m\"\u001b[39m\u001b[90m\"\u001b[39m    \n",
      "\u001b[90m2\u001b[39m https:/~  \u001b[4m1\u001b[24m052 Tyrio~ Male   \u001b[90m\"\u001b[39m\u001b[90m\"\u001b[39m      \u001b[90m\"\u001b[39mIn 2~ \u001b[90m\"\u001b[39m\u001b[90m\"\u001b[39m     TRUE  \u001b[90m<chr \u001b[0m~ \u001b[90m<chr [\u001b[0m~ \u001b[90m\"\u001b[39m\u001b[90m\"\u001b[39m    \n",
      "\u001b[90m3\u001b[39m https:/~  \u001b[4m1\u001b[24m074 Victa~ Male   \u001b[90m\"\u001b[39mIronb~ \u001b[90m\"\u001b[39mIn 2~ \u001b[90m\"\u001b[39m\u001b[90m\"\u001b[39m     TRUE  \u001b[90m<chr \u001b[0m~ \u001b[90m<chr [\u001b[0m~ \u001b[90m\"\u001b[39m\u001b[90m\"\u001b[39m    \n",
      "\u001b[90m4\u001b[39m https:/~  \u001b[4m1\u001b[24m109 Will   Male   \u001b[90m\"\u001b[39m\u001b[90m\"\u001b[39m      \u001b[90m\"\u001b[39m\u001b[90m\"\u001b[39m     \u001b[90m\"\u001b[39mIn 2~ FALSE \u001b[90m<chr \u001b[0m~ \u001b[90m<chr [\u001b[0m~ \u001b[90m\"\u001b[39m\u001b[90m\"\u001b[39m    \n",
      "\u001b[90m5\u001b[39m https:/~  \u001b[4m1\u001b[24m166 Areo ~ Male   \u001b[90m\"\u001b[39mNorvo~ \u001b[90m\"\u001b[39mIn 2~ \u001b[90m\"\u001b[39m\u001b[90m\"\u001b[39m     TRUE  \u001b[90m<chr \u001b[0m~ \u001b[90m<chr [\u001b[0m~ \u001b[90m\"\u001b[39m\u001b[90m\"\u001b[39m    \n",
      "\u001b[90m# ... with 25 more rows, and 7 more variables: mother <chr>, spouse <chr>,\u001b[39m\n",
      "\u001b[90m#   allegiances <list>, books <list>, povBooks <list>, tvSeries <list>,\u001b[39m\n",
      "\u001b[90m#   playedBy <list>\u001b[39m\n"
     ]
    }
   ],
   "source": [
    "answer16 <- unnest_wider(got_chars_tbl, character)\n",
    "print(answer16, n = 5)"
   ]
  },
  {
   "cell_type": "code",
   "execution_count": 53,
   "metadata": {
    "deletable": false,
    "editable": false,
    "nbgrader": {
     "cell_type": "code",
     "checksum": "64cde7ef59f45cab63ce21ee93143551",
     "grade": true,
     "grade_id": "cell-94e5bbb953c5b136",
     "locked": true,
     "points": 1,
     "schema_version": 3,
     "solution": false,
     "task": false
    }
   },
   "outputs": [
    {
     "name": "stdout",
     "output_type": "stream",
     "text": [
      "\u001b[32mTest passed\u001b[39m \n"
     ]
    }
   ],
   "source": [
    "test_that('Question 16', {\n",
    "    answer16 %>% \n",
    "      pull(culture) %>% \n",
    "      expect_known_hash(\"239b2663946d88db14fb52f017d749da\")\n",
    "    answer16 %>% \n",
    "      pull(url) %>% \n",
    "      expect_known_hash(\"40d4d84edde6c1573c6eef61b2bd49c2\")\n",
    "    answer16 %>% \n",
    "      pull(name) %>% \n",
    "      expect_known_hash(\"9fa482de54b3e866524eff35d7e4dee9\")\n",
    "})"
   ]
  },
  {
   "cell_type": "markdown",
   "metadata": {
    "deletable": false,
    "editable": false,
    "nbgrader": {
     "cell_type": "markdown",
     "checksum": "6bb6994afbaa26ecfb7d2d3e558e62bd",
     "grade": false,
     "grade_id": "cell-5410b3507a1e8bfe",
     "locked": true,
     "schema_version": 3,
     "solution": false,
     "task": false
    }
   },
   "source": [
    "### Attributions\n",
    "\n",
    "Thanks to Diana Lin for putting this worksheet together, Icíar Fernandez Boyano for reviewing, and David Kepplinger for assistance implementing these questions. Thanks to Firas Moosvi for providing a bunch of the questions on this worksheet. Thanks to Andy Tai for implementing the autograder for many of these questions."
   ]
  }
 ],
 "metadata": {
  "kernelspec": {
   "display_name": "R",
   "language": "R",
   "name": "ir"
  },
  "language_info": {
   "codemirror_mode": "r",
   "file_extension": ".r",
   "mimetype": "text/x-r-source",
   "name": "R",
   "pygments_lexer": "r",
   "version": "4.1.1"
  }
 },
 "nbformat": 4,
 "nbformat_minor": 4
}
