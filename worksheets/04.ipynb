{
 "cells": [
  {
   "cell_type": "markdown",
   "metadata": {
    "deletable": false,
    "editable": false,
    "nbgrader": {
     "cell_type": "markdown",
     "checksum": "ee35d39f2b1e9d0464c5b90033efc7e2",
     "grade": false,
     "grade_id": "cell-6cf23f5486d00725",
     "locked": true,
     "schema_version": 3,
     "solution": false,
     "task": false
    }
   },
   "source": [
    "# Worksheet A-4: Tidy Data & The Model-Fitting Paradigm in R\n",
    "\n",
    "By the end of this worksheet, you will be able to:\n",
    "\n",
    "(From tidyr)\n",
    "\n",
    "- convert a dataset between the 'long' and 'wide' format, using `tidyr::pivot_longer()` and `tidyr::pivot_wider()`\n",
    "- assess which format is best suited for each type of analysis\n",
    "- deal with missing data in a tibble\n",
    "\n",
    "(From modelling)\n",
    "\n",
    "- make a model object in R, using `lm()` as an example.\n",
    "- write a formula in R.\n",
    "- predict on a model object with the `broom::augment()` and `predict()` functions.\n",
    "- extract information from a model object using `broom::tidy()`, `broom::glance()`, and traditional means.\n",
    "\n",
    "To get full marks for this worksheet, you must successfully answer at least 10 of the autograded questions. There are 15 questions in total.\n",
    "\n",
    "## Getting Started\n",
    "\n",
    "Load the requirements for this worksheet:"
   ]
  },
  {
   "cell_type": "code",
   "execution_count": 1,
   "metadata": {
    "deletable": false,
    "editable": false,
    "nbgrader": {
     "cell_type": "code",
     "checksum": "9dfeb6bf4af3e22e4340768b14700684",
     "grade": false,
     "grade_id": "cell-0e57a40968a03e65",
     "locked": true,
     "schema_version": 3,
     "solution": false,
     "task": false
    }
   },
   "outputs": [],
   "source": [
    "library(testthat)\n",
    "library(digest)\n",
    "suppressPackageStartupMessages(library(tidyverse))\n",
    "suppressPackageStartupMessages(library(broom))\n",
    "suppressPackageStartupMessages(library(gapminder))\n",
    "lotr  <- suppressMessages(read_csv(\"https://raw.githubusercontent.com/jennybc/lotr-tidy/master/data/lotr_tidy.csv\"))\n",
    "guest <- suppressMessages(read_csv(\"https://raw.githubusercontent.com/STAT545-UBC/Classroom/master/data/wedding/attend.csv\"))"
   ]
  },
  {
   "cell_type": "markdown",
   "metadata": {
    "deletable": false,
    "editable": false,
    "nbgrader": {
     "cell_type": "markdown",
     "checksum": "3169cb72d2c60bf507a5877969e0bf56",
     "grade": false,
     "grade_id": "cell-8c33d8917362545a",
     "locked": true,
     "schema_version": 3,
     "solution": false,
     "task": false
    }
   },
   "source": [
    "The following code chunk has been unlocked, to give you the flexibility to start this document with some of your own code. Remember, it's bad manners to keep a call to `install.packages()` in your source code, so don't forget to delete these lines if you ever need to run them."
   ]
  },
  {
   "cell_type": "code",
   "execution_count": 4,
   "metadata": {},
   "outputs": [
    {
     "data": {
      "text/html": [
       "<table class=\"dataframe\">\n",
       "<caption>A spec_tbl_df: 18 × 4</caption>\n",
       "<thead>\n",
       "\t<tr><th scope=col>Film</th><th scope=col>Race</th><th scope=col>Gender</th><th scope=col>Words</th></tr>\n",
       "\t<tr><th scope=col>&lt;chr&gt;</th><th scope=col>&lt;chr&gt;</th><th scope=col>&lt;chr&gt;</th><th scope=col>&lt;dbl&gt;</th></tr>\n",
       "</thead>\n",
       "<tbody>\n",
       "\t<tr><td>The Fellowship Of The Ring</td><td>Elf   </td><td>Female</td><td>1229</td></tr>\n",
       "\t<tr><td>The Fellowship Of The Ring</td><td>Hobbit</td><td>Female</td><td>  14</td></tr>\n",
       "\t<tr><td>The Fellowship Of The Ring</td><td>Man   </td><td>Female</td><td>   0</td></tr>\n",
       "\t<tr><td>The Two Towers            </td><td>Elf   </td><td>Female</td><td> 331</td></tr>\n",
       "\t<tr><td>The Two Towers            </td><td>Hobbit</td><td>Female</td><td>   0</td></tr>\n",
       "\t<tr><td>The Two Towers            </td><td>Man   </td><td>Female</td><td> 401</td></tr>\n",
       "\t<tr><td>The Return Of The King    </td><td>Elf   </td><td>Female</td><td> 183</td></tr>\n",
       "\t<tr><td>The Return Of The King    </td><td>Hobbit</td><td>Female</td><td>   2</td></tr>\n",
       "\t<tr><td>The Return Of The King    </td><td>Man   </td><td>Female</td><td> 268</td></tr>\n",
       "\t<tr><td>The Fellowship Of The Ring</td><td>Elf   </td><td>Male  </td><td> 971</td></tr>\n",
       "\t<tr><td>The Fellowship Of The Ring</td><td>Hobbit</td><td>Male  </td><td>3644</td></tr>\n",
       "\t<tr><td>The Fellowship Of The Ring</td><td>Man   </td><td>Male  </td><td>1995</td></tr>\n",
       "\t<tr><td>The Two Towers            </td><td>Elf   </td><td>Male  </td><td> 513</td></tr>\n",
       "\t<tr><td>The Two Towers            </td><td>Hobbit</td><td>Male  </td><td>2463</td></tr>\n",
       "\t<tr><td>The Two Towers            </td><td>Man   </td><td>Male  </td><td>3589</td></tr>\n",
       "\t<tr><td>The Return Of The King    </td><td>Elf   </td><td>Male  </td><td> 510</td></tr>\n",
       "\t<tr><td>The Return Of The King    </td><td>Hobbit</td><td>Male  </td><td>2673</td></tr>\n",
       "\t<tr><td>The Return Of The King    </td><td>Man   </td><td>Male  </td><td>2459</td></tr>\n",
       "</tbody>\n",
       "</table>\n"
      ],
      "text/latex": [
       "A spec\\_tbl\\_df: 18 × 4\n",
       "\\begin{tabular}{llll}\n",
       " Film & Race & Gender & Words\\\\\n",
       " <chr> & <chr> & <chr> & <dbl>\\\\\n",
       "\\hline\n",
       "\t The Fellowship Of The Ring & Elf    & Female & 1229\\\\\n",
       "\t The Fellowship Of The Ring & Hobbit & Female &   14\\\\\n",
       "\t The Fellowship Of The Ring & Man    & Female &    0\\\\\n",
       "\t The Two Towers             & Elf    & Female &  331\\\\\n",
       "\t The Two Towers             & Hobbit & Female &    0\\\\\n",
       "\t The Two Towers             & Man    & Female &  401\\\\\n",
       "\t The Return Of The King     & Elf    & Female &  183\\\\\n",
       "\t The Return Of The King     & Hobbit & Female &    2\\\\\n",
       "\t The Return Of The King     & Man    & Female &  268\\\\\n",
       "\t The Fellowship Of The Ring & Elf    & Male   &  971\\\\\n",
       "\t The Fellowship Of The Ring & Hobbit & Male   & 3644\\\\\n",
       "\t The Fellowship Of The Ring & Man    & Male   & 1995\\\\\n",
       "\t The Two Towers             & Elf    & Male   &  513\\\\\n",
       "\t The Two Towers             & Hobbit & Male   & 2463\\\\\n",
       "\t The Two Towers             & Man    & Male   & 3589\\\\\n",
       "\t The Return Of The King     & Elf    & Male   &  510\\\\\n",
       "\t The Return Of The King     & Hobbit & Male   & 2673\\\\\n",
       "\t The Return Of The King     & Man    & Male   & 2459\\\\\n",
       "\\end{tabular}\n"
      ],
      "text/markdown": [
       "\n",
       "A spec_tbl_df: 18 × 4\n",
       "\n",
       "| Film &lt;chr&gt; | Race &lt;chr&gt; | Gender &lt;chr&gt; | Words &lt;dbl&gt; |\n",
       "|---|---|---|---|\n",
       "| The Fellowship Of The Ring | Elf    | Female | 1229 |\n",
       "| The Fellowship Of The Ring | Hobbit | Female |   14 |\n",
       "| The Fellowship Of The Ring | Man    | Female |    0 |\n",
       "| The Two Towers             | Elf    | Female |  331 |\n",
       "| The Two Towers             | Hobbit | Female |    0 |\n",
       "| The Two Towers             | Man    | Female |  401 |\n",
       "| The Return Of The King     | Elf    | Female |  183 |\n",
       "| The Return Of The King     | Hobbit | Female |    2 |\n",
       "| The Return Of The King     | Man    | Female |  268 |\n",
       "| The Fellowship Of The Ring | Elf    | Male   |  971 |\n",
       "| The Fellowship Of The Ring | Hobbit | Male   | 3644 |\n",
       "| The Fellowship Of The Ring | Man    | Male   | 1995 |\n",
       "| The Two Towers             | Elf    | Male   |  513 |\n",
       "| The Two Towers             | Hobbit | Male   | 2463 |\n",
       "| The Two Towers             | Man    | Male   | 3589 |\n",
       "| The Return Of The King     | Elf    | Male   |  510 |\n",
       "| The Return Of The King     | Hobbit | Male   | 2673 |\n",
       "| The Return Of The King     | Man    | Male   | 2459 |\n",
       "\n"
      ],
      "text/plain": [
       "   Film                       Race   Gender Words\n",
       "1  The Fellowship Of The Ring Elf    Female 1229 \n",
       "2  The Fellowship Of The Ring Hobbit Female   14 \n",
       "3  The Fellowship Of The Ring Man    Female    0 \n",
       "4  The Two Towers             Elf    Female  331 \n",
       "5  The Two Towers             Hobbit Female    0 \n",
       "6  The Two Towers             Man    Female  401 \n",
       "7  The Return Of The King     Elf    Female  183 \n",
       "8  The Return Of The King     Hobbit Female    2 \n",
       "9  The Return Of The King     Man    Female  268 \n",
       "10 The Fellowship Of The Ring Elf    Male    971 \n",
       "11 The Fellowship Of The Ring Hobbit Male   3644 \n",
       "12 The Fellowship Of The Ring Man    Male   1995 \n",
       "13 The Two Towers             Elf    Male    513 \n",
       "14 The Two Towers             Hobbit Male   2463 \n",
       "15 The Two Towers             Man    Male   3589 \n",
       "16 The Return Of The King     Elf    Male    510 \n",
       "17 The Return Of The King     Hobbit Male   2673 \n",
       "18 The Return Of The King     Man    Male   2459 "
      ]
     },
     "metadata": {},
     "output_type": "display_data"
    }
   ],
   "source": [
    "# An unlocked code cell."
   ]
  },
  {
   "cell_type": "markdown",
   "metadata": {
    "deletable": false,
    "editable": false,
    "nbgrader": {
     "cell_type": "markdown",
     "checksum": "ee049ccb004a3a4316287385a1f4ef63",
     "grade": false,
     "grade_id": "cell-67a56affda78d4f8",
     "locked": true,
     "schema_version": 3,
     "solution": false,
     "task": false
    }
   },
   "source": [
    "# Part 1: Tidy Data with Univariate Pivoting\n",
    "\n",
    "Consider the Lord of the Rings data. Run the code cell below to see the first few lines of the tibble."
   ]
  },
  {
   "cell_type": "code",
   "execution_count": 7,
   "metadata": {
    "deletable": false,
    "editable": false,
    "nbgrader": {
     "cell_type": "code",
     "checksum": "fc425e5b52ea398a18b8c4b41a977d5f",
     "grade": false,
     "grade_id": "cell-0700841dc6bbc1ab",
     "locked": true,
     "schema_version": 3,
     "solution": false,
     "task": false
    }
   },
   "outputs": [
    {
     "name": "stdout",
     "output_type": "stream",
     "text": [
      "\u001b[90m# A tibble: 18 x 4\u001b[39m\n",
      "  Film                       Race   Gender Words\n",
      "  \u001b[3m\u001b[90m<chr>\u001b[39m\u001b[23m                      \u001b[3m\u001b[90m<chr>\u001b[39m\u001b[23m  \u001b[3m\u001b[90m<chr>\u001b[39m\u001b[23m  \u001b[3m\u001b[90m<dbl>\u001b[39m\u001b[23m\n",
      "\u001b[90m1\u001b[39m The Fellowship Of The Ring Elf    Female  \u001b[4m1\u001b[24m229\n",
      "\u001b[90m2\u001b[39m The Fellowship Of The Ring Hobbit Female    14\n",
      "\u001b[90m3\u001b[39m The Fellowship Of The Ring Man    Female     0\n",
      "\u001b[90m4\u001b[39m The Two Towers             Elf    Female   331\n",
      "\u001b[90m5\u001b[39m The Two Towers             Hobbit Female     0\n",
      "\u001b[90m# ... with 13 more rows\u001b[39m\n"
     ]
    }
   ],
   "source": [
    "print(lotr, n = 5)"
   ]
  },
  {
   "cell_type": "markdown",
   "metadata": {
    "deletable": false,
    "editable": false,
    "nbgrader": {
     "cell_type": "markdown",
     "checksum": "c214c1ea9cc18939d57eb6b21aa9f2dc",
     "grade": false,
     "grade_id": "cell-31b880187338213a",
     "locked": true,
     "schema_version": 3,
     "solution": false,
     "task": false
    }
   },
   "source": [
    "## Question 1.1\n",
    "Widen the data so that we see the words spoken by each race, by puttting race as its own column. Store the answer in `answer1.1`.\n",
    "\n",
    "```\n",
    "(answer1.1 <- lotr %>%\n",
    "    FILL_THIS_IN(id_cols = c(-FILL_THIS_IN, -FILL_THIS_IN), \n",
    "                names_from = FILL_THIS_IN,\n",
    "                values_from = FILL_THIS_IN))\n",
    "```\n",
    "\n",
    "Your `answer1.1` should look something like this (full tibble not always shown):\n",
    "\n",
    "![answer1.1](https://github.com/UBC-STAT/stat545.stat.ubc.ca/raw/master/content/data/worksheet_04a/answer1.1.png)\n",
    "\n",
    "_Sidenote:_ Putting a variable assignment in parenthesis will not only assign the value to the variable, but also print to console. Normally when you assign a variable, you do not get to see the value of the variable. This is a helpful tip so you can see what you are storing!"
   ]
  },
  {
   "cell_type": "code",
   "execution_count": 6,
   "metadata": {
    "deletable": false,
    "nbgrader": {
     "cell_type": "code",
     "checksum": "1ab0480bddce3c237ca8ceabda584592",
     "grade": false,
     "grade_id": "cell-69d0326c263cea22",
     "locked": false,
     "schema_version": 3,
     "solution": true,
     "task": false
    }
   },
   "outputs": [
    {
     "data": {
      "text/html": [
       "<table class=\"dataframe\">\n",
       "<caption>A tibble: 6 × 5</caption>\n",
       "<thead>\n",
       "\t<tr><th scope=col>Film</th><th scope=col>Gender</th><th scope=col>Elf</th><th scope=col>Hobbit</th><th scope=col>Man</th></tr>\n",
       "\t<tr><th scope=col>&lt;chr&gt;</th><th scope=col>&lt;chr&gt;</th><th scope=col>&lt;dbl&gt;</th><th scope=col>&lt;dbl&gt;</th><th scope=col>&lt;dbl&gt;</th></tr>\n",
       "</thead>\n",
       "<tbody>\n",
       "\t<tr><td>The Fellowship Of The Ring</td><td>Female</td><td>1229</td><td>  14</td><td>   0</td></tr>\n",
       "\t<tr><td>The Two Towers            </td><td>Female</td><td> 331</td><td>   0</td><td> 401</td></tr>\n",
       "\t<tr><td>The Return Of The King    </td><td>Female</td><td> 183</td><td>   2</td><td> 268</td></tr>\n",
       "\t<tr><td>The Fellowship Of The Ring</td><td>Male  </td><td> 971</td><td>3644</td><td>1995</td></tr>\n",
       "\t<tr><td>The Two Towers            </td><td>Male  </td><td> 513</td><td>2463</td><td>3589</td></tr>\n",
       "\t<tr><td>The Return Of The King    </td><td>Male  </td><td> 510</td><td>2673</td><td>2459</td></tr>\n",
       "</tbody>\n",
       "</table>\n"
      ],
      "text/latex": [
       "A tibble: 6 × 5\n",
       "\\begin{tabular}{lllll}\n",
       " Film & Gender & Elf & Hobbit & Man\\\\\n",
       " <chr> & <chr> & <dbl> & <dbl> & <dbl>\\\\\n",
       "\\hline\n",
       "\t The Fellowship Of The Ring & Female & 1229 &   14 &    0\\\\\n",
       "\t The Two Towers             & Female &  331 &    0 &  401\\\\\n",
       "\t The Return Of The King     & Female &  183 &    2 &  268\\\\\n",
       "\t The Fellowship Of The Ring & Male   &  971 & 3644 & 1995\\\\\n",
       "\t The Two Towers             & Male   &  513 & 2463 & 3589\\\\\n",
       "\t The Return Of The King     & Male   &  510 & 2673 & 2459\\\\\n",
       "\\end{tabular}\n"
      ],
      "text/markdown": [
       "\n",
       "A tibble: 6 × 5\n",
       "\n",
       "| Film &lt;chr&gt; | Gender &lt;chr&gt; | Elf &lt;dbl&gt; | Hobbit &lt;dbl&gt; | Man &lt;dbl&gt; |\n",
       "|---|---|---|---|---|\n",
       "| The Fellowship Of The Ring | Female | 1229 |   14 |    0 |\n",
       "| The Two Towers             | Female |  331 |    0 |  401 |\n",
       "| The Return Of The King     | Female |  183 |    2 |  268 |\n",
       "| The Fellowship Of The Ring | Male   |  971 | 3644 | 1995 |\n",
       "| The Two Towers             | Male   |  513 | 2463 | 3589 |\n",
       "| The Return Of The King     | Male   |  510 | 2673 | 2459 |\n",
       "\n"
      ],
      "text/plain": [
       "  Film                       Gender Elf  Hobbit Man \n",
       "1 The Fellowship Of The Ring Female 1229   14      0\n",
       "2 The Two Towers             Female  331    0    401\n",
       "3 The Return Of The King     Female  183    2    268\n",
       "4 The Fellowship Of The Ring Male    971 3644   1995\n",
       "5 The Two Towers             Male    513 2463   3589\n",
       "6 The Return Of The King     Male    510 2673   2459"
      ]
     },
     "metadata": {},
     "output_type": "display_data"
    },
    {
     "name": "stdout",
     "output_type": "stream",
     "text": [
      "\u001b[90m# A tibble: 6 x 5\u001b[39m\n",
      "  Film                       Gender   Elf Hobbit   Man\n",
      "  \u001b[3m\u001b[90m<chr>\u001b[39m\u001b[23m                      \u001b[3m\u001b[90m<chr>\u001b[39m\u001b[23m  \u001b[3m\u001b[90m<dbl>\u001b[39m\u001b[23m  \u001b[3m\u001b[90m<dbl>\u001b[39m\u001b[23m \u001b[3m\u001b[90m<dbl>\u001b[39m\u001b[23m\n",
      "\u001b[90m1\u001b[39m The Fellowship Of The Ring Female  \u001b[4m1\u001b[24m229     14     0\n",
      "\u001b[90m2\u001b[39m The Two Towers             Female   331      0   401\n",
      "\u001b[90m3\u001b[39m The Return Of The King     Female   183      2   268\n",
      "\u001b[90m4\u001b[39m The Fellowship Of The Ring Male     971   \u001b[4m3\u001b[24m644  \u001b[4m1\u001b[24m995\n",
      "\u001b[90m5\u001b[39m The Two Towers             Male     513   \u001b[4m2\u001b[24m463  \u001b[4m3\u001b[24m589\n",
      "\u001b[90m6\u001b[39m The Return Of The King     Male     510   \u001b[4m2\u001b[24m673  \u001b[4m2\u001b[24m459\n"
     ]
    },
    {
     "data": {
      "text/html": [
       "<table class=\"dataframe\">\n",
       "<caption>A tibble: 6 × 5</caption>\n",
       "<thead>\n",
       "\t<tr><th scope=col>Film</th><th scope=col>Gender</th><th scope=col>Elf</th><th scope=col>Hobbit</th><th scope=col>Man</th></tr>\n",
       "\t<tr><th scope=col>&lt;chr&gt;</th><th scope=col>&lt;chr&gt;</th><th scope=col>&lt;dbl&gt;</th><th scope=col>&lt;dbl&gt;</th><th scope=col>&lt;dbl&gt;</th></tr>\n",
       "</thead>\n",
       "<tbody>\n",
       "\t<tr><td>The Fellowship Of The Ring</td><td>Female</td><td>1229</td><td>  14</td><td>   0</td></tr>\n",
       "\t<tr><td>The Fellowship Of The Ring</td><td>Male  </td><td> 971</td><td>3644</td><td>1995</td></tr>\n",
       "\t<tr><td>The Return Of The King    </td><td>Female</td><td> 183</td><td>   2</td><td> 268</td></tr>\n",
       "\t<tr><td>The Return Of The King    </td><td>Male  </td><td> 510</td><td>2673</td><td>2459</td></tr>\n",
       "\t<tr><td>The Two Towers            </td><td>Female</td><td> 331</td><td>   0</td><td> 401</td></tr>\n",
       "\t<tr><td>The Two Towers            </td><td>Male  </td><td> 513</td><td>2463</td><td>3589</td></tr>\n",
       "</tbody>\n",
       "</table>\n"
      ],
      "text/latex": [
       "A tibble: 6 × 5\n",
       "\\begin{tabular}{lllll}\n",
       " Film & Gender & Elf & Hobbit & Man\\\\\n",
       " <chr> & <chr> & <dbl> & <dbl> & <dbl>\\\\\n",
       "\\hline\n",
       "\t The Fellowship Of The Ring & Female & 1229 &   14 &    0\\\\\n",
       "\t The Fellowship Of The Ring & Male   &  971 & 3644 & 1995\\\\\n",
       "\t The Return Of The King     & Female &  183 &    2 &  268\\\\\n",
       "\t The Return Of The King     & Male   &  510 & 2673 & 2459\\\\\n",
       "\t The Two Towers             & Female &  331 &    0 &  401\\\\\n",
       "\t The Two Towers             & Male   &  513 & 2463 & 3589\\\\\n",
       "\\end{tabular}\n"
      ],
      "text/markdown": [
       "\n",
       "A tibble: 6 × 5\n",
       "\n",
       "| Film &lt;chr&gt; | Gender &lt;chr&gt; | Elf &lt;dbl&gt; | Hobbit &lt;dbl&gt; | Man &lt;dbl&gt; |\n",
       "|---|---|---|---|---|\n",
       "| The Fellowship Of The Ring | Female | 1229 |   14 |    0 |\n",
       "| The Fellowship Of The Ring | Male   |  971 | 3644 | 1995 |\n",
       "| The Return Of The King     | Female |  183 |    2 |  268 |\n",
       "| The Return Of The King     | Male   |  510 | 2673 | 2459 |\n",
       "| The Two Towers             | Female |  331 |    0 |  401 |\n",
       "| The Two Towers             | Male   |  513 | 2463 | 3589 |\n",
       "\n"
      ],
      "text/plain": [
       "  Film                       Gender Elf  Hobbit Man \n",
       "1 The Fellowship Of The Ring Female 1229   14      0\n",
       "2 The Fellowship Of The Ring Male    971 3644   1995\n",
       "3 The Return Of The King     Female  183    2    268\n",
       "4 The Return Of The King     Male    510 2673   2459\n",
       "5 The Two Towers             Female  331    0    401\n",
       "6 The Two Towers             Male    513 2463   3589"
      ]
     },
     "metadata": {},
     "output_type": "display_data"
    }
   ],
   "source": [
    "(answer1.1 <- lotr %>%\n",
    "    pivot_wider(id_cols = c(-Race, -Words), \n",
    "                names_from = Race,\n",
    "                values_from = Words))\n",
    "print(answer1.1)\n",
    "arrange_all(answer1.1)"
   ]
  },
  {
   "cell_type": "code",
   "execution_count": 8,
   "metadata": {
    "deletable": false,
    "editable": false,
    "nbgrader": {
     "cell_type": "code",
     "checksum": "a6c2a143efafaf1b021ad60c192912bf",
     "grade": true,
     "grade_id": "cell-cdf83fd8542d1a5f",
     "locked": true,
     "points": 1,
     "schema_version": 3,
     "solution": false,
     "task": false
    }
   },
   "outputs": [
    {
     "name": "stderr",
     "output_type": "stream",
     "text": [
      "Warning message in normalizePath(path.expand(path), winslash, mustWork):\n",
      "\"path[1]=\"C:/Users/41615/OneDrive/×ÀÃæ/stat545a/worksheets\": The system cannot find the path specified\"\n",
      "Warning message in normalizePath(path.expand(path), winslash, mustWork):\n",
      "\"path[1]=\"C:/Users/41615/OneDrive/×ÀÃæ/stat545a/worksheets\": The system cannot find the path specified\"\n",
      "Warning message in normalizePath(path.expand(path), winslash, mustWork):\n",
      "\"path[1]=\"C:/Users/41615/OneDrive/×ÀÃæ/stat545a\": The system cannot find the path specified\"\n",
      "Warning message in normalizePath(path.expand(path), winslash, mustWork):\n",
      "\"path[1]=\"C:/Users/41615/OneDrive/×ÀÃæ/stat545a\": The system cannot find the path specified\"\n",
      "Warning message in normalizePath(path.expand(path), winslash, mustWork):\n",
      "\"path[1]=\"C:/Users/41615/OneDrive/×ÀÃæ\": The system cannot find the file specified\"\n",
      "Warning message in normalizePath(path.expand(path), winslash, mustWork):\n",
      "\"path[1]=\"C:/Users/41615/OneDrive/×ÀÃæ\": The system cannot find the file specified\"\n"
     ]
    },
    {
     "name": "stdout",
     "output_type": "stream",
     "text": [
      "\u001b[32mTest passed\u001b[39m \n"
     ]
    }
   ],
   "source": [
    "test_that(\"Question 1.1\", {\n",
    "    expect_true(all(c(\"Film\", \"Gender\", \"Elf\", \"Hobbit\", \"Man\") %in% names(answer1.1)))\n",
    "    expect_equal(nrow(answer1.1), 6L)\n",
    "})"
   ]
  },
  {
   "cell_type": "markdown",
   "metadata": {
    "deletable": false,
    "editable": false,
    "nbgrader": {
     "cell_type": "markdown",
     "checksum": "61fe3546bb35cd6ef6a982ec56ccab61",
     "grade": false,
     "grade_id": "cell-e605b348e5f2d218",
     "locked": true,
     "schema_version": 3,
     "solution": false,
     "task": false
    }
   },
   "source": [
    "## Question 1.2\n",
    "Re-lengthen the wide `lotr` data (i.e. `answer1.1`) from Question 1.1 above. Store your answer in `answer1.2`.\n",
    "\n",
    "**Hint:** the resulting data frame should appear to be the _almost the same_ as the original! (No need to reorder the columns)\n",
    "\n",
    "```\n",
    "(answer1.2 <- answer1.1 %>% \n",
    "  FILL_THIS_IN(cols = c(-FILL_THIS_IN, -FILL_THIS_IN), \n",
    "               names_to  = FILL_THIS_IN, \n",
    "               values_to = FILL_THIS_IN))\n",
    "```\n",
    "\n",
    "Your `answer1.2` should look something like this (full tibble not always shown):\n",
    "\n",
    "![answer1.2](https://github.com/UBC-STAT/stat545.stat.ubc.ca/raw/master/content/data/worksheet_04a/answer1.2.png)"
   ]
  },
  {
   "cell_type": "code",
   "execution_count": 13,
   "metadata": {
    "deletable": false,
    "nbgrader": {
     "cell_type": "code",
     "checksum": "2e1f1fc9f62b4b402e47efd3f111f415",
     "grade": false,
     "grade_id": "cell-dd9ee0af42a31d96",
     "locked": false,
     "schema_version": 3,
     "solution": true,
     "task": false
    }
   },
   "outputs": [
    {
     "data": {
      "text/html": [
       "<table class=\"dataframe\">\n",
       "<caption>A tibble: 18 × 4</caption>\n",
       "<thead>\n",
       "\t<tr><th scope=col>Film</th><th scope=col>Gender</th><th scope=col>Race</th><th scope=col>Words</th></tr>\n",
       "\t<tr><th scope=col>&lt;chr&gt;</th><th scope=col>&lt;chr&gt;</th><th scope=col>&lt;chr&gt;</th><th scope=col>&lt;dbl&gt;</th></tr>\n",
       "</thead>\n",
       "<tbody>\n",
       "\t<tr><td>The Fellowship Of The Ring</td><td>Female</td><td>Elf   </td><td>1229</td></tr>\n",
       "\t<tr><td>The Fellowship Of The Ring</td><td>Female</td><td>Hobbit</td><td>  14</td></tr>\n",
       "\t<tr><td>The Fellowship Of The Ring</td><td>Female</td><td>Man   </td><td>   0</td></tr>\n",
       "\t<tr><td>The Two Towers            </td><td>Female</td><td>Elf   </td><td> 331</td></tr>\n",
       "\t<tr><td>The Two Towers            </td><td>Female</td><td>Hobbit</td><td>   0</td></tr>\n",
       "\t<tr><td>The Two Towers            </td><td>Female</td><td>Man   </td><td> 401</td></tr>\n",
       "\t<tr><td>The Return Of The King    </td><td>Female</td><td>Elf   </td><td> 183</td></tr>\n",
       "\t<tr><td>The Return Of The King    </td><td>Female</td><td>Hobbit</td><td>   2</td></tr>\n",
       "\t<tr><td>The Return Of The King    </td><td>Female</td><td>Man   </td><td> 268</td></tr>\n",
       "\t<tr><td>The Fellowship Of The Ring</td><td>Male  </td><td>Elf   </td><td> 971</td></tr>\n",
       "\t<tr><td>The Fellowship Of The Ring</td><td>Male  </td><td>Hobbit</td><td>3644</td></tr>\n",
       "\t<tr><td>The Fellowship Of The Ring</td><td>Male  </td><td>Man   </td><td>1995</td></tr>\n",
       "\t<tr><td>The Two Towers            </td><td>Male  </td><td>Elf   </td><td> 513</td></tr>\n",
       "\t<tr><td>The Two Towers            </td><td>Male  </td><td>Hobbit</td><td>2463</td></tr>\n",
       "\t<tr><td>The Two Towers            </td><td>Male  </td><td>Man   </td><td>3589</td></tr>\n",
       "\t<tr><td>The Return Of The King    </td><td>Male  </td><td>Elf   </td><td> 510</td></tr>\n",
       "\t<tr><td>The Return Of The King    </td><td>Male  </td><td>Hobbit</td><td>2673</td></tr>\n",
       "\t<tr><td>The Return Of The King    </td><td>Male  </td><td>Man   </td><td>2459</td></tr>\n",
       "</tbody>\n",
       "</table>\n"
      ],
      "text/latex": [
       "A tibble: 18 × 4\n",
       "\\begin{tabular}{llll}\n",
       " Film & Gender & Race & Words\\\\\n",
       " <chr> & <chr> & <chr> & <dbl>\\\\\n",
       "\\hline\n",
       "\t The Fellowship Of The Ring & Female & Elf    & 1229\\\\\n",
       "\t The Fellowship Of The Ring & Female & Hobbit &   14\\\\\n",
       "\t The Fellowship Of The Ring & Female & Man    &    0\\\\\n",
       "\t The Two Towers             & Female & Elf    &  331\\\\\n",
       "\t The Two Towers             & Female & Hobbit &    0\\\\\n",
       "\t The Two Towers             & Female & Man    &  401\\\\\n",
       "\t The Return Of The King     & Female & Elf    &  183\\\\\n",
       "\t The Return Of The King     & Female & Hobbit &    2\\\\\n",
       "\t The Return Of The King     & Female & Man    &  268\\\\\n",
       "\t The Fellowship Of The Ring & Male   & Elf    &  971\\\\\n",
       "\t The Fellowship Of The Ring & Male   & Hobbit & 3644\\\\\n",
       "\t The Fellowship Of The Ring & Male   & Man    & 1995\\\\\n",
       "\t The Two Towers             & Male   & Elf    &  513\\\\\n",
       "\t The Two Towers             & Male   & Hobbit & 2463\\\\\n",
       "\t The Two Towers             & Male   & Man    & 3589\\\\\n",
       "\t The Return Of The King     & Male   & Elf    &  510\\\\\n",
       "\t The Return Of The King     & Male   & Hobbit & 2673\\\\\n",
       "\t The Return Of The King     & Male   & Man    & 2459\\\\\n",
       "\\end{tabular}\n"
      ],
      "text/markdown": [
       "\n",
       "A tibble: 18 × 4\n",
       "\n",
       "| Film &lt;chr&gt; | Gender &lt;chr&gt; | Race &lt;chr&gt; | Words &lt;dbl&gt; |\n",
       "|---|---|---|---|\n",
       "| The Fellowship Of The Ring | Female | Elf    | 1229 |\n",
       "| The Fellowship Of The Ring | Female | Hobbit |   14 |\n",
       "| The Fellowship Of The Ring | Female | Man    |    0 |\n",
       "| The Two Towers             | Female | Elf    |  331 |\n",
       "| The Two Towers             | Female | Hobbit |    0 |\n",
       "| The Two Towers             | Female | Man    |  401 |\n",
       "| The Return Of The King     | Female | Elf    |  183 |\n",
       "| The Return Of The King     | Female | Hobbit |    2 |\n",
       "| The Return Of The King     | Female | Man    |  268 |\n",
       "| The Fellowship Of The Ring | Male   | Elf    |  971 |\n",
       "| The Fellowship Of The Ring | Male   | Hobbit | 3644 |\n",
       "| The Fellowship Of The Ring | Male   | Man    | 1995 |\n",
       "| The Two Towers             | Male   | Elf    |  513 |\n",
       "| The Two Towers             | Male   | Hobbit | 2463 |\n",
       "| The Two Towers             | Male   | Man    | 3589 |\n",
       "| The Return Of The King     | Male   | Elf    |  510 |\n",
       "| The Return Of The King     | Male   | Hobbit | 2673 |\n",
       "| The Return Of The King     | Male   | Man    | 2459 |\n",
       "\n"
      ],
      "text/plain": [
       "   Film                       Gender Race   Words\n",
       "1  The Fellowship Of The Ring Female Elf    1229 \n",
       "2  The Fellowship Of The Ring Female Hobbit   14 \n",
       "3  The Fellowship Of The Ring Female Man       0 \n",
       "4  The Two Towers             Female Elf     331 \n",
       "5  The Two Towers             Female Hobbit    0 \n",
       "6  The Two Towers             Female Man     401 \n",
       "7  The Return Of The King     Female Elf     183 \n",
       "8  The Return Of The King     Female Hobbit    2 \n",
       "9  The Return Of The King     Female Man     268 \n",
       "10 The Fellowship Of The Ring Male   Elf     971 \n",
       "11 The Fellowship Of The Ring Male   Hobbit 3644 \n",
       "12 The Fellowship Of The Ring Male   Man    1995 \n",
       "13 The Two Towers             Male   Elf     513 \n",
       "14 The Two Towers             Male   Hobbit 2463 \n",
       "15 The Two Towers             Male   Man    3589 \n",
       "16 The Return Of The King     Male   Elf     510 \n",
       "17 The Return Of The King     Male   Hobbit 2673 \n",
       "18 The Return Of The King     Male   Man    2459 "
      ]
     },
     "metadata": {},
     "output_type": "display_data"
    },
    {
     "name": "stdout",
     "output_type": "stream",
     "text": [
      "\u001b[90m# A tibble: 18 x 4\u001b[39m\n",
      "   Film                       Gender Race   Words\n",
      "   \u001b[3m\u001b[90m<chr>\u001b[39m\u001b[23m                      \u001b[3m\u001b[90m<chr>\u001b[39m\u001b[23m  \u001b[3m\u001b[90m<chr>\u001b[39m\u001b[23m  \u001b[3m\u001b[90m<dbl>\u001b[39m\u001b[23m\n",
      "\u001b[90m 1\u001b[39m The Fellowship Of The Ring Female Elf     \u001b[4m1\u001b[24m229\n",
      "\u001b[90m 2\u001b[39m The Fellowship Of The Ring Female Hobbit    14\n",
      "\u001b[90m 3\u001b[39m The Fellowship Of The Ring Female Man        0\n",
      "\u001b[90m 4\u001b[39m The Two Towers             Female Elf      331\n",
      "\u001b[90m 5\u001b[39m The Two Towers             Female Hobbit     0\n",
      "\u001b[90m 6\u001b[39m The Two Towers             Female Man      401\n",
      "\u001b[90m 7\u001b[39m The Return Of The King     Female Elf      183\n",
      "\u001b[90m 8\u001b[39m The Return Of The King     Female Hobbit     2\n",
      "\u001b[90m 9\u001b[39m The Return Of The King     Female Man      268\n",
      "\u001b[90m10\u001b[39m The Fellowship Of The Ring Male   Elf      971\n",
      "\u001b[90m11\u001b[39m The Fellowship Of The Ring Male   Hobbit  \u001b[4m3\u001b[24m644\n",
      "\u001b[90m12\u001b[39m The Fellowship Of The Ring Male   Man     \u001b[4m1\u001b[24m995\n",
      "\u001b[90m13\u001b[39m The Two Towers             Male   Elf      513\n",
      "\u001b[90m14\u001b[39m The Two Towers             Male   Hobbit  \u001b[4m2\u001b[24m463\n",
      "\u001b[90m15\u001b[39m The Two Towers             Male   Man     \u001b[4m3\u001b[24m589\n",
      "\u001b[90m16\u001b[39m The Return Of The King     Male   Elf      510\n",
      "\u001b[90m17\u001b[39m The Return Of The King     Male   Hobbit  \u001b[4m2\u001b[24m673\n",
      "\u001b[90m18\u001b[39m The Return Of The King     Male   Man     \u001b[4m2\u001b[24m459\n"
     ]
    }
   ],
   "source": [
    "(answer1.2 <- answer1.1 %>% \n",
    "  pivot_longer(cols = c(-Film, -Gender), \n",
    "               names_to  = \"Race\", \n",
    "               values_to = \"Words\"))\n",
    "print(answer1.2)"
   ]
  },
  {
   "cell_type": "code",
   "execution_count": 14,
   "metadata": {
    "deletable": false,
    "editable": false,
    "nbgrader": {
     "cell_type": "code",
     "checksum": "ba65f1619691dd0883207930d7529723",
     "grade": true,
     "grade_id": "cell-9ca00a4e9e835c5b",
     "locked": true,
     "points": 1,
     "schema_version": 3,
     "solution": false,
     "task": false
    }
   },
   "outputs": [
    {
     "name": "stderr",
     "output_type": "stream",
     "text": [
      "Warning message in normalizePath(path.expand(path), winslash, mustWork):\n",
      "\"path[1]=\"C:/Users/41615/OneDrive/×ÀÃæ/stat545a/worksheets\": The system cannot find the path specified\"\n",
      "Warning message in normalizePath(path.expand(path), winslash, mustWork):\n",
      "\"path[1]=\"C:/Users/41615/OneDrive/×ÀÃæ/stat545a/worksheets\": The system cannot find the path specified\"\n",
      "Warning message in normalizePath(path.expand(path), winslash, mustWork):\n",
      "\"path[1]=\"C:/Users/41615/OneDrive/×ÀÃæ/stat545a\": The system cannot find the path specified\"\n",
      "Warning message in normalizePath(path.expand(path), winslash, mustWork):\n",
      "\"path[1]=\"C:/Users/41615/OneDrive/×ÀÃæ/stat545a\": The system cannot find the path specified\"\n",
      "Warning message in normalizePath(path.expand(path), winslash, mustWork):\n",
      "\"path[1]=\"C:/Users/41615/OneDrive/×ÀÃæ\": The system cannot find the file specified\"\n",
      "Warning message in normalizePath(path.expand(path), winslash, mustWork):\n",
      "\"path[1]=\"C:/Users/41615/OneDrive/×ÀÃæ\": The system cannot find the file specified\"\n"
     ]
    },
    {
     "name": "stdout",
     "output_type": "stream",
     "text": [
      "\u001b[32mTest passed\u001b[39m \n"
     ]
    }
   ],
   "source": [
    "test_that(\"Question 1.2\", {\n",
    "    expect_true(all(c(\"Film\", \"Gender\", \"Race\", \"Words\") %in% names(answer1.2)))\n",
    "    expect_equal(nrow(answer1.2), 18L)\n",
    "})"
   ]
  },
  {
   "cell_type": "markdown",
   "metadata": {
    "deletable": false,
    "editable": false,
    "nbgrader": {
     "cell_type": "markdown",
     "checksum": "1d235deabbbe07b887cc0fffba83e4b4",
     "grade": false,
     "grade_id": "cell-8ca39a3585dfa195",
     "locked": true,
     "schema_version": 3,
     "solution": false,
     "task": false
    }
   },
   "source": [
    "## QUESTION 1.3\n",
    "\n",
    "Using the `gapminder` dataset: what's the relationship between Canada's GDP per capita and the United Kingdom's? First, produce a tidy tibble from the `gapminder` tibble to address this question. Store your tibble in a variable named `question1.3`. Do not rename any columns.\n",
    "\n",
    "_Food for thought_: After tidying the data for this problem, we should be able to make a scatterplot of Canada's GDP per capita against the UK's. But, doing so for the original `gapminder` dataset would be difficult. \n",
    "\n",
    "```\n",
    "answer1.3 <- gapminder %>% \n",
    "  filter(FILL_TIHS_IN) %>% \n",
    "  pivot_FILL_THIS_IN(FILL_THIS_IN)\n",
    "```"
   ]
  },
  {
   "cell_type": "code",
   "execution_count": 27,
   "metadata": {
    "deletable": false,
    "nbgrader": {
     "cell_type": "code",
     "checksum": "30c01b29f1bfb6dc14d77ce71ca81f0f",
     "grade": false,
     "grade_id": "cell-b6f4518297129ee5",
     "locked": false,
     "schema_version": 3,
     "solution": true,
     "task": false
    }
   },
   "outputs": [
    {
     "name": "stdout",
     "output_type": "stream",
     "text": [
      "\u001b[90m# A tibble: 12 x 3\u001b[39m\n",
      "    year Canada `United Kingdom`\n",
      "   \u001b[3m\u001b[90m<int>\u001b[39m\u001b[23m  \u001b[3m\u001b[90m<dbl>\u001b[39m\u001b[23m            \u001b[3m\u001b[90m<dbl>\u001b[39m\u001b[23m\n",
      "\u001b[90m 1\u001b[39m  \u001b[4m1\u001b[24m952 \u001b[4m1\u001b[24m\u001b[4m1\u001b[24m367.            \u001b[4m9\u001b[24m980.\n",
      "\u001b[90m 2\u001b[39m  \u001b[4m1\u001b[24m957 \u001b[4m1\u001b[24m\u001b[4m2\u001b[24m490.           \u001b[4m1\u001b[24m\u001b[4m1\u001b[24m283.\n",
      "\u001b[90m 3\u001b[39m  \u001b[4m1\u001b[24m962 \u001b[4m1\u001b[24m\u001b[4m3\u001b[24m462.           \u001b[4m1\u001b[24m\u001b[4m2\u001b[24m477.\n",
      "\u001b[90m 4\u001b[39m  \u001b[4m1\u001b[24m967 \u001b[4m1\u001b[24m\u001b[4m6\u001b[24m077.           \u001b[4m1\u001b[24m\u001b[4m4\u001b[24m143.\n",
      "\u001b[90m 5\u001b[39m  \u001b[4m1\u001b[24m972 \u001b[4m1\u001b[24m\u001b[4m8\u001b[24m971.           \u001b[4m1\u001b[24m\u001b[4m5\u001b[24m895.\n",
      "\u001b[90m 6\u001b[39m  \u001b[4m1\u001b[24m977 \u001b[4m2\u001b[24m\u001b[4m2\u001b[24m091.           \u001b[4m1\u001b[24m\u001b[4m7\u001b[24m429.\n",
      "\u001b[90m 7\u001b[39m  \u001b[4m1\u001b[24m982 \u001b[4m2\u001b[24m\u001b[4m2\u001b[24m899.           \u001b[4m1\u001b[24m\u001b[4m8\u001b[24m232.\n",
      "\u001b[90m 8\u001b[39m  \u001b[4m1\u001b[24m987 \u001b[4m2\u001b[24m\u001b[4m6\u001b[24m627.           \u001b[4m2\u001b[24m\u001b[4m1\u001b[24m665.\n",
      "\u001b[90m 9\u001b[39m  \u001b[4m1\u001b[24m992 \u001b[4m2\u001b[24m\u001b[4m6\u001b[24m343.           \u001b[4m2\u001b[24m\u001b[4m2\u001b[24m705.\n",
      "\u001b[90m10\u001b[39m  \u001b[4m1\u001b[24m997 \u001b[4m2\u001b[24m\u001b[4m8\u001b[24m955.           \u001b[4m2\u001b[24m\u001b[4m6\u001b[24m075.\n",
      "\u001b[90m11\u001b[39m  \u001b[4m2\u001b[24m002 \u001b[4m3\u001b[24m\u001b[4m3\u001b[24m329.           \u001b[4m2\u001b[24m\u001b[4m9\u001b[24m479.\n",
      "\u001b[90m12\u001b[39m  \u001b[4m2\u001b[24m007 \u001b[4m3\u001b[24m\u001b[4m6\u001b[24m319.           \u001b[4m3\u001b[24m\u001b[4m3\u001b[24m203.\n"
     ]
    }
   ],
   "source": [
    "answer1.3 <- gapminder %>% \n",
    "  filter(country %in% c(\"United Kingdom\", \"Canada\")) %>% \n",
    "  pivot_wider(id_cols = year, names_from = country, values_from = gdpPercap)\n",
    "print(answer1.3)"
   ]
  },
  {
   "cell_type": "code",
   "execution_count": 105,
   "metadata": {
    "deletable": false,
    "editable": false,
    "nbgrader": {
     "cell_type": "code",
     "checksum": "9bd351322766a0399c4f7f6787ffbc43",
     "grade": true,
     "grade_id": "cell-02bda51b10d57f91",
     "locked": true,
     "points": 1,
     "schema_version": 3,
     "solution": false,
     "task": false
    }
   },
   "outputs": [
    {
     "name": "stderr",
     "output_type": "stream",
     "text": [
      "Warning message in normalizePath(path.expand(path), winslash, mustWork):\n",
      "\"path[1]=\"C:/Users/41615/OneDrive/×ÀÃæ/stat545a/worksheets\": The system cannot find the path specified\"\n",
      "Warning message in normalizePath(path.expand(path), winslash, mustWork):\n",
      "\"path[1]=\"C:/Users/41615/OneDrive/×ÀÃæ/stat545a/worksheets\": The system cannot find the path specified\"\n",
      "Warning message in normalizePath(path.expand(path), winslash, mustWork):\n",
      "\"path[1]=\"C:/Users/41615/OneDrive/×ÀÃæ/stat545a\": The system cannot find the path specified\"\n",
      "Warning message in normalizePath(path.expand(path), winslash, mustWork):\n",
      "\"path[1]=\"C:/Users/41615/OneDrive/×ÀÃæ/stat545a\": The system cannot find the path specified\"\n",
      "Warning message in normalizePath(path.expand(path), winslash, mustWork):\n",
      "\"path[1]=\"C:/Users/41615/OneDrive/×ÀÃæ\": The system cannot find the file specified\"\n",
      "Warning message in normalizePath(path.expand(path), winslash, mustWork):\n",
      "\"path[1]=\"C:/Users/41615/OneDrive/×ÀÃæ\": The system cannot find the file specified\"\n"
     ]
    },
    {
     "name": "stdout",
     "output_type": "stream",
     "text": [
      "\u001b[32mTest passed\u001b[39m \n"
     ]
    }
   ],
   "source": [
    "test_that(\"Question 1.3\", {\n",
    "    expect_true(\"Canada\" %in% names(answer1.3))\n",
    "    expect_true(\"United Kingdom\" %in% names(answer1.3))\n",
    "    expect_equal(nrow(answer1.3), 12L)\n",
    "})"
   ]
  },
  {
   "cell_type": "markdown",
   "metadata": {
    "deletable": false,
    "editable": false,
    "nbgrader": {
     "cell_type": "markdown",
     "checksum": "00150ba251618ea412837c501720bc09",
     "grade": false,
     "grade_id": "cell-74b6ea9dd9cd3970",
     "locked": true,
     "schema_version": 3,
     "solution": false,
     "task": false
    }
   },
   "source": [
    "# Part 2: Tidy Data with Multivariate Pivoting\n",
    "\n",
    "Congratulations, you’re getting married! In addition to the wedding, you’ve decided to hold two other events: a day-of brunch and a day-before round of golf. You’ve made a guestlist of attendance so far, along with food preference for the food events (wedding and brunch).\n",
    "\n",
    "Run the code cell below to see the first few rows of the `guest` data frame."
   ]
  },
  {
   "cell_type": "code",
   "execution_count": 29,
   "metadata": {
    "deletable": false,
    "editable": false,
    "nbgrader": {
     "cell_type": "code",
     "checksum": "6c0ceeb14101994f6cb6b2f6917c8e33",
     "grade": false,
     "grade_id": "cell-f7d65824be40afab",
     "locked": true,
     "schema_version": 3,
     "solution": false,
     "task": false
    }
   },
   "outputs": [
    {
     "data": {
      "text/html": [
       "<table class=\"dataframe\">\n",
       "<caption>A tibble: 6 × 7</caption>\n",
       "<thead>\n",
       "\t<tr><th scope=col>party</th><th scope=col>name</th><th scope=col>meal_wedding</th><th scope=col>meal_brunch</th><th scope=col>attendance_wedding</th><th scope=col>attendance_brunch</th><th scope=col>attendance_golf</th></tr>\n",
       "\t<tr><th scope=col>&lt;dbl&gt;</th><th scope=col>&lt;chr&gt;</th><th scope=col>&lt;chr&gt;</th><th scope=col>&lt;chr&gt;</th><th scope=col>&lt;chr&gt;</th><th scope=col>&lt;chr&gt;</th><th scope=col>&lt;chr&gt;</th></tr>\n",
       "</thead>\n",
       "<tbody>\n",
       "\t<tr><td>1</td><td>Sommer Medrano </td><td>PENDING   </td><td>PENDING</td><td>PENDING  </td><td>PENDING  </td><td>PENDING  </td></tr>\n",
       "\t<tr><td>1</td><td>Phillip Medrano</td><td>vegetarian</td><td>Menu C </td><td>CONFIRMED</td><td>CONFIRMED</td><td>CONFIRMED</td></tr>\n",
       "\t<tr><td>1</td><td>Blanka Medrano </td><td>chicken   </td><td>Menu A </td><td>CONFIRMED</td><td>CONFIRMED</td><td>CONFIRMED</td></tr>\n",
       "\t<tr><td>1</td><td>Emaan Medrano  </td><td>PENDING   </td><td>PENDING</td><td>PENDING  </td><td>PENDING  </td><td>PENDING  </td></tr>\n",
       "\t<tr><td>2</td><td>Blair Park     </td><td>chicken   </td><td>Menu C </td><td>CONFIRMED</td><td>CONFIRMED</td><td>CONFIRMED</td></tr>\n",
       "\t<tr><td>2</td><td>Nigel Webb     </td><td>NA        </td><td>NA     </td><td>CANCELLED</td><td>CANCELLED</td><td>CANCELLED</td></tr>\n",
       "</tbody>\n",
       "</table>\n"
      ],
      "text/latex": [
       "A tibble: 6 × 7\n",
       "\\begin{tabular}{lllllll}\n",
       " party & name & meal\\_wedding & meal\\_brunch & attendance\\_wedding & attendance\\_brunch & attendance\\_golf\\\\\n",
       " <dbl> & <chr> & <chr> & <chr> & <chr> & <chr> & <chr>\\\\\n",
       "\\hline\n",
       "\t 1 & Sommer Medrano  & PENDING    & PENDING & PENDING   & PENDING   & PENDING  \\\\\n",
       "\t 1 & Phillip Medrano & vegetarian & Menu C  & CONFIRMED & CONFIRMED & CONFIRMED\\\\\n",
       "\t 1 & Blanka Medrano  & chicken    & Menu A  & CONFIRMED & CONFIRMED & CONFIRMED\\\\\n",
       "\t 1 & Emaan Medrano   & PENDING    & PENDING & PENDING   & PENDING   & PENDING  \\\\\n",
       "\t 2 & Blair Park      & chicken    & Menu C  & CONFIRMED & CONFIRMED & CONFIRMED\\\\\n",
       "\t 2 & Nigel Webb      & NA         & NA      & CANCELLED & CANCELLED & CANCELLED\\\\\n",
       "\\end{tabular}\n"
      ],
      "text/markdown": [
       "\n",
       "A tibble: 6 × 7\n",
       "\n",
       "| party &lt;dbl&gt; | name &lt;chr&gt; | meal_wedding &lt;chr&gt; | meal_brunch &lt;chr&gt; | attendance_wedding &lt;chr&gt; | attendance_brunch &lt;chr&gt; | attendance_golf &lt;chr&gt; |\n",
       "|---|---|---|---|---|---|---|\n",
       "| 1 | Sommer Medrano  | PENDING    | PENDING | PENDING   | PENDING   | PENDING   |\n",
       "| 1 | Phillip Medrano | vegetarian | Menu C  | CONFIRMED | CONFIRMED | CONFIRMED |\n",
       "| 1 | Blanka Medrano  | chicken    | Menu A  | CONFIRMED | CONFIRMED | CONFIRMED |\n",
       "| 1 | Emaan Medrano   | PENDING    | PENDING | PENDING   | PENDING   | PENDING   |\n",
       "| 2 | Blair Park      | chicken    | Menu C  | CONFIRMED | CONFIRMED | CONFIRMED |\n",
       "| 2 | Nigel Webb      | NA         | NA      | CANCELLED | CANCELLED | CANCELLED |\n",
       "\n"
      ],
      "text/plain": [
       "  party name            meal_wedding meal_brunch attendance_wedding\n",
       "1 1     Sommer Medrano  PENDING      PENDING     PENDING           \n",
       "2 1     Phillip Medrano vegetarian   Menu C      CONFIRMED         \n",
       "3 1     Blanka Medrano  chicken      Menu A      CONFIRMED         \n",
       "4 1     Emaan Medrano   PENDING      PENDING     PENDING           \n",
       "5 2     Blair Park      chicken      Menu C      CONFIRMED         \n",
       "6 2     Nigel Webb      NA           NA          CANCELLED         \n",
       "  attendance_brunch attendance_golf\n",
       "1 PENDING           PENDING        \n",
       "2 CONFIRMED         CONFIRMED      \n",
       "3 CONFIRMED         CONFIRMED      \n",
       "4 PENDING           PENDING        \n",
       "5 CONFIRMED         CONFIRMED      \n",
       "6 CANCELLED         CANCELLED      "
      ]
     },
     "metadata": {},
     "output_type": "display_data"
    }
   ],
   "source": [
    "head(guest)"
   ]
  },
  {
   "cell_type": "markdown",
   "metadata": {
    "deletable": false,
    "editable": false,
    "nbgrader": {
     "cell_type": "markdown",
     "checksum": "903f6bae5debe519f1d6f34b3907fc8b",
     "grade": false,
     "grade_id": "cell-a5e314661b36e3ae",
     "locked": true,
     "schema_version": 3,
     "solution": false,
     "task": false
    }
   },
   "source": [
    "## Question 2.1\n",
    "Put `meal` and `attendance` as their own columns, with the events living in a new column. Store your answer in `answer2.1`.\n",
    "\n",
    "```\n",
    "(answer2.1 <- guest %>% \n",
    "  FILL_THIS_IN(cols      = c(-FILL_THIS_IN, -FILL_THIS_IN), \n",
    "               names_to  = c(FILL_THIS_IN, FILL_THIS_IN),\n",
    "               names_sep = FILL_THIS_IN))\n",
    "```               \n",
    "\n",
    "**Hint**: Read the possible values for `names_to` in the corresponding documentation of the function you choose!\n",
    "\n",
    "Your `answer2.1` should look something like this (full tibble not always shown):\n",
    "\n",
    "![answer2.1](https://github.com/UBC-STAT/stat545.stat.ubc.ca/raw/master/content/data/worksheet_04a/answer2.1.png)"
   ]
  },
  {
   "cell_type": "code",
   "execution_count": 103,
   "metadata": {
    "deletable": false,
    "nbgrader": {
     "cell_type": "code",
     "checksum": "576225da011ab4f9b458ba61188e43b9",
     "grade": false,
     "grade_id": "cell-aa203ff65e28a500",
     "locked": false,
     "schema_version": 3,
     "solution": true,
     "task": false
    }
   },
   "outputs": [
    {
     "data": {
      "text/html": [
       "<table class=\"dataframe\">\n",
       "<caption>A tibble: 90 × 5</caption>\n",
       "<thead>\n",
       "\t<tr><th scope=col>party</th><th scope=col>name</th><th scope=col>event</th><th scope=col>meal</th><th scope=col>attendance</th></tr>\n",
       "\t<tr><th scope=col>&lt;dbl&gt;</th><th scope=col>&lt;chr&gt;</th><th scope=col>&lt;chr&gt;</th><th scope=col>&lt;chr&gt;</th><th scope=col>&lt;chr&gt;</th></tr>\n",
       "</thead>\n",
       "<tbody>\n",
       "\t<tr><td>1</td><td>Sommer Medrano  </td><td>wedding</td><td>PENDING   </td><td>PENDING  </td></tr>\n",
       "\t<tr><td>1</td><td>Sommer Medrano  </td><td>brunch </td><td>PENDING   </td><td>PENDING  </td></tr>\n",
       "\t<tr><td>1</td><td>Sommer Medrano  </td><td>golf   </td><td>NA        </td><td>PENDING  </td></tr>\n",
       "\t<tr><td>1</td><td>Phillip Medrano </td><td>wedding</td><td>vegetarian</td><td>CONFIRMED</td></tr>\n",
       "\t<tr><td>1</td><td>Phillip Medrano </td><td>brunch </td><td>Menu C    </td><td>CONFIRMED</td></tr>\n",
       "\t<tr><td>1</td><td>Phillip Medrano </td><td>golf   </td><td>NA        </td><td>CONFIRMED</td></tr>\n",
       "\t<tr><td>1</td><td>Blanka Medrano  </td><td>wedding</td><td>chicken   </td><td>CONFIRMED</td></tr>\n",
       "\t<tr><td>1</td><td>Blanka Medrano  </td><td>brunch </td><td>Menu A    </td><td>CONFIRMED</td></tr>\n",
       "\t<tr><td>1</td><td>Blanka Medrano  </td><td>golf   </td><td>NA        </td><td>CONFIRMED</td></tr>\n",
       "\t<tr><td>1</td><td>Emaan Medrano   </td><td>wedding</td><td>PENDING   </td><td>PENDING  </td></tr>\n",
       "\t<tr><td>1</td><td>Emaan Medrano   </td><td>brunch </td><td>PENDING   </td><td>PENDING  </td></tr>\n",
       "\t<tr><td>1</td><td>Emaan Medrano   </td><td>golf   </td><td>NA        </td><td>PENDING  </td></tr>\n",
       "\t<tr><td>2</td><td>Blair Park      </td><td>wedding</td><td>chicken   </td><td>CONFIRMED</td></tr>\n",
       "\t<tr><td>2</td><td>Blair Park      </td><td>brunch </td><td>Menu C    </td><td>CONFIRMED</td></tr>\n",
       "\t<tr><td>2</td><td>Blair Park      </td><td>golf   </td><td>NA        </td><td>CONFIRMED</td></tr>\n",
       "\t<tr><td>2</td><td>Nigel Webb      </td><td>wedding</td><td>NA        </td><td>CANCELLED</td></tr>\n",
       "\t<tr><td>2</td><td>Nigel Webb      </td><td>brunch </td><td>NA        </td><td>CANCELLED</td></tr>\n",
       "\t<tr><td>2</td><td>Nigel Webb      </td><td>golf   </td><td>NA        </td><td>CANCELLED</td></tr>\n",
       "\t<tr><td>3</td><td>Sinead English  </td><td>wedding</td><td>PENDING   </td><td>PENDING  </td></tr>\n",
       "\t<tr><td>3</td><td>Sinead English  </td><td>brunch </td><td>PENDING   </td><td>PENDING  </td></tr>\n",
       "\t<tr><td>3</td><td>Sinead English  </td><td>golf   </td><td>NA        </td><td>PENDING  </td></tr>\n",
       "\t<tr><td>4</td><td>Ayra Marks      </td><td>wedding</td><td>vegetarian</td><td>PENDING  </td></tr>\n",
       "\t<tr><td>4</td><td>Ayra Marks      </td><td>brunch </td><td>Menu B    </td><td>PENDING  </td></tr>\n",
       "\t<tr><td>4</td><td>Ayra Marks      </td><td>golf   </td><td>NA        </td><td>PENDING  </td></tr>\n",
       "\t<tr><td>5</td><td>Atlanta Connolly</td><td>wedding</td><td>PENDING   </td><td>PENDING  </td></tr>\n",
       "\t<tr><td>5</td><td>Atlanta Connolly</td><td>brunch </td><td>PENDING   </td><td>PENDING  </td></tr>\n",
       "\t<tr><td>5</td><td>Atlanta Connolly</td><td>golf   </td><td>NA        </td><td>PENDING  </td></tr>\n",
       "\t<tr><td>5</td><td>Denzel Connolly </td><td>wedding</td><td>fish      </td><td>CONFIRMED</td></tr>\n",
       "\t<tr><td>5</td><td>Denzel Connolly </td><td>brunch </td><td>Menu B    </td><td>CONFIRMED</td></tr>\n",
       "\t<tr><td>5</td><td>Denzel Connolly </td><td>golf   </td><td>NA        </td><td>CONFIRMED</td></tr>\n",
       "\t<tr><td>...</td><td>...</td><td>...</td><td>...</td><td>...</td></tr>\n",
       "\t<tr><td>12</td><td>Martin Caldwell </td><td>wedding</td><td>PENDING   </td><td>PENDING  </td></tr>\n",
       "\t<tr><td>12</td><td>Martin Caldwell </td><td>brunch </td><td>PENDING   </td><td>PENDING  </td></tr>\n",
       "\t<tr><td>12</td><td>Martin Caldwell </td><td>golf   </td><td>NA        </td><td>PENDING  </td></tr>\n",
       "\t<tr><td>12</td><td>Violet Caldwell </td><td>wedding</td><td>PENDING   </td><td>PENDING  </td></tr>\n",
       "\t<tr><td>12</td><td>Violet Caldwell </td><td>brunch </td><td>PENDING   </td><td>PENDING  </td></tr>\n",
       "\t<tr><td>12</td><td>Violet Caldwell </td><td>golf   </td><td>NA        </td><td>PENDING  </td></tr>\n",
       "\t<tr><td>12</td><td>Nazifa Caldwell </td><td>wedding</td><td>chicken   </td><td>PENDING  </td></tr>\n",
       "\t<tr><td>12</td><td>Nazifa Caldwell </td><td>brunch </td><td>PENDING   </td><td>PENDING  </td></tr>\n",
       "\t<tr><td>12</td><td>Nazifa Caldwell </td><td>golf   </td><td>NA        </td><td>PENDING  </td></tr>\n",
       "\t<tr><td>12</td><td>Eric Caldwell   </td><td>wedding</td><td>chicken   </td><td>CONFIRMED</td></tr>\n",
       "\t<tr><td>12</td><td>Eric Caldwell   </td><td>brunch </td><td>Menu B    </td><td>CONFIRMED</td></tr>\n",
       "\t<tr><td>12</td><td>Eric Caldwell   </td><td>golf   </td><td>NA        </td><td>CONFIRMED</td></tr>\n",
       "\t<tr><td>13</td><td>Rosanna Bird    </td><td>wedding</td><td>vegetarian</td><td>CONFIRMED</td></tr>\n",
       "\t<tr><td>13</td><td>Rosanna Bird    </td><td>brunch </td><td>Menu C    </td><td>CONFIRMED</td></tr>\n",
       "\t<tr><td>13</td><td>Rosanna Bird    </td><td>golf   </td><td>NA        </td><td>CONFIRMED</td></tr>\n",
       "\t<tr><td>13</td><td>Kurtis Frost    </td><td>wedding</td><td>PENDING   </td><td>PENDING  </td></tr>\n",
       "\t<tr><td>13</td><td>Kurtis Frost    </td><td>brunch </td><td>PENDING   </td><td>PENDING  </td></tr>\n",
       "\t<tr><td>13</td><td>Kurtis Frost    </td><td>golf   </td><td>NA        </td><td>PENDING  </td></tr>\n",
       "\t<tr><td>14</td><td>Huma Stokes     </td><td>wedding</td><td>NA        </td><td>CANCELLED</td></tr>\n",
       "\t<tr><td>14</td><td>Huma Stokes     </td><td>brunch </td><td>NA        </td><td>CANCELLED</td></tr>\n",
       "\t<tr><td>14</td><td>Huma Stokes     </td><td>golf   </td><td>NA        </td><td>CANCELLED</td></tr>\n",
       "\t<tr><td>14</td><td>Samuel Rutledge </td><td>wedding</td><td>chicken   </td><td>CONFIRMED</td></tr>\n",
       "\t<tr><td>14</td><td>Samuel Rutledge </td><td>brunch </td><td>Menu C    </td><td>CONFIRMED</td></tr>\n",
       "\t<tr><td>14</td><td>Samuel Rutledge </td><td>golf   </td><td>NA        </td><td>CONFIRMED</td></tr>\n",
       "\t<tr><td>15</td><td>Eddison Collier </td><td>wedding</td><td>PENDING   </td><td>PENDING  </td></tr>\n",
       "\t<tr><td>15</td><td>Eddison Collier </td><td>brunch </td><td>PENDING   </td><td>PENDING  </td></tr>\n",
       "\t<tr><td>15</td><td>Eddison Collier </td><td>golf   </td><td>NA        </td><td>PENDING  </td></tr>\n",
       "\t<tr><td>15</td><td>Stewart Nicholls</td><td>wedding</td><td>chicken   </td><td>CONFIRMED</td></tr>\n",
       "\t<tr><td>15</td><td>Stewart Nicholls</td><td>brunch </td><td>Menu B    </td><td>CONFIRMED</td></tr>\n",
       "\t<tr><td>15</td><td>Stewart Nicholls</td><td>golf   </td><td>NA        </td><td>CONFIRMED</td></tr>\n",
       "</tbody>\n",
       "</table>\n"
      ],
      "text/latex": [
       "A tibble: 90 × 5\n",
       "\\begin{tabular}{lllll}\n",
       " party & name & event & meal & attendance\\\\\n",
       " <dbl> & <chr> & <chr> & <chr> & <chr>\\\\\n",
       "\\hline\n",
       "\t 1 & Sommer Medrano   & wedding & PENDING    & PENDING  \\\\\n",
       "\t 1 & Sommer Medrano   & brunch  & PENDING    & PENDING  \\\\\n",
       "\t 1 & Sommer Medrano   & golf    & NA         & PENDING  \\\\\n",
       "\t 1 & Phillip Medrano  & wedding & vegetarian & CONFIRMED\\\\\n",
       "\t 1 & Phillip Medrano  & brunch  & Menu C     & CONFIRMED\\\\\n",
       "\t 1 & Phillip Medrano  & golf    & NA         & CONFIRMED\\\\\n",
       "\t 1 & Blanka Medrano   & wedding & chicken    & CONFIRMED\\\\\n",
       "\t 1 & Blanka Medrano   & brunch  & Menu A     & CONFIRMED\\\\\n",
       "\t 1 & Blanka Medrano   & golf    & NA         & CONFIRMED\\\\\n",
       "\t 1 & Emaan Medrano    & wedding & PENDING    & PENDING  \\\\\n",
       "\t 1 & Emaan Medrano    & brunch  & PENDING    & PENDING  \\\\\n",
       "\t 1 & Emaan Medrano    & golf    & NA         & PENDING  \\\\\n",
       "\t 2 & Blair Park       & wedding & chicken    & CONFIRMED\\\\\n",
       "\t 2 & Blair Park       & brunch  & Menu C     & CONFIRMED\\\\\n",
       "\t 2 & Blair Park       & golf    & NA         & CONFIRMED\\\\\n",
       "\t 2 & Nigel Webb       & wedding & NA         & CANCELLED\\\\\n",
       "\t 2 & Nigel Webb       & brunch  & NA         & CANCELLED\\\\\n",
       "\t 2 & Nigel Webb       & golf    & NA         & CANCELLED\\\\\n",
       "\t 3 & Sinead English   & wedding & PENDING    & PENDING  \\\\\n",
       "\t 3 & Sinead English   & brunch  & PENDING    & PENDING  \\\\\n",
       "\t 3 & Sinead English   & golf    & NA         & PENDING  \\\\\n",
       "\t 4 & Ayra Marks       & wedding & vegetarian & PENDING  \\\\\n",
       "\t 4 & Ayra Marks       & brunch  & Menu B     & PENDING  \\\\\n",
       "\t 4 & Ayra Marks       & golf    & NA         & PENDING  \\\\\n",
       "\t 5 & Atlanta Connolly & wedding & PENDING    & PENDING  \\\\\n",
       "\t 5 & Atlanta Connolly & brunch  & PENDING    & PENDING  \\\\\n",
       "\t 5 & Atlanta Connolly & golf    & NA         & PENDING  \\\\\n",
       "\t 5 & Denzel Connolly  & wedding & fish       & CONFIRMED\\\\\n",
       "\t 5 & Denzel Connolly  & brunch  & Menu B     & CONFIRMED\\\\\n",
       "\t 5 & Denzel Connolly  & golf    & NA         & CONFIRMED\\\\\n",
       "\t ... & ... & ... & ... & ...\\\\\n",
       "\t 12 & Martin Caldwell  & wedding & PENDING    & PENDING  \\\\\n",
       "\t 12 & Martin Caldwell  & brunch  & PENDING    & PENDING  \\\\\n",
       "\t 12 & Martin Caldwell  & golf    & NA         & PENDING  \\\\\n",
       "\t 12 & Violet Caldwell  & wedding & PENDING    & PENDING  \\\\\n",
       "\t 12 & Violet Caldwell  & brunch  & PENDING    & PENDING  \\\\\n",
       "\t 12 & Violet Caldwell  & golf    & NA         & PENDING  \\\\\n",
       "\t 12 & Nazifa Caldwell  & wedding & chicken    & PENDING  \\\\\n",
       "\t 12 & Nazifa Caldwell  & brunch  & PENDING    & PENDING  \\\\\n",
       "\t 12 & Nazifa Caldwell  & golf    & NA         & PENDING  \\\\\n",
       "\t 12 & Eric Caldwell    & wedding & chicken    & CONFIRMED\\\\\n",
       "\t 12 & Eric Caldwell    & brunch  & Menu B     & CONFIRMED\\\\\n",
       "\t 12 & Eric Caldwell    & golf    & NA         & CONFIRMED\\\\\n",
       "\t 13 & Rosanna Bird     & wedding & vegetarian & CONFIRMED\\\\\n",
       "\t 13 & Rosanna Bird     & brunch  & Menu C     & CONFIRMED\\\\\n",
       "\t 13 & Rosanna Bird     & golf    & NA         & CONFIRMED\\\\\n",
       "\t 13 & Kurtis Frost     & wedding & PENDING    & PENDING  \\\\\n",
       "\t 13 & Kurtis Frost     & brunch  & PENDING    & PENDING  \\\\\n",
       "\t 13 & Kurtis Frost     & golf    & NA         & PENDING  \\\\\n",
       "\t 14 & Huma Stokes      & wedding & NA         & CANCELLED\\\\\n",
       "\t 14 & Huma Stokes      & brunch  & NA         & CANCELLED\\\\\n",
       "\t 14 & Huma Stokes      & golf    & NA         & CANCELLED\\\\\n",
       "\t 14 & Samuel Rutledge  & wedding & chicken    & CONFIRMED\\\\\n",
       "\t 14 & Samuel Rutledge  & brunch  & Menu C     & CONFIRMED\\\\\n",
       "\t 14 & Samuel Rutledge  & golf    & NA         & CONFIRMED\\\\\n",
       "\t 15 & Eddison Collier  & wedding & PENDING    & PENDING  \\\\\n",
       "\t 15 & Eddison Collier  & brunch  & PENDING    & PENDING  \\\\\n",
       "\t 15 & Eddison Collier  & golf    & NA         & PENDING  \\\\\n",
       "\t 15 & Stewart Nicholls & wedding & chicken    & CONFIRMED\\\\\n",
       "\t 15 & Stewart Nicholls & brunch  & Menu B     & CONFIRMED\\\\\n",
       "\t 15 & Stewart Nicholls & golf    & NA         & CONFIRMED\\\\\n",
       "\\end{tabular}\n"
      ],
      "text/markdown": [
       "\n",
       "A tibble: 90 × 5\n",
       "\n",
       "| party &lt;dbl&gt; | name &lt;chr&gt; | event &lt;chr&gt; | meal &lt;chr&gt; | attendance &lt;chr&gt; |\n",
       "|---|---|---|---|---|\n",
       "| 1 | Sommer Medrano   | wedding | PENDING    | PENDING   |\n",
       "| 1 | Sommer Medrano   | brunch  | PENDING    | PENDING   |\n",
       "| 1 | Sommer Medrano   | golf    | NA         | PENDING   |\n",
       "| 1 | Phillip Medrano  | wedding | vegetarian | CONFIRMED |\n",
       "| 1 | Phillip Medrano  | brunch  | Menu C     | CONFIRMED |\n",
       "| 1 | Phillip Medrano  | golf    | NA         | CONFIRMED |\n",
       "| 1 | Blanka Medrano   | wedding | chicken    | CONFIRMED |\n",
       "| 1 | Blanka Medrano   | brunch  | Menu A     | CONFIRMED |\n",
       "| 1 | Blanka Medrano   | golf    | NA         | CONFIRMED |\n",
       "| 1 | Emaan Medrano    | wedding | PENDING    | PENDING   |\n",
       "| 1 | Emaan Medrano    | brunch  | PENDING    | PENDING   |\n",
       "| 1 | Emaan Medrano    | golf    | NA         | PENDING   |\n",
       "| 2 | Blair Park       | wedding | chicken    | CONFIRMED |\n",
       "| 2 | Blair Park       | brunch  | Menu C     | CONFIRMED |\n",
       "| 2 | Blair Park       | golf    | NA         | CONFIRMED |\n",
       "| 2 | Nigel Webb       | wedding | NA         | CANCELLED |\n",
       "| 2 | Nigel Webb       | brunch  | NA         | CANCELLED |\n",
       "| 2 | Nigel Webb       | golf    | NA         | CANCELLED |\n",
       "| 3 | Sinead English   | wedding | PENDING    | PENDING   |\n",
       "| 3 | Sinead English   | brunch  | PENDING    | PENDING   |\n",
       "| 3 | Sinead English   | golf    | NA         | PENDING   |\n",
       "| 4 | Ayra Marks       | wedding | vegetarian | PENDING   |\n",
       "| 4 | Ayra Marks       | brunch  | Menu B     | PENDING   |\n",
       "| 4 | Ayra Marks       | golf    | NA         | PENDING   |\n",
       "| 5 | Atlanta Connolly | wedding | PENDING    | PENDING   |\n",
       "| 5 | Atlanta Connolly | brunch  | PENDING    | PENDING   |\n",
       "| 5 | Atlanta Connolly | golf    | NA         | PENDING   |\n",
       "| 5 | Denzel Connolly  | wedding | fish       | CONFIRMED |\n",
       "| 5 | Denzel Connolly  | brunch  | Menu B     | CONFIRMED |\n",
       "| 5 | Denzel Connolly  | golf    | NA         | CONFIRMED |\n",
       "| ... | ... | ... | ... | ... |\n",
       "| 12 | Martin Caldwell  | wedding | PENDING    | PENDING   |\n",
       "| 12 | Martin Caldwell  | brunch  | PENDING    | PENDING   |\n",
       "| 12 | Martin Caldwell  | golf    | NA         | PENDING   |\n",
       "| 12 | Violet Caldwell  | wedding | PENDING    | PENDING   |\n",
       "| 12 | Violet Caldwell  | brunch  | PENDING    | PENDING   |\n",
       "| 12 | Violet Caldwell  | golf    | NA         | PENDING   |\n",
       "| 12 | Nazifa Caldwell  | wedding | chicken    | PENDING   |\n",
       "| 12 | Nazifa Caldwell  | brunch  | PENDING    | PENDING   |\n",
       "| 12 | Nazifa Caldwell  | golf    | NA         | PENDING   |\n",
       "| 12 | Eric Caldwell    | wedding | chicken    | CONFIRMED |\n",
       "| 12 | Eric Caldwell    | brunch  | Menu B     | CONFIRMED |\n",
       "| 12 | Eric Caldwell    | golf    | NA         | CONFIRMED |\n",
       "| 13 | Rosanna Bird     | wedding | vegetarian | CONFIRMED |\n",
       "| 13 | Rosanna Bird     | brunch  | Menu C     | CONFIRMED |\n",
       "| 13 | Rosanna Bird     | golf    | NA         | CONFIRMED |\n",
       "| 13 | Kurtis Frost     | wedding | PENDING    | PENDING   |\n",
       "| 13 | Kurtis Frost     | brunch  | PENDING    | PENDING   |\n",
       "| 13 | Kurtis Frost     | golf    | NA         | PENDING   |\n",
       "| 14 | Huma Stokes      | wedding | NA         | CANCELLED |\n",
       "| 14 | Huma Stokes      | brunch  | NA         | CANCELLED |\n",
       "| 14 | Huma Stokes      | golf    | NA         | CANCELLED |\n",
       "| 14 | Samuel Rutledge  | wedding | chicken    | CONFIRMED |\n",
       "| 14 | Samuel Rutledge  | brunch  | Menu C     | CONFIRMED |\n",
       "| 14 | Samuel Rutledge  | golf    | NA         | CONFIRMED |\n",
       "| 15 | Eddison Collier  | wedding | PENDING    | PENDING   |\n",
       "| 15 | Eddison Collier  | brunch  | PENDING    | PENDING   |\n",
       "| 15 | Eddison Collier  | golf    | NA         | PENDING   |\n",
       "| 15 | Stewart Nicholls | wedding | chicken    | CONFIRMED |\n",
       "| 15 | Stewart Nicholls | brunch  | Menu B     | CONFIRMED |\n",
       "| 15 | Stewart Nicholls | golf    | NA         | CONFIRMED |\n",
       "\n"
      ],
      "text/plain": [
       "    party name             event   meal       attendance\n",
       "1   1     Sommer Medrano   wedding PENDING    PENDING   \n",
       "2   1     Sommer Medrano   brunch  PENDING    PENDING   \n",
       "3   1     Sommer Medrano   golf    NA         PENDING   \n",
       "4   1     Phillip Medrano  wedding vegetarian CONFIRMED \n",
       "5   1     Phillip Medrano  brunch  Menu C     CONFIRMED \n",
       "6   1     Phillip Medrano  golf    NA         CONFIRMED \n",
       "7   1     Blanka Medrano   wedding chicken    CONFIRMED \n",
       "8   1     Blanka Medrano   brunch  Menu A     CONFIRMED \n",
       "9   1     Blanka Medrano   golf    NA         CONFIRMED \n",
       "10  1     Emaan Medrano    wedding PENDING    PENDING   \n",
       "11  1     Emaan Medrano    brunch  PENDING    PENDING   \n",
       "12  1     Emaan Medrano    golf    NA         PENDING   \n",
       "13  2     Blair Park       wedding chicken    CONFIRMED \n",
       "14  2     Blair Park       brunch  Menu C     CONFIRMED \n",
       "15  2     Blair Park       golf    NA         CONFIRMED \n",
       "16  2     Nigel Webb       wedding NA         CANCELLED \n",
       "17  2     Nigel Webb       brunch  NA         CANCELLED \n",
       "18  2     Nigel Webb       golf    NA         CANCELLED \n",
       "19  3     Sinead English   wedding PENDING    PENDING   \n",
       "20  3     Sinead English   brunch  PENDING    PENDING   \n",
       "21  3     Sinead English   golf    NA         PENDING   \n",
       "22  4     Ayra Marks       wedding vegetarian PENDING   \n",
       "23  4     Ayra Marks       brunch  Menu B     PENDING   \n",
       "24  4     Ayra Marks       golf    NA         PENDING   \n",
       "25  5     Atlanta Connolly wedding PENDING    PENDING   \n",
       "26  5     Atlanta Connolly brunch  PENDING    PENDING   \n",
       "27  5     Atlanta Connolly golf    NA         PENDING   \n",
       "28  5     Denzel Connolly  wedding fish       CONFIRMED \n",
       "29  5     Denzel Connolly  brunch  Menu B     CONFIRMED \n",
       "30  5     Denzel Connolly  golf    NA         CONFIRMED \n",
       "... ...   ...              ...     ...        ...       \n",
       "61  12    Martin Caldwell  wedding PENDING    PENDING   \n",
       "62  12    Martin Caldwell  brunch  PENDING    PENDING   \n",
       "63  12    Martin Caldwell  golf    NA         PENDING   \n",
       "64  12    Violet Caldwell  wedding PENDING    PENDING   \n",
       "65  12    Violet Caldwell  brunch  PENDING    PENDING   \n",
       "66  12    Violet Caldwell  golf    NA         PENDING   \n",
       "67  12    Nazifa Caldwell  wedding chicken    PENDING   \n",
       "68  12    Nazifa Caldwell  brunch  PENDING    PENDING   \n",
       "69  12    Nazifa Caldwell  golf    NA         PENDING   \n",
       "70  12    Eric Caldwell    wedding chicken    CONFIRMED \n",
       "71  12    Eric Caldwell    brunch  Menu B     CONFIRMED \n",
       "72  12    Eric Caldwell    golf    NA         CONFIRMED \n",
       "73  13    Rosanna Bird     wedding vegetarian CONFIRMED \n",
       "74  13    Rosanna Bird     brunch  Menu C     CONFIRMED \n",
       "75  13    Rosanna Bird     golf    NA         CONFIRMED \n",
       "76  13    Kurtis Frost     wedding PENDING    PENDING   \n",
       "77  13    Kurtis Frost     brunch  PENDING    PENDING   \n",
       "78  13    Kurtis Frost     golf    NA         PENDING   \n",
       "79  14    Huma Stokes      wedding NA         CANCELLED \n",
       "80  14    Huma Stokes      brunch  NA         CANCELLED \n",
       "81  14    Huma Stokes      golf    NA         CANCELLED \n",
       "82  14    Samuel Rutledge  wedding chicken    CONFIRMED \n",
       "83  14    Samuel Rutledge  brunch  Menu C     CONFIRMED \n",
       "84  14    Samuel Rutledge  golf    NA         CONFIRMED \n",
       "85  15    Eddison Collier  wedding PENDING    PENDING   \n",
       "86  15    Eddison Collier  brunch  PENDING    PENDING   \n",
       "87  15    Eddison Collier  golf    NA         PENDING   \n",
       "88  15    Stewart Nicholls wedding chicken    CONFIRMED \n",
       "89  15    Stewart Nicholls brunch  Menu B     CONFIRMED \n",
       "90  15    Stewart Nicholls golf    NA         CONFIRMED "
      ]
     },
     "metadata": {},
     "output_type": "display_data"
    },
    {
     "name": "stdout",
     "output_type": "stream",
     "text": [
      "\u001b[90m# A tibble: 90 x 5\u001b[39m\n",
      "   party name            event   meal       attendance\n",
      "   \u001b[3m\u001b[90m<dbl>\u001b[39m\u001b[23m \u001b[3m\u001b[90m<chr>\u001b[39m\u001b[23m           \u001b[3m\u001b[90m<chr>\u001b[39m\u001b[23m   \u001b[3m\u001b[90m<chr>\u001b[39m\u001b[23m      \u001b[3m\u001b[90m<chr>\u001b[39m\u001b[23m     \n",
      "\u001b[90m 1\u001b[39m     1 Sommer Medrano  wedding PENDING    PENDING   \n",
      "\u001b[90m 2\u001b[39m     1 Sommer Medrano  brunch  PENDING    PENDING   \n",
      "\u001b[90m 3\u001b[39m     1 Sommer Medrano  golf    \u001b[31mNA\u001b[39m         PENDING   \n",
      "\u001b[90m 4\u001b[39m     1 Phillip Medrano wedding vegetarian CONFIRMED \n",
      "\u001b[90m 5\u001b[39m     1 Phillip Medrano brunch  Menu C     CONFIRMED \n",
      "\u001b[90m 6\u001b[39m     1 Phillip Medrano golf    \u001b[31mNA\u001b[39m         CONFIRMED \n",
      "\u001b[90m 7\u001b[39m     1 Blanka Medrano  wedding chicken    CONFIRMED \n",
      "\u001b[90m 8\u001b[39m     1 Blanka Medrano  brunch  Menu A     CONFIRMED \n",
      "\u001b[90m 9\u001b[39m     1 Blanka Medrano  golf    \u001b[31mNA\u001b[39m         CONFIRMED \n",
      "\u001b[90m10\u001b[39m     1 Emaan Medrano   wedding PENDING    PENDING   \n",
      "\u001b[90m# ... with 80 more rows\u001b[39m\n"
     ]
    }
   ],
   "source": [
    "(answer2.1 <- guest %>% \n",
    "  pivot_longer(cols      = c(-party, -name), \n",
    "               names_to  = c(\".value\", \"event\"),\n",
    "               names_sep = \"_\"))\n",
    "print(answer2.1)"
   ]
  },
  {
   "cell_type": "code",
   "execution_count": 104,
   "metadata": {
    "deletable": false,
    "editable": false,
    "nbgrader": {
     "cell_type": "code",
     "checksum": "51c71ea8965025a90cc9c1721cd56f07",
     "grade": true,
     "grade_id": "cell-2f380c98eb6f4b92",
     "locked": true,
     "points": 1,
     "schema_version": 3,
     "solution": false,
     "task": false
    }
   },
   "outputs": [
    {
     "name": "stderr",
     "output_type": "stream",
     "text": [
      "Warning message in normalizePath(path.expand(path), winslash, mustWork):\n",
      "\"path[1]=\"C:/Users/41615/OneDrive/×ÀÃæ/stat545a/worksheets\": The system cannot find the path specified\"\n",
      "Warning message in normalizePath(path.expand(path), winslash, mustWork):\n",
      "\"path[1]=\"C:/Users/41615/OneDrive/×ÀÃæ/stat545a/worksheets\": The system cannot find the path specified\"\n",
      "Warning message in normalizePath(path.expand(path), winslash, mustWork):\n",
      "\"path[1]=\"C:/Users/41615/OneDrive/×ÀÃæ/stat545a\": The system cannot find the path specified\"\n",
      "Warning message in normalizePath(path.expand(path), winslash, mustWork):\n",
      "\"path[1]=\"C:/Users/41615/OneDrive/×ÀÃæ/stat545a\": The system cannot find the path specified\"\n",
      "Warning message in normalizePath(path.expand(path), winslash, mustWork):\n",
      "\"path[1]=\"C:/Users/41615/OneDrive/×ÀÃæ\": The system cannot find the file specified\"\n",
      "Warning message in normalizePath(path.expand(path), winslash, mustWork):\n",
      "\"path[1]=\"C:/Users/41615/OneDrive/×ÀÃæ\": The system cannot find the file specified\"\n"
     ]
    },
    {
     "name": "stdout",
     "output_type": "stream",
     "text": [
      "\u001b[32mTest passed\u001b[39m \n"
     ]
    }
   ],
   "source": [
    "test_that(\"Question 2.1\", {\n",
    "    expect_true(all(c(\"party\", \"name\", \"event\", \"meal\", \"attendance\") %in% names(answer2.1)))\n",
    "    expect_equal(nrow(answer2.1), 90L)\n",
    "})"
   ]
  },
  {
   "cell_type": "markdown",
   "metadata": {
    "deletable": false,
    "editable": false,
    "nbgrader": {
     "cell_type": "markdown",
     "checksum": "adf4e3105c833d3d03df080dca520ef6",
     "grade": false,
     "grade_id": "cell-4bf2cab5040a45a4",
     "locked": true,
     "schema_version": 3,
     "solution": false,
     "task": false
    }
   },
   "source": [
    "## Question 2.2\n",
    "Use `tidyr::separate()` to split the `name` in `answer2.1` into two columns: `first_name` and `last_name`. Store your answer in `answer2.2`.\n",
    "\n",
    "```\n",
    "(answer2.2 <- answer2.1 %>% \n",
    "  FILL_THIS_IN(FILL_THIS_IN, into = c(FILL_THIS_IN, FILL_THIS_IN), sep=FILL_THIS_IN))\n",
    "```  \n",
    "\n",
    "Your `answer2.2` should look something like this (full tibble not always shown):\n",
    "\n",
    "![answer2.2](https://github.com/UBC-STAT/stat545.stat.ubc.ca/raw/master/content/data/worksheet_04a/answer2.2.png)"
   ]
  },
  {
   "cell_type": "code",
   "execution_count": 101,
   "metadata": {
    "deletable": false,
    "nbgrader": {
     "cell_type": "code",
     "checksum": "a141fa3dd02872dad3abb48996c6488b",
     "grade": false,
     "grade_id": "cell-fb46ea7012910edc",
     "locked": false,
     "schema_version": 3,
     "solution": true,
     "task": false
    }
   },
   "outputs": [
    {
     "data": {
      "text/html": [
       "<table class=\"dataframe\">\n",
       "<caption>A tibble: 90 × 6</caption>\n",
       "<thead>\n",
       "\t<tr><th scope=col>party</th><th scope=col>first_name</th><th scope=col>last_name</th><th scope=col>event</th><th scope=col>meal</th><th scope=col>attendance</th></tr>\n",
       "\t<tr><th scope=col>&lt;dbl&gt;</th><th scope=col>&lt;chr&gt;</th><th scope=col>&lt;chr&gt;</th><th scope=col>&lt;chr&gt;</th><th scope=col>&lt;chr&gt;</th><th scope=col>&lt;chr&gt;</th></tr>\n",
       "</thead>\n",
       "<tbody>\n",
       "\t<tr><td>1</td><td>Sommer </td><td>Medrano </td><td>wedding</td><td>PENDING   </td><td>PENDING  </td></tr>\n",
       "\t<tr><td>1</td><td>Sommer </td><td>Medrano </td><td>brunch </td><td>PENDING   </td><td>PENDING  </td></tr>\n",
       "\t<tr><td>1</td><td>Sommer </td><td>Medrano </td><td>golf   </td><td>NA        </td><td>PENDING  </td></tr>\n",
       "\t<tr><td>1</td><td>Phillip</td><td>Medrano </td><td>wedding</td><td>vegetarian</td><td>CONFIRMED</td></tr>\n",
       "\t<tr><td>1</td><td>Phillip</td><td>Medrano </td><td>brunch </td><td>Menu C    </td><td>CONFIRMED</td></tr>\n",
       "\t<tr><td>1</td><td>Phillip</td><td>Medrano </td><td>golf   </td><td>NA        </td><td>CONFIRMED</td></tr>\n",
       "\t<tr><td>1</td><td>Blanka </td><td>Medrano </td><td>wedding</td><td>chicken   </td><td>CONFIRMED</td></tr>\n",
       "\t<tr><td>1</td><td>Blanka </td><td>Medrano </td><td>brunch </td><td>Menu A    </td><td>CONFIRMED</td></tr>\n",
       "\t<tr><td>1</td><td>Blanka </td><td>Medrano </td><td>golf   </td><td>NA        </td><td>CONFIRMED</td></tr>\n",
       "\t<tr><td>1</td><td>Emaan  </td><td>Medrano </td><td>wedding</td><td>PENDING   </td><td>PENDING  </td></tr>\n",
       "\t<tr><td>1</td><td>Emaan  </td><td>Medrano </td><td>brunch </td><td>PENDING   </td><td>PENDING  </td></tr>\n",
       "\t<tr><td>1</td><td>Emaan  </td><td>Medrano </td><td>golf   </td><td>NA        </td><td>PENDING  </td></tr>\n",
       "\t<tr><td>2</td><td>Blair  </td><td>Park    </td><td>wedding</td><td>chicken   </td><td>CONFIRMED</td></tr>\n",
       "\t<tr><td>2</td><td>Blair  </td><td>Park    </td><td>brunch </td><td>Menu C    </td><td>CONFIRMED</td></tr>\n",
       "\t<tr><td>2</td><td>Blair  </td><td>Park    </td><td>golf   </td><td>NA        </td><td>CONFIRMED</td></tr>\n",
       "\t<tr><td>2</td><td>Nigel  </td><td>Webb    </td><td>wedding</td><td>NA        </td><td>CANCELLED</td></tr>\n",
       "\t<tr><td>2</td><td>Nigel  </td><td>Webb    </td><td>brunch </td><td>NA        </td><td>CANCELLED</td></tr>\n",
       "\t<tr><td>2</td><td>Nigel  </td><td>Webb    </td><td>golf   </td><td>NA        </td><td>CANCELLED</td></tr>\n",
       "\t<tr><td>3</td><td>Sinead </td><td>English </td><td>wedding</td><td>PENDING   </td><td>PENDING  </td></tr>\n",
       "\t<tr><td>3</td><td>Sinead </td><td>English </td><td>brunch </td><td>PENDING   </td><td>PENDING  </td></tr>\n",
       "\t<tr><td>3</td><td>Sinead </td><td>English </td><td>golf   </td><td>NA        </td><td>PENDING  </td></tr>\n",
       "\t<tr><td>4</td><td>Ayra   </td><td>Marks   </td><td>wedding</td><td>vegetarian</td><td>PENDING  </td></tr>\n",
       "\t<tr><td>4</td><td>Ayra   </td><td>Marks   </td><td>brunch </td><td>Menu B    </td><td>PENDING  </td></tr>\n",
       "\t<tr><td>4</td><td>Ayra   </td><td>Marks   </td><td>golf   </td><td>NA        </td><td>PENDING  </td></tr>\n",
       "\t<tr><td>5</td><td>Atlanta</td><td>Connolly</td><td>wedding</td><td>PENDING   </td><td>PENDING  </td></tr>\n",
       "\t<tr><td>5</td><td>Atlanta</td><td>Connolly</td><td>brunch </td><td>PENDING   </td><td>PENDING  </td></tr>\n",
       "\t<tr><td>5</td><td>Atlanta</td><td>Connolly</td><td>golf   </td><td>NA        </td><td>PENDING  </td></tr>\n",
       "\t<tr><td>5</td><td>Denzel </td><td>Connolly</td><td>wedding</td><td>fish      </td><td>CONFIRMED</td></tr>\n",
       "\t<tr><td>5</td><td>Denzel </td><td>Connolly</td><td>brunch </td><td>Menu B    </td><td>CONFIRMED</td></tr>\n",
       "\t<tr><td>5</td><td>Denzel </td><td>Connolly</td><td>golf   </td><td>NA        </td><td>CONFIRMED</td></tr>\n",
       "\t<tr><td>...</td><td>...</td><td>...</td><td>...</td><td>...</td><td>...</td></tr>\n",
       "\t<tr><td>12</td><td>Martin </td><td>Caldwell</td><td>wedding</td><td>PENDING   </td><td>PENDING  </td></tr>\n",
       "\t<tr><td>12</td><td>Martin </td><td>Caldwell</td><td>brunch </td><td>PENDING   </td><td>PENDING  </td></tr>\n",
       "\t<tr><td>12</td><td>Martin </td><td>Caldwell</td><td>golf   </td><td>NA        </td><td>PENDING  </td></tr>\n",
       "\t<tr><td>12</td><td>Violet </td><td>Caldwell</td><td>wedding</td><td>PENDING   </td><td>PENDING  </td></tr>\n",
       "\t<tr><td>12</td><td>Violet </td><td>Caldwell</td><td>brunch </td><td>PENDING   </td><td>PENDING  </td></tr>\n",
       "\t<tr><td>12</td><td>Violet </td><td>Caldwell</td><td>golf   </td><td>NA        </td><td>PENDING  </td></tr>\n",
       "\t<tr><td>12</td><td>Nazifa </td><td>Caldwell</td><td>wedding</td><td>chicken   </td><td>PENDING  </td></tr>\n",
       "\t<tr><td>12</td><td>Nazifa </td><td>Caldwell</td><td>brunch </td><td>PENDING   </td><td>PENDING  </td></tr>\n",
       "\t<tr><td>12</td><td>Nazifa </td><td>Caldwell</td><td>golf   </td><td>NA        </td><td>PENDING  </td></tr>\n",
       "\t<tr><td>12</td><td>Eric   </td><td>Caldwell</td><td>wedding</td><td>chicken   </td><td>CONFIRMED</td></tr>\n",
       "\t<tr><td>12</td><td>Eric   </td><td>Caldwell</td><td>brunch </td><td>Menu B    </td><td>CONFIRMED</td></tr>\n",
       "\t<tr><td>12</td><td>Eric   </td><td>Caldwell</td><td>golf   </td><td>NA        </td><td>CONFIRMED</td></tr>\n",
       "\t<tr><td>13</td><td>Rosanna</td><td>Bird    </td><td>wedding</td><td>vegetarian</td><td>CONFIRMED</td></tr>\n",
       "\t<tr><td>13</td><td>Rosanna</td><td>Bird    </td><td>brunch </td><td>Menu C    </td><td>CONFIRMED</td></tr>\n",
       "\t<tr><td>13</td><td>Rosanna</td><td>Bird    </td><td>golf   </td><td>NA        </td><td>CONFIRMED</td></tr>\n",
       "\t<tr><td>13</td><td>Kurtis </td><td>Frost   </td><td>wedding</td><td>PENDING   </td><td>PENDING  </td></tr>\n",
       "\t<tr><td>13</td><td>Kurtis </td><td>Frost   </td><td>brunch </td><td>PENDING   </td><td>PENDING  </td></tr>\n",
       "\t<tr><td>13</td><td>Kurtis </td><td>Frost   </td><td>golf   </td><td>NA        </td><td>PENDING  </td></tr>\n",
       "\t<tr><td>14</td><td>Huma   </td><td>Stokes  </td><td>wedding</td><td>NA        </td><td>CANCELLED</td></tr>\n",
       "\t<tr><td>14</td><td>Huma   </td><td>Stokes  </td><td>brunch </td><td>NA        </td><td>CANCELLED</td></tr>\n",
       "\t<tr><td>14</td><td>Huma   </td><td>Stokes  </td><td>golf   </td><td>NA        </td><td>CANCELLED</td></tr>\n",
       "\t<tr><td>14</td><td>Samuel </td><td>Rutledge</td><td>wedding</td><td>chicken   </td><td>CONFIRMED</td></tr>\n",
       "\t<tr><td>14</td><td>Samuel </td><td>Rutledge</td><td>brunch </td><td>Menu C    </td><td>CONFIRMED</td></tr>\n",
       "\t<tr><td>14</td><td>Samuel </td><td>Rutledge</td><td>golf   </td><td>NA        </td><td>CONFIRMED</td></tr>\n",
       "\t<tr><td>15</td><td>Eddison</td><td>Collier </td><td>wedding</td><td>PENDING   </td><td>PENDING  </td></tr>\n",
       "\t<tr><td>15</td><td>Eddison</td><td>Collier </td><td>brunch </td><td>PENDING   </td><td>PENDING  </td></tr>\n",
       "\t<tr><td>15</td><td>Eddison</td><td>Collier </td><td>golf   </td><td>NA        </td><td>PENDING  </td></tr>\n",
       "\t<tr><td>15</td><td>Stewart</td><td>Nicholls</td><td>wedding</td><td>chicken   </td><td>CONFIRMED</td></tr>\n",
       "\t<tr><td>15</td><td>Stewart</td><td>Nicholls</td><td>brunch </td><td>Menu B    </td><td>CONFIRMED</td></tr>\n",
       "\t<tr><td>15</td><td>Stewart</td><td>Nicholls</td><td>golf   </td><td>NA        </td><td>CONFIRMED</td></tr>\n",
       "</tbody>\n",
       "</table>\n"
      ],
      "text/latex": [
       "A tibble: 90 × 6\n",
       "\\begin{tabular}{llllll}\n",
       " party & first\\_name & last\\_name & event & meal & attendance\\\\\n",
       " <dbl> & <chr> & <chr> & <chr> & <chr> & <chr>\\\\\n",
       "\\hline\n",
       "\t 1 & Sommer  & Medrano  & wedding & PENDING    & PENDING  \\\\\n",
       "\t 1 & Sommer  & Medrano  & brunch  & PENDING    & PENDING  \\\\\n",
       "\t 1 & Sommer  & Medrano  & golf    & NA         & PENDING  \\\\\n",
       "\t 1 & Phillip & Medrano  & wedding & vegetarian & CONFIRMED\\\\\n",
       "\t 1 & Phillip & Medrano  & brunch  & Menu C     & CONFIRMED\\\\\n",
       "\t 1 & Phillip & Medrano  & golf    & NA         & CONFIRMED\\\\\n",
       "\t 1 & Blanka  & Medrano  & wedding & chicken    & CONFIRMED\\\\\n",
       "\t 1 & Blanka  & Medrano  & brunch  & Menu A     & CONFIRMED\\\\\n",
       "\t 1 & Blanka  & Medrano  & golf    & NA         & CONFIRMED\\\\\n",
       "\t 1 & Emaan   & Medrano  & wedding & PENDING    & PENDING  \\\\\n",
       "\t 1 & Emaan   & Medrano  & brunch  & PENDING    & PENDING  \\\\\n",
       "\t 1 & Emaan   & Medrano  & golf    & NA         & PENDING  \\\\\n",
       "\t 2 & Blair   & Park     & wedding & chicken    & CONFIRMED\\\\\n",
       "\t 2 & Blair   & Park     & brunch  & Menu C     & CONFIRMED\\\\\n",
       "\t 2 & Blair   & Park     & golf    & NA         & CONFIRMED\\\\\n",
       "\t 2 & Nigel   & Webb     & wedding & NA         & CANCELLED\\\\\n",
       "\t 2 & Nigel   & Webb     & brunch  & NA         & CANCELLED\\\\\n",
       "\t 2 & Nigel   & Webb     & golf    & NA         & CANCELLED\\\\\n",
       "\t 3 & Sinead  & English  & wedding & PENDING    & PENDING  \\\\\n",
       "\t 3 & Sinead  & English  & brunch  & PENDING    & PENDING  \\\\\n",
       "\t 3 & Sinead  & English  & golf    & NA         & PENDING  \\\\\n",
       "\t 4 & Ayra    & Marks    & wedding & vegetarian & PENDING  \\\\\n",
       "\t 4 & Ayra    & Marks    & brunch  & Menu B     & PENDING  \\\\\n",
       "\t 4 & Ayra    & Marks    & golf    & NA         & PENDING  \\\\\n",
       "\t 5 & Atlanta & Connolly & wedding & PENDING    & PENDING  \\\\\n",
       "\t 5 & Atlanta & Connolly & brunch  & PENDING    & PENDING  \\\\\n",
       "\t 5 & Atlanta & Connolly & golf    & NA         & PENDING  \\\\\n",
       "\t 5 & Denzel  & Connolly & wedding & fish       & CONFIRMED\\\\\n",
       "\t 5 & Denzel  & Connolly & brunch  & Menu B     & CONFIRMED\\\\\n",
       "\t 5 & Denzel  & Connolly & golf    & NA         & CONFIRMED\\\\\n",
       "\t ... & ... & ... & ... & ... & ...\\\\\n",
       "\t 12 & Martin  & Caldwell & wedding & PENDING    & PENDING  \\\\\n",
       "\t 12 & Martin  & Caldwell & brunch  & PENDING    & PENDING  \\\\\n",
       "\t 12 & Martin  & Caldwell & golf    & NA         & PENDING  \\\\\n",
       "\t 12 & Violet  & Caldwell & wedding & PENDING    & PENDING  \\\\\n",
       "\t 12 & Violet  & Caldwell & brunch  & PENDING    & PENDING  \\\\\n",
       "\t 12 & Violet  & Caldwell & golf    & NA         & PENDING  \\\\\n",
       "\t 12 & Nazifa  & Caldwell & wedding & chicken    & PENDING  \\\\\n",
       "\t 12 & Nazifa  & Caldwell & brunch  & PENDING    & PENDING  \\\\\n",
       "\t 12 & Nazifa  & Caldwell & golf    & NA         & PENDING  \\\\\n",
       "\t 12 & Eric    & Caldwell & wedding & chicken    & CONFIRMED\\\\\n",
       "\t 12 & Eric    & Caldwell & brunch  & Menu B     & CONFIRMED\\\\\n",
       "\t 12 & Eric    & Caldwell & golf    & NA         & CONFIRMED\\\\\n",
       "\t 13 & Rosanna & Bird     & wedding & vegetarian & CONFIRMED\\\\\n",
       "\t 13 & Rosanna & Bird     & brunch  & Menu C     & CONFIRMED\\\\\n",
       "\t 13 & Rosanna & Bird     & golf    & NA         & CONFIRMED\\\\\n",
       "\t 13 & Kurtis  & Frost    & wedding & PENDING    & PENDING  \\\\\n",
       "\t 13 & Kurtis  & Frost    & brunch  & PENDING    & PENDING  \\\\\n",
       "\t 13 & Kurtis  & Frost    & golf    & NA         & PENDING  \\\\\n",
       "\t 14 & Huma    & Stokes   & wedding & NA         & CANCELLED\\\\\n",
       "\t 14 & Huma    & Stokes   & brunch  & NA         & CANCELLED\\\\\n",
       "\t 14 & Huma    & Stokes   & golf    & NA         & CANCELLED\\\\\n",
       "\t 14 & Samuel  & Rutledge & wedding & chicken    & CONFIRMED\\\\\n",
       "\t 14 & Samuel  & Rutledge & brunch  & Menu C     & CONFIRMED\\\\\n",
       "\t 14 & Samuel  & Rutledge & golf    & NA         & CONFIRMED\\\\\n",
       "\t 15 & Eddison & Collier  & wedding & PENDING    & PENDING  \\\\\n",
       "\t 15 & Eddison & Collier  & brunch  & PENDING    & PENDING  \\\\\n",
       "\t 15 & Eddison & Collier  & golf    & NA         & PENDING  \\\\\n",
       "\t 15 & Stewart & Nicholls & wedding & chicken    & CONFIRMED\\\\\n",
       "\t 15 & Stewart & Nicholls & brunch  & Menu B     & CONFIRMED\\\\\n",
       "\t 15 & Stewart & Nicholls & golf    & NA         & CONFIRMED\\\\\n",
       "\\end{tabular}\n"
      ],
      "text/markdown": [
       "\n",
       "A tibble: 90 × 6\n",
       "\n",
       "| party &lt;dbl&gt; | first_name &lt;chr&gt; | last_name &lt;chr&gt; | event &lt;chr&gt; | meal &lt;chr&gt; | attendance &lt;chr&gt; |\n",
       "|---|---|---|---|---|---|\n",
       "| 1 | Sommer  | Medrano  | wedding | PENDING    | PENDING   |\n",
       "| 1 | Sommer  | Medrano  | brunch  | PENDING    | PENDING   |\n",
       "| 1 | Sommer  | Medrano  | golf    | NA         | PENDING   |\n",
       "| 1 | Phillip | Medrano  | wedding | vegetarian | CONFIRMED |\n",
       "| 1 | Phillip | Medrano  | brunch  | Menu C     | CONFIRMED |\n",
       "| 1 | Phillip | Medrano  | golf    | NA         | CONFIRMED |\n",
       "| 1 | Blanka  | Medrano  | wedding | chicken    | CONFIRMED |\n",
       "| 1 | Blanka  | Medrano  | brunch  | Menu A     | CONFIRMED |\n",
       "| 1 | Blanka  | Medrano  | golf    | NA         | CONFIRMED |\n",
       "| 1 | Emaan   | Medrano  | wedding | PENDING    | PENDING   |\n",
       "| 1 | Emaan   | Medrano  | brunch  | PENDING    | PENDING   |\n",
       "| 1 | Emaan   | Medrano  | golf    | NA         | PENDING   |\n",
       "| 2 | Blair   | Park     | wedding | chicken    | CONFIRMED |\n",
       "| 2 | Blair   | Park     | brunch  | Menu C     | CONFIRMED |\n",
       "| 2 | Blair   | Park     | golf    | NA         | CONFIRMED |\n",
       "| 2 | Nigel   | Webb     | wedding | NA         | CANCELLED |\n",
       "| 2 | Nigel   | Webb     | brunch  | NA         | CANCELLED |\n",
       "| 2 | Nigel   | Webb     | golf    | NA         | CANCELLED |\n",
       "| 3 | Sinead  | English  | wedding | PENDING    | PENDING   |\n",
       "| 3 | Sinead  | English  | brunch  | PENDING    | PENDING   |\n",
       "| 3 | Sinead  | English  | golf    | NA         | PENDING   |\n",
       "| 4 | Ayra    | Marks    | wedding | vegetarian | PENDING   |\n",
       "| 4 | Ayra    | Marks    | brunch  | Menu B     | PENDING   |\n",
       "| 4 | Ayra    | Marks    | golf    | NA         | PENDING   |\n",
       "| 5 | Atlanta | Connolly | wedding | PENDING    | PENDING   |\n",
       "| 5 | Atlanta | Connolly | brunch  | PENDING    | PENDING   |\n",
       "| 5 | Atlanta | Connolly | golf    | NA         | PENDING   |\n",
       "| 5 | Denzel  | Connolly | wedding | fish       | CONFIRMED |\n",
       "| 5 | Denzel  | Connolly | brunch  | Menu B     | CONFIRMED |\n",
       "| 5 | Denzel  | Connolly | golf    | NA         | CONFIRMED |\n",
       "| ... | ... | ... | ... | ... | ... |\n",
       "| 12 | Martin  | Caldwell | wedding | PENDING    | PENDING   |\n",
       "| 12 | Martin  | Caldwell | brunch  | PENDING    | PENDING   |\n",
       "| 12 | Martin  | Caldwell | golf    | NA         | PENDING   |\n",
       "| 12 | Violet  | Caldwell | wedding | PENDING    | PENDING   |\n",
       "| 12 | Violet  | Caldwell | brunch  | PENDING    | PENDING   |\n",
       "| 12 | Violet  | Caldwell | golf    | NA         | PENDING   |\n",
       "| 12 | Nazifa  | Caldwell | wedding | chicken    | PENDING   |\n",
       "| 12 | Nazifa  | Caldwell | brunch  | PENDING    | PENDING   |\n",
       "| 12 | Nazifa  | Caldwell | golf    | NA         | PENDING   |\n",
       "| 12 | Eric    | Caldwell | wedding | chicken    | CONFIRMED |\n",
       "| 12 | Eric    | Caldwell | brunch  | Menu B     | CONFIRMED |\n",
       "| 12 | Eric    | Caldwell | golf    | NA         | CONFIRMED |\n",
       "| 13 | Rosanna | Bird     | wedding | vegetarian | CONFIRMED |\n",
       "| 13 | Rosanna | Bird     | brunch  | Menu C     | CONFIRMED |\n",
       "| 13 | Rosanna | Bird     | golf    | NA         | CONFIRMED |\n",
       "| 13 | Kurtis  | Frost    | wedding | PENDING    | PENDING   |\n",
       "| 13 | Kurtis  | Frost    | brunch  | PENDING    | PENDING   |\n",
       "| 13 | Kurtis  | Frost    | golf    | NA         | PENDING   |\n",
       "| 14 | Huma    | Stokes   | wedding | NA         | CANCELLED |\n",
       "| 14 | Huma    | Stokes   | brunch  | NA         | CANCELLED |\n",
       "| 14 | Huma    | Stokes   | golf    | NA         | CANCELLED |\n",
       "| 14 | Samuel  | Rutledge | wedding | chicken    | CONFIRMED |\n",
       "| 14 | Samuel  | Rutledge | brunch  | Menu C     | CONFIRMED |\n",
       "| 14 | Samuel  | Rutledge | golf    | NA         | CONFIRMED |\n",
       "| 15 | Eddison | Collier  | wedding | PENDING    | PENDING   |\n",
       "| 15 | Eddison | Collier  | brunch  | PENDING    | PENDING   |\n",
       "| 15 | Eddison | Collier  | golf    | NA         | PENDING   |\n",
       "| 15 | Stewart | Nicholls | wedding | chicken    | CONFIRMED |\n",
       "| 15 | Stewart | Nicholls | brunch  | Menu B     | CONFIRMED |\n",
       "| 15 | Stewart | Nicholls | golf    | NA         | CONFIRMED |\n",
       "\n"
      ],
      "text/plain": [
       "    party first_name last_name event   meal       attendance\n",
       "1   1     Sommer     Medrano   wedding PENDING    PENDING   \n",
       "2   1     Sommer     Medrano   brunch  PENDING    PENDING   \n",
       "3   1     Sommer     Medrano   golf    NA         PENDING   \n",
       "4   1     Phillip    Medrano   wedding vegetarian CONFIRMED \n",
       "5   1     Phillip    Medrano   brunch  Menu C     CONFIRMED \n",
       "6   1     Phillip    Medrano   golf    NA         CONFIRMED \n",
       "7   1     Blanka     Medrano   wedding chicken    CONFIRMED \n",
       "8   1     Blanka     Medrano   brunch  Menu A     CONFIRMED \n",
       "9   1     Blanka     Medrano   golf    NA         CONFIRMED \n",
       "10  1     Emaan      Medrano   wedding PENDING    PENDING   \n",
       "11  1     Emaan      Medrano   brunch  PENDING    PENDING   \n",
       "12  1     Emaan      Medrano   golf    NA         PENDING   \n",
       "13  2     Blair      Park      wedding chicken    CONFIRMED \n",
       "14  2     Blair      Park      brunch  Menu C     CONFIRMED \n",
       "15  2     Blair      Park      golf    NA         CONFIRMED \n",
       "16  2     Nigel      Webb      wedding NA         CANCELLED \n",
       "17  2     Nigel      Webb      brunch  NA         CANCELLED \n",
       "18  2     Nigel      Webb      golf    NA         CANCELLED \n",
       "19  3     Sinead     English   wedding PENDING    PENDING   \n",
       "20  3     Sinead     English   brunch  PENDING    PENDING   \n",
       "21  3     Sinead     English   golf    NA         PENDING   \n",
       "22  4     Ayra       Marks     wedding vegetarian PENDING   \n",
       "23  4     Ayra       Marks     brunch  Menu B     PENDING   \n",
       "24  4     Ayra       Marks     golf    NA         PENDING   \n",
       "25  5     Atlanta    Connolly  wedding PENDING    PENDING   \n",
       "26  5     Atlanta    Connolly  brunch  PENDING    PENDING   \n",
       "27  5     Atlanta    Connolly  golf    NA         PENDING   \n",
       "28  5     Denzel     Connolly  wedding fish       CONFIRMED \n",
       "29  5     Denzel     Connolly  brunch  Menu B     CONFIRMED \n",
       "30  5     Denzel     Connolly  golf    NA         CONFIRMED \n",
       "... ...   ...        ...       ...     ...        ...       \n",
       "61  12    Martin     Caldwell  wedding PENDING    PENDING   \n",
       "62  12    Martin     Caldwell  brunch  PENDING    PENDING   \n",
       "63  12    Martin     Caldwell  golf    NA         PENDING   \n",
       "64  12    Violet     Caldwell  wedding PENDING    PENDING   \n",
       "65  12    Violet     Caldwell  brunch  PENDING    PENDING   \n",
       "66  12    Violet     Caldwell  golf    NA         PENDING   \n",
       "67  12    Nazifa     Caldwell  wedding chicken    PENDING   \n",
       "68  12    Nazifa     Caldwell  brunch  PENDING    PENDING   \n",
       "69  12    Nazifa     Caldwell  golf    NA         PENDING   \n",
       "70  12    Eric       Caldwell  wedding chicken    CONFIRMED \n",
       "71  12    Eric       Caldwell  brunch  Menu B     CONFIRMED \n",
       "72  12    Eric       Caldwell  golf    NA         CONFIRMED \n",
       "73  13    Rosanna    Bird      wedding vegetarian CONFIRMED \n",
       "74  13    Rosanna    Bird      brunch  Menu C     CONFIRMED \n",
       "75  13    Rosanna    Bird      golf    NA         CONFIRMED \n",
       "76  13    Kurtis     Frost     wedding PENDING    PENDING   \n",
       "77  13    Kurtis     Frost     brunch  PENDING    PENDING   \n",
       "78  13    Kurtis     Frost     golf    NA         PENDING   \n",
       "79  14    Huma       Stokes    wedding NA         CANCELLED \n",
       "80  14    Huma       Stokes    brunch  NA         CANCELLED \n",
       "81  14    Huma       Stokes    golf    NA         CANCELLED \n",
       "82  14    Samuel     Rutledge  wedding chicken    CONFIRMED \n",
       "83  14    Samuel     Rutledge  brunch  Menu C     CONFIRMED \n",
       "84  14    Samuel     Rutledge  golf    NA         CONFIRMED \n",
       "85  15    Eddison    Collier   wedding PENDING    PENDING   \n",
       "86  15    Eddison    Collier   brunch  PENDING    PENDING   \n",
       "87  15    Eddison    Collier   golf    NA         PENDING   \n",
       "88  15    Stewart    Nicholls  wedding chicken    CONFIRMED \n",
       "89  15    Stewart    Nicholls  brunch  Menu B     CONFIRMED \n",
       "90  15    Stewart    Nicholls  golf    NA         CONFIRMED "
      ]
     },
     "metadata": {},
     "output_type": "display_data"
    },
    {
     "name": "stdout",
     "output_type": "stream",
     "text": [
      "\u001b[90m# A tibble: 90 x 6\u001b[39m\n",
      "   party first_name last_name event   meal       attendance\n",
      "   \u001b[3m\u001b[90m<dbl>\u001b[39m\u001b[23m \u001b[3m\u001b[90m<chr>\u001b[39m\u001b[23m      \u001b[3m\u001b[90m<chr>\u001b[39m\u001b[23m     \u001b[3m\u001b[90m<chr>\u001b[39m\u001b[23m   \u001b[3m\u001b[90m<chr>\u001b[39m\u001b[23m      \u001b[3m\u001b[90m<chr>\u001b[39m\u001b[23m     \n",
      "\u001b[90m 1\u001b[39m     1 Sommer     Medrano   wedding PENDING    PENDING   \n",
      "\u001b[90m 2\u001b[39m     1 Sommer     Medrano   brunch  PENDING    PENDING   \n",
      "\u001b[90m 3\u001b[39m     1 Sommer     Medrano   golf    \u001b[31mNA\u001b[39m         PENDING   \n",
      "\u001b[90m 4\u001b[39m     1 Phillip    Medrano   wedding vegetarian CONFIRMED \n",
      "\u001b[90m 5\u001b[39m     1 Phillip    Medrano   brunch  Menu C     CONFIRMED \n",
      "\u001b[90m 6\u001b[39m     1 Phillip    Medrano   golf    \u001b[31mNA\u001b[39m         CONFIRMED \n",
      "\u001b[90m 7\u001b[39m     1 Blanka     Medrano   wedding chicken    CONFIRMED \n",
      "\u001b[90m 8\u001b[39m     1 Blanka     Medrano   brunch  Menu A     CONFIRMED \n",
      "\u001b[90m 9\u001b[39m     1 Blanka     Medrano   golf    \u001b[31mNA\u001b[39m         CONFIRMED \n",
      "\u001b[90m10\u001b[39m     1 Emaan      Medrano   wedding PENDING    PENDING   \n",
      "\u001b[90m# ... with 80 more rows\u001b[39m\n"
     ]
    }
   ],
   "source": [
    "(answer2.2 <- answer2.1 %>% \n",
    "  separate(name, into = c(\"first_name\", \"last_name\"), sep=\" \"))\n",
    "print(answer2.2)"
   ]
  },
  {
   "cell_type": "code",
   "execution_count": 102,
   "metadata": {
    "deletable": false,
    "editable": false,
    "nbgrader": {
     "cell_type": "code",
     "checksum": "6d525ffe304f04e87c526536481d882b",
     "grade": true,
     "grade_id": "cell-0cba9b35e5add034",
     "locked": true,
     "points": 1,
     "schema_version": 3,
     "solution": false,
     "task": false
    }
   },
   "outputs": [
    {
     "name": "stderr",
     "output_type": "stream",
     "text": [
      "Warning message in normalizePath(path.expand(path), winslash, mustWork):\n",
      "\"path[1]=\"C:/Users/41615/OneDrive/×ÀÃæ/stat545a/worksheets\": The system cannot find the path specified\"\n",
      "Warning message in normalizePath(path.expand(path), winslash, mustWork):\n",
      "\"path[1]=\"C:/Users/41615/OneDrive/×ÀÃæ/stat545a/worksheets\": The system cannot find the path specified\"\n",
      "Warning message in normalizePath(path.expand(path), winslash, mustWork):\n",
      "\"path[1]=\"C:/Users/41615/OneDrive/×ÀÃæ/stat545a\": The system cannot find the path specified\"\n",
      "Warning message in normalizePath(path.expand(path), winslash, mustWork):\n",
      "\"path[1]=\"C:/Users/41615/OneDrive/×ÀÃæ/stat545a\": The system cannot find the path specified\"\n",
      "Warning message in normalizePath(path.expand(path), winslash, mustWork):\n",
      "\"path[1]=\"C:/Users/41615/OneDrive/×ÀÃæ\": The system cannot find the file specified\"\n",
      "Warning message in normalizePath(path.expand(path), winslash, mustWork):\n",
      "\"path[1]=\"C:/Users/41615/OneDrive/×ÀÃæ\": The system cannot find the file specified\"\n"
     ]
    },
    {
     "name": "stdout",
     "output_type": "stream",
     "text": [
      "\u001b[32mTest passed\u001b[39m \n"
     ]
    }
   ],
   "source": [
    "test_that(\"Question 2.2\", {\n",
    "    expect_true(all(c(\"party\", \"first_name\", \"last_name\", \"event\", \"meal\", \"attendance\") %in% names(answer2.2)))\n",
    "    expect_equal(nrow(answer2.2), 90L)\n",
    "})"
   ]
  },
  {
   "cell_type": "markdown",
   "metadata": {
    "deletable": false,
    "editable": false,
    "nbgrader": {
     "cell_type": "markdown",
     "checksum": "34737497de0642add774fec990ace9a1",
     "grade": false,
     "grade_id": "cell-4c777f9f3d24eca8",
     "locked": true,
     "schema_version": 3,
     "solution": false,
     "task": false
    }
   },
   "source": [
    "### Question 2.3\n",
    "Re-unite `first_name` and `last_name` in `answer2.2` back into `name` using `tidyr::unite()`. Store your answer in `answer2.3`.\n",
    "\n",
    "```\n",
    "(answer2.3 <- answer2.2 %>%\n",
    "    FILL_THIS_IN(col = FILL_THIS_IN, c(FILL_THIS_IN, FILL_THIS_IN), sep = FILL_THIS_IN))\n",
    "```    \n",
    "\n",
    "Your `answer2.3` should look something like this (full tibble not always shown):\n",
    "\n",
    "![answer2.3](https://github.com/UBC-STAT/stat545.stat.ubc.ca/raw/master/content/data/worksheet_04a/answer2.3.png)"
   ]
  },
  {
   "cell_type": "code",
   "execution_count": 98,
   "metadata": {
    "deletable": false,
    "nbgrader": {
     "cell_type": "code",
     "checksum": "14c67d43a1fbf9224f7475204e3e3a31",
     "grade": false,
     "grade_id": "cell-955ac07a83ed5e20",
     "locked": false,
     "schema_version": 3,
     "solution": true,
     "task": false
    }
   },
   "outputs": [
    {
     "data": {
      "text/html": [
       "<table class=\"dataframe\">\n",
       "<caption>A tibble: 90 × 5</caption>\n",
       "<thead>\n",
       "\t<tr><th scope=col>party</th><th scope=col>name</th><th scope=col>event</th><th scope=col>meal</th><th scope=col>attendance</th></tr>\n",
       "\t<tr><th scope=col>&lt;dbl&gt;</th><th scope=col>&lt;chr&gt;</th><th scope=col>&lt;chr&gt;</th><th scope=col>&lt;chr&gt;</th><th scope=col>&lt;chr&gt;</th></tr>\n",
       "</thead>\n",
       "<tbody>\n",
       "\t<tr><td>1</td><td>Sommer_Medrano  </td><td>wedding</td><td>PENDING   </td><td>PENDING  </td></tr>\n",
       "\t<tr><td>1</td><td>Sommer_Medrano  </td><td>brunch </td><td>PENDING   </td><td>PENDING  </td></tr>\n",
       "\t<tr><td>1</td><td>Sommer_Medrano  </td><td>golf   </td><td>NA        </td><td>PENDING  </td></tr>\n",
       "\t<tr><td>1</td><td>Phillip_Medrano </td><td>wedding</td><td>vegetarian</td><td>CONFIRMED</td></tr>\n",
       "\t<tr><td>1</td><td>Phillip_Medrano </td><td>brunch </td><td>Menu C    </td><td>CONFIRMED</td></tr>\n",
       "\t<tr><td>1</td><td>Phillip_Medrano </td><td>golf   </td><td>NA        </td><td>CONFIRMED</td></tr>\n",
       "\t<tr><td>1</td><td>Blanka_Medrano  </td><td>wedding</td><td>chicken   </td><td>CONFIRMED</td></tr>\n",
       "\t<tr><td>1</td><td>Blanka_Medrano  </td><td>brunch </td><td>Menu A    </td><td>CONFIRMED</td></tr>\n",
       "\t<tr><td>1</td><td>Blanka_Medrano  </td><td>golf   </td><td>NA        </td><td>CONFIRMED</td></tr>\n",
       "\t<tr><td>1</td><td>Emaan_Medrano   </td><td>wedding</td><td>PENDING   </td><td>PENDING  </td></tr>\n",
       "\t<tr><td>1</td><td>Emaan_Medrano   </td><td>brunch </td><td>PENDING   </td><td>PENDING  </td></tr>\n",
       "\t<tr><td>1</td><td>Emaan_Medrano   </td><td>golf   </td><td>NA        </td><td>PENDING  </td></tr>\n",
       "\t<tr><td>2</td><td>Blair_Park      </td><td>wedding</td><td>chicken   </td><td>CONFIRMED</td></tr>\n",
       "\t<tr><td>2</td><td>Blair_Park      </td><td>brunch </td><td>Menu C    </td><td>CONFIRMED</td></tr>\n",
       "\t<tr><td>2</td><td>Blair_Park      </td><td>golf   </td><td>NA        </td><td>CONFIRMED</td></tr>\n",
       "\t<tr><td>2</td><td>Nigel_Webb      </td><td>wedding</td><td>NA        </td><td>CANCELLED</td></tr>\n",
       "\t<tr><td>2</td><td>Nigel_Webb      </td><td>brunch </td><td>NA        </td><td>CANCELLED</td></tr>\n",
       "\t<tr><td>2</td><td>Nigel_Webb      </td><td>golf   </td><td>NA        </td><td>CANCELLED</td></tr>\n",
       "\t<tr><td>3</td><td>Sinead_English  </td><td>wedding</td><td>PENDING   </td><td>PENDING  </td></tr>\n",
       "\t<tr><td>3</td><td>Sinead_English  </td><td>brunch </td><td>PENDING   </td><td>PENDING  </td></tr>\n",
       "\t<tr><td>3</td><td>Sinead_English  </td><td>golf   </td><td>NA        </td><td>PENDING  </td></tr>\n",
       "\t<tr><td>4</td><td>Ayra_Marks      </td><td>wedding</td><td>vegetarian</td><td>PENDING  </td></tr>\n",
       "\t<tr><td>4</td><td>Ayra_Marks      </td><td>brunch </td><td>Menu B    </td><td>PENDING  </td></tr>\n",
       "\t<tr><td>4</td><td>Ayra_Marks      </td><td>golf   </td><td>NA        </td><td>PENDING  </td></tr>\n",
       "\t<tr><td>5</td><td>Atlanta_Connolly</td><td>wedding</td><td>PENDING   </td><td>PENDING  </td></tr>\n",
       "\t<tr><td>5</td><td>Atlanta_Connolly</td><td>brunch </td><td>PENDING   </td><td>PENDING  </td></tr>\n",
       "\t<tr><td>5</td><td>Atlanta_Connolly</td><td>golf   </td><td>NA        </td><td>PENDING  </td></tr>\n",
       "\t<tr><td>5</td><td>Denzel_Connolly </td><td>wedding</td><td>fish      </td><td>CONFIRMED</td></tr>\n",
       "\t<tr><td>5</td><td>Denzel_Connolly </td><td>brunch </td><td>Menu B    </td><td>CONFIRMED</td></tr>\n",
       "\t<tr><td>5</td><td>Denzel_Connolly </td><td>golf   </td><td>NA        </td><td>CONFIRMED</td></tr>\n",
       "\t<tr><td>...</td><td>...</td><td>...</td><td>...</td><td>...</td></tr>\n",
       "\t<tr><td>12</td><td>Martin_Caldwell </td><td>wedding</td><td>PENDING   </td><td>PENDING  </td></tr>\n",
       "\t<tr><td>12</td><td>Martin_Caldwell </td><td>brunch </td><td>PENDING   </td><td>PENDING  </td></tr>\n",
       "\t<tr><td>12</td><td>Martin_Caldwell </td><td>golf   </td><td>NA        </td><td>PENDING  </td></tr>\n",
       "\t<tr><td>12</td><td>Violet_Caldwell </td><td>wedding</td><td>PENDING   </td><td>PENDING  </td></tr>\n",
       "\t<tr><td>12</td><td>Violet_Caldwell </td><td>brunch </td><td>PENDING   </td><td>PENDING  </td></tr>\n",
       "\t<tr><td>12</td><td>Violet_Caldwell </td><td>golf   </td><td>NA        </td><td>PENDING  </td></tr>\n",
       "\t<tr><td>12</td><td>Nazifa_Caldwell </td><td>wedding</td><td>chicken   </td><td>PENDING  </td></tr>\n",
       "\t<tr><td>12</td><td>Nazifa_Caldwell </td><td>brunch </td><td>PENDING   </td><td>PENDING  </td></tr>\n",
       "\t<tr><td>12</td><td>Nazifa_Caldwell </td><td>golf   </td><td>NA        </td><td>PENDING  </td></tr>\n",
       "\t<tr><td>12</td><td>Eric_Caldwell   </td><td>wedding</td><td>chicken   </td><td>CONFIRMED</td></tr>\n",
       "\t<tr><td>12</td><td>Eric_Caldwell   </td><td>brunch </td><td>Menu B    </td><td>CONFIRMED</td></tr>\n",
       "\t<tr><td>12</td><td>Eric_Caldwell   </td><td>golf   </td><td>NA        </td><td>CONFIRMED</td></tr>\n",
       "\t<tr><td>13</td><td>Rosanna_Bird    </td><td>wedding</td><td>vegetarian</td><td>CONFIRMED</td></tr>\n",
       "\t<tr><td>13</td><td>Rosanna_Bird    </td><td>brunch </td><td>Menu C    </td><td>CONFIRMED</td></tr>\n",
       "\t<tr><td>13</td><td>Rosanna_Bird    </td><td>golf   </td><td>NA        </td><td>CONFIRMED</td></tr>\n",
       "\t<tr><td>13</td><td>Kurtis_Frost    </td><td>wedding</td><td>PENDING   </td><td>PENDING  </td></tr>\n",
       "\t<tr><td>13</td><td>Kurtis_Frost    </td><td>brunch </td><td>PENDING   </td><td>PENDING  </td></tr>\n",
       "\t<tr><td>13</td><td>Kurtis_Frost    </td><td>golf   </td><td>NA        </td><td>PENDING  </td></tr>\n",
       "\t<tr><td>14</td><td>Huma_Stokes     </td><td>wedding</td><td>NA        </td><td>CANCELLED</td></tr>\n",
       "\t<tr><td>14</td><td>Huma_Stokes     </td><td>brunch </td><td>NA        </td><td>CANCELLED</td></tr>\n",
       "\t<tr><td>14</td><td>Huma_Stokes     </td><td>golf   </td><td>NA        </td><td>CANCELLED</td></tr>\n",
       "\t<tr><td>14</td><td>Samuel_Rutledge </td><td>wedding</td><td>chicken   </td><td>CONFIRMED</td></tr>\n",
       "\t<tr><td>14</td><td>Samuel_Rutledge </td><td>brunch </td><td>Menu C    </td><td>CONFIRMED</td></tr>\n",
       "\t<tr><td>14</td><td>Samuel_Rutledge </td><td>golf   </td><td>NA        </td><td>CONFIRMED</td></tr>\n",
       "\t<tr><td>15</td><td>Eddison_Collier </td><td>wedding</td><td>PENDING   </td><td>PENDING  </td></tr>\n",
       "\t<tr><td>15</td><td>Eddison_Collier </td><td>brunch </td><td>PENDING   </td><td>PENDING  </td></tr>\n",
       "\t<tr><td>15</td><td>Eddison_Collier </td><td>golf   </td><td>NA        </td><td>PENDING  </td></tr>\n",
       "\t<tr><td>15</td><td>Stewart_Nicholls</td><td>wedding</td><td>chicken   </td><td>CONFIRMED</td></tr>\n",
       "\t<tr><td>15</td><td>Stewart_Nicholls</td><td>brunch </td><td>Menu B    </td><td>CONFIRMED</td></tr>\n",
       "\t<tr><td>15</td><td>Stewart_Nicholls</td><td>golf   </td><td>NA        </td><td>CONFIRMED</td></tr>\n",
       "</tbody>\n",
       "</table>\n"
      ],
      "text/latex": [
       "A tibble: 90 × 5\n",
       "\\begin{tabular}{lllll}\n",
       " party & name & event & meal & attendance\\\\\n",
       " <dbl> & <chr> & <chr> & <chr> & <chr>\\\\\n",
       "\\hline\n",
       "\t 1 & Sommer\\_Medrano   & wedding & PENDING    & PENDING  \\\\\n",
       "\t 1 & Sommer\\_Medrano   & brunch  & PENDING    & PENDING  \\\\\n",
       "\t 1 & Sommer\\_Medrano   & golf    & NA         & PENDING  \\\\\n",
       "\t 1 & Phillip\\_Medrano  & wedding & vegetarian & CONFIRMED\\\\\n",
       "\t 1 & Phillip\\_Medrano  & brunch  & Menu C     & CONFIRMED\\\\\n",
       "\t 1 & Phillip\\_Medrano  & golf    & NA         & CONFIRMED\\\\\n",
       "\t 1 & Blanka\\_Medrano   & wedding & chicken    & CONFIRMED\\\\\n",
       "\t 1 & Blanka\\_Medrano   & brunch  & Menu A     & CONFIRMED\\\\\n",
       "\t 1 & Blanka\\_Medrano   & golf    & NA         & CONFIRMED\\\\\n",
       "\t 1 & Emaan\\_Medrano    & wedding & PENDING    & PENDING  \\\\\n",
       "\t 1 & Emaan\\_Medrano    & brunch  & PENDING    & PENDING  \\\\\n",
       "\t 1 & Emaan\\_Medrano    & golf    & NA         & PENDING  \\\\\n",
       "\t 2 & Blair\\_Park       & wedding & chicken    & CONFIRMED\\\\\n",
       "\t 2 & Blair\\_Park       & brunch  & Menu C     & CONFIRMED\\\\\n",
       "\t 2 & Blair\\_Park       & golf    & NA         & CONFIRMED\\\\\n",
       "\t 2 & Nigel\\_Webb       & wedding & NA         & CANCELLED\\\\\n",
       "\t 2 & Nigel\\_Webb       & brunch  & NA         & CANCELLED\\\\\n",
       "\t 2 & Nigel\\_Webb       & golf    & NA         & CANCELLED\\\\\n",
       "\t 3 & Sinead\\_English   & wedding & PENDING    & PENDING  \\\\\n",
       "\t 3 & Sinead\\_English   & brunch  & PENDING    & PENDING  \\\\\n",
       "\t 3 & Sinead\\_English   & golf    & NA         & PENDING  \\\\\n",
       "\t 4 & Ayra\\_Marks       & wedding & vegetarian & PENDING  \\\\\n",
       "\t 4 & Ayra\\_Marks       & brunch  & Menu B     & PENDING  \\\\\n",
       "\t 4 & Ayra\\_Marks       & golf    & NA         & PENDING  \\\\\n",
       "\t 5 & Atlanta\\_Connolly & wedding & PENDING    & PENDING  \\\\\n",
       "\t 5 & Atlanta\\_Connolly & brunch  & PENDING    & PENDING  \\\\\n",
       "\t 5 & Atlanta\\_Connolly & golf    & NA         & PENDING  \\\\\n",
       "\t 5 & Denzel\\_Connolly  & wedding & fish       & CONFIRMED\\\\\n",
       "\t 5 & Denzel\\_Connolly  & brunch  & Menu B     & CONFIRMED\\\\\n",
       "\t 5 & Denzel\\_Connolly  & golf    & NA         & CONFIRMED\\\\\n",
       "\t ... & ... & ... & ... & ...\\\\\n",
       "\t 12 & Martin\\_Caldwell  & wedding & PENDING    & PENDING  \\\\\n",
       "\t 12 & Martin\\_Caldwell  & brunch  & PENDING    & PENDING  \\\\\n",
       "\t 12 & Martin\\_Caldwell  & golf    & NA         & PENDING  \\\\\n",
       "\t 12 & Violet\\_Caldwell  & wedding & PENDING    & PENDING  \\\\\n",
       "\t 12 & Violet\\_Caldwell  & brunch  & PENDING    & PENDING  \\\\\n",
       "\t 12 & Violet\\_Caldwell  & golf    & NA         & PENDING  \\\\\n",
       "\t 12 & Nazifa\\_Caldwell  & wedding & chicken    & PENDING  \\\\\n",
       "\t 12 & Nazifa\\_Caldwell  & brunch  & PENDING    & PENDING  \\\\\n",
       "\t 12 & Nazifa\\_Caldwell  & golf    & NA         & PENDING  \\\\\n",
       "\t 12 & Eric\\_Caldwell    & wedding & chicken    & CONFIRMED\\\\\n",
       "\t 12 & Eric\\_Caldwell    & brunch  & Menu B     & CONFIRMED\\\\\n",
       "\t 12 & Eric\\_Caldwell    & golf    & NA         & CONFIRMED\\\\\n",
       "\t 13 & Rosanna\\_Bird     & wedding & vegetarian & CONFIRMED\\\\\n",
       "\t 13 & Rosanna\\_Bird     & brunch  & Menu C     & CONFIRMED\\\\\n",
       "\t 13 & Rosanna\\_Bird     & golf    & NA         & CONFIRMED\\\\\n",
       "\t 13 & Kurtis\\_Frost     & wedding & PENDING    & PENDING  \\\\\n",
       "\t 13 & Kurtis\\_Frost     & brunch  & PENDING    & PENDING  \\\\\n",
       "\t 13 & Kurtis\\_Frost     & golf    & NA         & PENDING  \\\\\n",
       "\t 14 & Huma\\_Stokes      & wedding & NA         & CANCELLED\\\\\n",
       "\t 14 & Huma\\_Stokes      & brunch  & NA         & CANCELLED\\\\\n",
       "\t 14 & Huma\\_Stokes      & golf    & NA         & CANCELLED\\\\\n",
       "\t 14 & Samuel\\_Rutledge  & wedding & chicken    & CONFIRMED\\\\\n",
       "\t 14 & Samuel\\_Rutledge  & brunch  & Menu C     & CONFIRMED\\\\\n",
       "\t 14 & Samuel\\_Rutledge  & golf    & NA         & CONFIRMED\\\\\n",
       "\t 15 & Eddison\\_Collier  & wedding & PENDING    & PENDING  \\\\\n",
       "\t 15 & Eddison\\_Collier  & brunch  & PENDING    & PENDING  \\\\\n",
       "\t 15 & Eddison\\_Collier  & golf    & NA         & PENDING  \\\\\n",
       "\t 15 & Stewart\\_Nicholls & wedding & chicken    & CONFIRMED\\\\\n",
       "\t 15 & Stewart\\_Nicholls & brunch  & Menu B     & CONFIRMED\\\\\n",
       "\t 15 & Stewart\\_Nicholls & golf    & NA         & CONFIRMED\\\\\n",
       "\\end{tabular}\n"
      ],
      "text/markdown": [
       "\n",
       "A tibble: 90 × 5\n",
       "\n",
       "| party &lt;dbl&gt; | name &lt;chr&gt; | event &lt;chr&gt; | meal &lt;chr&gt; | attendance &lt;chr&gt; |\n",
       "|---|---|---|---|---|\n",
       "| 1 | Sommer_Medrano   | wedding | PENDING    | PENDING   |\n",
       "| 1 | Sommer_Medrano   | brunch  | PENDING    | PENDING   |\n",
       "| 1 | Sommer_Medrano   | golf    | NA         | PENDING   |\n",
       "| 1 | Phillip_Medrano  | wedding | vegetarian | CONFIRMED |\n",
       "| 1 | Phillip_Medrano  | brunch  | Menu C     | CONFIRMED |\n",
       "| 1 | Phillip_Medrano  | golf    | NA         | CONFIRMED |\n",
       "| 1 | Blanka_Medrano   | wedding | chicken    | CONFIRMED |\n",
       "| 1 | Blanka_Medrano   | brunch  | Menu A     | CONFIRMED |\n",
       "| 1 | Blanka_Medrano   | golf    | NA         | CONFIRMED |\n",
       "| 1 | Emaan_Medrano    | wedding | PENDING    | PENDING   |\n",
       "| 1 | Emaan_Medrano    | brunch  | PENDING    | PENDING   |\n",
       "| 1 | Emaan_Medrano    | golf    | NA         | PENDING   |\n",
       "| 2 | Blair_Park       | wedding | chicken    | CONFIRMED |\n",
       "| 2 | Blair_Park       | brunch  | Menu C     | CONFIRMED |\n",
       "| 2 | Blair_Park       | golf    | NA         | CONFIRMED |\n",
       "| 2 | Nigel_Webb       | wedding | NA         | CANCELLED |\n",
       "| 2 | Nigel_Webb       | brunch  | NA         | CANCELLED |\n",
       "| 2 | Nigel_Webb       | golf    | NA         | CANCELLED |\n",
       "| 3 | Sinead_English   | wedding | PENDING    | PENDING   |\n",
       "| 3 | Sinead_English   | brunch  | PENDING    | PENDING   |\n",
       "| 3 | Sinead_English   | golf    | NA         | PENDING   |\n",
       "| 4 | Ayra_Marks       | wedding | vegetarian | PENDING   |\n",
       "| 4 | Ayra_Marks       | brunch  | Menu B     | PENDING   |\n",
       "| 4 | Ayra_Marks       | golf    | NA         | PENDING   |\n",
       "| 5 | Atlanta_Connolly | wedding | PENDING    | PENDING   |\n",
       "| 5 | Atlanta_Connolly | brunch  | PENDING    | PENDING   |\n",
       "| 5 | Atlanta_Connolly | golf    | NA         | PENDING   |\n",
       "| 5 | Denzel_Connolly  | wedding | fish       | CONFIRMED |\n",
       "| 5 | Denzel_Connolly  | brunch  | Menu B     | CONFIRMED |\n",
       "| 5 | Denzel_Connolly  | golf    | NA         | CONFIRMED |\n",
       "| ... | ... | ... | ... | ... |\n",
       "| 12 | Martin_Caldwell  | wedding | PENDING    | PENDING   |\n",
       "| 12 | Martin_Caldwell  | brunch  | PENDING    | PENDING   |\n",
       "| 12 | Martin_Caldwell  | golf    | NA         | PENDING   |\n",
       "| 12 | Violet_Caldwell  | wedding | PENDING    | PENDING   |\n",
       "| 12 | Violet_Caldwell  | brunch  | PENDING    | PENDING   |\n",
       "| 12 | Violet_Caldwell  | golf    | NA         | PENDING   |\n",
       "| 12 | Nazifa_Caldwell  | wedding | chicken    | PENDING   |\n",
       "| 12 | Nazifa_Caldwell  | brunch  | PENDING    | PENDING   |\n",
       "| 12 | Nazifa_Caldwell  | golf    | NA         | PENDING   |\n",
       "| 12 | Eric_Caldwell    | wedding | chicken    | CONFIRMED |\n",
       "| 12 | Eric_Caldwell    | brunch  | Menu B     | CONFIRMED |\n",
       "| 12 | Eric_Caldwell    | golf    | NA         | CONFIRMED |\n",
       "| 13 | Rosanna_Bird     | wedding | vegetarian | CONFIRMED |\n",
       "| 13 | Rosanna_Bird     | brunch  | Menu C     | CONFIRMED |\n",
       "| 13 | Rosanna_Bird     | golf    | NA         | CONFIRMED |\n",
       "| 13 | Kurtis_Frost     | wedding | PENDING    | PENDING   |\n",
       "| 13 | Kurtis_Frost     | brunch  | PENDING    | PENDING   |\n",
       "| 13 | Kurtis_Frost     | golf    | NA         | PENDING   |\n",
       "| 14 | Huma_Stokes      | wedding | NA         | CANCELLED |\n",
       "| 14 | Huma_Stokes      | brunch  | NA         | CANCELLED |\n",
       "| 14 | Huma_Stokes      | golf    | NA         | CANCELLED |\n",
       "| 14 | Samuel_Rutledge  | wedding | chicken    | CONFIRMED |\n",
       "| 14 | Samuel_Rutledge  | brunch  | Menu C     | CONFIRMED |\n",
       "| 14 | Samuel_Rutledge  | golf    | NA         | CONFIRMED |\n",
       "| 15 | Eddison_Collier  | wedding | PENDING    | PENDING   |\n",
       "| 15 | Eddison_Collier  | brunch  | PENDING    | PENDING   |\n",
       "| 15 | Eddison_Collier  | golf    | NA         | PENDING   |\n",
       "| 15 | Stewart_Nicholls | wedding | chicken    | CONFIRMED |\n",
       "| 15 | Stewart_Nicholls | brunch  | Menu B     | CONFIRMED |\n",
       "| 15 | Stewart_Nicholls | golf    | NA         | CONFIRMED |\n",
       "\n"
      ],
      "text/plain": [
       "    party name             event   meal       attendance\n",
       "1   1     Sommer_Medrano   wedding PENDING    PENDING   \n",
       "2   1     Sommer_Medrano   brunch  PENDING    PENDING   \n",
       "3   1     Sommer_Medrano   golf    NA         PENDING   \n",
       "4   1     Phillip_Medrano  wedding vegetarian CONFIRMED \n",
       "5   1     Phillip_Medrano  brunch  Menu C     CONFIRMED \n",
       "6   1     Phillip_Medrano  golf    NA         CONFIRMED \n",
       "7   1     Blanka_Medrano   wedding chicken    CONFIRMED \n",
       "8   1     Blanka_Medrano   brunch  Menu A     CONFIRMED \n",
       "9   1     Blanka_Medrano   golf    NA         CONFIRMED \n",
       "10  1     Emaan_Medrano    wedding PENDING    PENDING   \n",
       "11  1     Emaan_Medrano    brunch  PENDING    PENDING   \n",
       "12  1     Emaan_Medrano    golf    NA         PENDING   \n",
       "13  2     Blair_Park       wedding chicken    CONFIRMED \n",
       "14  2     Blair_Park       brunch  Menu C     CONFIRMED \n",
       "15  2     Blair_Park       golf    NA         CONFIRMED \n",
       "16  2     Nigel_Webb       wedding NA         CANCELLED \n",
       "17  2     Nigel_Webb       brunch  NA         CANCELLED \n",
       "18  2     Nigel_Webb       golf    NA         CANCELLED \n",
       "19  3     Sinead_English   wedding PENDING    PENDING   \n",
       "20  3     Sinead_English   brunch  PENDING    PENDING   \n",
       "21  3     Sinead_English   golf    NA         PENDING   \n",
       "22  4     Ayra_Marks       wedding vegetarian PENDING   \n",
       "23  4     Ayra_Marks       brunch  Menu B     PENDING   \n",
       "24  4     Ayra_Marks       golf    NA         PENDING   \n",
       "25  5     Atlanta_Connolly wedding PENDING    PENDING   \n",
       "26  5     Atlanta_Connolly brunch  PENDING    PENDING   \n",
       "27  5     Atlanta_Connolly golf    NA         PENDING   \n",
       "28  5     Denzel_Connolly  wedding fish       CONFIRMED \n",
       "29  5     Denzel_Connolly  brunch  Menu B     CONFIRMED \n",
       "30  5     Denzel_Connolly  golf    NA         CONFIRMED \n",
       "... ...   ...              ...     ...        ...       \n",
       "61  12    Martin_Caldwell  wedding PENDING    PENDING   \n",
       "62  12    Martin_Caldwell  brunch  PENDING    PENDING   \n",
       "63  12    Martin_Caldwell  golf    NA         PENDING   \n",
       "64  12    Violet_Caldwell  wedding PENDING    PENDING   \n",
       "65  12    Violet_Caldwell  brunch  PENDING    PENDING   \n",
       "66  12    Violet_Caldwell  golf    NA         PENDING   \n",
       "67  12    Nazifa_Caldwell  wedding chicken    PENDING   \n",
       "68  12    Nazifa_Caldwell  brunch  PENDING    PENDING   \n",
       "69  12    Nazifa_Caldwell  golf    NA         PENDING   \n",
       "70  12    Eric_Caldwell    wedding chicken    CONFIRMED \n",
       "71  12    Eric_Caldwell    brunch  Menu B     CONFIRMED \n",
       "72  12    Eric_Caldwell    golf    NA         CONFIRMED \n",
       "73  13    Rosanna_Bird     wedding vegetarian CONFIRMED \n",
       "74  13    Rosanna_Bird     brunch  Menu C     CONFIRMED \n",
       "75  13    Rosanna_Bird     golf    NA         CONFIRMED \n",
       "76  13    Kurtis_Frost     wedding PENDING    PENDING   \n",
       "77  13    Kurtis_Frost     brunch  PENDING    PENDING   \n",
       "78  13    Kurtis_Frost     golf    NA         PENDING   \n",
       "79  14    Huma_Stokes      wedding NA         CANCELLED \n",
       "80  14    Huma_Stokes      brunch  NA         CANCELLED \n",
       "81  14    Huma_Stokes      golf    NA         CANCELLED \n",
       "82  14    Samuel_Rutledge  wedding chicken    CONFIRMED \n",
       "83  14    Samuel_Rutledge  brunch  Menu C     CONFIRMED \n",
       "84  14    Samuel_Rutledge  golf    NA         CONFIRMED \n",
       "85  15    Eddison_Collier  wedding PENDING    PENDING   \n",
       "86  15    Eddison_Collier  brunch  PENDING    PENDING   \n",
       "87  15    Eddison_Collier  golf    NA         PENDING   \n",
       "88  15    Stewart_Nicholls wedding chicken    CONFIRMED \n",
       "89  15    Stewart_Nicholls brunch  Menu B     CONFIRMED \n",
       "90  15    Stewart_Nicholls golf    NA         CONFIRMED "
      ]
     },
     "metadata": {},
     "output_type": "display_data"
    },
    {
     "name": "stdout",
     "output_type": "stream",
     "text": [
      "\u001b[90m# A tibble: 90 x 5\u001b[39m\n",
      "   party name            event   meal       attendance\n",
      "   \u001b[3m\u001b[90m<dbl>\u001b[39m\u001b[23m \u001b[3m\u001b[90m<chr>\u001b[39m\u001b[23m           \u001b[3m\u001b[90m<chr>\u001b[39m\u001b[23m   \u001b[3m\u001b[90m<chr>\u001b[39m\u001b[23m      \u001b[3m\u001b[90m<chr>\u001b[39m\u001b[23m     \n",
      "\u001b[90m 1\u001b[39m     1 Sommer_Medrano  wedding PENDING    PENDING   \n",
      "\u001b[90m 2\u001b[39m     1 Sommer_Medrano  brunch  PENDING    PENDING   \n",
      "\u001b[90m 3\u001b[39m     1 Sommer_Medrano  golf    \u001b[31mNA\u001b[39m         PENDING   \n",
      "\u001b[90m 4\u001b[39m     1 Phillip_Medrano wedding vegetarian CONFIRMED \n",
      "\u001b[90m 5\u001b[39m     1 Phillip_Medrano brunch  Menu C     CONFIRMED \n",
      "\u001b[90m 6\u001b[39m     1 Phillip_Medrano golf    \u001b[31mNA\u001b[39m         CONFIRMED \n",
      "\u001b[90m 7\u001b[39m     1 Blanka_Medrano  wedding chicken    CONFIRMED \n",
      "\u001b[90m 8\u001b[39m     1 Blanka_Medrano  brunch  Menu A     CONFIRMED \n",
      "\u001b[90m 9\u001b[39m     1 Blanka_Medrano  golf    \u001b[31mNA\u001b[39m         CONFIRMED \n",
      "\u001b[90m10\u001b[39m     1 Emaan_Medrano   wedding PENDING    PENDING   \n",
      "\u001b[90m# ... with 80 more rows\u001b[39m\n"
     ]
    }
   ],
   "source": [
    "(answer2.3 <- answer2.2 %>%\n",
    "    unite(col = \"name\", c(first_name, last_name), sep = \"_\" ))\n",
    "print(answer2.3)"
   ]
  },
  {
   "cell_type": "code",
   "execution_count": 99,
   "metadata": {
    "deletable": false,
    "editable": false,
    "nbgrader": {
     "cell_type": "code",
     "checksum": "0580ffc204b8a2f0ed1536fc28be89f8",
     "grade": true,
     "grade_id": "cell-ee5e83f00c565943",
     "locked": true,
     "points": 1,
     "schema_version": 3,
     "solution": false,
     "task": false
    }
   },
   "outputs": [
    {
     "name": "stderr",
     "output_type": "stream",
     "text": [
      "Warning message in normalizePath(path.expand(path), winslash, mustWork):\n",
      "\"path[1]=\"C:/Users/41615/OneDrive/×ÀÃæ/stat545a/worksheets\": The system cannot find the path specified\"\n",
      "Warning message in normalizePath(path.expand(path), winslash, mustWork):\n",
      "\"path[1]=\"C:/Users/41615/OneDrive/×ÀÃæ/stat545a/worksheets\": The system cannot find the path specified\"\n",
      "Warning message in normalizePath(path.expand(path), winslash, mustWork):\n",
      "\"path[1]=\"C:/Users/41615/OneDrive/×ÀÃæ/stat545a\": The system cannot find the path specified\"\n",
      "Warning message in normalizePath(path.expand(path), winslash, mustWork):\n",
      "\"path[1]=\"C:/Users/41615/OneDrive/×ÀÃæ/stat545a\": The system cannot find the path specified\"\n",
      "Warning message in normalizePath(path.expand(path), winslash, mustWork):\n",
      "\"path[1]=\"C:/Users/41615/OneDrive/×ÀÃæ\": The system cannot find the file specified\"\n",
      "Warning message in normalizePath(path.expand(path), winslash, mustWork):\n",
      "\"path[1]=\"C:/Users/41615/OneDrive/×ÀÃæ\": The system cannot find the file specified\"\n"
     ]
    },
    {
     "name": "stdout",
     "output_type": "stream",
     "text": [
      "\u001b[32mTest passed\u001b[39m \n"
     ]
    }
   ],
   "source": [
    "test_that(\"Question 2.3\", {\n",
    "    expect_true(all(c(\"party\", \"name\", \"event\", \"meal\", \"attendance\") %in% names(answer2.3)))\n",
    "    expect_equal(nrow(answer2.3), 90L)\n",
    "})"
   ]
  },
  {
   "cell_type": "markdown",
   "metadata": {
    "deletable": false,
    "editable": false,
    "nbgrader": {
     "cell_type": "markdown",
     "checksum": "224de48f5e65871ef86d851fc62e8cff",
     "grade": false,
     "grade_id": "cell-defaffa374701c1e",
     "locked": true,
     "schema_version": 3,
     "solution": false,
     "task": false
    }
   },
   "source": [
    "## Question 2.4\n",
    "\n",
    "Which parties still have a \"PENDING\" attendance status for all of its members and all of the events? Your answer should be a vector of party ID's (not a tibble). Store your answer in `answer2.4`.\n",
    "\n",
    "**Hint**: use `answer2.1` as a starting point. Use `pull()` to access a column as a vector.\n",
    "\n",
    "```\n",
    "answer2.4 <- answer2.1 %>% \n",
    "    group_by(FILL_THIS_IN) %>% \n",
    "    summarize(all_pending = all(FILL_THIS_IN == \"PENDING\")) %>%\n",
    "    filter(all_pending) %>%\n",
    "    FILL_THIS_IN(party)\n",
    "```    "
   ]
  },
  {
   "cell_type": "code",
   "execution_count": 68,
   "metadata": {
    "deletable": false,
    "nbgrader": {
     "cell_type": "code",
     "checksum": "85aa81d0f3d83dd9e8cee385fdad9e4e",
     "grade": false,
     "grade_id": "cell-caf4c538c01ad19c",
     "locked": false,
     "schema_version": 3,
     "solution": true,
     "task": false
    }
   },
   "outputs": [
    {
     "name": "stdout",
     "output_type": "stream",
     "text": [
      "[1]  3  4  8 10\n"
     ]
    }
   ],
   "source": [
    "answer2.4 <- answer2.1 %>% \n",
    "    group_by(party) %>% \n",
    "    summarize(all_pending = all(attendance == \"PENDING\")) %>%\n",
    "    filter(all_pending) %>%\n",
    "    pull(party)\n",
    "print(answer2.4)"
   ]
  },
  {
   "cell_type": "code",
   "execution_count": 69,
   "metadata": {
    "deletable": false,
    "editable": false,
    "nbgrader": {
     "cell_type": "code",
     "checksum": "5f7a7c23acc4392e0b7be37930e4e404",
     "grade": true,
     "grade_id": "cell-7bd8a19402a8d8f2",
     "locked": true,
     "points": 1,
     "schema_version": 3,
     "solution": false,
     "task": false
    }
   },
   "outputs": [
    {
     "name": "stderr",
     "output_type": "stream",
     "text": [
      "Warning message in normalizePath(path.expand(path), winslash, mustWork):\n",
      "\"path[1]=\"C:/Users/41615/OneDrive/×ÀÃæ/stat545a/worksheets\": The system cannot find the path specified\"\n",
      "Warning message in normalizePath(path.expand(path), winslash, mustWork):\n",
      "\"path[1]=\"C:/Users/41615/OneDrive/×ÀÃæ/stat545a/worksheets\": The system cannot find the path specified\"\n",
      "Warning message in normalizePath(path.expand(path), winslash, mustWork):\n",
      "\"path[1]=\"C:/Users/41615/OneDrive/×ÀÃæ/stat545a\": The system cannot find the path specified\"\n",
      "Warning message in normalizePath(path.expand(path), winslash, mustWork):\n",
      "\"path[1]=\"C:/Users/41615/OneDrive/×ÀÃæ/stat545a\": The system cannot find the path specified\"\n",
      "Warning message in normalizePath(path.expand(path), winslash, mustWork):\n",
      "\"path[1]=\"C:/Users/41615/OneDrive/×ÀÃæ\": The system cannot find the file specified\"\n",
      "Warning message in normalizePath(path.expand(path), winslash, mustWork):\n",
      "\"path[1]=\"C:/Users/41615/OneDrive/×ÀÃæ\": The system cannot find the file specified\"\n"
     ]
    },
    {
     "name": "stdout",
     "output_type": "stream",
     "text": [
      "\u001b[32mTest passed\u001b[39m \n"
     ]
    }
   ],
   "source": [
    "test_that(\"Question 2.4\", {\n",
    "    expect_equal(digest(unclass(answer2.4)),\"f13a65bc5c8793a2cad1415aad7dff93\")\n",
    "})"
   ]
  },
  {
   "cell_type": "markdown",
   "metadata": {
    "deletable": false,
    "editable": false,
    "nbgrader": {
     "cell_type": "markdown",
     "checksum": "9db5418934d896cd26b5ad0a19336fea",
     "grade": false,
     "grade_id": "cell-7ce9d28a450b8dae",
     "locked": true,
     "schema_version": 3,
     "solution": false,
     "task": false
    }
   },
   "source": [
    "## Question 2.5\n",
    "Which parties still have a \"PENDING\" attendance status for all of its members, for the wedding event only? Your answer should be a vector of party ID's (not a tibble). Store your answer in `answer2.5`.\n",
    "\n",
    "**Hint**: Use `pull()` to access a column as a vector.\n",
    "\n",
    "```\n",
    "answer2.5 <- guest %>% \n",
    "    group_by(FILL_THIS_IN) %>% \n",
    "    summarize(pending_wedding = all(FILL_THIS_IN == \"PENDING\")) %>%\n",
    "    filter(FILL_THIS_IN) %>%\n",
    "    FILL_THIS_IN(party)\n",
    "```    "
   ]
  },
  {
   "cell_type": "code",
   "execution_count": 73,
   "metadata": {
    "deletable": false,
    "nbgrader": {
     "cell_type": "code",
     "checksum": "6580817ac5be3a4339f884e8eda9beae",
     "grade": false,
     "grade_id": "cell-69089bca0ebe5314",
     "locked": false,
     "schema_version": 3,
     "solution": true,
     "task": false
    }
   },
   "outputs": [
    {
     "name": "stdout",
     "output_type": "stream",
     "text": [
      "[1]  3  4  8 10\n"
     ]
    }
   ],
   "source": [
    "answer2.5 <- guest %>% \n",
    "    group_by(party) %>% \n",
    "    summarize(pending_wedding = all(attendance_wedding == \"PENDING\")) %>%\n",
    "    filter(pending_wedding) %>%\n",
    "    pull(party)\n",
    "print(answer2.5)"
   ]
  },
  {
   "cell_type": "code",
   "execution_count": 74,
   "metadata": {
    "deletable": false,
    "editable": false,
    "nbgrader": {
     "cell_type": "code",
     "checksum": "9587f1290ceaed34a63737d4f94ed87c",
     "grade": true,
     "grade_id": "cell-cbecf06071548ada",
     "locked": true,
     "points": 1,
     "schema_version": 3,
     "solution": false,
     "task": false
    }
   },
   "outputs": [
    {
     "name": "stderr",
     "output_type": "stream",
     "text": [
      "Warning message in normalizePath(path.expand(path), winslash, mustWork):\n",
      "\"path[1]=\"C:/Users/41615/OneDrive/×ÀÃæ/stat545a/worksheets\": The system cannot find the path specified\"\n",
      "Warning message in normalizePath(path.expand(path), winslash, mustWork):\n",
      "\"path[1]=\"C:/Users/41615/OneDrive/×ÀÃæ/stat545a/worksheets\": The system cannot find the path specified\"\n",
      "Warning message in normalizePath(path.expand(path), winslash, mustWork):\n",
      "\"path[1]=\"C:/Users/41615/OneDrive/×ÀÃæ/stat545a\": The system cannot find the path specified\"\n",
      "Warning message in normalizePath(path.expand(path), winslash, mustWork):\n",
      "\"path[1]=\"C:/Users/41615/OneDrive/×ÀÃæ/stat545a\": The system cannot find the path specified\"\n",
      "Warning message in normalizePath(path.expand(path), winslash, mustWork):\n",
      "\"path[1]=\"C:/Users/41615/OneDrive/×ÀÃæ\": The system cannot find the file specified\"\n",
      "Warning message in normalizePath(path.expand(path), winslash, mustWork):\n",
      "\"path[1]=\"C:/Users/41615/OneDrive/×ÀÃæ\": The system cannot find the file specified\"\n"
     ]
    },
    {
     "name": "stdout",
     "output_type": "stream",
     "text": [
      "\u001b[32mTest passed\u001b[39m \n"
     ]
    }
   ],
   "source": [
    "test_that(\"Question 2.5\", {expect_equal(digest(unclass(answer2.5)), \"f13a65bc5c8793a2cad1415aad7dff93\")})"
   ]
  },
  {
   "cell_type": "markdown",
   "metadata": {
    "deletable": false,
    "editable": false,
    "nbgrader": {
     "cell_type": "markdown",
     "checksum": "5c138d79a4449ec5e49c3a361a7a84d3",
     "grade": false,
     "grade_id": "cell-51cc3f9c26a52de9",
     "locked": true,
     "schema_version": 3,
     "solution": false,
     "task": false
    }
   },
   "source": [
    "# Part 3: The Model-Fitting Paradigm in R\n",
    "\n",
    "**Overview**\n",
    "\n",
    "1. Fit a linear regression model to life expectancy (\"Y\") from year (\"X\") by filling in the formula. Notice what appears as the output.\n",
    "2. Use the `unclass` function to uncover the object's true nature: a list."
   ]
  },
  {
   "cell_type": "markdown",
   "metadata": {
    "deletable": false,
    "editable": false,
    "nbgrader": {
     "cell_type": "markdown",
     "checksum": "295aa1acad253535e684ae1adc47a992",
     "grade": false,
     "grade_id": "cell-c9bb114babd6a9b0",
     "locked": true,
     "schema_version": 3,
     "solution": false,
     "task": false
    }
   },
   "source": [
    "## Question 3.1\n",
    "First, create a subset of the `gapminder` dataset containing only the country of `France`. Store your answer in `answer3.1`.\n",
    "\n",
    "```\n",
    "(answer3.1 <- gapminder %>%\n",
    "   FILL_THIS_IN(FILL_THIS_IN == FILL_THIS_IN))\n",
    "```   "
   ]
  },
  {
   "cell_type": "code",
   "execution_count": 75,
   "metadata": {
    "deletable": false,
    "nbgrader": {
     "cell_type": "code",
     "checksum": "024305056f38d3c8a22c3ccddbb6fb3a",
     "grade": false,
     "grade_id": "cell-eac384fd230e3178",
     "locked": false,
     "schema_version": 3,
     "solution": true,
     "task": false
    }
   },
   "outputs": [
    {
     "data": {
      "text/html": [
       "<table class=\"dataframe\">\n",
       "<caption>A tibble: 12 × 6</caption>\n",
       "<thead>\n",
       "\t<tr><th scope=col>country</th><th scope=col>continent</th><th scope=col>year</th><th scope=col>lifeExp</th><th scope=col>pop</th><th scope=col>gdpPercap</th></tr>\n",
       "\t<tr><th scope=col>&lt;fct&gt;</th><th scope=col>&lt;fct&gt;</th><th scope=col>&lt;int&gt;</th><th scope=col>&lt;dbl&gt;</th><th scope=col>&lt;int&gt;</th><th scope=col>&lt;dbl&gt;</th></tr>\n",
       "</thead>\n",
       "<tbody>\n",
       "\t<tr><td>France</td><td>Europe</td><td>1952</td><td>67.410</td><td>42459667</td><td> 7029.809</td></tr>\n",
       "\t<tr><td>France</td><td>Europe</td><td>1957</td><td>68.930</td><td>44310863</td><td> 8662.835</td></tr>\n",
       "\t<tr><td>France</td><td>Europe</td><td>1962</td><td>70.510</td><td>47124000</td><td>10560.486</td></tr>\n",
       "\t<tr><td>France</td><td>Europe</td><td>1967</td><td>71.550</td><td>49569000</td><td>12999.918</td></tr>\n",
       "\t<tr><td>France</td><td>Europe</td><td>1972</td><td>72.380</td><td>51732000</td><td>16107.192</td></tr>\n",
       "\t<tr><td>France</td><td>Europe</td><td>1977</td><td>73.830</td><td>53165019</td><td>18292.635</td></tr>\n",
       "\t<tr><td>France</td><td>Europe</td><td>1982</td><td>74.890</td><td>54433565</td><td>20293.897</td></tr>\n",
       "\t<tr><td>France</td><td>Europe</td><td>1987</td><td>76.340</td><td>55630100</td><td>22066.442</td></tr>\n",
       "\t<tr><td>France</td><td>Europe</td><td>1992</td><td>77.460</td><td>57374179</td><td>24703.796</td></tr>\n",
       "\t<tr><td>France</td><td>Europe</td><td>1997</td><td>78.640</td><td>58623428</td><td>25889.785</td></tr>\n",
       "\t<tr><td>France</td><td>Europe</td><td>2002</td><td>79.590</td><td>59925035</td><td>28926.032</td></tr>\n",
       "\t<tr><td>France</td><td>Europe</td><td>2007</td><td>80.657</td><td>61083916</td><td>30470.017</td></tr>\n",
       "</tbody>\n",
       "</table>\n"
      ],
      "text/latex": [
       "A tibble: 12 × 6\n",
       "\\begin{tabular}{llllll}\n",
       " country & continent & year & lifeExp & pop & gdpPercap\\\\\n",
       " <fct> & <fct> & <int> & <dbl> & <int> & <dbl>\\\\\n",
       "\\hline\n",
       "\t France & Europe & 1952 & 67.410 & 42459667 &  7029.809\\\\\n",
       "\t France & Europe & 1957 & 68.930 & 44310863 &  8662.835\\\\\n",
       "\t France & Europe & 1962 & 70.510 & 47124000 & 10560.486\\\\\n",
       "\t France & Europe & 1967 & 71.550 & 49569000 & 12999.918\\\\\n",
       "\t France & Europe & 1972 & 72.380 & 51732000 & 16107.192\\\\\n",
       "\t France & Europe & 1977 & 73.830 & 53165019 & 18292.635\\\\\n",
       "\t France & Europe & 1982 & 74.890 & 54433565 & 20293.897\\\\\n",
       "\t France & Europe & 1987 & 76.340 & 55630100 & 22066.442\\\\\n",
       "\t France & Europe & 1992 & 77.460 & 57374179 & 24703.796\\\\\n",
       "\t France & Europe & 1997 & 78.640 & 58623428 & 25889.785\\\\\n",
       "\t France & Europe & 2002 & 79.590 & 59925035 & 28926.032\\\\\n",
       "\t France & Europe & 2007 & 80.657 & 61083916 & 30470.017\\\\\n",
       "\\end{tabular}\n"
      ],
      "text/markdown": [
       "\n",
       "A tibble: 12 × 6\n",
       "\n",
       "| country &lt;fct&gt; | continent &lt;fct&gt; | year &lt;int&gt; | lifeExp &lt;dbl&gt; | pop &lt;int&gt; | gdpPercap &lt;dbl&gt; |\n",
       "|---|---|---|---|---|---|\n",
       "| France | Europe | 1952 | 67.410 | 42459667 |  7029.809 |\n",
       "| France | Europe | 1957 | 68.930 | 44310863 |  8662.835 |\n",
       "| France | Europe | 1962 | 70.510 | 47124000 | 10560.486 |\n",
       "| France | Europe | 1967 | 71.550 | 49569000 | 12999.918 |\n",
       "| France | Europe | 1972 | 72.380 | 51732000 | 16107.192 |\n",
       "| France | Europe | 1977 | 73.830 | 53165019 | 18292.635 |\n",
       "| France | Europe | 1982 | 74.890 | 54433565 | 20293.897 |\n",
       "| France | Europe | 1987 | 76.340 | 55630100 | 22066.442 |\n",
       "| France | Europe | 1992 | 77.460 | 57374179 | 24703.796 |\n",
       "| France | Europe | 1997 | 78.640 | 58623428 | 25889.785 |\n",
       "| France | Europe | 2002 | 79.590 | 59925035 | 28926.032 |\n",
       "| France | Europe | 2007 | 80.657 | 61083916 | 30470.017 |\n",
       "\n"
      ],
      "text/plain": [
       "   country continent year lifeExp pop      gdpPercap\n",
       "1  France  Europe    1952 67.410  42459667  7029.809\n",
       "2  France  Europe    1957 68.930  44310863  8662.835\n",
       "3  France  Europe    1962 70.510  47124000 10560.486\n",
       "4  France  Europe    1967 71.550  49569000 12999.918\n",
       "5  France  Europe    1972 72.380  51732000 16107.192\n",
       "6  France  Europe    1977 73.830  53165019 18292.635\n",
       "7  France  Europe    1982 74.890  54433565 20293.897\n",
       "8  France  Europe    1987 76.340  55630100 22066.442\n",
       "9  France  Europe    1992 77.460  57374179 24703.796\n",
       "10 France  Europe    1997 78.640  58623428 25889.785\n",
       "11 France  Europe    2002 79.590  59925035 28926.032\n",
       "12 France  Europe    2007 80.657  61083916 30470.017"
      ]
     },
     "metadata": {},
     "output_type": "display_data"
    },
    {
     "name": "stdout",
     "output_type": "stream",
     "text": [
      "\u001b[90m# A tibble: 12 x 6\u001b[39m\n",
      "   country continent  year lifeExp      pop gdpPercap\n",
      "   \u001b[3m\u001b[90m<fct>\u001b[39m\u001b[23m   \u001b[3m\u001b[90m<fct>\u001b[39m\u001b[23m     \u001b[3m\u001b[90m<int>\u001b[39m\u001b[23m   \u001b[3m\u001b[90m<dbl>\u001b[39m\u001b[23m    \u001b[3m\u001b[90m<int>\u001b[39m\u001b[23m     \u001b[3m\u001b[90m<dbl>\u001b[39m\u001b[23m\n",
      "\u001b[90m 1\u001b[39m France  Europe     \u001b[4m1\u001b[24m952    67.4 42\u001b[4m4\u001b[24m\u001b[4m5\u001b[24m\u001b[4m9\u001b[24m667     \u001b[4m7\u001b[24m030.\n",
      "\u001b[90m 2\u001b[39m France  Europe     \u001b[4m1\u001b[24m957    68.9 44\u001b[4m3\u001b[24m\u001b[4m1\u001b[24m\u001b[4m0\u001b[24m863     \u001b[4m8\u001b[24m663.\n",
      "\u001b[90m 3\u001b[39m France  Europe     \u001b[4m1\u001b[24m962    70.5 47\u001b[4m1\u001b[24m\u001b[4m2\u001b[24m\u001b[4m4\u001b[24m000    \u001b[4m1\u001b[24m\u001b[4m0\u001b[24m560.\n",
      "\u001b[90m 4\u001b[39m France  Europe     \u001b[4m1\u001b[24m967    71.6 49\u001b[4m5\u001b[24m\u001b[4m6\u001b[24m\u001b[4m9\u001b[24m000    \u001b[4m1\u001b[24m\u001b[4m3\u001b[24m000.\n",
      "\u001b[90m 5\u001b[39m France  Europe     \u001b[4m1\u001b[24m972    72.4 51\u001b[4m7\u001b[24m\u001b[4m3\u001b[24m\u001b[4m2\u001b[24m000    \u001b[4m1\u001b[24m\u001b[4m6\u001b[24m107.\n",
      "\u001b[90m 6\u001b[39m France  Europe     \u001b[4m1\u001b[24m977    73.8 53\u001b[4m1\u001b[24m\u001b[4m6\u001b[24m\u001b[4m5\u001b[24m019    \u001b[4m1\u001b[24m\u001b[4m8\u001b[24m293.\n",
      "\u001b[90m 7\u001b[39m France  Europe     \u001b[4m1\u001b[24m982    74.9 54\u001b[4m4\u001b[24m\u001b[4m3\u001b[24m\u001b[4m3\u001b[24m565    \u001b[4m2\u001b[24m\u001b[4m0\u001b[24m294.\n",
      "\u001b[90m 8\u001b[39m France  Europe     \u001b[4m1\u001b[24m987    76.3 55\u001b[4m6\u001b[24m\u001b[4m3\u001b[24m\u001b[4m0\u001b[24m100    \u001b[4m2\u001b[24m\u001b[4m2\u001b[24m066.\n",
      "\u001b[90m 9\u001b[39m France  Europe     \u001b[4m1\u001b[24m992    77.5 57\u001b[4m3\u001b[24m\u001b[4m7\u001b[24m\u001b[4m4\u001b[24m179    \u001b[4m2\u001b[24m\u001b[4m4\u001b[24m704.\n",
      "\u001b[90m10\u001b[39m France  Europe     \u001b[4m1\u001b[24m997    78.6 58\u001b[4m6\u001b[24m\u001b[4m2\u001b[24m\u001b[4m3\u001b[24m428    \u001b[4m2\u001b[24m\u001b[4m5\u001b[24m890.\n",
      "\u001b[90m11\u001b[39m France  Europe     \u001b[4m2\u001b[24m002    79.6 59\u001b[4m9\u001b[24m\u001b[4m2\u001b[24m\u001b[4m5\u001b[24m035    \u001b[4m2\u001b[24m\u001b[4m8\u001b[24m926.\n",
      "\u001b[90m12\u001b[39m France  Europe     \u001b[4m2\u001b[24m007    80.7 61\u001b[4m0\u001b[24m\u001b[4m8\u001b[24m\u001b[4m3\u001b[24m916    \u001b[4m3\u001b[24m\u001b[4m0\u001b[24m470.\n"
     ]
    }
   ],
   "source": [
    "(answer3.1 <- gapminder %>%\n",
    "   filter(country == 'France'))\n",
    "print(answer3.1)"
   ]
  },
  {
   "cell_type": "code",
   "execution_count": 76,
   "metadata": {
    "deletable": false,
    "editable": false,
    "nbgrader": {
     "cell_type": "code",
     "checksum": "470e7f27ccbb2ec3ace2385337a4609f",
     "grade": true,
     "grade_id": "cell-5d65551ed7f404dd",
     "locked": true,
     "points": 1,
     "schema_version": 3,
     "solution": false,
     "task": false
    }
   },
   "outputs": [
    {
     "name": "stderr",
     "output_type": "stream",
     "text": [
      "Warning message in normalizePath(path.expand(path), winslash, mustWork):\n",
      "\"path[1]=\"C:/Users/41615/OneDrive/×ÀÃæ/stat545a/worksheets\": The system cannot find the path specified\"\n",
      "Warning message in normalizePath(path.expand(path), winslash, mustWork):\n",
      "\"path[1]=\"C:/Users/41615/OneDrive/×ÀÃæ/stat545a/worksheets\": The system cannot find the path specified\"\n",
      "Warning message in normalizePath(path.expand(path), winslash, mustWork):\n",
      "\"path[1]=\"C:/Users/41615/OneDrive/×ÀÃæ/stat545a\": The system cannot find the path specified\"\n",
      "Warning message in normalizePath(path.expand(path), winslash, mustWork):\n",
      "\"path[1]=\"C:/Users/41615/OneDrive/×ÀÃæ/stat545a\": The system cannot find the path specified\"\n",
      "Warning message in normalizePath(path.expand(path), winslash, mustWork):\n",
      "\"path[1]=\"C:/Users/41615/OneDrive/×ÀÃæ\": The system cannot find the file specified\"\n",
      "Warning message in normalizePath(path.expand(path), winslash, mustWork):\n",
      "\"path[1]=\"C:/Users/41615/OneDrive/×ÀÃæ\": The system cannot find the file specified\"\n"
     ]
    },
    {
     "name": "stdout",
     "output_type": "stream",
     "text": [
      "\u001b[32mTest passed\u001b[39m \n"
     ]
    }
   ],
   "source": [
    "test_that(\"Question 3.1\", {expect_equal(digest(unclass(answer3.1)), \"a6125bcbb25047b7a8c932acbb1f2250\")})"
   ]
  },
  {
   "cell_type": "markdown",
   "metadata": {
    "deletable": false,
    "editable": false,
    "nbgrader": {
     "cell_type": "markdown",
     "checksum": "d5d926752629890d00af8375f7545f54",
     "grade": false,
     "grade_id": "cell-9d3e1e0a4ba92267",
     "locked": true,
     "schema_version": 3,
     "solution": false,
     "task": false
    }
   },
   "source": [
    "### Question 3.2\n",
    "\n",
    "> Fit a linear regression model to life expectancy (\"Y\") from year (\"X\") by filling in the formula\n",
    "\n",
    "Now, using the `lm()` function we will create the linear model. Store your answer in `answer3.2`.\n",
    "\n",
    "```\n",
    "(answer3.2 <- FILL_THIS_IN(FILL_THIS_IN ~ FILL_THIS_IN, answer3.1)\n",
    "```"
   ]
  },
  {
   "cell_type": "code",
   "execution_count": 81,
   "metadata": {
    "deletable": false,
    "nbgrader": {
     "cell_type": "code",
     "checksum": "d7d88f3472df2967ef641d309d7f1d60",
     "grade": false,
     "grade_id": "cell-bd086872f7c88b6f",
     "locked": false,
     "schema_version": 3,
     "solution": true,
     "task": false
    }
   },
   "outputs": [
    {
     "data": {
      "text/plain": [
       "\n",
       "Call:\n",
       "lm(formula = lifeExp ~ year, data = answer3.1)\n",
       "\n",
       "Coefficients:\n",
       "(Intercept)         year  \n",
       "  -397.7646       0.2385  \n"
      ]
     },
     "metadata": {},
     "output_type": "display_data"
    },
    {
     "name": "stdout",
     "output_type": "stream",
     "text": [
      "\n",
      "Call:\n",
      "lm(formula = lifeExp ~ year, data = answer3.1)\n",
      "\n",
      "Coefficients:\n",
      "(Intercept)         year  \n",
      "  -397.7646       0.2385  \n",
      "\n"
     ]
    }
   ],
   "source": [
    "(answer3.2 <- lm(lifeExp ~ year, answer3.1))\n",
    "print(answer3.2)"
   ]
  },
  {
   "cell_type": "code",
   "execution_count": 82,
   "metadata": {
    "deletable": false,
    "editable": false,
    "nbgrader": {
     "cell_type": "code",
     "checksum": "a4f38b8888914854770c240ee9cfc8b8",
     "grade": true,
     "grade_id": "cell-c32548a2940be4dd",
     "locked": true,
     "points": 1,
     "schema_version": 3,
     "solution": false,
     "task": false
    }
   },
   "outputs": [
    {
     "name": "stderr",
     "output_type": "stream",
     "text": [
      "Warning message in normalizePath(path.expand(path), winslash, mustWork):\n",
      "\"path[1]=\"C:/Users/41615/OneDrive/×ÀÃæ/stat545a/worksheets\": The system cannot find the path specified\"\n",
      "Warning message in normalizePath(path.expand(path), winslash, mustWork):\n",
      "\"path[1]=\"C:/Users/41615/OneDrive/×ÀÃæ/stat545a/worksheets\": The system cannot find the path specified\"\n",
      "Warning message in normalizePath(path.expand(path), winslash, mustWork):\n",
      "\"path[1]=\"C:/Users/41615/OneDrive/×ÀÃæ/stat545a\": The system cannot find the path specified\"\n",
      "Warning message in normalizePath(path.expand(path), winslash, mustWork):\n",
      "\"path[1]=\"C:/Users/41615/OneDrive/×ÀÃæ/stat545a\": The system cannot find the path specified\"\n",
      "Warning message in normalizePath(path.expand(path), winslash, mustWork):\n",
      "\"path[1]=\"C:/Users/41615/OneDrive/×ÀÃæ\": The system cannot find the file specified\"\n",
      "Warning message in normalizePath(path.expand(path), winslash, mustWork):\n",
      "\"path[1]=\"C:/Users/41615/OneDrive/×ÀÃæ\": The system cannot find the file specified\"\n"
     ]
    },
    {
     "name": "stdout",
     "output_type": "stream",
     "text": [
      "\u001b[32mTest passed\u001b[39m \n",
      "[1] \"Success!\"\n"
     ]
    }
   ],
   "source": [
    "test_that(\"Question 3.2\", {\n",
    "    expect_known_hash(round(coef(answer3.2), 4), \"e7375b4c2683882feb9d7215f6929f69\")\n",
    "    expect_known_hash(answer3.2$terms, \"9c71cfd9974bfbc8e160b1a31936d137\")\n",
    "})\n",
    "print(\"Success!\")"
   ]
  },
  {
   "cell_type": "markdown",
   "metadata": {
    "deletable": false,
    "editable": false,
    "nbgrader": {
     "cell_type": "markdown",
     "checksum": "e9bc0726c2d192ce8fe869704596cdd6",
     "grade": false,
     "grade_id": "cell-0d8ce437120f0108",
     "locked": true,
     "schema_version": 3,
     "solution": false,
     "task": false
    }
   },
   "source": [
    "## Question 3.3\n",
    "\n",
    "We are interested in the modeling results around the modeling period which starts at year 1952. To get a meaniningful \"interpretable\" intercept we can use the `I()` function.\n",
    "\n",
    "Use `I()` to make the intercept so that the \"beginning\" of our dataset (1952) corresponds to '0' in the model. This makes all the years in the data set relative to the first year, 1952.\n",
    "\n",
    "Store your answer in `answer3.3`.\n",
    "\n",
    "```\n",
    "answer3.3 <- FILL_THIS_IN(FILL_THIS_IN ~ I(FILL_THIS_IN-1952), answer3.1)\n",
    "```"
   ]
  },
  {
   "cell_type": "code",
   "execution_count": 96,
   "metadata": {
    "deletable": false,
    "nbgrader": {
     "cell_type": "code",
     "checksum": "00e146e90647bde49727c7e4bd0cb2ca",
     "grade": false,
     "grade_id": "cell-de478c362e72ff34",
     "locked": false,
     "schema_version": 3,
     "solution": true,
     "task": false
    }
   },
   "outputs": [
    {
     "name": "stdout",
     "output_type": "stream",
     "text": [
      "\n",
      "Call:\n",
      "lm(formula = lifeExp ~ I(year - 1952), data = answer3.1)\n",
      "\n",
      "Coefficients:\n",
      "   (Intercept)  I(year - 1952)  \n",
      "       67.7901          0.2385  \n",
      "\n"
     ]
    }
   ],
   "source": [
    "answer3.3 <- lm(lifeExp ~ I(year-1952), answer3.1)\n",
    "print(answer3.3)"
   ]
  },
  {
   "cell_type": "code",
   "execution_count": 86,
   "metadata": {
    "deletable": false,
    "editable": false,
    "nbgrader": {
     "cell_type": "code",
     "checksum": "a223e427e3e1b0a392fae644b992053c",
     "grade": true,
     "grade_id": "cell-f63ce0b4b32b1c75",
     "locked": true,
     "points": 1,
     "schema_version": 3,
     "solution": false,
     "task": false
    }
   },
   "outputs": [
    {
     "name": "stderr",
     "output_type": "stream",
     "text": [
      "Warning message in normalizePath(path.expand(path), winslash, mustWork):\n",
      "\"path[1]=\"C:/Users/41615/OneDrive/×ÀÃæ/stat545a/worksheets\": The system cannot find the path specified\"\n",
      "Warning message in normalizePath(path.expand(path), winslash, mustWork):\n",
      "\"path[1]=\"C:/Users/41615/OneDrive/×ÀÃæ/stat545a/worksheets\": The system cannot find the path specified\"\n",
      "Warning message in normalizePath(path.expand(path), winslash, mustWork):\n",
      "\"path[1]=\"C:/Users/41615/OneDrive/×ÀÃæ/stat545a\": The system cannot find the path specified\"\n",
      "Warning message in normalizePath(path.expand(path), winslash, mustWork):\n",
      "\"path[1]=\"C:/Users/41615/OneDrive/×ÀÃæ/stat545a\": The system cannot find the path specified\"\n",
      "Warning message in normalizePath(path.expand(path), winslash, mustWork):\n",
      "\"path[1]=\"C:/Users/41615/OneDrive/×ÀÃæ\": The system cannot find the file specified\"\n",
      "Warning message in normalizePath(path.expand(path), winslash, mustWork):\n",
      "\"path[1]=\"C:/Users/41615/OneDrive/×ÀÃæ\": The system cannot find the file specified\"\n"
     ]
    },
    {
     "name": "stdout",
     "output_type": "stream",
     "text": [
      "\u001b[32mTest passed\u001b[39m \n"
     ]
    }
   ],
   "source": [
    "test_that(\"Question 3.3\", {\n",
    "    expect_known_hash(round(coef(answer3.3), 4), \"6a83f591b39b440f2a699dbee2c23468\")\n",
    "    expect_known_hash(answer3.3$terms, \"f7d8f19ef010f5932ba9b321f3f88282\")\n",
    "})"
   ]
  },
  {
   "cell_type": "markdown",
   "metadata": {
    "deletable": false,
    "editable": false,
    "nbgrader": {
     "cell_type": "markdown",
     "checksum": "92a2a472efe2710d3ef8c31aeba6737b",
     "grade": false,
     "grade_id": "cell-e7c56c14d223147e",
     "locked": true,
     "schema_version": 3,
     "solution": false,
     "task": false
    }
   },
   "source": [
    "## Question 3.4\n",
    "Use the `unclass()` function to take a look at how the `lm()` object actually looks like. Store your answer in `answer3.4`.\n",
    "\n",
    "```\n",
    "answer3.4 <- FILL_THIS_IN(answer3.3)\n",
    "```"
   ]
  },
  {
   "cell_type": "code",
   "execution_count": 87,
   "metadata": {
    "deletable": false,
    "nbgrader": {
     "cell_type": "code",
     "checksum": "2b5c4fdd351a5538db72befde4e6922e",
     "grade": false,
     "grade_id": "cell-314348ceb2597207",
     "locked": false,
     "schema_version": 3,
     "solution": true,
     "task": false
    }
   },
   "outputs": [
    {
     "name": "stdout",
     "output_type": "stream",
     "text": [
      "$coefficients\n",
      "   (Intercept) I(year - 1952) \n",
      "    67.7901282      0.2385014 \n",
      "\n",
      "$residuals\n",
      "          1           2           3           4           5           6 \n",
      "-0.38012821 -0.05263520  0.33485781  0.18235082 -0.18015618  0.07733683 \n",
      "          7           8           9          10          11          12 \n",
      "-0.05517016  0.20232284  0.12981585  0.11730886 -0.12519814 -0.25070513 \n",
      "\n",
      "$effects\n",
      "   (Intercept) I(year - 1952)                                              \n",
      " -257.55220231    14.26030956     0.41516662     0.26479522    -0.09557618 \n",
      "                                                                           \n",
      "    0.16405242     0.03368103     0.29330963     0.22293823     0.21256684 \n",
      "                              \n",
      "   -0.02780456    -0.15117596 \n",
      "\n",
      "$rank\n",
      "[1] 2\n",
      "\n",
      "$fitted.values\n",
      "       1        2        3        4        5        6        7        8 \n",
      "67.79013 68.98264 70.17514 71.36765 72.56016 73.75266 74.94517 76.13768 \n",
      "       9       10       11       12 \n",
      "77.33018 78.52269 79.71520 80.90771 \n",
      "\n",
      "$assign\n",
      "[1] 0 1\n",
      "\n",
      "$qr\n",
      "$qr\n",
      "   (Intercept) I(year - 1952)\n",
      "1   -3.4641016   -95.26279442\n",
      "2    0.2886751    59.79130372\n",
      "3    0.2886751     0.18965544\n",
      "4    0.2886751     0.10603124\n",
      "5    0.2886751     0.02240704\n",
      "6    0.2886751    -0.06121716\n",
      "7    0.2886751    -0.14484136\n",
      "8    0.2886751    -0.22846557\n",
      "9    0.2886751    -0.31208977\n",
      "10   0.2886751    -0.39571397\n",
      "11   0.2886751    -0.47933817\n",
      "12   0.2886751    -0.56296237\n",
      "attr(,\"assign\")\n",
      "[1] 0 1\n",
      "\n",
      "$qraux\n",
      "[1] 1.288675 1.273280\n",
      "\n",
      "$pivot\n",
      "[1] 1 2\n",
      "\n",
      "$tol\n",
      "[1] 1e-07\n",
      "\n",
      "$rank\n",
      "[1] 2\n",
      "\n",
      "attr(,\"class\")\n",
      "[1] \"qr\"\n",
      "\n",
      "$df.residual\n",
      "[1] 10\n",
      "\n",
      "$xlevels\n",
      "named list()\n",
      "\n",
      "$call\n",
      "lm(formula = lifeExp ~ I(year - 1952), data = answer3.1)\n",
      "\n",
      "$terms\n",
      "lifeExp ~ I(year - 1952)\n",
      "attr(,\"variables\")\n",
      "list(lifeExp, I(year - 1952))\n",
      "attr(,\"factors\")\n",
      "               I(year - 1952)\n",
      "lifeExp                     0\n",
      "I(year - 1952)              1\n",
      "attr(,\"term.labels\")\n",
      "[1] \"I(year - 1952)\"\n",
      "attr(,\"order\")\n",
      "[1] 1\n",
      "attr(,\"intercept\")\n",
      "[1] 1\n",
      "attr(,\"response\")\n",
      "[1] 1\n",
      "attr(,\".Environment\")\n",
      "<environment: R_GlobalEnv>\n",
      "attr(,\"predvars\")\n",
      "list(lifeExp, I(year - 1952))\n",
      "attr(,\"dataClasses\")\n",
      "       lifeExp I(year - 1952) \n",
      "     \"numeric\"      \"numeric\" \n",
      "\n",
      "$model\n",
      "   lifeExp I(year - 1952)\n",
      "1   67.410              0\n",
      "2   68.930              5\n",
      "3   70.510             10\n",
      "4   71.550             15\n",
      "5   72.380             20\n",
      "6   73.830             25\n",
      "7   74.890             30\n",
      "8   76.340             35\n",
      "9   77.460             40\n",
      "10  78.640             45\n",
      "11  79.590             50\n",
      "12  80.657             55\n",
      "\n"
     ]
    }
   ],
   "source": [
    "answer3.4 <- unclass(answer3.3)\n",
    "print(answer3.4)"
   ]
  },
  {
   "cell_type": "code",
   "execution_count": 88,
   "metadata": {
    "deletable": false,
    "editable": false,
    "nbgrader": {
     "cell_type": "code",
     "checksum": "99ea6d9b8e892a171fd12d4acc246826",
     "grade": true,
     "grade_id": "cell-bb41acc822c171ff",
     "locked": true,
     "points": 1,
     "schema_version": 3,
     "solution": false,
     "task": false
    }
   },
   "outputs": [
    {
     "name": "stderr",
     "output_type": "stream",
     "text": [
      "Warning message in normalizePath(path.expand(path), winslash, mustWork):\n",
      "\"path[1]=\"C:/Users/41615/OneDrive/×ÀÃæ/stat545a/worksheets\": The system cannot find the path specified\"\n",
      "Warning message in normalizePath(path.expand(path), winslash, mustWork):\n",
      "\"path[1]=\"C:/Users/41615/OneDrive/×ÀÃæ/stat545a/worksheets\": The system cannot find the path specified\"\n",
      "Warning message in normalizePath(path.expand(path), winslash, mustWork):\n",
      "\"path[1]=\"C:/Users/41615/OneDrive/×ÀÃæ/stat545a\": The system cannot find the path specified\"\n",
      "Warning message in normalizePath(path.expand(path), winslash, mustWork):\n",
      "\"path[1]=\"C:/Users/41615/OneDrive/×ÀÃæ/stat545a\": The system cannot find the path specified\"\n",
      "Warning message in normalizePath(path.expand(path), winslash, mustWork):\n",
      "\"path[1]=\"C:/Users/41615/OneDrive/×ÀÃæ\": The system cannot find the file specified\"\n",
      "Warning message in normalizePath(path.expand(path), winslash, mustWork):\n",
      "\"path[1]=\"C:/Users/41615/OneDrive/×ÀÃæ\": The system cannot find the file specified\"\n"
     ]
    },
    {
     "name": "stdout",
     "output_type": "stream",
     "text": [
      "\u001b[32mTest passed\u001b[39m \n"
     ]
    }
   ],
   "source": [
    "test_that(\"Question 3.4\", {\n",
    "    expect_known_hash(round(answer3.4$coefficients, 4), \"6a83f591b39b440f2a699dbee2c23468\")\n",
    "    expect_known_hash(class(answer3.4), \"086ebc4c59c08c43e75bae74f1e16897\")\n",
    "    expect_known_hash(answer3.4$terms, \"f7d8f19ef010f5932ba9b321f3f88282\")\n",
    "    \n",
    "})"
   ]
  },
  {
   "cell_type": "markdown",
   "metadata": {
    "deletable": false,
    "editable": false,
    "nbgrader": {
     "cell_type": "markdown",
     "checksum": "877d8e1ea3781fafe097497db1d5d7ce",
     "grade": false,
     "grade_id": "cell-4952813e2dd68ae0",
     "locked": true,
     "schema_version": 3,
     "solution": false,
     "task": false
    }
   },
   "source": [
    "# Part 4: Producing Tidy Tibbles with broom\n",
    "\n",
    "## Question 4.1\n",
    "\n",
    "Apply `broom::tidy()` to `answer3.3`. Store your answer in `answer4.1`.\n",
    "\n",
    "```\n",
    "answer4.1 <- FILL_THIS_IN(answer3.3)\n",
    "```"
   ]
  },
  {
   "cell_type": "code",
   "execution_count": 89,
   "metadata": {
    "deletable": false,
    "nbgrader": {
     "cell_type": "code",
     "checksum": "2f527796ad9d3684c086f91009e5bb27",
     "grade": false,
     "grade_id": "cell-ac2a0fd0bdb6d050",
     "locked": false,
     "schema_version": 3,
     "solution": true,
     "task": false
    }
   },
   "outputs": [
    {
     "name": "stdout",
     "output_type": "stream",
     "text": [
      "\u001b[90m# A tibble: 2 x 5\u001b[39m\n",
      "  term           estimate std.error statistic  p.value\n",
      "  \u001b[3m\u001b[90m<chr>\u001b[39m\u001b[23m             \u001b[3m\u001b[90m<dbl>\u001b[39m\u001b[23m     \u001b[3m\u001b[90m<dbl>\u001b[39m\u001b[23m     \u001b[3m\u001b[90m<dbl>\u001b[39m\u001b[23m    \u001b[3m\u001b[90m<dbl>\u001b[39m\u001b[23m\n",
      "\u001b[90m1\u001b[39m (Intercept)      67.8     0.119       567.  7.12\u001b[90me\u001b[39m\u001b[31m-24\u001b[39m\n",
      "\u001b[90m2\u001b[39m I(year - 1952)    0.239   0.003\u001b[4m6\u001b[24m\u001b[4m8\u001b[24m      64.8 1.86\u001b[90me\u001b[39m\u001b[31m-14\u001b[39m\n"
     ]
    }
   ],
   "source": [
    "answer4.1 <- broom::tidy(answer3.3)\n",
    "print(answer4.1)"
   ]
  },
  {
   "cell_type": "code",
   "execution_count": 90,
   "metadata": {
    "deletable": false,
    "editable": false,
    "nbgrader": {
     "cell_type": "code",
     "checksum": "f6847b669d83ff1c50c0013471229d65",
     "grade": true,
     "grade_id": "cell-bcc656e0f1096684",
     "locked": true,
     "points": 1,
     "schema_version": 3,
     "solution": false,
     "task": false
    }
   },
   "outputs": [
    {
     "name": "stderr",
     "output_type": "stream",
     "text": [
      "Warning message in normalizePath(path.expand(path), winslash, mustWork):\n",
      "\"path[1]=\"C:/Users/41615/OneDrive/×ÀÃæ/stat545a/worksheets\": The system cannot find the path specified\"\n",
      "Warning message in normalizePath(path.expand(path), winslash, mustWork):\n",
      "\"path[1]=\"C:/Users/41615/OneDrive/×ÀÃæ/stat545a/worksheets\": The system cannot find the path specified\"\n",
      "Warning message in normalizePath(path.expand(path), winslash, mustWork):\n",
      "\"path[1]=\"C:/Users/41615/OneDrive/×ÀÃæ/stat545a\": The system cannot find the path specified\"\n",
      "Warning message in normalizePath(path.expand(path), winslash, mustWork):\n",
      "\"path[1]=\"C:/Users/41615/OneDrive/×ÀÃæ/stat545a\": The system cannot find the path specified\"\n",
      "Warning message in normalizePath(path.expand(path), winslash, mustWork):\n",
      "\"path[1]=\"C:/Users/41615/OneDrive/×ÀÃæ\": The system cannot find the file specified\"\n",
      "Warning message in normalizePath(path.expand(path), winslash, mustWork):\n",
      "\"path[1]=\"C:/Users/41615/OneDrive/×ÀÃæ\": The system cannot find the file specified\"\n"
     ]
    },
    {
     "name": "stdout",
     "output_type": "stream",
     "text": [
      "\u001b[32mTest passed\u001b[39m \n"
     ]
    }
   ],
   "source": [
    "test_that(\"Question 4.1\", {\n",
    "    expect_known_hash(dimnames(answer4.1), \"b7e5db66048ee1c33cb090078dc59103\")\n",
    "    expect_known_hash(answer4.1[[1]], \"6736fedebcaa557ef7a78f8db206000f\")\n",
    "    expect_known_hash(round(answer4.1[[3]], 4), \"004727aa166a650b3f55c2c11f6be257\")\n",
    "})"
   ]
  },
  {
   "cell_type": "markdown",
   "metadata": {
    "deletable": false,
    "editable": false,
    "nbgrader": {
     "cell_type": "markdown",
     "checksum": "f29fbfd40877c43a1ac25ccd6e579688",
     "grade": false,
     "grade_id": "cell-9b91f64b029dc78f",
     "locked": true,
     "schema_version": 3,
     "solution": false,
     "task": false
    }
   },
   "source": [
    "## Question 4.2\n",
    "Apply `broom::augment()` to `answer3.3`. Store your answer in `answer4.2`.\n",
    "\n",
    "```\n",
    "answer4.2 <- FILL_THIS_IN(answer3.3)\n",
    "```"
   ]
  },
  {
   "cell_type": "code",
   "execution_count": 91,
   "metadata": {
    "deletable": false,
    "nbgrader": {
     "cell_type": "code",
     "checksum": "ae09ff412dabf99718319b599d19adc6",
     "grade": false,
     "grade_id": "cell-11acddecce607fde",
     "locked": false,
     "schema_version": 3,
     "solution": true,
     "task": false
    }
   },
   "outputs": [
    {
     "name": "stdout",
     "output_type": "stream",
     "text": [
      "\u001b[90m# A tibble: 12 x 7\u001b[39m\n",
      "   lifeExp `I(year - 1952)` .fitted   .hat .sigma .cooksd .std.resid\n",
      "     \u001b[3m\u001b[90m<dbl>\u001b[39m\u001b[23m         \u001b[3m\u001b[90m<I<dbl>>\u001b[39m\u001b[23m   \u001b[3m\u001b[90m<dbl>\u001b[39m\u001b[23m  \u001b[3m\u001b[90m<dbl>\u001b[39m\u001b[23m  \u001b[3m\u001b[90m<dbl>\u001b[39m\u001b[23m   \u001b[3m\u001b[90m<dbl>\u001b[39m\u001b[23m      \u001b[3m\u001b[90m<dbl>\u001b[39m\u001b[23m\n",
      "\u001b[90m 1\u001b[39m    67.4                0    67.8 0.295   0.176 0.885       -\u001b[31m2\u001b[39m\u001b[31m.\u001b[39m\u001b[31m0\u001b[39m\u001b[31m6\u001b[39m \n",
      "\u001b[90m 2\u001b[39m    68.9                5    69.0 0.225   0.231 0.010\u001b[4m7\u001b[24m      -\u001b[31m0\u001b[39m\u001b[31m.\u001b[39m\u001b[31m272\u001b[39m\n",
      "\u001b[90m 3\u001b[39m    70.5               10    70.2 0.169   0.197 0.283        1.67 \n",
      "\u001b[90m 4\u001b[39m    71.6               15    71.4 0.127   0.223 0.057\u001b[4m2\u001b[24m       0.887\n",
      "\u001b[90m 5\u001b[39m    72.4               20    72.6 0.099\u001b[4m1\u001b[24m  0.223 0.040\u001b[4m9\u001b[24m      -\u001b[31m0\u001b[39m\u001b[31m.\u001b[39m\u001b[31m863\u001b[39m\n",
      "\u001b[90m 6\u001b[39m    73.8               25    73.8 0.085\u001b[4m1\u001b[24m  0.230 0.006\u001b[4m2\u001b[24m\u001b[4m8\u001b[24m      0.367\n",
      "\u001b[90m 7\u001b[39m    74.9               30    74.9 0.085\u001b[4m1\u001b[24m  0.231 0.003\u001b[4m1\u001b[24m\u001b[4m9\u001b[24m     -\u001b[31m0\u001b[39m\u001b[31m.\u001b[39m\u001b[31m262\u001b[39m\n",
      "\u001b[90m 8\u001b[39m    76.3               35    76.1 0.099\u001b[4m1\u001b[24m  0.221 0.051\u001b[4m6\u001b[24m       0.969\n",
      "\u001b[90m 9\u001b[39m    77.5               40    77.3 0.127   0.227 0.029\u001b[4m0\u001b[24m       0.631\n",
      "\u001b[90m10\u001b[39m    78.6               45    78.5 0.169   0.228 0.034\u001b[4m8\u001b[24m       0.585\n",
      "\u001b[90m11\u001b[39m    79.6               50    79.7 0.225   0.227 0.060\u001b[4m6\u001b[24m      -\u001b[31m0\u001b[39m\u001b[31m.\u001b[39m\u001b[31m646\u001b[39m\n",
      "\u001b[90m12\u001b[39m    80.7               55    80.9 0.295   0.210 0.385       -\u001b[31m1\u001b[39m\u001b[31m.\u001b[39m\u001b[31m36\u001b[39m \n"
     ]
    }
   ],
   "source": [
    "answer4.2 <- broom::augment(answer3.3)\n",
    "print(answer4.2)"
   ]
  },
  {
   "cell_type": "code",
   "execution_count": 92,
   "metadata": {
    "deletable": false,
    "editable": false,
    "nbgrader": {
     "cell_type": "code",
     "checksum": "9f4b7426811ba605bcc3d8617b64d06e",
     "grade": true,
     "grade_id": "cell-6f28d2ff5f8a394c",
     "locked": true,
     "points": 1,
     "schema_version": 3,
     "solution": false,
     "task": false
    }
   },
   "outputs": [
    {
     "name": "stderr",
     "output_type": "stream",
     "text": [
      "Warning message in normalizePath(path.expand(path), winslash, mustWork):\n",
      "\"path[1]=\"C:/Users/41615/OneDrive/×ÀÃæ/stat545a/worksheets\": The system cannot find the path specified\"\n",
      "Warning message in normalizePath(path.expand(path), winslash, mustWork):\n",
      "\"path[1]=\"C:/Users/41615/OneDrive/×ÀÃæ/stat545a/worksheets\": The system cannot find the path specified\"\n",
      "Warning message in normalizePath(path.expand(path), winslash, mustWork):\n",
      "\"path[1]=\"C:/Users/41615/OneDrive/×ÀÃæ/stat545a\": The system cannot find the path specified\"\n",
      "Warning message in normalizePath(path.expand(path), winslash, mustWork):\n",
      "\"path[1]=\"C:/Users/41615/OneDrive/×ÀÃæ/stat545a\": The system cannot find the path specified\"\n",
      "Warning message in normalizePath(path.expand(path), winslash, mustWork):\n",
      "\"path[1]=\"C:/Users/41615/OneDrive/×ÀÃæ\": The system cannot find the file specified\"\n",
      "Warning message in normalizePath(path.expand(path), winslash, mustWork):\n",
      "\"path[1]=\"C:/Users/41615/OneDrive/×ÀÃæ\": The system cannot find the file specified\"\n"
     ]
    },
    {
     "name": "stdout",
     "output_type": "stream",
     "text": [
      "\u001b[32mTest passed\u001b[39m \n"
     ]
    }
   ],
   "source": [
    "test_that(\"Question 4.2\", {\n",
    "    expect_known_hash(round(answer4.2$.fitted, 4), \"3a2e6323312173544d30c4dc75d5b604\")\n",
    "    expect_known_hash(round(answer4.2$.std.resid, 4), \"b2796c0f920703cb5066fcda716be2e7\")\n",
    "})"
   ]
  },
  {
   "cell_type": "markdown",
   "metadata": {
    "deletable": false,
    "editable": false,
    "nbgrader": {
     "cell_type": "markdown",
     "checksum": "930307c8120dd6a552f486130ae0ee8a",
     "grade": false,
     "grade_id": "cell-10c482e46bfb6925",
     "locked": true,
     "schema_version": 3,
     "solution": false,
     "task": false
    }
   },
   "source": [
    "## Question 4.3\n",
    "Apply `broom::glance()` to `answer3.3`. Store your answer in `answer4.3`.\n",
    "\n",
    "```\n",
    "answer4.3 <- FILL_THIS_IN(answer3.3)\n",
    "```"
   ]
  },
  {
   "cell_type": "code",
   "execution_count": 94,
   "metadata": {
    "deletable": false,
    "nbgrader": {
     "cell_type": "code",
     "checksum": "565342293534ce3f622e45ede3d9d8db",
     "grade": false,
     "grade_id": "cell-6fc7f2ff75650015",
     "locked": false,
     "schema_version": 3,
     "solution": true,
     "task": false
    }
   },
   "outputs": [
    {
     "name": "stdout",
     "output_type": "stream",
     "text": [
      "\u001b[90m# A tibble: 1 x 12\u001b[39m\n",
      "  r.squared adj.r.squared sigma statistic  p.value    df logLik   AIC   BIC\n",
      "      \u001b[3m\u001b[90m<dbl>\u001b[39m\u001b[23m         \u001b[3m\u001b[90m<dbl>\u001b[39m\u001b[23m \u001b[3m\u001b[90m<dbl>\u001b[39m\u001b[23m     \u001b[3m\u001b[90m<dbl>\u001b[39m\u001b[23m    \u001b[3m\u001b[90m<dbl>\u001b[39m\u001b[23m \u001b[3m\u001b[90m<dbl>\u001b[39m\u001b[23m  \u001b[3m\u001b[90m<dbl>\u001b[39m\u001b[23m \u001b[3m\u001b[90m<dbl>\u001b[39m\u001b[23m \u001b[3m\u001b[90m<dbl>\u001b[39m\u001b[23m\n",
      "\u001b[90m1\u001b[39m     0.998         0.997 0.220     \u001b[4m4\u001b[24m200. 1.86\u001b[90me\u001b[39m\u001b[31m-14\u001b[39m     1   2.23  1.53  2.99\n",
      "\u001b[90m# ... with 3 more variables: deviance <dbl>, df.residual <int>, nobs <int>\u001b[39m\n"
     ]
    }
   ],
   "source": [
    "answer4.3 <- broom::glance(answer3.3)\n",
    "print(answer4.3)"
   ]
  },
  {
   "cell_type": "code",
   "execution_count": 95,
   "metadata": {
    "deletable": false,
    "editable": false,
    "nbgrader": {
     "cell_type": "code",
     "checksum": "88422bae6debf6dbd3c1595e90eec4dd",
     "grade": true,
     "grade_id": "cell-0c6c4d5f47779e91",
     "locked": true,
     "points": 1,
     "schema_version": 3,
     "solution": false,
     "task": false
    }
   },
   "outputs": [
    {
     "name": "stderr",
     "output_type": "stream",
     "text": [
      "Warning message in normalizePath(path.expand(path), winslash, mustWork):\n",
      "\"path[1]=\"C:/Users/41615/OneDrive/×ÀÃæ/stat545a/worksheets\": The system cannot find the path specified\"\n",
      "Warning message in normalizePath(path.expand(path), winslash, mustWork):\n",
      "\"path[1]=\"C:/Users/41615/OneDrive/×ÀÃæ/stat545a/worksheets\": The system cannot find the path specified\"\n",
      "Warning message in normalizePath(path.expand(path), winslash, mustWork):\n",
      "\"path[1]=\"C:/Users/41615/OneDrive/×ÀÃæ/stat545a\": The system cannot find the path specified\"\n",
      "Warning message in normalizePath(path.expand(path), winslash, mustWork):\n",
      "\"path[1]=\"C:/Users/41615/OneDrive/×ÀÃæ/stat545a\": The system cannot find the path specified\"\n",
      "Warning message in normalizePath(path.expand(path), winslash, mustWork):\n",
      "\"path[1]=\"C:/Users/41615/OneDrive/×ÀÃæ\": The system cannot find the file specified\"\n",
      "Warning message in normalizePath(path.expand(path), winslash, mustWork):\n",
      "\"path[1]=\"C:/Users/41615/OneDrive/×ÀÃæ\": The system cannot find the file specified\"\n"
     ]
    },
    {
     "name": "stdout",
     "output_type": "stream",
     "text": [
      "\u001b[32mTest passed\u001b[39m \n"
     ]
    }
   ],
   "source": [
    "test_that(\"Question 4.3\", {\n",
    "    expect_known_hash(dimnames(answer4.3), \"78044903eb403fb9220d796ac127297c\")\n",
    "    expect_known_hash(round(answer4.3[[2]], 4), \"a3ec6ee89f16b0783571e8f9e26c9ef5\")\n",
    "    expect_known_hash(round(answer4.3[[4]], 4), \"f95d29661fc511c6a038ae4e06b9ea02\")\n",
    "})"
   ]
  },
  {
   "cell_type": "markdown",
   "metadata": {},
   "source": [
    "### Attribution\n",
    "\n",
    "Thanks to Diana Lin, Icíar Fernández Boyano, David Kepplinger, and Vincenzo Coia for putting this worksheet together."
   ]
  }
 ],
 "metadata": {
  "kernelspec": {
   "display_name": "R",
   "language": "R",
   "name": "ir"
  },
  "language_info": {
   "codemirror_mode": "r",
   "file_extension": ".r",
   "mimetype": "text/x-r-source",
   "name": "R",
   "pygments_lexer": "r",
   "version": "4.1.1"
  }
 },
 "nbformat": 4,
 "nbformat_minor": 4
}
