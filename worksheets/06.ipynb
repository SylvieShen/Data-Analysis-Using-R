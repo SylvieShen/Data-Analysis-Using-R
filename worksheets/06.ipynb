{
 "cells": [
  {
   "cell_type": "markdown",
   "metadata": {
    "deletable": false,
    "editable": false,
    "lines_to_next_cell": 0,
    "nbgrader": {
     "cell_type": "markdown",
     "checksum": "0457bfcd7bc8c1869f609b8a38e2c3b7",
     "grade": false,
     "grade_id": "cell-a52fdbcf333bb582",
     "locked": true,
     "schema_version": 3,
     "solution": false,
     "task": false
    }
   },
   "source": [
    "# Worksheet A-6: File Input/Output\n",
    "\n",
    "## Getting Started\n",
    "\n",
    "Load the requirements for this worksheet:"
   ]
  },
  {
   "cell_type": "code",
   "execution_count": 1,
   "metadata": {
    "deletable": false,
    "editable": false,
    "nbgrader": {
     "cell_type": "code",
     "checksum": "900a7578ae02823393bceda3f78ca4f2",
     "grade": false,
     "grade_id": "cell-c48a21406e8bb917",
     "locked": true,
     "schema_version": 3,
     "solution": false,
     "task": false
    }
   },
   "outputs": [],
   "source": [
    "suppressPackageStartupMessages(library(tidyverse))\n",
    "suppressPackageStartupMessages(library(gapminder))\n",
    "suppressPackageStartupMessages(library(here))\n",
    "suppressPackageStartupMessages(library(testthat))\n",
    "suppressPackageStartupMessages(library(reprex))"
   ]
  },
  {
   "cell_type": "markdown",
   "metadata": {
    "deletable": false,
    "editable": false,
    "nbgrader": {
     "cell_type": "markdown",
     "checksum": "b07ea912a0f1341d65c7ba3f17b63ff2",
     "grade": false,
     "grade_id": "cell-4950c9707fd0acb4",
     "locked": true,
     "schema_version": 3,
     "solution": false,
     "task": false
    }
   },
   "source": [
    "The following code chunk has been unlocked, to give you the flexibility to start this document with some of your own code. Remember, it's bad manners to keep a call to `install.packages()` in your source code, so don't forget to delete these lines if you ever need to run them."
   ]
  },
  {
   "cell_type": "code",
   "execution_count": 4,
   "metadata": {},
   "outputs": [
    {
     "name": "stderr",
     "output_type": "stream",
     "text": [
      "Installing package into 'C:/Users/41615/Documents/R/win-library/4.1'\n",
      "(as 'lib' is unspecified)\n",
      "\n"
     ]
    },
    {
     "name": "stdout",
     "output_type": "stream",
     "text": [
      "package 'here' successfully unpacked and MD5 sums checked\n",
      "\n",
      "The downloaded binary packages are in\n",
      "\tC:\\Users\\41615\\AppData\\Local\\Temp\\RtmpU7uSlt\\downloaded_packages\n"
     ]
    }
   ],
   "source": [
    "#install.packages(\"here\")"
   ]
  },
  {
   "cell_type": "markdown",
   "metadata": {
    "deletable": false,
    "editable": false,
    "nbgrader": {
     "cell_type": "markdown",
     "checksum": "9154871a91c101b31509f4a9f3a6f74f",
     "grade": false,
     "grade_id": "cell-ff4d90bac29bce18",
     "locked": true,
     "schema_version": 3,
     "solution": false,
     "task": false
    }
   },
   "source": [
    "# Part 1: Writing and reading data from disk\n",
    "\n",
    "For writing R objects to your computer, and reading tabular data into R, we can use the `tidyverse` package `readr`, which is loaded when running `library(tidyverse)`.\n",
    "\n",
    "Let's filter the data only from 2007 and only in the Asia continent and save it to a variable."
   ]
  },
  {
   "cell_type": "code",
   "execution_count": 19,
   "metadata": {
    "deletable": false,
    "editable": false,
    "nbgrader": {
     "cell_type": "code",
     "checksum": "b3f973c95dc6f98d4d096167104a68f3",
     "grade": false,
     "grade_id": "cell-9d75f3c8b0c06607",
     "locked": true,
     "schema_version": 3,
     "solution": false,
     "task": false
    }
   },
   "outputs": [
    {
     "data": {
      "text/html": [
       "<table class=\"dataframe\">\n",
       "<caption>A tibble: 6 × 6</caption>\n",
       "<thead>\n",
       "\t<tr><th scope=col>country</th><th scope=col>continent</th><th scope=col>year</th><th scope=col>lifeExp</th><th scope=col>pop</th><th scope=col>gdpPercap</th></tr>\n",
       "\t<tr><th scope=col>&lt;fct&gt;</th><th scope=col>&lt;fct&gt;</th><th scope=col>&lt;int&gt;</th><th scope=col>&lt;dbl&gt;</th><th scope=col>&lt;int&gt;</th><th scope=col>&lt;dbl&gt;</th></tr>\n",
       "</thead>\n",
       "<tbody>\n",
       "\t<tr><td>Afghanistan     </td><td>Asia</td><td>2007</td><td>43.828</td><td>  31889923</td><td>  974.5803</td></tr>\n",
       "\t<tr><td>Bahrain         </td><td>Asia</td><td>2007</td><td>75.635</td><td>    708573</td><td>29796.0483</td></tr>\n",
       "\t<tr><td>Bangladesh      </td><td>Asia</td><td>2007</td><td>64.062</td><td> 150448339</td><td> 1391.2538</td></tr>\n",
       "\t<tr><td>Cambodia        </td><td>Asia</td><td>2007</td><td>59.723</td><td>  14131858</td><td> 1713.7787</td></tr>\n",
       "\t<tr><td>China           </td><td>Asia</td><td>2007</td><td>72.961</td><td>1318683096</td><td> 4959.1149</td></tr>\n",
       "\t<tr><td>Hong Kong, China</td><td>Asia</td><td>2007</td><td>82.208</td><td>   6980412</td><td>39724.9787</td></tr>\n",
       "</tbody>\n",
       "</table>\n"
      ],
      "text/latex": [
       "A tibble: 6 × 6\n",
       "\\begin{tabular}{llllll}\n",
       " country & continent & year & lifeExp & pop & gdpPercap\\\\\n",
       " <fct> & <fct> & <int> & <dbl> & <int> & <dbl>\\\\\n",
       "\\hline\n",
       "\t Afghanistan      & Asia & 2007 & 43.828 &   31889923 &   974.5803\\\\\n",
       "\t Bahrain          & Asia & 2007 & 75.635 &     708573 & 29796.0483\\\\\n",
       "\t Bangladesh       & Asia & 2007 & 64.062 &  150448339 &  1391.2538\\\\\n",
       "\t Cambodia         & Asia & 2007 & 59.723 &   14131858 &  1713.7787\\\\\n",
       "\t China            & Asia & 2007 & 72.961 & 1318683096 &  4959.1149\\\\\n",
       "\t Hong Kong, China & Asia & 2007 & 82.208 &    6980412 & 39724.9787\\\\\n",
       "\\end{tabular}\n"
      ],
      "text/markdown": [
       "\n",
       "A tibble: 6 × 6\n",
       "\n",
       "| country &lt;fct&gt; | continent &lt;fct&gt; | year &lt;int&gt; | lifeExp &lt;dbl&gt; | pop &lt;int&gt; | gdpPercap &lt;dbl&gt; |\n",
       "|---|---|---|---|---|---|\n",
       "| Afghanistan      | Asia | 2007 | 43.828 |   31889923 |   974.5803 |\n",
       "| Bahrain          | Asia | 2007 | 75.635 |     708573 | 29796.0483 |\n",
       "| Bangladesh       | Asia | 2007 | 64.062 |  150448339 |  1391.2538 |\n",
       "| Cambodia         | Asia | 2007 | 59.723 |   14131858 |  1713.7787 |\n",
       "| China            | Asia | 2007 | 72.961 | 1318683096 |  4959.1149 |\n",
       "| Hong Kong, China | Asia | 2007 | 82.208 |    6980412 | 39724.9787 |\n",
       "\n"
      ],
      "text/plain": [
       "  country          continent year lifeExp pop        gdpPercap \n",
       "1 Afghanistan      Asia      2007 43.828    31889923   974.5803\n",
       "2 Bahrain          Asia      2007 75.635      708573 29796.0483\n",
       "3 Bangladesh       Asia      2007 64.062   150448339  1391.2538\n",
       "4 Cambodia         Asia      2007 59.723    14131858  1713.7787\n",
       "5 China            Asia      2007 72.961  1318683096  4959.1149\n",
       "6 Hong Kong, China Asia      2007 82.208     6980412 39724.9787"
      ]
     },
     "metadata": {},
     "output_type": "display_data"
    }
   ],
   "source": [
    "gap_asia_2007 <- gapminder %>% \n",
    "  filter(year == 2007, continent == \"Asia\")\n",
    "head(gap_asia_2007)"
   ]
  },
  {
   "cell_type": "markdown",
   "metadata": {
    "deletable": false,
    "editable": false,
    "nbgrader": {
     "cell_type": "markdown",
     "checksum": "f6a80ad6378affa30621f6b281c2cfda",
     "grade": false,
     "grade_id": "cell-92d93e5de5944b49",
     "locked": true,
     "schema_version": 3,
     "solution": false,
     "task": false
    }
   },
   "source": [
    "## Question 1.1\n",
    "\n",
    "Write `gap_asia_2007` to a comma-separated value (csv) file named `exported_file.csv` with just one command:\n",
    "\n",
    "```\n",
    "write_csv(FILL_THIS_IN, \"exported_file.csv\")\n",
    "```\n",
    "\n",
    "Note: no need to make any variables for this question. Check out your files after executing this line!"
   ]
  },
  {
   "cell_type": "code",
   "execution_count": 20,
   "metadata": {
    "deletable": false,
    "lines_to_next_cell": 0,
    "nbgrader": {
     "cell_type": "code",
     "checksum": "5745abbebd52c72e7f8187ecaa89b317",
     "grade": false,
     "grade_id": "cell-dc036d146cef2025",
     "locked": false,
     "schema_version": 3,
     "solution": true,
     "task": false
    }
   },
   "outputs": [],
   "source": [
    "write_csv(gap_asia_2007, \"exported_file.csv\")"
   ]
  },
  {
   "cell_type": "code",
   "execution_count": 4,
   "metadata": {
    "deletable": false,
    "editable": false,
    "nbgrader": {
     "cell_type": "code",
     "checksum": "24f7255f1e2e0f235dfc9a49703febbc",
     "grade": true,
     "grade_id": "cell-f8b2ff75e5097542",
     "locked": true,
     "points": 1,
     "schema_version": 3,
     "solution": false,
     "task": false
    }
   },
   "outputs": [
    {
     "name": "stdout",
     "output_type": "stream",
     "text": [
      "\u001b[32mTest passed\u001b[39m \n"
     ]
    }
   ],
   "source": [
    "test_that(\"Question 1.1\", {\n",
    "    expect_true(file.exists('exported_file.csv'))\n",
    "    with(read.table('exported_file.csv', header = TRUE, sep = ',', stringsAsFactors = FALSE), {\n",
    "        ctr_order <- order(enc2utf8(country), method = 'radix')\n",
    "        expect_known_hash(country[ctr_order], '502e6665c327bdbc211f89c785ee853b')\n",
    "        expect_known_hash(as.integer(pop[ctr_order]), '8bb3c4cc0e3a3380ff82cbd9fe83b2cb')\n",
    "    })\n",
    "})"
   ]
  },
  {
   "cell_type": "markdown",
   "metadata": {
    "deletable": false,
    "editable": false,
    "nbgrader": {
     "cell_type": "markdown",
     "checksum": "ef00c802569a3d1b0cd2abe36ef8aeb4",
     "grade": false,
     "grade_id": "cell-95e05c5acbdd7a28",
     "locked": true,
     "schema_version": 3,
     "solution": false,
     "task": false
    }
   },
   "source": [
    "## Question 1.2\n",
    "\n",
    "Let's use the function `read_csv` to read in `exported_file.csv` back into R and store this as the variable `gap_asia_2007_in`.\n",
    "\n",
    "```\n",
    "gap_asia_2007_in <- read_csv(\"FILL_THIS_IN\")\n",
    "\n",
    "```"
   ]
  },
  {
   "cell_type": "code",
   "execution_count": 21,
   "metadata": {
    "deletable": false,
    "lines_to_next_cell": 0,
    "nbgrader": {
     "cell_type": "code",
     "checksum": "2ffb88c3aa456a7ca3b91129b29f673e",
     "grade": false,
     "grade_id": "cell-0f65d0f778ec6287",
     "locked": false,
     "schema_version": 3,
     "solution": true,
     "task": false
    }
   },
   "outputs": [
    {
     "name": "stderr",
     "output_type": "stream",
     "text": [
      "\u001b[1m\u001b[1mRows: \u001b[1m\u001b[22m\u001b[34m\u001b[34m33\u001b[34m\u001b[39m \u001b[1m\u001b[1mColumns: \u001b[1m\u001b[22m\u001b[34m\u001b[34m6\u001b[34m\u001b[39m\n",
      "\n",
      "\u001b[36m--\u001b[39m \u001b[1m\u001b[1mColumn specification\u001b[1m\u001b[22m \u001b[36m------------------------------------------------------------------------------------------------\u001b[39m\n",
      "\u001b[1mDelimiter:\u001b[22m \",\"\n",
      "\u001b[31mchr\u001b[39m (2): country, continent\n",
      "\u001b[32mdbl\u001b[39m (4): year, lifeExp, pop, gdpPercap\n",
      "\n",
      "\n",
      "\u001b[36mi\u001b[39m Use \u001b[30m\u001b[47m\u001b[30m\u001b[47m`spec()`\u001b[47m\u001b[30m\u001b[49m\u001b[39m to retrieve the full column specification for this data.\n",
      "\u001b[36mi\u001b[39m Specify the column types or set \u001b[30m\u001b[47m\u001b[30m\u001b[47m`show_col_types = FALSE`\u001b[47m\u001b[30m\u001b[49m\u001b[39m to quiet this message.\n",
      "\n"
     ]
    },
    {
     "data": {
      "text/html": [
       "<table class=\"dataframe\">\n",
       "<caption>A tibble: 6 × 6</caption>\n",
       "<thead>\n",
       "\t<tr><th scope=col>country</th><th scope=col>continent</th><th scope=col>year</th><th scope=col>lifeExp</th><th scope=col>pop</th><th scope=col>gdpPercap</th></tr>\n",
       "\t<tr><th scope=col>&lt;chr&gt;</th><th scope=col>&lt;chr&gt;</th><th scope=col>&lt;dbl&gt;</th><th scope=col>&lt;dbl&gt;</th><th scope=col>&lt;dbl&gt;</th><th scope=col>&lt;dbl&gt;</th></tr>\n",
       "</thead>\n",
       "<tbody>\n",
       "\t<tr><td>Afghanistan     </td><td>Asia</td><td>2007</td><td>43.828</td><td>  31889923</td><td>  974.5803</td></tr>\n",
       "\t<tr><td>Bahrain         </td><td>Asia</td><td>2007</td><td>75.635</td><td>    708573</td><td>29796.0483</td></tr>\n",
       "\t<tr><td>Bangladesh      </td><td>Asia</td><td>2007</td><td>64.062</td><td> 150448339</td><td> 1391.2538</td></tr>\n",
       "\t<tr><td>Cambodia        </td><td>Asia</td><td>2007</td><td>59.723</td><td>  14131858</td><td> 1713.7787</td></tr>\n",
       "\t<tr><td>China           </td><td>Asia</td><td>2007</td><td>72.961</td><td>1318683096</td><td> 4959.1149</td></tr>\n",
       "\t<tr><td>Hong Kong, China</td><td>Asia</td><td>2007</td><td>82.208</td><td>   6980412</td><td>39724.9787</td></tr>\n",
       "</tbody>\n",
       "</table>\n"
      ],
      "text/latex": [
       "A tibble: 6 × 6\n",
       "\\begin{tabular}{llllll}\n",
       " country & continent & year & lifeExp & pop & gdpPercap\\\\\n",
       " <chr> & <chr> & <dbl> & <dbl> & <dbl> & <dbl>\\\\\n",
       "\\hline\n",
       "\t Afghanistan      & Asia & 2007 & 43.828 &   31889923 &   974.5803\\\\\n",
       "\t Bahrain          & Asia & 2007 & 75.635 &     708573 & 29796.0483\\\\\n",
       "\t Bangladesh       & Asia & 2007 & 64.062 &  150448339 &  1391.2538\\\\\n",
       "\t Cambodia         & Asia & 2007 & 59.723 &   14131858 &  1713.7787\\\\\n",
       "\t China            & Asia & 2007 & 72.961 & 1318683096 &  4959.1149\\\\\n",
       "\t Hong Kong, China & Asia & 2007 & 82.208 &    6980412 & 39724.9787\\\\\n",
       "\\end{tabular}\n"
      ],
      "text/markdown": [
       "\n",
       "A tibble: 6 × 6\n",
       "\n",
       "| country &lt;chr&gt; | continent &lt;chr&gt; | year &lt;dbl&gt; | lifeExp &lt;dbl&gt; | pop &lt;dbl&gt; | gdpPercap &lt;dbl&gt; |\n",
       "|---|---|---|---|---|---|\n",
       "| Afghanistan      | Asia | 2007 | 43.828 |   31889923 |   974.5803 |\n",
       "| Bahrain          | Asia | 2007 | 75.635 |     708573 | 29796.0483 |\n",
       "| Bangladesh       | Asia | 2007 | 64.062 |  150448339 |  1391.2538 |\n",
       "| Cambodia         | Asia | 2007 | 59.723 |   14131858 |  1713.7787 |\n",
       "| China            | Asia | 2007 | 72.961 | 1318683096 |  4959.1149 |\n",
       "| Hong Kong, China | Asia | 2007 | 82.208 |    6980412 | 39724.9787 |\n",
       "\n"
      ],
      "text/plain": [
       "  country          continent year lifeExp pop        gdpPercap \n",
       "1 Afghanistan      Asia      2007 43.828    31889923   974.5803\n",
       "2 Bahrain          Asia      2007 75.635      708573 29796.0483\n",
       "3 Bangladesh       Asia      2007 64.062   150448339  1391.2538\n",
       "4 Cambodia         Asia      2007 59.723    14131858  1713.7787\n",
       "5 China            Asia      2007 72.961  1318683096  4959.1149\n",
       "6 Hong Kong, China Asia      2007 82.208     6980412 39724.9787"
      ]
     },
     "metadata": {},
     "output_type": "display_data"
    }
   ],
   "source": [
    "gap_asia_2007_in <- read_csv(\"exported_file.csv\")\n",
    "head(gap_asia_2007_in)"
   ]
  },
  {
   "cell_type": "code",
   "execution_count": 22,
   "metadata": {
    "deletable": false,
    "editable": false,
    "nbgrader": {
     "cell_type": "code",
     "checksum": "08796a2ba7ff4bd2405bcccfa3a85c82",
     "grade": true,
     "grade_id": "cell-8448390b94500381",
     "locked": true,
     "points": 1,
     "schema_version": 3,
     "solution": false,
     "task": false
    }
   },
   "outputs": [
    {
     "name": "stdout",
     "output_type": "stream",
     "text": [
      "\u001b[32mTest passed\u001b[39m \n"
     ]
    }
   ],
   "source": [
    "test_that(\"Question 1.2\", {\n",
    "    expect_known_hash(colnames(gap_asia_2007_in), 'cc76c54ddad925d63e472c77cd7bd7bf')\n",
    "    expect_known_hash(sapply(gap_asia_2007_in, typeof), '68eb6593a9f582ea9b4aec7862df6be4')\n",
    "    with(gap_asia_2007_in, {\n",
    "        ctr_order <- order(enc2utf8(country), method = 'radix')\n",
    "        expect_known_hash(country[ctr_order], '502e6665c327bdbc211f89c785ee853b')\n",
    "        expect_known_hash(unique(continent), 'a500021b40bafb5d1ad20bed151aab68')\n",
    "        expect_known_hash(round(lifeExp[ctr_order], 2), '9da5c364cf95548c95ea94de3193202b')\n",
    "    })\n",
    "})"
   ]
  },
  {
   "cell_type": "markdown",
   "metadata": {
    "deletable": false,
    "editable": false,
    "nbgrader": {
     "cell_type": "markdown",
     "checksum": "d5f66ae07f19d0d609630d48686cedf1",
     "grade": false,
     "grade_id": "cell-ab66c1758a1353d7",
     "locked": true,
     "schema_version": 3,
     "solution": false,
     "task": false
    }
   },
   "source": [
    "Notice the output of running `read_csv`. This tells us about the types of variables that were read in. It's a good habit to check this every time you run a `read_` function. Sometimes we might want to change how these variable types are specified...\n",
    "\n",
    "## Question 1.3\n",
    "\n",
    "Let's use the function `read_csv` to read in `exported_file.csv` back into R and store this as the variable `gap_asia_2007_in_cspec`.\n",
    "\n",
    "But! This time let's specify that we want the:\n",
    "\n",
    "- columns `country` and `continent` to be `factors`\n",
    "- all other column specification to be automatically determined by `read_csv`\n",
    "\n",
    "```\n",
    "gap_asia_2007_in_cspec <- FILL_THIS_IN(\n",
    "  \"FILL_THIS_IN.csv\", \n",
    "  col_types = cols(\n",
    "    country = col_factor(),\n",
    "    continent = FILL_THIS_IN\n",
    "  ))\n",
    "```"
   ]
  },
  {
   "cell_type": "code",
   "execution_count": 23,
   "metadata": {
    "deletable": false,
    "nbgrader": {
     "cell_type": "code",
     "checksum": "652fe5015c27fdffffabe5f45ef06fc2",
     "grade": false,
     "grade_id": "cell-339f9a2961c1b8f9",
     "locked": false,
     "schema_version": 3,
     "solution": true,
     "task": false
    }
   },
   "outputs": [
    {
     "data": {
      "text/html": [
       "<table class=\"dataframe\">\n",
       "<caption>A tibble: 6 × 6</caption>\n",
       "<thead>\n",
       "\t<tr><th scope=col>country</th><th scope=col>continent</th><th scope=col>year</th><th scope=col>lifeExp</th><th scope=col>pop</th><th scope=col>gdpPercap</th></tr>\n",
       "\t<tr><th scope=col>&lt;fct&gt;</th><th scope=col>&lt;fct&gt;</th><th scope=col>&lt;dbl&gt;</th><th scope=col>&lt;dbl&gt;</th><th scope=col>&lt;dbl&gt;</th><th scope=col>&lt;dbl&gt;</th></tr>\n",
       "</thead>\n",
       "<tbody>\n",
       "\t<tr><td>Afghanistan     </td><td>Asia</td><td>2007</td><td>43.828</td><td>  31889923</td><td>  974.5803</td></tr>\n",
       "\t<tr><td>Bahrain         </td><td>Asia</td><td>2007</td><td>75.635</td><td>    708573</td><td>29796.0483</td></tr>\n",
       "\t<tr><td>Bangladesh      </td><td>Asia</td><td>2007</td><td>64.062</td><td> 150448339</td><td> 1391.2538</td></tr>\n",
       "\t<tr><td>Cambodia        </td><td>Asia</td><td>2007</td><td>59.723</td><td>  14131858</td><td> 1713.7787</td></tr>\n",
       "\t<tr><td>China           </td><td>Asia</td><td>2007</td><td>72.961</td><td>1318683096</td><td> 4959.1149</td></tr>\n",
       "\t<tr><td>Hong Kong, China</td><td>Asia</td><td>2007</td><td>82.208</td><td>   6980412</td><td>39724.9787</td></tr>\n",
       "</tbody>\n",
       "</table>\n"
      ],
      "text/latex": [
       "A tibble: 6 × 6\n",
       "\\begin{tabular}{llllll}\n",
       " country & continent & year & lifeExp & pop & gdpPercap\\\\\n",
       " <fct> & <fct> & <dbl> & <dbl> & <dbl> & <dbl>\\\\\n",
       "\\hline\n",
       "\t Afghanistan      & Asia & 2007 & 43.828 &   31889923 &   974.5803\\\\\n",
       "\t Bahrain          & Asia & 2007 & 75.635 &     708573 & 29796.0483\\\\\n",
       "\t Bangladesh       & Asia & 2007 & 64.062 &  150448339 &  1391.2538\\\\\n",
       "\t Cambodia         & Asia & 2007 & 59.723 &   14131858 &  1713.7787\\\\\n",
       "\t China            & Asia & 2007 & 72.961 & 1318683096 &  4959.1149\\\\\n",
       "\t Hong Kong, China & Asia & 2007 & 82.208 &    6980412 & 39724.9787\\\\\n",
       "\\end{tabular}\n"
      ],
      "text/markdown": [
       "\n",
       "A tibble: 6 × 6\n",
       "\n",
       "| country &lt;fct&gt; | continent &lt;fct&gt; | year &lt;dbl&gt; | lifeExp &lt;dbl&gt; | pop &lt;dbl&gt; | gdpPercap &lt;dbl&gt; |\n",
       "|---|---|---|---|---|---|\n",
       "| Afghanistan      | Asia | 2007 | 43.828 |   31889923 |   974.5803 |\n",
       "| Bahrain          | Asia | 2007 | 75.635 |     708573 | 29796.0483 |\n",
       "| Bangladesh       | Asia | 2007 | 64.062 |  150448339 |  1391.2538 |\n",
       "| Cambodia         | Asia | 2007 | 59.723 |   14131858 |  1713.7787 |\n",
       "| China            | Asia | 2007 | 72.961 | 1318683096 |  4959.1149 |\n",
       "| Hong Kong, China | Asia | 2007 | 82.208 |    6980412 | 39724.9787 |\n",
       "\n"
      ],
      "text/plain": [
       "  country          continent year lifeExp pop        gdpPercap \n",
       "1 Afghanistan      Asia      2007 43.828    31889923   974.5803\n",
       "2 Bahrain          Asia      2007 75.635      708573 29796.0483\n",
       "3 Bangladesh       Asia      2007 64.062   150448339  1391.2538\n",
       "4 Cambodia         Asia      2007 59.723    14131858  1713.7787\n",
       "5 China            Asia      2007 72.961  1318683096  4959.1149\n",
       "6 Hong Kong, China Asia      2007 82.208     6980412 39724.9787"
      ]
     },
     "metadata": {},
     "output_type": "display_data"
    }
   ],
   "source": [
    "gap_asia_2007_in_cspec <- read_csv(\n",
    "  \"exported_file.csv\", \n",
    "  col_types = cols(\n",
    "    country = col_factor(),\n",
    "    continent = col_factor()\n",
    "  ))\n",
    "head(gap_asia_2007_in_cspec)"
   ]
  },
  {
   "cell_type": "code",
   "execution_count": 24,
   "metadata": {
    "deletable": false,
    "editable": false,
    "nbgrader": {
     "cell_type": "code",
     "checksum": "ba5069bc4d9de718d4dd2978c615b00d",
     "grade": true,
     "grade_id": "cell-0667fd5ae48a80f6",
     "locked": true,
     "points": 0,
     "schema_version": 3,
     "solution": false,
     "task": false
    }
   },
   "outputs": [
    {
     "name": "stdout",
     "output_type": "stream",
     "text": [
      "\u001b[32mTest passed\u001b[39m \n"
     ]
    }
   ],
   "source": [
    "test_that(\"Question 1.2\", {\n",
    "    expect_known_hash(sapply(gap_asia_2007_in_cspec, typeof), 'd3ed7d3a07fad8143eb7dd22d88d62a3')\n",
    "    with(gap_asia_2007_in_cspec, {\n",
    "        expect_known_hash(sort(enc2utf8(levels(country)), method = 'radix'), '502e6665c327bdbc211f89c785ee853b')\n",
    "        expect_known_hash(as.integer(continent), 'ccdd4647040ccea8f1863ae5e101edf9')\n",
    "    })\n",
    "})"
   ]
  },
  {
   "cell_type": "markdown",
   "metadata": {
    "deletable": false,
    "editable": false,
    "nbgrader": {
     "cell_type": "markdown",
     "checksum": "a2c4dc13f9da02a466d2242c6c07e280",
     "grade": false,
     "grade_id": "cell-d2c47ea01eefe9d8",
     "locked": true,
     "schema_version": 3,
     "solution": false,
     "task": false
    }
   },
   "source": [
    "## Question 1.4\n",
    "\n",
    "First, run the function `here::here()`. Note where this location is on your computer."
   ]
  },
  {
   "cell_type": "code",
   "execution_count": 25,
   "metadata": {
    "deletable": false,
    "editable": false,
    "nbgrader": {
     "cell_type": "code",
     "checksum": "9d3d4364fc7e2e304c16f6408bb60de7",
     "grade": false,
     "grade_id": "cell-2f48c1da44393751",
     "locked": true,
     "schema_version": 3,
     "solution": false,
     "task": false
    }
   },
   "outputs": [
    {
     "data": {
      "text/html": [
       "'C:/Users/41615/worksheet_a06.ipynb'"
      ],
      "text/latex": [
       "'C:/Users/41615/worksheet\\_a06.ipynb'"
      ],
      "text/markdown": [
       "'C:/Users/41615/worksheet_a06.ipynb'"
      ],
      "text/plain": [
       "[1] \"C:/Users/41615/worksheet_a06.ipynb\""
      ]
     },
     "metadata": {},
     "output_type": "display_data"
    }
   ],
   "source": [
    "here::here()"
   ]
  },
  {
   "cell_type": "markdown",
   "metadata": {
    "deletable": false,
    "editable": false,
    "nbgrader": {
     "cell_type": "markdown",
     "checksum": "6ac72e7ec37b25afb4409d2b0b4a6314",
     "grade": false,
     "grade_id": "cell-ba10c8d73a50992c",
     "locked": true,
     "schema_version": 3,
     "solution": false,
     "task": false
    }
   },
   "source": [
    "Second, in the location returned by `here::here()`, create a folder called **\"worksheet_06a_data\"**. You can do that manually using your file browswer, or by executing the following code:"
   ]
  },
  {
   "cell_type": "code",
   "execution_count": 26,
   "metadata": {
    "deletable": false,
    "editable": false,
    "nbgrader": {
     "cell_type": "code",
     "checksum": "835821795ef33e166b21daa2a91f8e17",
     "grade": false,
     "grade_id": "cell-5f1cd1346f451cca",
     "locked": true,
     "schema_version": 3,
     "solution": false,
     "task": false
    }
   },
   "outputs": [
    {
     "name": "stderr",
     "output_type": "stream",
     "text": [
      "Warning message in dir.create(here::here(\"worksheet_06a_data\")):\n",
      "\"'C:\\Users\\41615\\worksheet_a06.ipynb\\worksheet_06a_data' already exists\"\n"
     ]
    }
   ],
   "source": [
    "dir.create(here::here(\"worksheet_06a_data\"))"
   ]
  },
  {
   "cell_type": "markdown",
   "metadata": {
    "deletable": false,
    "editable": false,
    "nbgrader": {
     "cell_type": "markdown",
     "checksum": "f603fb8c57d371bc97b4bcc2e29d5864",
     "grade": false,
     "grade_id": "cell-2effbc49d9d7cffe",
     "locked": true,
     "schema_version": 3,
     "solution": false,
     "task": false
    }
   },
   "source": [
    "Your task now is to write the tibble `gap_asia_2007` to a `csv` file in your newly created folder. Name your file `here_exported_file.csv`. \n",
    "\n",
    "```\n",
    "write_csv(gap_asia_2007, FILL_THIS_IN(\"worksheet_06a_data\", FILL_THIS_IN.csv))\n",
    "```"
   ]
  },
  {
   "cell_type": "code",
   "execution_count": 27,
   "metadata": {
    "deletable": false,
    "lines_to_next_cell": 0,
    "nbgrader": {
     "cell_type": "code",
     "checksum": "954e9b653515a485202e67c3b33bd2d8",
     "grade": false,
     "grade_id": "cell-537277f01997b17c",
     "locked": false,
     "schema_version": 3,
     "solution": true,
     "task": false
    }
   },
   "outputs": [
    {
     "data": {
      "text/html": [
       "'here_exported_file.csv'"
      ],
      "text/latex": [
       "'here\\_exported\\_file.csv'"
      ],
      "text/markdown": [
       "'here_exported_file.csv'"
      ],
      "text/plain": [
       "[1] \"here_exported_file.csv\""
      ]
     },
     "metadata": {},
     "output_type": "display_data"
    }
   ],
   "source": [
    "write_csv(gap_asia_2007, here::here(\"worksheet_06a_data\", \"here_exported_file.csv\"))\n",
    "# View files in the worksheet_06a_data folder:\n",
    "dir(here::here(\"worksheet_06a_data\"))"
   ]
  },
  {
   "cell_type": "code",
   "execution_count": 29,
   "metadata": {
    "deletable": false,
    "editable": false,
    "nbgrader": {
     "cell_type": "code",
     "checksum": "9d5be284f96b35c6149f7e720d9091d4",
     "grade": true,
     "grade_id": "cell-5aacbda4d51ef339",
     "locked": true,
     "points": 1,
     "schema_version": 3,
     "solution": false,
     "task": false
    }
   },
   "outputs": [
    {
     "name": "stdout",
     "output_type": "stream",
     "text": [
      "\u001b[32mTest passed\u001b[39m \n"
     ]
    }
   ],
   "source": [
    "test_that(\"Question 1.4\", {\n",
    "    expect_true(dir.exists(here::here('worksheet_06a_data')))\n",
    "    expect_true(file.exists(here::here('worksheet_06a_data', 'here_exported_file.csv')))\n",
    "    expect_setequal(\n",
    "        unname(tools::md5sum(\"exported_file.csv\")), \n",
    "        unname(tools::md5sum(here::here('worksheet_06a_data', 'here_exported_file.csv')))\n",
    "    )\n",
    "    with(read.table(here::here('worksheet_06a_data', 'here_exported_file.csv'), \n",
    "                    header = TRUE, sep = ',', stringsAsFactors = FALSE), {\n",
    "        ctr_order <- order(enc2utf8(country), method = 'radix')\n",
    "        expect_known_hash(country[ctr_order], '502e6665c327bdbc211f89c785ee853b')\n",
    "        expect_known_hash(round(gdpPercap[ctr_order], 2), '78771a63570dc79433e9587793969a73')\n",
    "    })\n",
    "})"
   ]
  },
  {
   "cell_type": "markdown",
   "metadata": {
    "deletable": false,
    "editable": false,
    "nbgrader": {
     "cell_type": "markdown",
     "checksum": "39fd6f0065dbaadff1746a16fb12c277",
     "grade": false,
     "grade_id": "cell-a975ab4304a67a30",
     "locked": true,
     "schema_version": 3,
     "solution": false,
     "task": false
    }
   },
   "source": [
    "# TOPIC 2: Base R\n",
    "\n",
    "For this section, avoid using `tidyverse` functions when possible.\n",
    "\n",
    "## Question 2.1\n",
    "\n",
    "First, let's assign the alphabet to the vector `alphabet`:"
   ]
  },
  {
   "cell_type": "code",
   "execution_count": 30,
   "metadata": {
    "deletable": false,
    "editable": false,
    "nbgrader": {
     "cell_type": "code",
     "checksum": "d156f91892f0e9404fdbb5d5a09acf1b",
     "grade": false,
     "grade_id": "cell-5701189332505a69",
     "locked": true,
     "schema_version": 3,
     "solution": false,
     "task": false
    }
   },
   "outputs": [
    {
     "data": {
      "text/html": [
       "<style>\n",
       ".list-inline {list-style: none; margin:0; padding: 0}\n",
       ".list-inline>li {display: inline-block}\n",
       ".list-inline>li:not(:last-child)::after {content: \"\\00b7\"; padding: 0 .5ex}\n",
       "</style>\n",
       "<ol class=list-inline><li>'A'</li><li>'B'</li><li>'C'</li><li>'D'</li><li>'E'</li><li>'F'</li><li>'G'</li><li>'H'</li><li>'I'</li><li>'J'</li><li>'K'</li><li>'L'</li><li>'M'</li><li>'N'</li><li>'O'</li><li>'P'</li><li>'Q'</li><li>'R'</li><li>'S'</li><li>'T'</li><li>'U'</li><li>'V'</li><li>'W'</li><li>'X'</li><li>'Y'</li><li>'Z'</li></ol>\n"
      ],
      "text/latex": [
       "\\begin{enumerate*}\n",
       "\\item 'A'\n",
       "\\item 'B'\n",
       "\\item 'C'\n",
       "\\item 'D'\n",
       "\\item 'E'\n",
       "\\item 'F'\n",
       "\\item 'G'\n",
       "\\item 'H'\n",
       "\\item 'I'\n",
       "\\item 'J'\n",
       "\\item 'K'\n",
       "\\item 'L'\n",
       "\\item 'M'\n",
       "\\item 'N'\n",
       "\\item 'O'\n",
       "\\item 'P'\n",
       "\\item 'Q'\n",
       "\\item 'R'\n",
       "\\item 'S'\n",
       "\\item 'T'\n",
       "\\item 'U'\n",
       "\\item 'V'\n",
       "\\item 'W'\n",
       "\\item 'X'\n",
       "\\item 'Y'\n",
       "\\item 'Z'\n",
       "\\end{enumerate*}\n"
      ],
      "text/markdown": [
       "1. 'A'\n",
       "2. 'B'\n",
       "3. 'C'\n",
       "4. 'D'\n",
       "5. 'E'\n",
       "6. 'F'\n",
       "7. 'G'\n",
       "8. 'H'\n",
       "9. 'I'\n",
       "10. 'J'\n",
       "11. 'K'\n",
       "12. 'L'\n",
       "13. 'M'\n",
       "14. 'N'\n",
       "15. 'O'\n",
       "16. 'P'\n",
       "17. 'Q'\n",
       "18. 'R'\n",
       "19. 'S'\n",
       "20. 'T'\n",
       "21. 'U'\n",
       "22. 'V'\n",
       "23. 'W'\n",
       "24. 'X'\n",
       "25. 'Y'\n",
       "26. 'Z'\n",
       "\n",
       "\n"
      ],
      "text/plain": [
       " [1] \"A\" \"B\" \"C\" \"D\" \"E\" \"F\" \"G\" \"H\" \"I\" \"J\" \"K\" \"L\" \"M\" \"N\" \"O\" \"P\" \"Q\" \"R\" \"S\"\n",
       "[20] \"T\" \"U\" \"V\" \"W\" \"X\" \"Y\" \"Z\""
      ]
     },
     "metadata": {},
     "output_type": "display_data"
    }
   ],
   "source": [
    "(alphabet <- LETTERS)"
   ]
  },
  {
   "cell_type": "markdown",
   "metadata": {
    "deletable": false,
    "editable": false,
    "nbgrader": {
     "cell_type": "markdown",
     "checksum": "13107db044140775079678f60d63439e",
     "grade": false,
     "grade_id": "cell-49df2e07dc37ef51",
     "locked": true,
     "schema_version": 3,
     "solution": false,
     "task": false
    }
   },
   "source": [
    "Use `[]` to subset the 3rd and 7th element of the vector `alphabet`, and assign this to an R object called `a2.1`. \n",
    "\n",
    "```\n",
    "a2.1 <- alphabet[FILL_THIS_IN]\n",
    "```"
   ]
  },
  {
   "cell_type": "code",
   "execution_count": 31,
   "metadata": {
    "deletable": false,
    "lines_to_next_cell": 0,
    "nbgrader": {
     "cell_type": "code",
     "checksum": "aa462043ce5c4f863678bb74f3f293ed",
     "grade": false,
     "grade_id": "cell-b79dc64b081f578c",
     "locked": false,
     "schema_version": 3,
     "solution": true,
     "task": false
    }
   },
   "outputs": [
    {
     "data": {
      "text/html": [
       "<style>\n",
       ".list-inline {list-style: none; margin:0; padding: 0}\n",
       ".list-inline>li {display: inline-block}\n",
       ".list-inline>li:not(:last-child)::after {content: \"\\00b7\"; padding: 0 .5ex}\n",
       "</style>\n",
       "<ol class=list-inline><li>'C'</li><li>'G'</li></ol>\n"
      ],
      "text/latex": [
       "\\begin{enumerate*}\n",
       "\\item 'C'\n",
       "\\item 'G'\n",
       "\\end{enumerate*}\n"
      ],
      "text/markdown": [
       "1. 'C'\n",
       "2. 'G'\n",
       "\n",
       "\n"
      ],
      "text/plain": [
       "[1] \"C\" \"G\""
      ]
     },
     "metadata": {},
     "output_type": "display_data"
    }
   ],
   "source": [
    "a2.1 <- alphabet[c(3,7)]\n",
    "a2.1"
   ]
  },
  {
   "cell_type": "code",
   "execution_count": 32,
   "metadata": {
    "deletable": false,
    "editable": false,
    "nbgrader": {
     "cell_type": "code",
     "checksum": "4335e13d95dda9bd26071de78cd7a403",
     "grade": true,
     "grade_id": "cell-e34eff454c51eedd",
     "locked": true,
     "points": 1,
     "schema_version": 3,
     "solution": false,
     "task": false
    }
   },
   "outputs": [
    {
     "name": "stdout",
     "output_type": "stream",
     "text": [
      "\u001b[32mTest passed\u001b[39m \n"
     ]
    }
   ],
   "source": [
    "test_that(\"Question 2.1\", expect_known_hash(a2.1, '548ed661cd18d7e1c902348697727011'))"
   ]
  },
  {
   "cell_type": "markdown",
   "metadata": {
    "deletable": false,
    "editable": false,
    "nbgrader": {
     "cell_type": "markdown",
     "checksum": "51a7fe17350cbb068f17c4e47db53950",
     "grade": false,
     "grade_id": "cell-6fe136fd3a220c57",
     "locked": true,
     "schema_version": 3,
     "solution": false,
     "task": false
    }
   },
   "source": [
    "## Question 2.2\n",
    "\n",
    "Use `[]` to extract everything from the `alphabet` vector, except the third entry. Assign this to `a2.2`\n",
    "\n",
    "```\n",
    "a2.2 <- alphabet[FILL_THIS_IN]\n",
    "```"
   ]
  },
  {
   "cell_type": "code",
   "execution_count": 33,
   "metadata": {
    "deletable": false,
    "lines_to_next_cell": 0,
    "nbgrader": {
     "cell_type": "code",
     "checksum": "8b2773f5e8e1425b58369419cdc4aa30",
     "grade": false,
     "grade_id": "cell-46503448ea2a9cb9",
     "locked": false,
     "schema_version": 3,
     "solution": true,
     "task": false
    }
   },
   "outputs": [
    {
     "data": {
      "text/html": [
       "<style>\n",
       ".list-inline {list-style: none; margin:0; padding: 0}\n",
       ".list-inline>li {display: inline-block}\n",
       ".list-inline>li:not(:last-child)::after {content: \"\\00b7\"; padding: 0 .5ex}\n",
       "</style>\n",
       "<ol class=list-inline><li>'A'</li><li>'B'</li><li>'D'</li><li>'E'</li><li>'F'</li><li>'G'</li><li>'H'</li><li>'I'</li><li>'J'</li><li>'K'</li><li>'L'</li><li>'M'</li><li>'N'</li><li>'O'</li><li>'P'</li><li>'Q'</li><li>'R'</li><li>'S'</li><li>'T'</li><li>'U'</li><li>'V'</li><li>'W'</li><li>'X'</li><li>'Y'</li><li>'Z'</li></ol>\n"
      ],
      "text/latex": [
       "\\begin{enumerate*}\n",
       "\\item 'A'\n",
       "\\item 'B'\n",
       "\\item 'D'\n",
       "\\item 'E'\n",
       "\\item 'F'\n",
       "\\item 'G'\n",
       "\\item 'H'\n",
       "\\item 'I'\n",
       "\\item 'J'\n",
       "\\item 'K'\n",
       "\\item 'L'\n",
       "\\item 'M'\n",
       "\\item 'N'\n",
       "\\item 'O'\n",
       "\\item 'P'\n",
       "\\item 'Q'\n",
       "\\item 'R'\n",
       "\\item 'S'\n",
       "\\item 'T'\n",
       "\\item 'U'\n",
       "\\item 'V'\n",
       "\\item 'W'\n",
       "\\item 'X'\n",
       "\\item 'Y'\n",
       "\\item 'Z'\n",
       "\\end{enumerate*}\n"
      ],
      "text/markdown": [
       "1. 'A'\n",
       "2. 'B'\n",
       "3. 'D'\n",
       "4. 'E'\n",
       "5. 'F'\n",
       "6. 'G'\n",
       "7. 'H'\n",
       "8. 'I'\n",
       "9. 'J'\n",
       "10. 'K'\n",
       "11. 'L'\n",
       "12. 'M'\n",
       "13. 'N'\n",
       "14. 'O'\n",
       "15. 'P'\n",
       "16. 'Q'\n",
       "17. 'R'\n",
       "18. 'S'\n",
       "19. 'T'\n",
       "20. 'U'\n",
       "21. 'V'\n",
       "22. 'W'\n",
       "23. 'X'\n",
       "24. 'Y'\n",
       "25. 'Z'\n",
       "\n",
       "\n"
      ],
      "text/plain": [
       " [1] \"A\" \"B\" \"D\" \"E\" \"F\" \"G\" \"H\" \"I\" \"J\" \"K\" \"L\" \"M\" \"N\" \"O\" \"P\" \"Q\" \"R\" \"S\" \"T\"\n",
       "[20] \"U\" \"V\" \"W\" \"X\" \"Y\" \"Z\""
      ]
     },
     "metadata": {},
     "output_type": "display_data"
    }
   ],
   "source": [
    "a2.2 <- alphabet[-c(3)]\n",
    "a2.2"
   ]
  },
  {
   "cell_type": "code",
   "execution_count": 34,
   "metadata": {
    "deletable": false,
    "editable": false,
    "lines_to_next_cell": 2,
    "nbgrader": {
     "cell_type": "code",
     "checksum": "ca9635dca41c5d1ccbe85b8386829a51",
     "grade": true,
     "grade_id": "cell-caed098411987014",
     "locked": true,
     "points": 1,
     "schema_version": 3,
     "solution": false,
     "task": false
    }
   },
   "outputs": [
    {
     "name": "stdout",
     "output_type": "stream",
     "text": [
      "\u001b[32mTest passed\u001b[39m \n"
     ]
    }
   ],
   "source": [
    "test_that(\"Question 2.2\", expect_known_hash(a2.2, 'e637ddc1874226525a2c12063956edfa'))"
   ]
  },
  {
   "cell_type": "markdown",
   "metadata": {
    "deletable": false,
    "editable": false,
    "nbgrader": {
     "cell_type": "markdown",
     "checksum": "fb223ca60b262b393884ffa345862fb1",
     "grade": false,
     "grade_id": "cell-4ad94aa7ee66ed58",
     "locked": true,
     "schema_version": 3,
     "solution": false,
     "task": false
    }
   },
   "source": [
    "## Question 2.3\n",
    "\n",
    "Extract the 2nd to 19th entry of `alphabet` – make use of `:` to construct sequential vectors. Assign to the object `a2.3`\n",
    "\n",
    "```\n",
    "a2.3 <- alphabet[FILL_THIS_IN]\n",
    "```"
   ]
  },
  {
   "cell_type": "code",
   "execution_count": 35,
   "metadata": {
    "deletable": false,
    "lines_to_next_cell": 0,
    "nbgrader": {
     "cell_type": "code",
     "checksum": "c792d787133eec077e290e5748d04585",
     "grade": false,
     "grade_id": "cell-7e52beeb587753f4",
     "locked": false,
     "schema_version": 3,
     "solution": true,
     "task": false
    }
   },
   "outputs": [
    {
     "data": {
      "text/html": [
       "<style>\n",
       ".list-inline {list-style: none; margin:0; padding: 0}\n",
       ".list-inline>li {display: inline-block}\n",
       ".list-inline>li:not(:last-child)::after {content: \"\\00b7\"; padding: 0 .5ex}\n",
       "</style>\n",
       "<ol class=list-inline><li>'B'</li><li>'C'</li><li>'D'</li><li>'E'</li><li>'F'</li><li>'G'</li><li>'H'</li><li>'I'</li><li>'J'</li><li>'K'</li><li>'L'</li><li>'M'</li><li>'N'</li><li>'O'</li><li>'P'</li><li>'Q'</li><li>'R'</li><li>'S'</li></ol>\n"
      ],
      "text/latex": [
       "\\begin{enumerate*}\n",
       "\\item 'B'\n",
       "\\item 'C'\n",
       "\\item 'D'\n",
       "\\item 'E'\n",
       "\\item 'F'\n",
       "\\item 'G'\n",
       "\\item 'H'\n",
       "\\item 'I'\n",
       "\\item 'J'\n",
       "\\item 'K'\n",
       "\\item 'L'\n",
       "\\item 'M'\n",
       "\\item 'N'\n",
       "\\item 'O'\n",
       "\\item 'P'\n",
       "\\item 'Q'\n",
       "\\item 'R'\n",
       "\\item 'S'\n",
       "\\end{enumerate*}\n"
      ],
      "text/markdown": [
       "1. 'B'\n",
       "2. 'C'\n",
       "3. 'D'\n",
       "4. 'E'\n",
       "5. 'F'\n",
       "6. 'G'\n",
       "7. 'H'\n",
       "8. 'I'\n",
       "9. 'J'\n",
       "10. 'K'\n",
       "11. 'L'\n",
       "12. 'M'\n",
       "13. 'N'\n",
       "14. 'O'\n",
       "15. 'P'\n",
       "16. 'Q'\n",
       "17. 'R'\n",
       "18. 'S'\n",
       "\n",
       "\n"
      ],
      "text/plain": [
       " [1] \"B\" \"C\" \"D\" \"E\" \"F\" \"G\" \"H\" \"I\" \"J\" \"K\" \"L\" \"M\" \"N\" \"O\" \"P\" \"Q\" \"R\" \"S\""
      ]
     },
     "metadata": {},
     "output_type": "display_data"
    }
   ],
   "source": [
    "a2.3 <- alphabet[2:19]\n",
    "a2.3"
   ]
  },
  {
   "cell_type": "code",
   "execution_count": 36,
   "metadata": {
    "deletable": false,
    "editable": false,
    "nbgrader": {
     "cell_type": "code",
     "checksum": "342aa86e8e30c68f166681c0b1805867",
     "grade": true,
     "grade_id": "cell-806b19b02e2333e2",
     "locked": true,
     "points": 1,
     "schema_version": 3,
     "solution": false,
     "task": false
    }
   },
   "outputs": [
    {
     "name": "stdout",
     "output_type": "stream",
     "text": [
      "\u001b[32mTest passed\u001b[39m \n"
     ]
    }
   ],
   "source": [
    "test_that(\"Question 2.3\", expect_known_hash(a2.3, '716b4c1a6fce07eb1bae341b04999f22'))"
   ]
  },
  {
   "cell_type": "markdown",
   "metadata": {
    "deletable": false,
    "editable": false,
    "nbgrader": {
     "cell_type": "markdown",
     "checksum": "752083074b869a877740bf174691e148",
     "grade": false,
     "grade_id": "cell-1d6499c6b3e1bea1",
     "locked": true,
     "schema_version": 3,
     "solution": false,
     "task": false
    }
   },
   "source": [
    "## Question 2.4\n",
    "\n",
    "Replace the second entry of `alphabet` with the character string \"This is where B is\". Assign **in place** (i.e. do not create a new object, but change the existing `alphabet` vector).\n",
    "\n",
    "```\n",
    "alphabet[FILL_THIS_IN] <- FILL_THIS_IN\n",
    "```"
   ]
  },
  {
   "cell_type": "code",
   "execution_count": 37,
   "metadata": {
    "deletable": false,
    "lines_to_next_cell": 0,
    "nbgrader": {
     "cell_type": "code",
     "checksum": "a6d4a998462939e8857dcf71804f5d64",
     "grade": false,
     "grade_id": "cell-041e1b9fdf167cc9",
     "locked": false,
     "schema_version": 3,
     "solution": true,
     "task": false
    }
   },
   "outputs": [
    {
     "data": {
      "text/html": [
       "<style>\n",
       ".list-inline {list-style: none; margin:0; padding: 0}\n",
       ".list-inline>li {display: inline-block}\n",
       ".list-inline>li:not(:last-child)::after {content: \"\\00b7\"; padding: 0 .5ex}\n",
       "</style>\n",
       "<ol class=list-inline><li>'A'</li><li>'This is where B is'</li><li>'C'</li><li>'D'</li><li>'E'</li><li>'F'</li><li>'G'</li><li>'H'</li><li>'I'</li><li>'J'</li><li>'K'</li><li>'L'</li><li>'M'</li><li>'N'</li><li>'O'</li><li>'P'</li><li>'Q'</li><li>'R'</li><li>'S'</li><li>'T'</li><li>'U'</li><li>'V'</li><li>'W'</li><li>'X'</li><li>'Y'</li><li>'Z'</li></ol>\n"
      ],
      "text/latex": [
       "\\begin{enumerate*}\n",
       "\\item 'A'\n",
       "\\item 'This is where B is'\n",
       "\\item 'C'\n",
       "\\item 'D'\n",
       "\\item 'E'\n",
       "\\item 'F'\n",
       "\\item 'G'\n",
       "\\item 'H'\n",
       "\\item 'I'\n",
       "\\item 'J'\n",
       "\\item 'K'\n",
       "\\item 'L'\n",
       "\\item 'M'\n",
       "\\item 'N'\n",
       "\\item 'O'\n",
       "\\item 'P'\n",
       "\\item 'Q'\n",
       "\\item 'R'\n",
       "\\item 'S'\n",
       "\\item 'T'\n",
       "\\item 'U'\n",
       "\\item 'V'\n",
       "\\item 'W'\n",
       "\\item 'X'\n",
       "\\item 'Y'\n",
       "\\item 'Z'\n",
       "\\end{enumerate*}\n"
      ],
      "text/markdown": [
       "1. 'A'\n",
       "2. 'This is where B is'\n",
       "3. 'C'\n",
       "4. 'D'\n",
       "5. 'E'\n",
       "6. 'F'\n",
       "7. 'G'\n",
       "8. 'H'\n",
       "9. 'I'\n",
       "10. 'J'\n",
       "11. 'K'\n",
       "12. 'L'\n",
       "13. 'M'\n",
       "14. 'N'\n",
       "15. 'O'\n",
       "16. 'P'\n",
       "17. 'Q'\n",
       "18. 'R'\n",
       "19. 'S'\n",
       "20. 'T'\n",
       "21. 'U'\n",
       "22. 'V'\n",
       "23. 'W'\n",
       "24. 'X'\n",
       "25. 'Y'\n",
       "26. 'Z'\n",
       "\n",
       "\n"
      ],
      "text/plain": [
       " [1] \"A\"                  \"This is where B is\" \"C\"                 \n",
       " [4] \"D\"                  \"E\"                  \"F\"                 \n",
       " [7] \"G\"                  \"H\"                  \"I\"                 \n",
       "[10] \"J\"                  \"K\"                  \"L\"                 \n",
       "[13] \"M\"                  \"N\"                  \"O\"                 \n",
       "[16] \"P\"                  \"Q\"                  \"R\"                 \n",
       "[19] \"S\"                  \"T\"                  \"U\"                 \n",
       "[22] \"V\"                  \"W\"                  \"X\"                 \n",
       "[25] \"Y\"                  \"Z\"                 "
      ]
     },
     "metadata": {},
     "output_type": "display_data"
    }
   ],
   "source": [
    "alphabet[c(2)] <- \"This is where B is\"\n",
    "alphabet"
   ]
  },
  {
   "cell_type": "code",
   "execution_count": 38,
   "metadata": {
    "deletable": false,
    "editable": false,
    "nbgrader": {
     "cell_type": "code",
     "checksum": "1935092ebec888da16c175a5d8b273f3",
     "grade": true,
     "grade_id": "cell-9c7e891a0ad00169",
     "locked": true,
     "points": 0,
     "schema_version": 3,
     "solution": false,
     "task": false
    }
   },
   "outputs": [
    {
     "name": "stdout",
     "output_type": "stream",
     "text": [
      "\u001b[32mTest passed\u001b[39m \n"
     ]
    }
   ],
   "source": [
    "test_that(\"Question 2.5\", expect_known_hash(enc2utf8(alphabet), 'a9acf5bcf0a199fd37259f8f1b56487a'))"
   ]
  },
  {
   "cell_type": "markdown",
   "metadata": {
    "deletable": false,
    "editable": false,
    "nbgrader": {
     "cell_type": "markdown",
     "checksum": "e07f822736f04c1b8769c70a95dfc296",
     "grade": false,
     "grade_id": "cell-b8379204e1f83944",
     "locked": true,
     "schema_version": 3,
     "solution": false,
     "task": false
    }
   },
   "source": [
    "## Question 2.5\n",
    "\n",
    "With the newly altered alphabet vector created from Q2.4, create a new vector called `a2.5`, where it is the same vector, but repeated twice. Hint: use `c()`\n",
    "\n",
    "```\n",
    "a2.5 <- FILL_THIS_IN(FILL_THIS_IN)\n",
    "```"
   ]
  },
  {
   "cell_type": "code",
   "execution_count": 39,
   "metadata": {
    "deletable": false,
    "lines_to_next_cell": 0,
    "nbgrader": {
     "cell_type": "code",
     "checksum": "4fa847e8ca363facbed632e731a3a5a5",
     "grade": false,
     "grade_id": "cell-d9568dc0d8c17add",
     "locked": false,
     "schema_version": 3,
     "solution": true,
     "task": false
    }
   },
   "outputs": [
    {
     "data": {
      "text/html": [
       "<style>\n",
       ".list-inline {list-style: none; margin:0; padding: 0}\n",
       ".list-inline>li {display: inline-block}\n",
       ".list-inline>li:not(:last-child)::after {content: \"\\00b7\"; padding: 0 .5ex}\n",
       "</style>\n",
       "<ol class=list-inline><li>'A'</li><li>'This is where B is'</li><li>'C'</li><li>'D'</li><li>'E'</li><li>'F'</li><li>'G'</li><li>'H'</li><li>'I'</li><li>'J'</li><li>'K'</li><li>'L'</li><li>'M'</li><li>'N'</li><li>'O'</li><li>'P'</li><li>'Q'</li><li>'R'</li><li>'S'</li><li>'T'</li><li>'U'</li><li>'V'</li><li>'W'</li><li>'X'</li><li>'Y'</li><li>'Z'</li><li>'A'</li><li>'This is where B is'</li><li>'C'</li><li>'D'</li><li>'E'</li><li>'F'</li><li>'G'</li><li>'H'</li><li>'I'</li><li>'J'</li><li>'K'</li><li>'L'</li><li>'M'</li><li>'N'</li><li>'O'</li><li>'P'</li><li>'Q'</li><li>'R'</li><li>'S'</li><li>'T'</li><li>'U'</li><li>'V'</li><li>'W'</li><li>'X'</li><li>'Y'</li><li>'Z'</li></ol>\n"
      ],
      "text/latex": [
       "\\begin{enumerate*}\n",
       "\\item 'A'\n",
       "\\item 'This is where B is'\n",
       "\\item 'C'\n",
       "\\item 'D'\n",
       "\\item 'E'\n",
       "\\item 'F'\n",
       "\\item 'G'\n",
       "\\item 'H'\n",
       "\\item 'I'\n",
       "\\item 'J'\n",
       "\\item 'K'\n",
       "\\item 'L'\n",
       "\\item 'M'\n",
       "\\item 'N'\n",
       "\\item 'O'\n",
       "\\item 'P'\n",
       "\\item 'Q'\n",
       "\\item 'R'\n",
       "\\item 'S'\n",
       "\\item 'T'\n",
       "\\item 'U'\n",
       "\\item 'V'\n",
       "\\item 'W'\n",
       "\\item 'X'\n",
       "\\item 'Y'\n",
       "\\item 'Z'\n",
       "\\item 'A'\n",
       "\\item 'This is where B is'\n",
       "\\item 'C'\n",
       "\\item 'D'\n",
       "\\item 'E'\n",
       "\\item 'F'\n",
       "\\item 'G'\n",
       "\\item 'H'\n",
       "\\item 'I'\n",
       "\\item 'J'\n",
       "\\item 'K'\n",
       "\\item 'L'\n",
       "\\item 'M'\n",
       "\\item 'N'\n",
       "\\item 'O'\n",
       "\\item 'P'\n",
       "\\item 'Q'\n",
       "\\item 'R'\n",
       "\\item 'S'\n",
       "\\item 'T'\n",
       "\\item 'U'\n",
       "\\item 'V'\n",
       "\\item 'W'\n",
       "\\item 'X'\n",
       "\\item 'Y'\n",
       "\\item 'Z'\n",
       "\\end{enumerate*}\n"
      ],
      "text/markdown": [
       "1. 'A'\n",
       "2. 'This is where B is'\n",
       "3. 'C'\n",
       "4. 'D'\n",
       "5. 'E'\n",
       "6. 'F'\n",
       "7. 'G'\n",
       "8. 'H'\n",
       "9. 'I'\n",
       "10. 'J'\n",
       "11. 'K'\n",
       "12. 'L'\n",
       "13. 'M'\n",
       "14. 'N'\n",
       "15. 'O'\n",
       "16. 'P'\n",
       "17. 'Q'\n",
       "18. 'R'\n",
       "19. 'S'\n",
       "20. 'T'\n",
       "21. 'U'\n",
       "22. 'V'\n",
       "23. 'W'\n",
       "24. 'X'\n",
       "25. 'Y'\n",
       "26. 'Z'\n",
       "27. 'A'\n",
       "28. 'This is where B is'\n",
       "29. 'C'\n",
       "30. 'D'\n",
       "31. 'E'\n",
       "32. 'F'\n",
       "33. 'G'\n",
       "34. 'H'\n",
       "35. 'I'\n",
       "36. 'J'\n",
       "37. 'K'\n",
       "38. 'L'\n",
       "39. 'M'\n",
       "40. 'N'\n",
       "41. 'O'\n",
       "42. 'P'\n",
       "43. 'Q'\n",
       "44. 'R'\n",
       "45. 'S'\n",
       "46. 'T'\n",
       "47. 'U'\n",
       "48. 'V'\n",
       "49. 'W'\n",
       "50. 'X'\n",
       "51. 'Y'\n",
       "52. 'Z'\n",
       "\n",
       "\n"
      ],
      "text/plain": [
       " [1] \"A\"                  \"This is where B is\" \"C\"                 \n",
       " [4] \"D\"                  \"E\"                  \"F\"                 \n",
       " [7] \"G\"                  \"H\"                  \"I\"                 \n",
       "[10] \"J\"                  \"K\"                  \"L\"                 \n",
       "[13] \"M\"                  \"N\"                  \"O\"                 \n",
       "[16] \"P\"                  \"Q\"                  \"R\"                 \n",
       "[19] \"S\"                  \"T\"                  \"U\"                 \n",
       "[22] \"V\"                  \"W\"                  \"X\"                 \n",
       "[25] \"Y\"                  \"Z\"                  \"A\"                 \n",
       "[28] \"This is where B is\" \"C\"                  \"D\"                 \n",
       "[31] \"E\"                  \"F\"                  \"G\"                 \n",
       "[34] \"H\"                  \"I\"                  \"J\"                 \n",
       "[37] \"K\"                  \"L\"                  \"M\"                 \n",
       "[40] \"N\"                  \"O\"                  \"P\"                 \n",
       "[43] \"Q\"                  \"R\"                  \"S\"                 \n",
       "[46] \"T\"                  \"U\"                  \"V\"                 \n",
       "[49] \"W\"                  \"X\"                  \"Y\"                 \n",
       "[52] \"Z\"                 "
      ]
     },
     "metadata": {},
     "output_type": "display_data"
    }
   ],
   "source": [
    "a2.5 <- rep(c(alphabet), 2)\n",
    "a2.5"
   ]
  },
  {
   "cell_type": "code",
   "execution_count": 40,
   "metadata": {
    "deletable": false,
    "editable": false,
    "nbgrader": {
     "cell_type": "code",
     "checksum": "c5ec5f0c55f9ff9b3580d968ce5460f2",
     "grade": true,
     "grade_id": "cell-7afaeb0beeff31e0",
     "locked": true,
     "points": 1,
     "schema_version": 3,
     "solution": false,
     "task": false
    }
   },
   "outputs": [
    {
     "name": "stdout",
     "output_type": "stream",
     "text": [
      "\u001b[32mTest passed\u001b[39m \n",
      "[1] \"Success!\"\n"
     ]
    }
   ],
   "source": [
    "test_that(\"Question 2.5\", expect_known_hash(enc2utf8(a2.5), '34c18fc97d296e3c4f6dc28b56a62b91'))\n",
    "print(\"Success!\")"
   ]
  },
  {
   "cell_type": "markdown",
   "metadata": {
    "deletable": false,
    "editable": false,
    "nbgrader": {
     "cell_type": "markdown",
     "checksum": "4664c7be7ff827e56e53ab36e52ac22c",
     "grade": false,
     "grade_id": "cell-99aa45fbba8d8199",
     "locked": true,
     "schema_version": 3,
     "solution": false,
     "task": false
    }
   },
   "source": [
    "## Question 2.6\n",
    "\n",
    "Load the mtcars dataset. \n",
    "\n",
    "1. Extract the vector of `mpg` values using the `$` operator \n",
    "2. Extract the 2nd to 24th elements, inclusively.\n",
    "3. Assign this to the object `a2.6`. \n",
    "\n",
    "```\n",
    "a2.6 <- mtcars$FILL_THIS_IN[FILL_THIS_IN]\n",
    "```"
   ]
  },
  {
   "cell_type": "code",
   "execution_count": 41,
   "metadata": {
    "deletable": false,
    "lines_to_next_cell": 0,
    "nbgrader": {
     "cell_type": "code",
     "checksum": "a7e519b14d20b01240ca14920ccbd9ef",
     "grade": false,
     "grade_id": "cell-636b191a444f10bf",
     "locked": false,
     "schema_version": 3,
     "solution": true,
     "task": false
    }
   },
   "outputs": [
    {
     "data": {
      "text/html": [
       "<style>\n",
       ".list-inline {list-style: none; margin:0; padding: 0}\n",
       ".list-inline>li {display: inline-block}\n",
       ".list-inline>li:not(:last-child)::after {content: \"\\00b7\"; padding: 0 .5ex}\n",
       "</style>\n",
       "<ol class=list-inline><li>21</li><li>22.8</li><li>21.4</li><li>18.7</li><li>18.1</li><li>14.3</li><li>24.4</li><li>22.8</li><li>19.2</li><li>17.8</li><li>16.4</li><li>17.3</li><li>15.2</li><li>10.4</li><li>10.4</li><li>14.7</li><li>32.4</li><li>30.4</li><li>33.9</li><li>21.5</li><li>15.5</li><li>15.2</li><li>13.3</li></ol>\n"
      ],
      "text/latex": [
       "\\begin{enumerate*}\n",
       "\\item 21\n",
       "\\item 22.8\n",
       "\\item 21.4\n",
       "\\item 18.7\n",
       "\\item 18.1\n",
       "\\item 14.3\n",
       "\\item 24.4\n",
       "\\item 22.8\n",
       "\\item 19.2\n",
       "\\item 17.8\n",
       "\\item 16.4\n",
       "\\item 17.3\n",
       "\\item 15.2\n",
       "\\item 10.4\n",
       "\\item 10.4\n",
       "\\item 14.7\n",
       "\\item 32.4\n",
       "\\item 30.4\n",
       "\\item 33.9\n",
       "\\item 21.5\n",
       "\\item 15.5\n",
       "\\item 15.2\n",
       "\\item 13.3\n",
       "\\end{enumerate*}\n"
      ],
      "text/markdown": [
       "1. 21\n",
       "2. 22.8\n",
       "3. 21.4\n",
       "4. 18.7\n",
       "5. 18.1\n",
       "6. 14.3\n",
       "7. 24.4\n",
       "8. 22.8\n",
       "9. 19.2\n",
       "10. 17.8\n",
       "11. 16.4\n",
       "12. 17.3\n",
       "13. 15.2\n",
       "14. 10.4\n",
       "15. 10.4\n",
       "16. 14.7\n",
       "17. 32.4\n",
       "18. 30.4\n",
       "19. 33.9\n",
       "20. 21.5\n",
       "21. 15.5\n",
       "22. 15.2\n",
       "23. 13.3\n",
       "\n",
       "\n"
      ],
      "text/plain": [
       " [1] 21.0 22.8 21.4 18.7 18.1 14.3 24.4 22.8 19.2 17.8 16.4 17.3 15.2 10.4 10.4\n",
       "[16] 14.7 32.4 30.4 33.9 21.5 15.5 15.2 13.3"
      ]
     },
     "metadata": {},
     "output_type": "display_data"
    }
   ],
   "source": [
    "a2.6 <- mtcars$mpg[c(2:24)]\n",
    "a2.6"
   ]
  },
  {
   "cell_type": "code",
   "execution_count": 48,
   "metadata": {
    "deletable": false,
    "editable": false,
    "nbgrader": {
     "cell_type": "code",
     "checksum": "f683321d9346a0e73d79df177fd13afd",
     "grade": true,
     "grade_id": "cell-de2504ab380c7da4",
     "locked": true,
     "points": 1,
     "schema_version": 3,
     "solution": false,
     "task": false
    }
   },
   "outputs": [
    {
     "name": "stdout",
     "output_type": "stream",
     "text": [
      "\u001b[32mTest passed\u001b[39m \n",
      "[1] \"Success!\"\n"
     ]
    }
   ],
   "source": [
    "test_that(\"Question 2.6\", expect_known_hash(a2.6, 'd065f0e9275a4ff106485010c3fd1c2c'))\n",
    "print(\"Success!\")"
   ]
  },
  {
   "cell_type": "markdown",
   "metadata": {
    "deletable": false,
    "editable": false,
    "nbgrader": {
     "cell_type": "markdown",
     "checksum": "4a954627e349cc269cb2b91c173f89b9",
     "grade": false,
     "grade_id": "cell-4474329a11f182dd",
     "locked": true,
     "schema_version": 3,
     "solution": false,
     "task": false
    }
   },
   "source": [
    "## Question 2.7\n",
    "\n",
    "Using `mtcars` again,\n",
    "\n",
    "1. Extract the vector of `wt` values using the `$` operator.\n",
    "2. Replace each value with `TRUE` if the value is greater than 3.4, and `FALSE` otherwise.\n",
    "3. Assign this logical vector to the R object `a2.7`\n",
    "\n",
    "```\n",
    "a2.7 <- mtcars$FILL_THIS_IN\n",
    "```"
   ]
  },
  {
   "cell_type": "code",
   "execution_count": 50,
   "metadata": {
    "deletable": false,
    "lines_to_next_cell": 0,
    "nbgrader": {
     "cell_type": "code",
     "checksum": "f9e961fb75b5210000ec4dbabbec7965",
     "grade": false,
     "grade_id": "cell-57746edd3f5caa7d",
     "locked": false,
     "schema_version": 3,
     "solution": true,
     "task": false
    }
   },
   "outputs": [
    {
     "data": {
      "text/html": [
       "<style>\n",
       ".list-inline {list-style: none; margin:0; padding: 0}\n",
       ".list-inline>li {display: inline-block}\n",
       ".list-inline>li:not(:last-child)::after {content: \"\\00b7\"; padding: 0 .5ex}\n",
       "</style>\n",
       "<ol class=list-inline><li>FALSE</li><li>FALSE</li><li>FALSE</li><li>FALSE</li><li>TRUE</li><li>TRUE</li><li>TRUE</li><li>FALSE</li><li>FALSE</li><li>TRUE</li><li>TRUE</li><li>TRUE</li><li>TRUE</li><li>TRUE</li><li>TRUE</li><li>TRUE</li><li>TRUE</li><li>FALSE</li><li>FALSE</li><li>FALSE</li><li>FALSE</li><li>TRUE</li><li>TRUE</li><li>TRUE</li><li>TRUE</li><li>FALSE</li><li>FALSE</li><li>FALSE</li><li>FALSE</li><li>FALSE</li><li>TRUE</li><li>FALSE</li></ol>\n"
      ],
      "text/latex": [
       "\\begin{enumerate*}\n",
       "\\item FALSE\n",
       "\\item FALSE\n",
       "\\item FALSE\n",
       "\\item FALSE\n",
       "\\item TRUE\n",
       "\\item TRUE\n",
       "\\item TRUE\n",
       "\\item FALSE\n",
       "\\item FALSE\n",
       "\\item TRUE\n",
       "\\item TRUE\n",
       "\\item TRUE\n",
       "\\item TRUE\n",
       "\\item TRUE\n",
       "\\item TRUE\n",
       "\\item TRUE\n",
       "\\item TRUE\n",
       "\\item FALSE\n",
       "\\item FALSE\n",
       "\\item FALSE\n",
       "\\item FALSE\n",
       "\\item TRUE\n",
       "\\item TRUE\n",
       "\\item TRUE\n",
       "\\item TRUE\n",
       "\\item FALSE\n",
       "\\item FALSE\n",
       "\\item FALSE\n",
       "\\item FALSE\n",
       "\\item FALSE\n",
       "\\item TRUE\n",
       "\\item FALSE\n",
       "\\end{enumerate*}\n"
      ],
      "text/markdown": [
       "1. FALSE\n",
       "2. FALSE\n",
       "3. FALSE\n",
       "4. FALSE\n",
       "5. TRUE\n",
       "6. TRUE\n",
       "7. TRUE\n",
       "8. FALSE\n",
       "9. FALSE\n",
       "10. TRUE\n",
       "11. TRUE\n",
       "12. TRUE\n",
       "13. TRUE\n",
       "14. TRUE\n",
       "15. TRUE\n",
       "16. TRUE\n",
       "17. TRUE\n",
       "18. FALSE\n",
       "19. FALSE\n",
       "20. FALSE\n",
       "21. FALSE\n",
       "22. TRUE\n",
       "23. TRUE\n",
       "24. TRUE\n",
       "25. TRUE\n",
       "26. FALSE\n",
       "27. FALSE\n",
       "28. FALSE\n",
       "29. FALSE\n",
       "30. FALSE\n",
       "31. TRUE\n",
       "32. FALSE\n",
       "\n",
       "\n"
      ],
      "text/plain": [
       " [1] FALSE FALSE FALSE FALSE  TRUE  TRUE  TRUE FALSE FALSE  TRUE  TRUE  TRUE\n",
       "[13]  TRUE  TRUE  TRUE  TRUE  TRUE FALSE FALSE FALSE FALSE  TRUE  TRUE  TRUE\n",
       "[25]  TRUE FALSE FALSE FALSE FALSE FALSE  TRUE FALSE"
      ]
     },
     "metadata": {},
     "output_type": "display_data"
    }
   ],
   "source": [
    "a2.7 <- ifelse(mtcars$wt > 3.4, TRUE, FALSE)\n",
    "a2.7"
   ]
  },
  {
   "cell_type": "code",
   "execution_count": 51,
   "metadata": {
    "deletable": false,
    "editable": false,
    "lines_to_next_cell": 2,
    "nbgrader": {
     "cell_type": "code",
     "checksum": "7676dd8ba0fa0a2cd76852e5fa92b5f1",
     "grade": true,
     "grade_id": "cell-339f3fc46993a445",
     "locked": true,
     "points": 1,
     "schema_version": 3,
     "solution": false,
     "task": false
    }
   },
   "outputs": [
    {
     "name": "stdout",
     "output_type": "stream",
     "text": [
      "\u001b[32mTest passed\u001b[39m \n",
      "[1] \"Success!\"\n"
     ]
    }
   ],
   "source": [
    "test_that(\"Question 2.7\", expect_known_hash(a2.7, 'c51a40941e57f8892fe413bee95fd8d5'))\n",
    "print(\"Success!\")"
   ]
  },
  {
   "cell_type": "markdown",
   "metadata": {
    "deletable": false,
    "editable": false,
    "nbgrader": {
     "cell_type": "markdown",
     "checksum": "1b7ac55b92251b9a9bd94f0254db595a",
     "grade": false,
     "grade_id": "cell-5adc14ffd7fb6415",
     "locked": true,
     "schema_version": 3,
     "solution": false,
     "task": false
    }
   },
   "source": [
    "## Question 2.8\n",
    "\n",
    "Using `mtcars`,\n",
    "\n",
    "1. For the rows where mpg > 20, replace the car weight entries (`wt`) with the number `1000`\n",
    "2. Assign this new *tibble* as as the object a2.8\n",
    "\n",
    "```\n",
    "a2.8 <- mtcars\n",
    "a2.8$wt[FILL_THIS_IN] <- FILL_THIS_IN\n",
    "```"
   ]
  },
  {
   "cell_type": "code",
   "execution_count": 52,
   "metadata": {
    "deletable": false,
    "nbgrader": {
     "cell_type": "code",
     "checksum": "00d6dd31f8f38b5e1be3c8da1621a39f",
     "grade": false,
     "grade_id": "cell-aa3d0604c6413521",
     "locked": false,
     "schema_version": 3,
     "solution": true,
     "task": false
    }
   },
   "outputs": [
    {
     "data": {
      "text/html": [
       "<table class=\"dataframe\">\n",
       "<caption>A data.frame: 6 × 11</caption>\n",
       "<thead>\n",
       "\t<tr><th></th><th scope=col>mpg</th><th scope=col>cyl</th><th scope=col>disp</th><th scope=col>hp</th><th scope=col>drat</th><th scope=col>wt</th><th scope=col>qsec</th><th scope=col>vs</th><th scope=col>am</th><th scope=col>gear</th><th scope=col>carb</th></tr>\n",
       "\t<tr><th></th><th scope=col>&lt;dbl&gt;</th><th scope=col>&lt;dbl&gt;</th><th scope=col>&lt;dbl&gt;</th><th scope=col>&lt;dbl&gt;</th><th scope=col>&lt;dbl&gt;</th><th scope=col>&lt;dbl&gt;</th><th scope=col>&lt;dbl&gt;</th><th scope=col>&lt;dbl&gt;</th><th scope=col>&lt;dbl&gt;</th><th scope=col>&lt;dbl&gt;</th><th scope=col>&lt;dbl&gt;</th></tr>\n",
       "</thead>\n",
       "<tbody>\n",
       "\t<tr><th scope=row>Mazda RX4</th><td>21.0</td><td>6</td><td>160</td><td>110</td><td>3.90</td><td>1000.00</td><td>16.46</td><td>0</td><td>1</td><td>4</td><td>4</td></tr>\n",
       "\t<tr><th scope=row>Mazda RX4 Wag</th><td>21.0</td><td>6</td><td>160</td><td>110</td><td>3.90</td><td>1000.00</td><td>17.02</td><td>0</td><td>1</td><td>4</td><td>4</td></tr>\n",
       "\t<tr><th scope=row>Datsun 710</th><td>22.8</td><td>4</td><td>108</td><td> 93</td><td>3.85</td><td>1000.00</td><td>18.61</td><td>1</td><td>1</td><td>4</td><td>1</td></tr>\n",
       "\t<tr><th scope=row>Hornet 4 Drive</th><td>21.4</td><td>6</td><td>258</td><td>110</td><td>3.08</td><td>1000.00</td><td>19.44</td><td>1</td><td>0</td><td>3</td><td>1</td></tr>\n",
       "\t<tr><th scope=row>Hornet Sportabout</th><td>18.7</td><td>8</td><td>360</td><td>175</td><td>3.15</td><td>   3.44</td><td>17.02</td><td>0</td><td>0</td><td>3</td><td>2</td></tr>\n",
       "\t<tr><th scope=row>Valiant</th><td>18.1</td><td>6</td><td>225</td><td>105</td><td>2.76</td><td>   3.46</td><td>20.22</td><td>1</td><td>0</td><td>3</td><td>1</td></tr>\n",
       "</tbody>\n",
       "</table>\n"
      ],
      "text/latex": [
       "A data.frame: 6 × 11\n",
       "\\begin{tabular}{r|lllllllllll}\n",
       "  & mpg & cyl & disp & hp & drat & wt & qsec & vs & am & gear & carb\\\\\n",
       "  & <dbl> & <dbl> & <dbl> & <dbl> & <dbl> & <dbl> & <dbl> & <dbl> & <dbl> & <dbl> & <dbl>\\\\\n",
       "\\hline\n",
       "\tMazda RX4 & 21.0 & 6 & 160 & 110 & 3.90 & 1000.00 & 16.46 & 0 & 1 & 4 & 4\\\\\n",
       "\tMazda RX4 Wag & 21.0 & 6 & 160 & 110 & 3.90 & 1000.00 & 17.02 & 0 & 1 & 4 & 4\\\\\n",
       "\tDatsun 710 & 22.8 & 4 & 108 &  93 & 3.85 & 1000.00 & 18.61 & 1 & 1 & 4 & 1\\\\\n",
       "\tHornet 4 Drive & 21.4 & 6 & 258 & 110 & 3.08 & 1000.00 & 19.44 & 1 & 0 & 3 & 1\\\\\n",
       "\tHornet Sportabout & 18.7 & 8 & 360 & 175 & 3.15 &    3.44 & 17.02 & 0 & 0 & 3 & 2\\\\\n",
       "\tValiant & 18.1 & 6 & 225 & 105 & 2.76 &    3.46 & 20.22 & 1 & 0 & 3 & 1\\\\\n",
       "\\end{tabular}\n"
      ],
      "text/markdown": [
       "\n",
       "A data.frame: 6 × 11\n",
       "\n",
       "| <!--/--> | mpg &lt;dbl&gt; | cyl &lt;dbl&gt; | disp &lt;dbl&gt; | hp &lt;dbl&gt; | drat &lt;dbl&gt; | wt &lt;dbl&gt; | qsec &lt;dbl&gt; | vs &lt;dbl&gt; | am &lt;dbl&gt; | gear &lt;dbl&gt; | carb &lt;dbl&gt; |\n",
       "|---|---|---|---|---|---|---|---|---|---|---|---|\n",
       "| Mazda RX4 | 21.0 | 6 | 160 | 110 | 3.90 | 1000.00 | 16.46 | 0 | 1 | 4 | 4 |\n",
       "| Mazda RX4 Wag | 21.0 | 6 | 160 | 110 | 3.90 | 1000.00 | 17.02 | 0 | 1 | 4 | 4 |\n",
       "| Datsun 710 | 22.8 | 4 | 108 |  93 | 3.85 | 1000.00 | 18.61 | 1 | 1 | 4 | 1 |\n",
       "| Hornet 4 Drive | 21.4 | 6 | 258 | 110 | 3.08 | 1000.00 | 19.44 | 1 | 0 | 3 | 1 |\n",
       "| Hornet Sportabout | 18.7 | 8 | 360 | 175 | 3.15 |    3.44 | 17.02 | 0 | 0 | 3 | 2 |\n",
       "| Valiant | 18.1 | 6 | 225 | 105 | 2.76 |    3.46 | 20.22 | 1 | 0 | 3 | 1 |\n",
       "\n"
      ],
      "text/plain": [
       "                  mpg  cyl disp hp  drat wt      qsec  vs am gear carb\n",
       "Mazda RX4         21.0 6   160  110 3.90 1000.00 16.46 0  1  4    4   \n",
       "Mazda RX4 Wag     21.0 6   160  110 3.90 1000.00 17.02 0  1  4    4   \n",
       "Datsun 710        22.8 4   108   93 3.85 1000.00 18.61 1  1  4    1   \n",
       "Hornet 4 Drive    21.4 6   258  110 3.08 1000.00 19.44 1  0  3    1   \n",
       "Hornet Sportabout 18.7 8   360  175 3.15    3.44 17.02 0  0  3    2   \n",
       "Valiant           18.1 6   225  105 2.76    3.46 20.22 1  0  3    1   "
      ]
     },
     "metadata": {},
     "output_type": "display_data"
    }
   ],
   "source": [
    "a2.8 <- mtcars\n",
    "a2.8$wt[a2.8$mpg > 20] <- 1000\n",
    "head(a2.8)"
   ]
  },
  {
   "cell_type": "code",
   "execution_count": 54,
   "metadata": {
    "deletable": false,
    "editable": false,
    "nbgrader": {
     "cell_type": "code",
     "checksum": "6f32b9f08b27d8d3a2ab7fb3afdeca40",
     "grade": true,
     "grade_id": "cell-a7ccb382245ad4e6",
     "locked": true,
     "points": 0,
     "schema_version": 3,
     "solution": false,
     "task": false
    }
   },
   "outputs": [
    {
     "name": "stdout",
     "output_type": "stream",
     "text": [
      "\u001b[32mTest passed\u001b[39m \n",
      "[1] \"Success!\"\n"
     ]
    }
   ],
   "source": [
    "test_that(\"Question 2.8\", expect_known_hash(a2.8$wt, '4e56aa37c9e2888594cc7c360f784b70'))\n",
    "print(\"Success!\")"
   ]
  },
  {
   "cell_type": "markdown",
   "metadata": {
    "deletable": false,
    "editable": false,
    "lines_to_next_cell": 0,
    "nbgrader": {
     "cell_type": "markdown",
     "checksum": "62115d7e4516b9215a857d308e0e287f",
     "grade": false,
     "grade_id": "cell-ebce2cf9fcfbd426",
     "locked": true,
     "schema_version": 3,
     "solution": false,
     "task": false
    }
   },
   "source": [
    "# TOPIC 3: Reprex\n",
    "\n",
    "If you haven't done question 1.4, then do the following before attempting questions for this section:\n",
    "\n",
    "- in your file browser go to the location returned by `here::here()` and create a folder called **\"worksheet_06a_data\"**.\n",
    "\n",
    "## Question 3.1\n",
    "\n",
    "Create a reprex for the code and output of `mean(rnorm(10))`. Specify the output folder to be **worksheet_06_data**.\n",
    "\n",
    "After doing this, I encourage you to open up the output files and take a look at your reprex!\n",
    "\n",
    "```\n",
    "reprex({\n",
    "   FILL_THIS_IN\n",
    "}, \n",
    "   outfile = here::here('FILL_THIS_IN', 'reprex.md'))\n",
    "```\n"
   ]
  },
  {
   "cell_type": "code",
   "execution_count": 62,
   "metadata": {
    "deletable": false,
    "nbgrader": {
     "cell_type": "code",
     "checksum": "2cf0318bece693000ad1f616a5aa3294",
     "grade": false,
     "grade_id": "cell-0bb222125a2b34c3",
     "locked": false,
     "schema_version": 3,
     "solution": true,
     "task": false
    },
    "scrolled": false
   },
   "outputs": [
    {
     "name": "stderr",
     "output_type": "stream",
     "text": [
      "\u001b[31mx\u001b[39m Install the \u001b[34m\u001b[34mstyler\u001b[34m\u001b[39m package in order to use \u001b[30m\u001b[47m\u001b[30m\u001b[47m`style = TRUE`\u001b[47m\u001b[30m\u001b[49m\u001b[39m.\n",
      "\n",
      "\u001b[36mi\u001b[39m Non-interactive session, setting \u001b[30m\u001b[47m\u001b[30m\u001b[47m`html_preview = FALSE`\u001b[47m\u001b[30m\u001b[49m\u001b[39m.\n",
      "\n",
      "\u001b[33m!\u001b[39m \u001b[30m\u001b[47m\u001b[30m\u001b[47m`outfile`\u001b[47m\u001b[30m\u001b[49m\u001b[39m is deprecated\n",
      "\n",
      "\u001b[33m!\u001b[39m To control output filename, provide a filepath to \u001b[30m\u001b[47m\u001b[30m\u001b[47m`input`\u001b[47m\u001b[30m\u001b[49m\u001b[39m\n",
      "\n",
      "\u001b[33m!\u001b[39m Only taking working directory from \u001b[30m\u001b[47m\u001b[30m\u001b[47m`outfile`\u001b[47m\u001b[30m\u001b[49m\u001b[39m\n",
      "\n",
      "\u001b[32mv\u001b[39m Preparing reprex as \u001b[30m\u001b[47m\u001b[30m\u001b[47m`.R`\u001b[47m\u001b[30m\u001b[49m\u001b[39m file:\n",
      "\n",
      "  \u001b[34m\u001b[34mC:/Users/41615/worksheet_a06.ipynb/worksheet_06a_data/ash-crane_reprex.R\u001b[34m\u001b[39m\n",
      "\n",
      "\u001b[36mi\u001b[39m Rendering reprex...\n",
      "\n",
      "\u001b[32mv\u001b[39m Writing reprex file:\n",
      "\n",
      "  \u001b[34m\u001b[34mC:/Users/41615/worksheet_a06.ipynb/worksheet_06a_data/ash-crane_reprex.md\u001b[34m\u001b[39m\n",
      "\n"
     ]
    }
   ],
   "source": [
    "reprex(\n",
    "   mean(rnorm(10))\n",
    ", \n",
    "   outfile = here::here('worksheet_06a_data', 'reprex.md'))"
   ]
  },
  {
   "cell_type": "code",
   "execution_count": 61,
   "metadata": {
    "deletable": false,
    "editable": false,
    "nbgrader": {
     "cell_type": "code",
     "checksum": "c3e5c33e7b241ddfcf1dadbf7ca18624",
     "grade": true,
     "grade_id": "cell-ac08f96917e07d1b",
     "locked": true,
     "points": 1,
     "schema_version": 3,
     "solution": false,
     "task": false
    }
   },
   "outputs": [
    {
     "name": "stdout",
     "output_type": "stream",
     "text": [
      "\u001b[32mTest passed\u001b[39m \n"
     ]
    }
   ],
   "source": [
    "test_that(\"Question 3.1\", {\n",
    "  # function to get thE latest file created based on a pattern\n",
    "  most_recent = function(pattern) {\n",
    "    tail(list.files( here::here('worksheet_06a_data'), patt= pattern),1)\n",
    "  }\n",
    "  expect_true(file.exists(here::here('worksheet_06a_data', most_recent(pattern = \"reprex.R\"))))\n",
    "  expect_true(file.exists(here::here('worksheet_06a_data', most_recent(pattern = \"reprex.md\"))))\n",
    "  expect_known_hash(gsub('\\\\s', '', paste0(readLines(here::here('worksheet_06a_data', most_recent(pattern = \"reprex.R\"))), collapse = '')),\n",
    "                  '06b26c23099d3f851b76985c13f20dcc')\n",
    "})"
   ]
  },
  {
   "cell_type": "markdown",
   "metadata": {
    "deletable": false,
    "editable": false,
    "nbgrader": {
     "cell_type": "markdown",
     "checksum": "0bb767e3d689e55c6a1cf6f6e4ac2d4d",
     "grade": false,
     "grade_id": "cell-78c6ede5562e42a4",
     "locked": true,
     "schema_version": 3,
     "solution": false,
     "task": false
    }
   },
   "source": [
    "### Attribution\n",
    "\n",
    "Assembled by Victor Yuan, reviewed by Almas Khan, and assisted by David Kepplinger."
   ]
  },
  {
   "cell_type": "code",
   "execution_count": null,
   "metadata": {},
   "outputs": [],
   "source": []
  }
 ],
 "metadata": {
  "jupytext": {
   "cell_metadata_filter": "-all"
  },
  "kernelspec": {
   "display_name": "R",
   "language": "R",
   "name": "ir"
  },
  "language_info": {
   "codemirror_mode": "r",
   "file_extension": ".r",
   "mimetype": "text/x-r-source",
   "name": "R",
   "pygments_lexer": "r",
   "version": "4.1.1"
  }
 },
 "nbformat": 4,
 "nbformat_minor": 4
}
