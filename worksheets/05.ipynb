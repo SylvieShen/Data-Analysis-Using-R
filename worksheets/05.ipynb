{
 "cells": [
  {
   "cell_type": "markdown",
   "metadata": {
    "deletable": false,
    "editable": false,
    "lines_to_next_cell": 0,
    "nbgrader": {
     "cell_type": "markdown",
     "checksum": "e1e0ee9ade87bd4efeb54e592fda2042",
     "grade": false,
     "grade_id": "cell-a52fdbcf333bb582",
     "locked": true,
     "schema_version": 3,
     "solution": false,
     "task": false
    }
   },
   "source": [
    "# Worksheet A-5: Working With Factors & Tibble Joins\n",
    "\n",
    "## Getting Started\n",
    "\n",
    "Load the requirements for this worksheet:"
   ]
  },
  {
   "cell_type": "code",
   "execution_count": null,
   "metadata": {
    "deletable": false,
    "editable": false,
    "nbgrader": {
     "cell_type": "code",
     "checksum": "e999f78c3475485bda71c1cd4a38219c",
     "grade": false,
     "grade_id": "cell-c48a21406e8bb917",
     "locked": true,
     "schema_version": 3,
     "solution": false,
     "task": false
    }
   },
   "outputs": [],
   "source": [
    "suppressPackageStartupMessages(library(tidyverse))\n",
    "suppressPackageStartupMessages(library(tsibble))\n",
    "suppressPackageStartupMessages(library(gapminder))\n",
    "suppressPackageStartupMessages(library(testthat))\n",
    "suppressPackageStartupMessages(library(digest))\n",
    "suppressMessages({\n",
    "  time <- read_csv(\"https://raw.githubusercontent.com/STAT545-UBC/Classroom/master/data/singer/songs.csv\") %>% \n",
    "    rename(song = title)\n",
    "  album <- read_csv(\"https://raw.githubusercontent.com/STAT545-UBC/Classroom/master/data/singer/loc.csv\") %>% \n",
    "    select(title, everything()) %>% \n",
    "    rename(song = title, album = release)\n",
    "})\n",
    "suppressMessages({\n",
    "  fell <- read_csv(\"https://raw.githubusercontent.com/jennybc/lotr-tidy/master/data/The_Fellowship_Of_The_Ring.csv\")\n",
    "  ttow <- read_csv(\"https://raw.githubusercontent.com/jennybc/lotr-tidy/master/data/The_Two_Towers.csv\")\n",
    "  retk <- read_csv(\"https://raw.githubusercontent.com/jennybc/lotr-tidy/master/data/The_Return_Of_The_King.csv\")\n",
    "})"
   ]
  },
  {
   "cell_type": "markdown",
   "metadata": {
    "deletable": false,
    "editable": false,
    "lines_to_next_cell": 0,
    "nbgrader": {
     "cell_type": "markdown",
     "checksum": "1a9cd5eb0778d5d434c5cefe6e3f4c55",
     "grade": false,
     "grade_id": "cell-c67ecef016e98418",
     "locked": true,
     "schema_version": 3,
     "solution": false,
     "task": false
    }
   },
   "source": [
    "The following code chunk has been unlocked, to give you the flexibility to start this document with some of your own code. Remember, it's bad manners to keep a call to `install.packages()` in your source code, so don't forget to delete these lines if you ever need to run them."
   ]
  },
  {
   "cell_type": "code",
   "execution_count": null,
   "metadata": {},
   "outputs": [],
   "source": [
    "# An unlocked code cell."
   ]
  },
  {
   "cell_type": "markdown",
   "metadata": {
    "deletable": false,
    "editable": false,
    "nbgrader": {
     "cell_type": "markdown",
     "checksum": "1428d8bd85deb83393ba2b31daf743ae",
     "grade": false,
     "grade_id": "cell-dbacfd6c24590e38",
     "locked": true,
     "schema_version": 3,
     "solution": false,
     "task": false
    }
   },
   "source": [
    "# Part 0: Dates and Tsibble \n",
    "\n",
    "We'll convert dates into a year-month object with the tsibble package (loaded at the start of the worksheet).\n",
    "\n",
    "## Question 0.1\n",
    "\n",
    "Consider the built-in presidential dataset that looks at the start and ending terms of US presidents:"
   ]
  },
  {
   "cell_type": "code",
   "execution_count": 11,
   "metadata": {
    "deletable": false,
    "editable": false,
    "nbgrader": {
     "cell_type": "code",
     "checksum": "9efcf5c512faf2887050ff3eeae06dc9",
     "grade": false,
     "grade_id": "cell-a37c8810b6e3de5d",
     "locked": true,
     "schema_version": 3,
     "solution": false,
     "task": false
    }
   },
   "outputs": [
    {
     "data": {
      "text/html": [
       "<table class=\"dataframe\">\n",
       "<caption>A tibble: 6 × 4</caption>\n",
       "<thead>\n",
       "\t<tr><th scope=col>name</th><th scope=col>start</th><th scope=col>end</th><th scope=col>party</th></tr>\n",
       "\t<tr><th scope=col>&lt;chr&gt;</th><th scope=col>&lt;date&gt;</th><th scope=col>&lt;date&gt;</th><th scope=col>&lt;chr&gt;</th></tr>\n",
       "</thead>\n",
       "<tbody>\n",
       "\t<tr><td>Eisenhower</td><td>1953-01-20</td><td>1961-01-20</td><td>Republican</td></tr>\n",
       "\t<tr><td>Kennedy   </td><td>1961-01-20</td><td>1963-11-22</td><td>Democratic</td></tr>\n",
       "\t<tr><td>Johnson   </td><td>1963-11-22</td><td>1969-01-20</td><td>Democratic</td></tr>\n",
       "\t<tr><td>Nixon     </td><td>1969-01-20</td><td>1974-08-09</td><td>Republican</td></tr>\n",
       "\t<tr><td>Ford      </td><td>1974-08-09</td><td>1977-01-20</td><td>Republican</td></tr>\n",
       "\t<tr><td>Carter    </td><td>1977-01-20</td><td>1981-01-20</td><td>Democratic</td></tr>\n",
       "</tbody>\n",
       "</table>\n"
      ],
      "text/latex": [
       "A tibble: 6 × 4\n",
       "\\begin{tabular}{llll}\n",
       " name & start & end & party\\\\\n",
       " <chr> & <date> & <date> & <chr>\\\\\n",
       "\\hline\n",
       "\t Eisenhower & 1953-01-20 & 1961-01-20 & Republican\\\\\n",
       "\t Kennedy    & 1961-01-20 & 1963-11-22 & Democratic\\\\\n",
       "\t Johnson    & 1963-11-22 & 1969-01-20 & Democratic\\\\\n",
       "\t Nixon      & 1969-01-20 & 1974-08-09 & Republican\\\\\n",
       "\t Ford       & 1974-08-09 & 1977-01-20 & Republican\\\\\n",
       "\t Carter     & 1977-01-20 & 1981-01-20 & Democratic\\\\\n",
       "\\end{tabular}\n"
      ],
      "text/markdown": [
       "\n",
       "A tibble: 6 × 4\n",
       "\n",
       "| name &lt;chr&gt; | start &lt;date&gt; | end &lt;date&gt; | party &lt;chr&gt; |\n",
       "|---|---|---|---|\n",
       "| Eisenhower | 1953-01-20 | 1961-01-20 | Republican |\n",
       "| Kennedy    | 1961-01-20 | 1963-11-22 | Democratic |\n",
       "| Johnson    | 1963-11-22 | 1969-01-20 | Democratic |\n",
       "| Nixon      | 1969-01-20 | 1974-08-09 | Republican |\n",
       "| Ford       | 1974-08-09 | 1977-01-20 | Republican |\n",
       "| Carter     | 1977-01-20 | 1981-01-20 | Democratic |\n",
       "\n"
      ],
      "text/plain": [
       "  name       start      end        party     \n",
       "1 Eisenhower 1953-01-20 1961-01-20 Republican\n",
       "2 Kennedy    1961-01-20 1963-11-22 Democratic\n",
       "3 Johnson    1963-11-22 1969-01-20 Democratic\n",
       "4 Nixon      1969-01-20 1974-08-09 Republican\n",
       "5 Ford       1974-08-09 1977-01-20 Republican\n",
       "6 Carter     1977-01-20 1981-01-20 Democratic"
      ]
     },
     "metadata": {},
     "output_type": "display_data"
    }
   ],
   "source": [
    "head(presidential)"
   ]
  },
  {
   "cell_type": "markdown",
   "metadata": {
    "deletable": false,
    "editable": false,
    "nbgrader": {
     "cell_type": "markdown",
     "checksum": "1b27f3c8b69bb0af1782fe185acd6571",
     "grade": false,
     "grade_id": "cell-3ec12f8dddc1b136",
     "locked": true,
     "schema_version": 3,
     "solution": false,
     "task": false
    }
   },
   "source": [
    "Use `tsibble::yearmonth()` to convert the existing start and end column dates into only year and month. Name this tibble `president_ym`.\n",
    "\n",
    "```\n",
    "president_ym <- presidential %>%\n",
    "   mutate(start = FILL_THIS_IN, \n",
    "          end = FILL_THIS_IN)\n",
    "```"
   ]
  },
  {
   "cell_type": "code",
   "execution_count": 12,
   "metadata": {
    "deletable": false,
    "nbgrader": {
     "cell_type": "code",
     "checksum": "9d733bf26d4c42d2dbb724c591c5d93c",
     "grade": false,
     "grade_id": "cell-1bb9d4544eb25006",
     "locked": false,
     "schema_version": 3,
     "solution": true,
     "task": false
    }
   },
   "outputs": [
    {
     "data": {
      "text/html": [
       "<table class=\"dataframe\">\n",
       "<caption>A tibble: 6 × 4</caption>\n",
       "<thead>\n",
       "\t<tr><th scope=col>name</th><th scope=col>start</th><th scope=col>end</th><th scope=col>party</th></tr>\n",
       "\t<tr><th scope=col>&lt;chr&gt;</th><th scope=col>&lt;mth&gt;</th><th scope=col>&lt;mth&gt;</th><th scope=col>&lt;chr&gt;</th></tr>\n",
       "</thead>\n",
       "<tbody>\n",
       "\t<tr><td>Eisenhower</td><td>1953 Jan</td><td>1961 Jan</td><td>Republican</td></tr>\n",
       "\t<tr><td>Kennedy   </td><td>1961 Jan</td><td>1963 Nov</td><td>Democratic</td></tr>\n",
       "\t<tr><td>Johnson   </td><td>1963 Nov</td><td>1969 Jan</td><td>Democratic</td></tr>\n",
       "\t<tr><td>Nixon     </td><td>1969 Jan</td><td>1974 Aug</td><td>Republican</td></tr>\n",
       "\t<tr><td>Ford      </td><td>1974 Aug</td><td>1977 Jan</td><td>Republican</td></tr>\n",
       "\t<tr><td>Carter    </td><td>1977 Jan</td><td>1981 Jan</td><td>Democratic</td></tr>\n",
       "</tbody>\n",
       "</table>\n"
      ],
      "text/latex": [
       "A tibble: 6 × 4\n",
       "\\begin{tabular}{llll}\n",
       " name & start & end & party\\\\\n",
       " <chr> & <mth> & <mth> & <chr>\\\\\n",
       "\\hline\n",
       "\t Eisenhower & 1953 Jan & 1961 Jan & Republican\\\\\n",
       "\t Kennedy    & 1961 Jan & 1963 Nov & Democratic\\\\\n",
       "\t Johnson    & 1963 Nov & 1969 Jan & Democratic\\\\\n",
       "\t Nixon      & 1969 Jan & 1974 Aug & Republican\\\\\n",
       "\t Ford       & 1974 Aug & 1977 Jan & Republican\\\\\n",
       "\t Carter     & 1977 Jan & 1981 Jan & Democratic\\\\\n",
       "\\end{tabular}\n"
      ],
      "text/markdown": [
       "\n",
       "A tibble: 6 × 4\n",
       "\n",
       "| name &lt;chr&gt; | start &lt;mth&gt; | end &lt;mth&gt; | party &lt;chr&gt; |\n",
       "|---|---|---|---|\n",
       "| Eisenhower | 1953 Jan | 1961 Jan | Republican |\n",
       "| Kennedy    | 1961 Jan | 1963 Nov | Democratic |\n",
       "| Johnson    | 1963 Nov | 1969 Jan | Democratic |\n",
       "| Nixon      | 1969 Jan | 1974 Aug | Republican |\n",
       "| Ford       | 1974 Aug | 1977 Jan | Republican |\n",
       "| Carter     | 1977 Jan | 1981 Jan | Democratic |\n",
       "\n"
      ],
      "text/plain": [
       "  name       start    end      party     \n",
       "1 Eisenhower 1953 Jan 1961 Jan Republican\n",
       "2 Kennedy    1961 Jan 1963 Nov Democratic\n",
       "3 Johnson    1963 Nov 1969 Jan Democratic\n",
       "4 Nixon      1969 Jan 1974 Aug Republican\n",
       "5 Ford       1974 Aug 1977 Jan Republican\n",
       "6 Carter     1977 Jan 1981 Jan Democratic"
      ]
     },
     "metadata": {},
     "output_type": "display_data"
    }
   ],
   "source": [
    "president_ym <- presidential %>%\n",
    "   mutate(start = tsibble::yearmonth(start), \n",
    "          end = tsibble::yearmonth(end))\n",
    "head(president_ym)"
   ]
  },
  {
   "cell_type": "code",
   "execution_count": 5,
   "metadata": {
    "deletable": false,
    "editable": false,
    "nbgrader": {
     "cell_type": "code",
     "checksum": "b589c7aaea69c8329428287aabf4751e",
     "grade": true,
     "grade_id": "cell-7d4a3a9d3ba31dd4",
     "locked": true,
     "points": 1,
     "schema_version": 3,
     "solution": false,
     "task": false
    }
   },
   "outputs": [
    {
     "name": "stderr",
     "output_type": "stream",
     "text": [
      "Warning message in normalizePath(path.expand(path), winslash, mustWork):\n",
      "\"path[1]=\"C:/Users/41615/OneDrive/×ÀÃæ/stat545a/worksheets\": The system cannot find the path specified\"\n",
      "Warning message in normalizePath(path.expand(path), winslash, mustWork):\n",
      "\"path[1]=\"C:/Users/41615/OneDrive/×ÀÃæ/stat545a/worksheets\": The system cannot find the path specified\"\n",
      "Warning message in normalizePath(path.expand(path), winslash, mustWork):\n",
      "\"path[1]=\"C:/Users/41615/OneDrive/×ÀÃæ/stat545a\": The system cannot find the path specified\"\n",
      "Warning message in normalizePath(path.expand(path), winslash, mustWork):\n",
      "\"path[1]=\"C:/Users/41615/OneDrive/×ÀÃæ/stat545a\": The system cannot find the path specified\"\n",
      "Warning message in normalizePath(path.expand(path), winslash, mustWork):\n",
      "\"path[1]=\"C:/Users/41615/OneDrive/×ÀÃæ\": The system cannot find the file specified\"\n",
      "Warning message in normalizePath(path.expand(path), winslash, mustWork):\n",
      "\"path[1]=\"C:/Users/41615/OneDrive/×ÀÃæ\": The system cannot find the file specified\"\n"
     ]
    },
    {
     "name": "stdout",
     "output_type": "stream",
     "text": [
      "\u001b[32mTest passed\u001b[39m \n"
     ]
    }
   ],
   "source": [
    "test_that(\"Question 0.1\", expect_known_hash(president_ym[1,], \"8b9ac24bc52a692ab7d1bd83f9e0a19c\"))"
   ]
  },
  {
   "cell_type": "markdown",
   "metadata": {
    "deletable": false,
    "editable": false,
    "nbgrader": {
     "cell_type": "markdown",
     "checksum": "98b4a1b5a49a2cbc8f7252206d92ce39",
     "grade": false,
     "grade_id": "cell-ff4d90bac29bce18",
     "locked": true,
     "schema_version": 3,
     "solution": false,
     "task": false
    }
   },
   "source": [
    "# Part 1: Creating Factors\n",
    "\n",
    "For the best experience working with factors in R, we will use the forcats package, which is part of the tidyverse metapackage."
   ]
  },
  {
   "cell_type": "markdown",
   "metadata": {
    "deletable": false,
    "editable": false,
    "nbgrader": {
     "cell_type": "markdown",
     "checksum": "5960c95ea2598691226427a13ba11124",
     "grade": false,
     "grade_id": "cell-92d93e5de5944b49",
     "locked": true,
     "schema_version": 3,
     "solution": false,
     "task": false
    }
   },
   "source": [
    "## Question 1.1\n",
    "\n",
    "Using the gapminder dataset from the gapminder package, create a new data set for the year 1997, adding a new column `life_level` containing 5 new levels according to the following table.\n",
    "\n",
    "| Criteria          |`life_level`   | \n",
    "|-------------------|-------------|\n",
    "| less than 23      | very low    |\n",
    "| between 23 and 48 | low         |\n",
    "| between 48 and 59 | moderate    |\n",
    "| between 59 and 70 | high        |\n",
    "| more than 70      | very high   |\n",
    "\n",
    "Store this new data frame in variable `gapminder_1997`.\n",
    "\n",
    "**Hint**: We are using `case_when()`, a tidier way to vectorise multiple `if_else()` statements.\n",
    "You can read more about this function [in the tidyverse reference](https://dplyr.tidyverse.org/reference/case_when.html).\n",
    "\n",
    "```\n",
    "gapminder_1997 <- gapminder %>% \n",
    "   FILL_THIS_IN(year == FILL_THIS_IN) %>% \n",
    "   FILL_THIS_IN(life_level = case_when(FILL_THIS_IN < FILL_THIS_IN ~ \"very low\",\n",
    "                                 FILL_THIS_IN < FILL_THIS_IN ~ \"low\",\n",
    "                                 FILL_THIS_IN < FILL_THIS_IN ~ \"moderate\",\n",
    "                                 FILL_THIS_IN < FILL_THIS_IN ~ \"high\",\n",
    "                                 TRUE ~ \"very high\"))\n",
    "```"
   ]
  },
  {
   "cell_type": "code",
   "execution_count": 13,
   "metadata": {
    "deletable": false,
    "lines_to_next_cell": 0,
    "nbgrader": {
     "cell_type": "code",
     "checksum": "ef0f70c7ff836ae444c855a3f6806b99",
     "grade": false,
     "grade_id": "cell-dc036d146cef2025",
     "locked": false,
     "schema_version": 3,
     "solution": true,
     "task": false
    }
   },
   "outputs": [
    {
     "data": {
      "text/html": [
       "<table class=\"dataframe\">\n",
       "<caption>A tibble: 6 × 7</caption>\n",
       "<thead>\n",
       "\t<tr><th scope=col>country</th><th scope=col>continent</th><th scope=col>year</th><th scope=col>lifeExp</th><th scope=col>pop</th><th scope=col>gdpPercap</th><th scope=col>life_level</th></tr>\n",
       "\t<tr><th scope=col>&lt;fct&gt;</th><th scope=col>&lt;fct&gt;</th><th scope=col>&lt;int&gt;</th><th scope=col>&lt;dbl&gt;</th><th scope=col>&lt;int&gt;</th><th scope=col>&lt;dbl&gt;</th><th scope=col>&lt;chr&gt;</th></tr>\n",
       "</thead>\n",
       "<tbody>\n",
       "\t<tr><td>Afghanistan</td><td>Asia    </td><td>1997</td><td>41.763</td><td>22227415</td><td>  635.3414</td><td>low      </td></tr>\n",
       "\t<tr><td>Albania    </td><td>Europe  </td><td>1997</td><td>72.950</td><td> 3428038</td><td> 3193.0546</td><td>very high</td></tr>\n",
       "\t<tr><td>Algeria    </td><td>Africa  </td><td>1997</td><td>69.152</td><td>29072015</td><td> 4797.2951</td><td>high     </td></tr>\n",
       "\t<tr><td>Angola     </td><td>Africa  </td><td>1997</td><td>40.963</td><td> 9875024</td><td> 2277.1409</td><td>low      </td></tr>\n",
       "\t<tr><td>Argentina  </td><td>Americas</td><td>1997</td><td>73.275</td><td>36203463</td><td>10967.2820</td><td>very high</td></tr>\n",
       "\t<tr><td>Australia  </td><td>Oceania </td><td>1997</td><td>78.830</td><td>18565243</td><td>26997.9366</td><td>very high</td></tr>\n",
       "</tbody>\n",
       "</table>\n"
      ],
      "text/latex": [
       "A tibble: 6 × 7\n",
       "\\begin{tabular}{lllllll}\n",
       " country & continent & year & lifeExp & pop & gdpPercap & life\\_level\\\\\n",
       " <fct> & <fct> & <int> & <dbl> & <int> & <dbl> & <chr>\\\\\n",
       "\\hline\n",
       "\t Afghanistan & Asia     & 1997 & 41.763 & 22227415 &   635.3414 & low      \\\\\n",
       "\t Albania     & Europe   & 1997 & 72.950 &  3428038 &  3193.0546 & very high\\\\\n",
       "\t Algeria     & Africa   & 1997 & 69.152 & 29072015 &  4797.2951 & high     \\\\\n",
       "\t Angola      & Africa   & 1997 & 40.963 &  9875024 &  2277.1409 & low      \\\\\n",
       "\t Argentina   & Americas & 1997 & 73.275 & 36203463 & 10967.2820 & very high\\\\\n",
       "\t Australia   & Oceania  & 1997 & 78.830 & 18565243 & 26997.9366 & very high\\\\\n",
       "\\end{tabular}\n"
      ],
      "text/markdown": [
       "\n",
       "A tibble: 6 × 7\n",
       "\n",
       "| country &lt;fct&gt; | continent &lt;fct&gt; | year &lt;int&gt; | lifeExp &lt;dbl&gt; | pop &lt;int&gt; | gdpPercap &lt;dbl&gt; | life_level &lt;chr&gt; |\n",
       "|---|---|---|---|---|---|---|\n",
       "| Afghanistan | Asia     | 1997 | 41.763 | 22227415 |   635.3414 | low       |\n",
       "| Albania     | Europe   | 1997 | 72.950 |  3428038 |  3193.0546 | very high |\n",
       "| Algeria     | Africa   | 1997 | 69.152 | 29072015 |  4797.2951 | high      |\n",
       "| Angola      | Africa   | 1997 | 40.963 |  9875024 |  2277.1409 | low       |\n",
       "| Argentina   | Americas | 1997 | 73.275 | 36203463 | 10967.2820 | very high |\n",
       "| Australia   | Oceania  | 1997 | 78.830 | 18565243 | 26997.9366 | very high |\n",
       "\n"
      ],
      "text/plain": [
       "  country     continent year lifeExp pop      gdpPercap  life_level\n",
       "1 Afghanistan Asia      1997 41.763  22227415   635.3414 low       \n",
       "2 Albania     Europe    1997 72.950   3428038  3193.0546 very high \n",
       "3 Algeria     Africa    1997 69.152  29072015  4797.2951 high      \n",
       "4 Angola      Africa    1997 40.963   9875024  2277.1409 low       \n",
       "5 Argentina   Americas  1997 73.275  36203463 10967.2820 very high \n",
       "6 Australia   Oceania   1997 78.830  18565243 26997.9366 very high "
      ]
     },
     "metadata": {},
     "output_type": "display_data"
    }
   ],
   "source": [
    "gapminder_1997 <- gapminder %>% \n",
    "   filter(year == 1997) %>% \n",
    "   mutate(life_level = case_when(lifeExp < 23 ~ \"very low\",\n",
    "                                 lifeExp < 48 ~ \"low\",\n",
    "                                 lifeExp < 59 ~ \"moderate\",\n",
    "                                 lifeExp < 70 ~ \"high\",\n",
    "                                 TRUE ~ \"very high\"))\n",
    "head(gapminder_1997)"
   ]
  },
  {
   "cell_type": "code",
   "execution_count": 14,
   "metadata": {
    "deletable": false,
    "editable": false,
    "nbgrader": {
     "cell_type": "code",
     "checksum": "a3d45fc2cc08a9548cd6985ef734e9dc",
     "grade": true,
     "grade_id": "cell-f8b2ff75e5097542",
     "locked": true,
     "points": 1,
     "schema_version": 3,
     "solution": false,
     "task": false
    }
   },
   "outputs": [
    {
     "name": "stderr",
     "output_type": "stream",
     "text": [
      "Warning message in normalizePath(path.expand(path), winslash, mustWork):\n",
      "\"path[1]=\"C:/Users/41615/OneDrive/×ÀÃæ/stat545a/worksheets\": The system cannot find the path specified\"\n",
      "Warning message in normalizePath(path.expand(path), winslash, mustWork):\n",
      "\"path[1]=\"C:/Users/41615/OneDrive/×ÀÃæ/stat545a/worksheets\": The system cannot find the path specified\"\n",
      "Warning message in normalizePath(path.expand(path), winslash, mustWork):\n",
      "\"path[1]=\"C:/Users/41615/OneDrive/×ÀÃæ/stat545a\": The system cannot find the path specified\"\n",
      "Warning message in normalizePath(path.expand(path), winslash, mustWork):\n",
      "\"path[1]=\"C:/Users/41615/OneDrive/×ÀÃæ/stat545a\": The system cannot find the path specified\"\n",
      "Warning message in normalizePath(path.expand(path), winslash, mustWork):\n",
      "\"path[1]=\"C:/Users/41615/OneDrive/×ÀÃæ\": The system cannot find the file specified\"\n",
      "Warning message in normalizePath(path.expand(path), winslash, mustWork):\n",
      "\"path[1]=\"C:/Users/41615/OneDrive/×ÀÃæ\": The system cannot find the file specified\"\n"
     ]
    },
    {
     "name": "stdout",
     "output_type": "stream",
     "text": [
      "\u001b[32mTest passed\u001b[39m \n"
     ]
    }
   ],
   "source": [
    "test_that(\"Question 1.1\", expect_known_hash(table(gapminder_1997$life_level), \"3d2e691667d4706e66ce5784bb1d7042\"))"
   ]
  },
  {
   "cell_type": "markdown",
   "metadata": {
    "deletable": false,
    "editable": false,
    "nbgrader": {
     "cell_type": "markdown",
     "checksum": "27362b06ff6270477cb4b383f7c307d0",
     "grade": false,
     "grade_id": "cell-5c2f86da93e2a963",
     "locked": true,
     "schema_version": 3,
     "solution": false,
     "task": false
    }
   },
   "source": [
    "FYI: We can now plot boxplots for the GDP per capita per level of life expectancy.\n",
    "Run the following code to see the boxplots."
   ]
  },
  {
   "cell_type": "code",
   "execution_count": 15,
   "metadata": {
    "deletable": false,
    "editable": false,
    "nbgrader": {
     "cell_type": "code",
     "checksum": "483f75964e96e4e9b9c37a729a55195f",
     "grade": false,
     "grade_id": "cell-bb53dd9bcb9f2f82",
     "locked": true,
     "schema_version": 3,
     "solution": false,
     "task": false
    }
   },
   "outputs": [
    {
     "data": {
      "image/png": "[encoded data removed]",
      "text/plain": [
       "plot without title"
      ]
     },
     "metadata": {
      "image/png": {
       "height": 420,
       "width": 420
      }
     },
     "output_type": "display_data"
    }
   ],
   "source": [
    "ggplot(gapminder_1997) + geom_boxplot(aes(x = life_level, y = gdpPercap)) +\n",
    "  labs(y = \"GDP per capita ($)\", x = \"Life expectancy level (years)\") +\n",
    "  ggtitle(\"GDP per capita per Level of Life Expectancy\") +\n",
    "  theme_bw() "
   ]
  },
  {
   "cell_type": "markdown",
   "metadata": {
    "deletable": false,
    "editable": false,
    "nbgrader": {
     "cell_type": "markdown",
     "checksum": "4064ee6fb1f5dcdc5934c65245a694c3",
     "grade": false,
     "grade_id": "cell-95e05c5acbdd7a28",
     "locked": true,
     "schema_version": 3,
     "solution": false,
     "task": false
    }
   },
   "source": [
    "## Question 1.2\n",
    "\n",
    "Notice a few oddities in the above plot:\n",
    "\n",
    "- It seems that none of the countries had a \"very low\" life-expectancy in 1997. \n",
    "- However, since it was an option in our analysis it should be included in our plot. Right?\n",
    "- Notice also how levels on x-axis are placed in the \"wrong\" order. (in alphabetical order)\n",
    "\n",
    "You can correct these issues by explicitly making `life_level` a factor and setting the levels parameter.\n",
    "Create a new data frame as in Question 1.1, but make the column `life_level` a factor with levels ordered from *very low* to *very high*.\n",
    "Store this new data frame in variable `gapminder_1997_fct`.\n",
    "\n",
    "```\n",
    "gapminder_1997_fct <- gapminder %>% \n",
    "   FILL_THIS_IN(year == 1997) %>% \n",
    "   FILL_THIS_IN(life_level = FILL_THIS_IN(case_when(FILL_THIS_IN < FILL_THIS_IN ~ \"very low\",\n",
    "                                        FILL_THIS_IN < FILL_THIS_IN ~ \"low\",\n",
    "                                        FILL_THIS_IN < FILL_THIS_IN ~ \"moderate\",\n",
    "                                        FILL_THIS_IN < FILL_THIS_IN ~ \"high\",\n",
    "                                        TRUE ~ \"very high\"),\n",
    "                              levels = c('FILL_THIS_IN', 'FILL_THIS_IN', 'FILL_THIS_IN', 'FILL_THIS_IN', 'FILL_THIS_IN')))\n",
    "```"
   ]
  },
  {
   "cell_type": "code",
   "execution_count": 16,
   "metadata": {
    "deletable": false,
    "lines_to_next_cell": 0,
    "nbgrader": {
     "cell_type": "code",
     "checksum": "a6b7375914651c80d4f8e35697d45ccc",
     "grade": false,
     "grade_id": "cell-0f65d0f778ec6287",
     "locked": false,
     "schema_version": 3,
     "solution": true,
     "task": false
    }
   },
   "outputs": [
    {
     "data": {
      "text/html": [
       "<table class=\"dataframe\">\n",
       "<caption>A tibble: 6 × 7</caption>\n",
       "<thead>\n",
       "\t<tr><th scope=col>country</th><th scope=col>continent</th><th scope=col>year</th><th scope=col>lifeExp</th><th scope=col>pop</th><th scope=col>gdpPercap</th><th scope=col>life_level</th></tr>\n",
       "\t<tr><th scope=col>&lt;fct&gt;</th><th scope=col>&lt;fct&gt;</th><th scope=col>&lt;int&gt;</th><th scope=col>&lt;dbl&gt;</th><th scope=col>&lt;int&gt;</th><th scope=col>&lt;dbl&gt;</th><th scope=col>&lt;fct&gt;</th></tr>\n",
       "</thead>\n",
       "<tbody>\n",
       "\t<tr><td>Afghanistan</td><td>Asia    </td><td>1997</td><td>41.763</td><td>22227415</td><td>  635.3414</td><td>low      </td></tr>\n",
       "\t<tr><td>Albania    </td><td>Europe  </td><td>1997</td><td>72.950</td><td> 3428038</td><td> 3193.0546</td><td>very high</td></tr>\n",
       "\t<tr><td>Algeria    </td><td>Africa  </td><td>1997</td><td>69.152</td><td>29072015</td><td> 4797.2951</td><td>high     </td></tr>\n",
       "\t<tr><td>Angola     </td><td>Africa  </td><td>1997</td><td>40.963</td><td> 9875024</td><td> 2277.1409</td><td>low      </td></tr>\n",
       "\t<tr><td>Argentina  </td><td>Americas</td><td>1997</td><td>73.275</td><td>36203463</td><td>10967.2820</td><td>very high</td></tr>\n",
       "\t<tr><td>Australia  </td><td>Oceania </td><td>1997</td><td>78.830</td><td>18565243</td><td>26997.9366</td><td>very high</td></tr>\n",
       "</tbody>\n",
       "</table>\n"
      ],
      "text/latex": [
       "A tibble: 6 × 7\n",
       "\\begin{tabular}{lllllll}\n",
       " country & continent & year & lifeExp & pop & gdpPercap & life\\_level\\\\\n",
       " <fct> & <fct> & <int> & <dbl> & <int> & <dbl> & <fct>\\\\\n",
       "\\hline\n",
       "\t Afghanistan & Asia     & 1997 & 41.763 & 22227415 &   635.3414 & low      \\\\\n",
       "\t Albania     & Europe   & 1997 & 72.950 &  3428038 &  3193.0546 & very high\\\\\n",
       "\t Algeria     & Africa   & 1997 & 69.152 & 29072015 &  4797.2951 & high     \\\\\n",
       "\t Angola      & Africa   & 1997 & 40.963 &  9875024 &  2277.1409 & low      \\\\\n",
       "\t Argentina   & Americas & 1997 & 73.275 & 36203463 & 10967.2820 & very high\\\\\n",
       "\t Australia   & Oceania  & 1997 & 78.830 & 18565243 & 26997.9366 & very high\\\\\n",
       "\\end{tabular}\n"
      ],
      "text/markdown": [
       "\n",
       "A tibble: 6 × 7\n",
       "\n",
       "| country &lt;fct&gt; | continent &lt;fct&gt; | year &lt;int&gt; | lifeExp &lt;dbl&gt; | pop &lt;int&gt; | gdpPercap &lt;dbl&gt; | life_level &lt;fct&gt; |\n",
       "|---|---|---|---|---|---|---|\n",
       "| Afghanistan | Asia     | 1997 | 41.763 | 22227415 |   635.3414 | low       |\n",
       "| Albania     | Europe   | 1997 | 72.950 |  3428038 |  3193.0546 | very high |\n",
       "| Algeria     | Africa   | 1997 | 69.152 | 29072015 |  4797.2951 | high      |\n",
       "| Angola      | Africa   | 1997 | 40.963 |  9875024 |  2277.1409 | low       |\n",
       "| Argentina   | Americas | 1997 | 73.275 | 36203463 | 10967.2820 | very high |\n",
       "| Australia   | Oceania  | 1997 | 78.830 | 18565243 | 26997.9366 | very high |\n",
       "\n"
      ],
      "text/plain": [
       "  country     continent year lifeExp pop      gdpPercap  life_level\n",
       "1 Afghanistan Asia      1997 41.763  22227415   635.3414 low       \n",
       "2 Albania     Europe    1997 72.950   3428038  3193.0546 very high \n",
       "3 Algeria     Africa    1997 69.152  29072015  4797.2951 high      \n",
       "4 Angola      Africa    1997 40.963   9875024  2277.1409 low       \n",
       "5 Argentina   Americas  1997 73.275  36203463 10967.2820 very high \n",
       "6 Australia   Oceania   1997 78.830  18565243 26997.9366 very high "
      ]
     },
     "metadata": {},
     "output_type": "display_data"
    }
   ],
   "source": [
    "gapminder_1997_fct <- gapminder %>% \n",
    "   filter(year == 1997) %>% \n",
    "   mutate(life_level = factor(case_when(lifeExp < 23 ~ \"very low\",\n",
    "                                 lifeExp < 48 ~ \"low\",\n",
    "                                 lifeExp < 59 ~ \"moderate\",\n",
    "                                 lifeExp < 70 ~ \"high\",\n",
    "                                 TRUE ~ \"very high\"),\n",
    "                              levels = c('very low', 'low', 'moderate', 'high', 'very high')))\n",
    "head(gapminder_1997_fct)"
   ]
  },
  {
   "cell_type": "code",
   "execution_count": 17,
   "metadata": {
    "deletable": false,
    "editable": false,
    "nbgrader": {
     "cell_type": "code",
     "checksum": "3d73158d441e43c924e1d65686888a12",
     "grade": true,
     "grade_id": "cell-8448390b94500381",
     "locked": true,
     "points": 1,
     "schema_version": 3,
     "solution": false,
     "task": false
    }
   },
   "outputs": [
    {
     "name": "stderr",
     "output_type": "stream",
     "text": [
      "Warning message in normalizePath(path.expand(path), winslash, mustWork):\n",
      "\"path[1]=\"C:/Users/41615/OneDrive/×ÀÃæ/stat545a/worksheets\": The system cannot find the path specified\"\n",
      "Warning message in normalizePath(path.expand(path), winslash, mustWork):\n",
      "\"path[1]=\"C:/Users/41615/OneDrive/×ÀÃæ/stat545a/worksheets\": The system cannot find the path specified\"\n",
      "Warning message in normalizePath(path.expand(path), winslash, mustWork):\n",
      "\"path[1]=\"C:/Users/41615/OneDrive/×ÀÃæ/stat545a\": The system cannot find the path specified\"\n",
      "Warning message in normalizePath(path.expand(path), winslash, mustWork):\n",
      "\"path[1]=\"C:/Users/41615/OneDrive/×ÀÃæ/stat545a\": The system cannot find the path specified\"\n",
      "Warning message in normalizePath(path.expand(path), winslash, mustWork):\n",
      "\"path[1]=\"C:/Users/41615/OneDrive/×ÀÃæ\": The system cannot find the file specified\"\n",
      "Warning message in normalizePath(path.expand(path), winslash, mustWork):\n",
      "\"path[1]=\"C:/Users/41615/OneDrive/×ÀÃæ\": The system cannot find the file specified\"\n"
     ]
    },
    {
     "name": "stdout",
     "output_type": "stream",
     "text": [
      "\u001b[32mTest passed\u001b[39m \n"
     ]
    }
   ],
   "source": [
    "test_that(\"Question 1.2\", expect_known_hash(table(gapminder_1997_fct$life_level), \"8e62f09fbd0756d7e69d1bc95715d333\"))"
   ]
  },
  {
   "cell_type": "markdown",
   "metadata": {
    "deletable": false,
    "editable": false,
    "nbgrader": {
     "cell_type": "markdown",
     "checksum": "79159e2f1e076a32d34245013baeb8c8",
     "grade": false,
     "grade_id": "cell-ab66c1758a1353d7",
     "locked": true,
     "schema_version": 3,
     "solution": false,
     "task": false
    }
   },
   "source": [
    "Run the following code to see the boxplots from the new data frame with life expectancy level as factor."
   ]
  },
  {
   "cell_type": "code",
   "execution_count": 18,
   "metadata": {
    "deletable": false,
    "editable": false,
    "lines_to_next_cell": 2,
    "nbgrader": {
     "cell_type": "code",
     "checksum": "49428ed049346010159818eab9a71a9d",
     "grade": false,
     "grade_id": "cell-a660106ec5a2bf52",
     "locked": true,
     "schema_version": 3,
     "solution": false,
     "task": false
    }
   },
   "outputs": [
    {
     "data": {
      "image/png": "[encoded data removed]",
      "text/plain": [
       "plot without title"
      ]
     },
     "metadata": {
      "image/png": {
       "height": 420,
       "width": 420
      }
     },
     "output_type": "display_data"
    }
   ],
   "source": [
    "ggplot(gapminder_1997_fct) + geom_boxplot(aes(x = life_level, y = gdpPercap)) +\n",
    "  labs(y = \"GDP per capita ($)\", x= \"Life expectancy level (years)\") +\n",
    "  scale_x_discrete(drop = FALSE) + # Don't drop the very low factor\n",
    "  ggtitle(\"GDP per capita per level of Life Expectancy\") +\n",
    "  theme_bw() "
   ]
  },
  {
   "cell_type": "markdown",
   "metadata": {
    "deletable": false,
    "editable": false,
    "nbgrader": {
     "cell_type": "markdown",
     "checksum": "479aa33b770ae072df04c6eb749d2f9d",
     "grade": false,
     "grade_id": "cell-d2c47ea01eefe9d8",
     "locked": true,
     "schema_version": 3,
     "solution": false,
     "task": false
    }
   },
   "source": [
    "# Part 2: Inspecting Factors\n",
    "\n",
    "In Part 1, you created your own factors, so now let's explore what categorical variables are in the `gapminder` dataset.\n",
    "\n",
    "## Question 2.1\n",
    "\n",
    "What levels does the column `continent` have?\n",
    "Assign the levels to variable `continent_levels`, using the `levels()` function. (To mix things up a bit, the template code we're giving you extracts a column using the Base R way of extracting columns -- with a dollar sign.)\n",
    "\n",
    "```\n",
    "continent_levels <- FILL_THIS_IN(gapminder$FILL_THIS_IN)\n",
    "```"
   ]
  },
  {
   "cell_type": "code",
   "execution_count": 19,
   "metadata": {
    "deletable": false,
    "lines_to_next_cell": 0,
    "nbgrader": {
     "cell_type": "code",
     "checksum": "76a3507ffca700c224121447d12fb9f0",
     "grade": false,
     "grade_id": "cell-537277f01997b17c",
     "locked": false,
     "schema_version": 3,
     "solution": true,
     "task": false
    }
   },
   "outputs": [
    {
     "name": "stdout",
     "output_type": "stream",
     "text": [
      "[1] \"Africa\"   \"Americas\" \"Asia\"     \"Europe\"   \"Oceania\" \n"
     ]
    }
   ],
   "source": [
    "continent_levels <- levels(gapminder$continent)\n",
    "print(continent_levels)"
   ]
  },
  {
   "cell_type": "code",
   "execution_count": 20,
   "metadata": {
    "deletable": false,
    "editable": false,
    "nbgrader": {
     "cell_type": "code",
     "checksum": "7a8f3dcc16c9df12faae8dd82bbbc920",
     "grade": true,
     "grade_id": "cell-5aacbda4d51ef339",
     "locked": true,
     "points": 1,
     "schema_version": 3,
     "solution": false,
     "task": false
    }
   },
   "outputs": [
    {
     "name": "stderr",
     "output_type": "stream",
     "text": [
      "Warning message in normalizePath(path.expand(path), winslash, mustWork):\n",
      "\"path[1]=\"C:/Users/41615/OneDrive/×ÀÃæ/stat545a/worksheets\": The system cannot find the path specified\"\n",
      "Warning message in normalizePath(path.expand(path), winslash, mustWork):\n",
      "\"path[1]=\"C:/Users/41615/OneDrive/×ÀÃæ/stat545a/worksheets\": The system cannot find the path specified\"\n",
      "Warning message in normalizePath(path.expand(path), winslash, mustWork):\n",
      "\"path[1]=\"C:/Users/41615/OneDrive/×ÀÃæ/stat545a\": The system cannot find the path specified\"\n",
      "Warning message in normalizePath(path.expand(path), winslash, mustWork):\n",
      "\"path[1]=\"C:/Users/41615/OneDrive/×ÀÃæ/stat545a\": The system cannot find the path specified\"\n",
      "Warning message in normalizePath(path.expand(path), winslash, mustWork):\n",
      "\"path[1]=\"C:/Users/41615/OneDrive/×ÀÃæ\": The system cannot find the file specified\"\n",
      "Warning message in normalizePath(path.expand(path), winslash, mustWork):\n",
      "\"path[1]=\"C:/Users/41615/OneDrive/×ÀÃæ\": The system cannot find the file specified\"\n"
     ]
    },
    {
     "name": "stdout",
     "output_type": "stream",
     "text": [
      "\u001b[32mTest passed\u001b[39m \n"
     ]
    }
   ],
   "source": [
    "test_that(\"Question 2.1\", expect_known_hash(continent_levels, \"6926255b7f073fb8e7d89773802102a6\"))"
   ]
  },
  {
   "cell_type": "markdown",
   "metadata": {
    "deletable": false,
    "editable": false,
    "nbgrader": {
     "cell_type": "markdown",
     "checksum": "811d56a160efacca9d5b30dc131e88b7",
     "grade": false,
     "grade_id": "cell-49df2e07dc37ef51",
     "locked": true,
     "schema_version": 3,
     "solution": false,
     "task": false
    }
   },
   "source": [
    "## Question 2.2\n",
    "\n",
    "How many levels does the column `country` have?\n",
    "Assign the number of levels to variable `gap_nr_countries`. Hint: there's a function called `nlevels()`. \n",
    "\n",
    "```\n",
    "gap_nr_countries <- FILL_THIS_IN(gapminder$FILL_THIS_IN)\n",
    "```"
   ]
  },
  {
   "cell_type": "code",
   "execution_count": 21,
   "metadata": {
    "deletable": false,
    "lines_to_next_cell": 0,
    "nbgrader": {
     "cell_type": "code",
     "checksum": "993a22e5837b922d522afb6b1edabffa",
     "grade": false,
     "grade_id": "cell-b79dc64b081f578c",
     "locked": false,
     "schema_version": 3,
     "solution": true,
     "task": false
    }
   },
   "outputs": [
    {
     "name": "stdout",
     "output_type": "stream",
     "text": [
      "[1] 142\n"
     ]
    }
   ],
   "source": [
    "gap_nr_countries <- nlevels(gapminder$country)\n",
    "print(gap_nr_countries)"
   ]
  },
  {
   "cell_type": "code",
   "execution_count": 22,
   "metadata": {
    "deletable": false,
    "editable": false,
    "nbgrader": {
     "cell_type": "code",
     "checksum": "90b93fb9a1650573c403ca53b361b28e",
     "grade": true,
     "grade_id": "cell-e34eff454c51eedd",
     "locked": true,
     "points": 1,
     "schema_version": 3,
     "solution": false,
     "task": false
    }
   },
   "outputs": [
    {
     "name": "stderr",
     "output_type": "stream",
     "text": [
      "Warning message in normalizePath(path.expand(path), winslash, mustWork):\n",
      "\"path[1]=\"C:/Users/41615/OneDrive/×ÀÃæ/stat545a/worksheets\": The system cannot find the path specified\"\n",
      "Warning message in normalizePath(path.expand(path), winslash, mustWork):\n",
      "\"path[1]=\"C:/Users/41615/OneDrive/×ÀÃæ/stat545a/worksheets\": The system cannot find the path specified\"\n",
      "Warning message in normalizePath(path.expand(path), winslash, mustWork):\n",
      "\"path[1]=\"C:/Users/41615/OneDrive/×ÀÃæ/stat545a\": The system cannot find the path specified\"\n",
      "Warning message in normalizePath(path.expand(path), winslash, mustWork):\n",
      "\"path[1]=\"C:/Users/41615/OneDrive/×ÀÃæ/stat545a\": The system cannot find the path specified\"\n",
      "Warning message in normalizePath(path.expand(path), winslash, mustWork):\n",
      "\"path[1]=\"C:/Users/41615/OneDrive/×ÀÃæ\": The system cannot find the file specified\"\n",
      "Warning message in normalizePath(path.expand(path), winslash, mustWork):\n",
      "\"path[1]=\"C:/Users/41615/OneDrive/×ÀÃæ\": The system cannot find the file specified\"\n"
     ]
    },
    {
     "name": "stdout",
     "output_type": "stream",
     "text": [
      "\u001b[32mTest passed\u001b[39m \n"
     ]
    }
   ],
   "source": [
    "test_that(\"Question 2.2\", expect_known_hash(as.integer(gap_nr_countries), \"3b6d002135d8d45a3c5f4a9fb857c323\"))"
   ]
  },
  {
   "cell_type": "markdown",
   "metadata": {
    "deletable": false,
    "editable": false,
    "nbgrader": {
     "cell_type": "markdown",
     "checksum": "fca7a6d0d7888f86dcadcf286cdaf56d",
     "grade": false,
     "grade_id": "cell-6fe136fd3a220c57",
     "locked": true,
     "schema_version": 3,
     "solution": false,
     "task": false
    }
   },
   "source": [
    "## Question 2.3\n",
    "\n",
    "Consider we are only interested in the following 5 countries: Egypt, Haiti, Romania, Thailand, and Venezuela.\n",
    "Create a new data frame with only these 5 countries and store it in variable `gap_5`. _Hint_: nothing new here -- use your dplyr knowledge!\n",
    "\n",
    "```\n",
    "gap_5 <- gapminder %>%\n",
    "   FILL_THIS_IN(FILL_THIS_IN %in% c(\"FILL_THIS_IN\", \"FILL_THIS_IN\", \"FILL_THIS_IN\", \"FILL_THIS_IN\", \"FILL_THIS_IN\"))\n",
    "```"
   ]
  },
  {
   "cell_type": "code",
   "execution_count": 23,
   "metadata": {
    "deletable": false,
    "lines_to_next_cell": 0,
    "nbgrader": {
     "cell_type": "code",
     "checksum": "bc2f4d1b202663df76a5a79622e9c121",
     "grade": false,
     "grade_id": "cell-46503448ea2a9cb9",
     "locked": false,
     "schema_version": 3,
     "solution": true,
     "task": false
    }
   },
   "outputs": [
    {
     "data": {
      "text/html": [
       "<table class=\"dataframe\">\n",
       "<caption>A tibble: 6 × 6</caption>\n",
       "<thead>\n",
       "\t<tr><th scope=col>country</th><th scope=col>continent</th><th scope=col>year</th><th scope=col>lifeExp</th><th scope=col>pop</th><th scope=col>gdpPercap</th></tr>\n",
       "\t<tr><th scope=col>&lt;fct&gt;</th><th scope=col>&lt;fct&gt;</th><th scope=col>&lt;int&gt;</th><th scope=col>&lt;dbl&gt;</th><th scope=col>&lt;int&gt;</th><th scope=col>&lt;dbl&gt;</th></tr>\n",
       "</thead>\n",
       "<tbody>\n",
       "\t<tr><td>Egypt</td><td>Africa</td><td>1952</td><td>41.893</td><td>22223309</td><td>1418.822</td></tr>\n",
       "\t<tr><td>Egypt</td><td>Africa</td><td>1957</td><td>44.444</td><td>25009741</td><td>1458.915</td></tr>\n",
       "\t<tr><td>Egypt</td><td>Africa</td><td>1962</td><td>46.992</td><td>28173309</td><td>1693.336</td></tr>\n",
       "\t<tr><td>Egypt</td><td>Africa</td><td>1967</td><td>49.293</td><td>31681188</td><td>1814.881</td></tr>\n",
       "\t<tr><td>Egypt</td><td>Africa</td><td>1972</td><td>51.137</td><td>34807417</td><td>2024.008</td></tr>\n",
       "\t<tr><td>Egypt</td><td>Africa</td><td>1977</td><td>53.319</td><td>38783863</td><td>2785.494</td></tr>\n",
       "</tbody>\n",
       "</table>\n"
      ],
      "text/latex": [
       "A tibble: 6 × 6\n",
       "\\begin{tabular}{llllll}\n",
       " country & continent & year & lifeExp & pop & gdpPercap\\\\\n",
       " <fct> & <fct> & <int> & <dbl> & <int> & <dbl>\\\\\n",
       "\\hline\n",
       "\t Egypt & Africa & 1952 & 41.893 & 22223309 & 1418.822\\\\\n",
       "\t Egypt & Africa & 1957 & 44.444 & 25009741 & 1458.915\\\\\n",
       "\t Egypt & Africa & 1962 & 46.992 & 28173309 & 1693.336\\\\\n",
       "\t Egypt & Africa & 1967 & 49.293 & 31681188 & 1814.881\\\\\n",
       "\t Egypt & Africa & 1972 & 51.137 & 34807417 & 2024.008\\\\\n",
       "\t Egypt & Africa & 1977 & 53.319 & 38783863 & 2785.494\\\\\n",
       "\\end{tabular}\n"
      ],
      "text/markdown": [
       "\n",
       "A tibble: 6 × 6\n",
       "\n",
       "| country &lt;fct&gt; | continent &lt;fct&gt; | year &lt;int&gt; | lifeExp &lt;dbl&gt; | pop &lt;int&gt; | gdpPercap &lt;dbl&gt; |\n",
       "|---|---|---|---|---|---|\n",
       "| Egypt | Africa | 1952 | 41.893 | 22223309 | 1418.822 |\n",
       "| Egypt | Africa | 1957 | 44.444 | 25009741 | 1458.915 |\n",
       "| Egypt | Africa | 1962 | 46.992 | 28173309 | 1693.336 |\n",
       "| Egypt | Africa | 1967 | 49.293 | 31681188 | 1814.881 |\n",
       "| Egypt | Africa | 1972 | 51.137 | 34807417 | 2024.008 |\n",
       "| Egypt | Africa | 1977 | 53.319 | 38783863 | 2785.494 |\n",
       "\n"
      ],
      "text/plain": [
       "  country continent year lifeExp pop      gdpPercap\n",
       "1 Egypt   Africa    1952 41.893  22223309 1418.822 \n",
       "2 Egypt   Africa    1957 44.444  25009741 1458.915 \n",
       "3 Egypt   Africa    1962 46.992  28173309 1693.336 \n",
       "4 Egypt   Africa    1967 49.293  31681188 1814.881 \n",
       "5 Egypt   Africa    1972 51.137  34807417 2024.008 \n",
       "6 Egypt   Africa    1977 53.319  38783863 2785.494 "
      ]
     },
     "metadata": {},
     "output_type": "display_data"
    }
   ],
   "source": [
    "gap_5 <- gapminder %>%\n",
    "   filter(country %in% c(\"Egypt\", \"Haiti\", \"Romania\", \"Thailand\", \"Venezuela\"))\n",
    "head(gap_5)"
   ]
  },
  {
   "cell_type": "code",
   "execution_count": 24,
   "metadata": {
    "deletable": false,
    "editable": false,
    "lines_to_next_cell": 2,
    "nbgrader": {
     "cell_type": "code",
     "checksum": "b64d97ece2323c943482bdcf2c5f1695",
     "grade": true,
     "grade_id": "cell-caed098411987014",
     "locked": true,
     "points": 1,
     "schema_version": 3,
     "solution": false,
     "task": false
    }
   },
   "outputs": [
    {
     "name": "stderr",
     "output_type": "stream",
     "text": [
      "Warning message in normalizePath(path.expand(path), winslash, mustWork):\n",
      "\"path[1]=\"C:/Users/41615/OneDrive/×ÀÃæ/stat545a/worksheets\": The system cannot find the path specified\"\n",
      "Warning message in normalizePath(path.expand(path), winslash, mustWork):\n",
      "\"path[1]=\"C:/Users/41615/OneDrive/×ÀÃæ/stat545a/worksheets\": The system cannot find the path specified\"\n",
      "Warning message in normalizePath(path.expand(path), winslash, mustWork):\n",
      "\"path[1]=\"C:/Users/41615/OneDrive/×ÀÃæ/stat545a\": The system cannot find the path specified\"\n",
      "Warning message in normalizePath(path.expand(path), winslash, mustWork):\n",
      "\"path[1]=\"C:/Users/41615/OneDrive/×ÀÃæ/stat545a\": The system cannot find the path specified\"\n",
      "Warning message in normalizePath(path.expand(path), winslash, mustWork):\n",
      "\"path[1]=\"C:/Users/41615/OneDrive/×ÀÃæ\": The system cannot find the file specified\"\n",
      "Warning message in normalizePath(path.expand(path), winslash, mustWork):\n",
      "\"path[1]=\"C:/Users/41615/OneDrive/×ÀÃæ\": The system cannot find the file specified\"\n"
     ]
    },
    {
     "name": "stdout",
     "output_type": "stream",
     "text": [
      "\u001b[32mTest passed\u001b[39m \n"
     ]
    }
   ],
   "source": [
    "test_that(\"Question 2.3\", {\n",
    "  expect_known_hash(dim(gap_5), \"6c0f8c2a8d488051f33fc89b2c327dcd\")\n",
    "  expect_known_hash(table(gap_5$country), \"05b8ca3033e94f96b9ec5422a69c1207\")\n",
    "})"
   ]
  },
  {
   "cell_type": "markdown",
   "metadata": {
    "deletable": false,
    "editable": false,
    "nbgrader": {
     "cell_type": "markdown",
     "checksum": "7ed381661b1550f7be814d56cc95de47",
     "grade": false,
     "grade_id": "cell-4ad94aa7ee66ed58",
     "locked": true,
     "schema_version": 3,
     "solution": false,
     "task": false
    }
   },
   "source": [
    "## Question 2.4\n",
    "\n",
    "However, subsetting the data set does not affect the levels of the factors.\n",
    "The column `country` in tibble `gap_5` still has the same number of levels as in the original data frame.\n",
    "\n",
    "Your task: create a new tibble from `gap_5`, where all unused levels from column `country` are dropped. _Hint_: use the `droplevels()` function. Store new new tibble in variable `gap_5_dropped`.\n",
    "\n",
    "By way of demonstration, check the number of levels in the \"country\" column before and after the change -- we've included the code for this for you.\n",
    "\n",
    "```\n",
    "nlevels(gap_5$country)\n",
    "gap_5_dropped <- FILL_THIS_IN(FILL_THIS_IN)\n",
    "nlevels(gap_5_dropped$country)\n",
    "```"
   ]
  },
  {
   "cell_type": "code",
   "execution_count": 25,
   "metadata": {
    "deletable": false,
    "lines_to_next_cell": 0,
    "nbgrader": {
     "cell_type": "code",
     "checksum": "1ca53dfb9b1eb9799849178862b07658",
     "grade": false,
     "grade_id": "cell-7e52beeb587753f4",
     "locked": false,
     "schema_version": 3,
     "solution": true,
     "task": false
    }
   },
   "outputs": [
    {
     "data": {
      "text/html": [
       "142"
      ],
      "text/latex": [
       "142"
      ],
      "text/markdown": [
       "142"
      ],
      "text/plain": [
       "[1] 142"
      ]
     },
     "metadata": {},
     "output_type": "display_data"
    },
    {
     "data": {
      "text/html": [
       "5"
      ],
      "text/latex": [
       "5"
      ],
      "text/markdown": [
       "5"
      ],
      "text/plain": [
       "[1] 5"
      ]
     },
     "metadata": {},
     "output_type": "display_data"
    },
    {
     "data": {
      "text/html": [
       "<table class=\"dataframe\">\n",
       "<caption>A tibble: 6 × 6</caption>\n",
       "<thead>\n",
       "\t<tr><th scope=col>country</th><th scope=col>continent</th><th scope=col>year</th><th scope=col>lifeExp</th><th scope=col>pop</th><th scope=col>gdpPercap</th></tr>\n",
       "\t<tr><th scope=col>&lt;fct&gt;</th><th scope=col>&lt;fct&gt;</th><th scope=col>&lt;int&gt;</th><th scope=col>&lt;dbl&gt;</th><th scope=col>&lt;int&gt;</th><th scope=col>&lt;dbl&gt;</th></tr>\n",
       "</thead>\n",
       "<tbody>\n",
       "\t<tr><td>Egypt</td><td>Africa</td><td>1952</td><td>41.893</td><td>22223309</td><td>1418.822</td></tr>\n",
       "\t<tr><td>Egypt</td><td>Africa</td><td>1957</td><td>44.444</td><td>25009741</td><td>1458.915</td></tr>\n",
       "\t<tr><td>Egypt</td><td>Africa</td><td>1962</td><td>46.992</td><td>28173309</td><td>1693.336</td></tr>\n",
       "\t<tr><td>Egypt</td><td>Africa</td><td>1967</td><td>49.293</td><td>31681188</td><td>1814.881</td></tr>\n",
       "\t<tr><td>Egypt</td><td>Africa</td><td>1972</td><td>51.137</td><td>34807417</td><td>2024.008</td></tr>\n",
       "\t<tr><td>Egypt</td><td>Africa</td><td>1977</td><td>53.319</td><td>38783863</td><td>2785.494</td></tr>\n",
       "</tbody>\n",
       "</table>\n"
      ],
      "text/latex": [
       "A tibble: 6 × 6\n",
       "\\begin{tabular}{llllll}\n",
       " country & continent & year & lifeExp & pop & gdpPercap\\\\\n",
       " <fct> & <fct> & <int> & <dbl> & <int> & <dbl>\\\\\n",
       "\\hline\n",
       "\t Egypt & Africa & 1952 & 41.893 & 22223309 & 1418.822\\\\\n",
       "\t Egypt & Africa & 1957 & 44.444 & 25009741 & 1458.915\\\\\n",
       "\t Egypt & Africa & 1962 & 46.992 & 28173309 & 1693.336\\\\\n",
       "\t Egypt & Africa & 1967 & 49.293 & 31681188 & 1814.881\\\\\n",
       "\t Egypt & Africa & 1972 & 51.137 & 34807417 & 2024.008\\\\\n",
       "\t Egypt & Africa & 1977 & 53.319 & 38783863 & 2785.494\\\\\n",
       "\\end{tabular}\n"
      ],
      "text/markdown": [
       "\n",
       "A tibble: 6 × 6\n",
       "\n",
       "| country &lt;fct&gt; | continent &lt;fct&gt; | year &lt;int&gt; | lifeExp &lt;dbl&gt; | pop &lt;int&gt; | gdpPercap &lt;dbl&gt; |\n",
       "|---|---|---|---|---|---|\n",
       "| Egypt | Africa | 1952 | 41.893 | 22223309 | 1418.822 |\n",
       "| Egypt | Africa | 1957 | 44.444 | 25009741 | 1458.915 |\n",
       "| Egypt | Africa | 1962 | 46.992 | 28173309 | 1693.336 |\n",
       "| Egypt | Africa | 1967 | 49.293 | 31681188 | 1814.881 |\n",
       "| Egypt | Africa | 1972 | 51.137 | 34807417 | 2024.008 |\n",
       "| Egypt | Africa | 1977 | 53.319 | 38783863 | 2785.494 |\n",
       "\n"
      ],
      "text/plain": [
       "  country continent year lifeExp pop      gdpPercap\n",
       "1 Egypt   Africa    1952 41.893  22223309 1418.822 \n",
       "2 Egypt   Africa    1957 44.444  25009741 1458.915 \n",
       "3 Egypt   Africa    1962 46.992  28173309 1693.336 \n",
       "4 Egypt   Africa    1967 49.293  31681188 1814.881 \n",
       "5 Egypt   Africa    1972 51.137  34807417 2024.008 \n",
       "6 Egypt   Africa    1977 53.319  38783863 2785.494 "
      ]
     },
     "metadata": {},
     "output_type": "display_data"
    }
   ],
   "source": [
    "nlevels(gap_5$country)\n",
    "gap_5_dropped <- droplevels(gap_5)\n",
    "nlevels(gap_5_dropped$country)\n",
    "head(gap_5_dropped)"
   ]
  },
  {
   "cell_type": "code",
   "execution_count": 26,
   "metadata": {
    "deletable": false,
    "editable": false,
    "nbgrader": {
     "cell_type": "code",
     "checksum": "1d9ba781006b505bfe882f4271047b99",
     "grade": true,
     "grade_id": "cell-806b19b02e2333e2",
     "locked": true,
     "points": 1,
     "schema_version": 3,
     "solution": false,
     "task": false
    }
   },
   "outputs": [
    {
     "name": "stderr",
     "output_type": "stream",
     "text": [
      "Warning message in normalizePath(path.expand(path), winslash, mustWork):\n",
      "\"path[1]=\"C:/Users/41615/OneDrive/×ÀÃæ/stat545a/worksheets\": The system cannot find the path specified\"\n",
      "Warning message in normalizePath(path.expand(path), winslash, mustWork):\n",
      "\"path[1]=\"C:/Users/41615/OneDrive/×ÀÃæ/stat545a/worksheets\": The system cannot find the path specified\"\n",
      "Warning message in normalizePath(path.expand(path), winslash, mustWork):\n",
      "\"path[1]=\"C:/Users/41615/OneDrive/×ÀÃæ/stat545a\": The system cannot find the path specified\"\n",
      "Warning message in normalizePath(path.expand(path), winslash, mustWork):\n",
      "\"path[1]=\"C:/Users/41615/OneDrive/×ÀÃæ/stat545a\": The system cannot find the path specified\"\n",
      "Warning message in normalizePath(path.expand(path), winslash, mustWork):\n",
      "\"path[1]=\"C:/Users/41615/OneDrive/×ÀÃæ\": The system cannot find the file specified\"\n",
      "Warning message in normalizePath(path.expand(path), winslash, mustWork):\n",
      "\"path[1]=\"C:/Users/41615/OneDrive/×ÀÃæ\": The system cannot find the file specified\"\n"
     ]
    },
    {
     "name": "stdout",
     "output_type": "stream",
     "text": [
      "\u001b[32mTest passed\u001b[39m \n"
     ]
    }
   ],
   "source": [
    "test_that(\"Question 2.4\", expect_known_hash(sort(levels(gap_5_dropped$country)), \"ac97b9af845a59395697b028c5121503\"))"
   ]
  },
  {
   "cell_type": "markdown",
   "metadata": {
    "deletable": false,
    "editable": false,
    "nbgrader": {
     "cell_type": "markdown",
     "checksum": "31641405c70f672717e4e25f0b294e00",
     "grade": false,
     "grade_id": "cell-1d6499c6b3e1bea1",
     "locked": true,
     "schema_version": 3,
     "solution": false,
     "task": false
    }
   },
   "source": [
    "## Question 2.5\n",
    "\n",
    "The factor levels of column `continent` in data frame `gapminder` are ordered alphabetically.\n",
    "Create a new data frame, with the levels of column `continent` in *increasing* order according to their frequency (i.e., the number of rows for each continent).\n",
    "Store the new data frame in variable `gap_continent_freq`. *Hint*: Use `fct_infreq()` and `fct_rev()`.\n",
    "\n",
    "```\n",
    "gap_continent_freq <- gapminder %>%\n",
    "   mutate(continent = FILL_THIS_IN(FILL_THIS_IN(continent)))\n",
    "```\n",
    "\n",
    "**Hint**: The first `FILL_THIS_IN` corresponds to a `fct_*` function that reverses the levels of the factors. The second `FILL_THIS_IN` correspond to a `fct_*` function that orders the levels by *decreasing* frequency."
   ]
  },
  {
   "cell_type": "code",
   "execution_count": 27,
   "metadata": {
    "deletable": false,
    "lines_to_next_cell": 0,
    "nbgrader": {
     "cell_type": "code",
     "checksum": "60c7da198c7e04c9b493fa3bb0cbefd3",
     "grade": false,
     "grade_id": "cell-041e1b9fdf167cc9",
     "locked": false,
     "schema_version": 3,
     "solution": true,
     "task": false
    }
   },
   "outputs": [
    {
     "data": {
      "text/html": [
       "<table class=\"dataframe\">\n",
       "<caption>A tibble: 6 × 6</caption>\n",
       "<thead>\n",
       "\t<tr><th scope=col>country</th><th scope=col>continent</th><th scope=col>year</th><th scope=col>lifeExp</th><th scope=col>pop</th><th scope=col>gdpPercap</th></tr>\n",
       "\t<tr><th scope=col>&lt;fct&gt;</th><th scope=col>&lt;fct&gt;</th><th scope=col>&lt;int&gt;</th><th scope=col>&lt;dbl&gt;</th><th scope=col>&lt;int&gt;</th><th scope=col>&lt;dbl&gt;</th></tr>\n",
       "</thead>\n",
       "<tbody>\n",
       "\t<tr><td>Afghanistan</td><td>Asia</td><td>1952</td><td>28.801</td><td> 8425333</td><td>779.4453</td></tr>\n",
       "\t<tr><td>Afghanistan</td><td>Asia</td><td>1957</td><td>30.332</td><td> 9240934</td><td>820.8530</td></tr>\n",
       "\t<tr><td>Afghanistan</td><td>Asia</td><td>1962</td><td>31.997</td><td>10267083</td><td>853.1007</td></tr>\n",
       "\t<tr><td>Afghanistan</td><td>Asia</td><td>1967</td><td>34.020</td><td>11537966</td><td>836.1971</td></tr>\n",
       "\t<tr><td>Afghanistan</td><td>Asia</td><td>1972</td><td>36.088</td><td>13079460</td><td>739.9811</td></tr>\n",
       "\t<tr><td>Afghanistan</td><td>Asia</td><td>1977</td><td>38.438</td><td>14880372</td><td>786.1134</td></tr>\n",
       "</tbody>\n",
       "</table>\n"
      ],
      "text/latex": [
       "A tibble: 6 × 6\n",
       "\\begin{tabular}{llllll}\n",
       " country & continent & year & lifeExp & pop & gdpPercap\\\\\n",
       " <fct> & <fct> & <int> & <dbl> & <int> & <dbl>\\\\\n",
       "\\hline\n",
       "\t Afghanistan & Asia & 1952 & 28.801 &  8425333 & 779.4453\\\\\n",
       "\t Afghanistan & Asia & 1957 & 30.332 &  9240934 & 820.8530\\\\\n",
       "\t Afghanistan & Asia & 1962 & 31.997 & 10267083 & 853.1007\\\\\n",
       "\t Afghanistan & Asia & 1967 & 34.020 & 11537966 & 836.1971\\\\\n",
       "\t Afghanistan & Asia & 1972 & 36.088 & 13079460 & 739.9811\\\\\n",
       "\t Afghanistan & Asia & 1977 & 38.438 & 14880372 & 786.1134\\\\\n",
       "\\end{tabular}\n"
      ],
      "text/markdown": [
       "\n",
       "A tibble: 6 × 6\n",
       "\n",
       "| country &lt;fct&gt; | continent &lt;fct&gt; | year &lt;int&gt; | lifeExp &lt;dbl&gt; | pop &lt;int&gt; | gdpPercap &lt;dbl&gt; |\n",
       "|---|---|---|---|---|---|\n",
       "| Afghanistan | Asia | 1952 | 28.801 |  8425333 | 779.4453 |\n",
       "| Afghanistan | Asia | 1957 | 30.332 |  9240934 | 820.8530 |\n",
       "| Afghanistan | Asia | 1962 | 31.997 | 10267083 | 853.1007 |\n",
       "| Afghanistan | Asia | 1967 | 34.020 | 11537966 | 836.1971 |\n",
       "| Afghanistan | Asia | 1972 | 36.088 | 13079460 | 739.9811 |\n",
       "| Afghanistan | Asia | 1977 | 38.438 | 14880372 | 786.1134 |\n",
       "\n"
      ],
      "text/plain": [
       "  country     continent year lifeExp pop      gdpPercap\n",
       "1 Afghanistan Asia      1952 28.801   8425333 779.4453 \n",
       "2 Afghanistan Asia      1957 30.332   9240934 820.8530 \n",
       "3 Afghanistan Asia      1962 31.997  10267083 853.1007 \n",
       "4 Afghanistan Asia      1967 34.020  11537966 836.1971 \n",
       "5 Afghanistan Asia      1972 36.088  13079460 739.9811 \n",
       "6 Afghanistan Asia      1977 38.438  14880372 786.1134 "
      ]
     },
     "metadata": {},
     "output_type": "display_data"
    }
   ],
   "source": [
    "gap_continent_freq <- gapminder %>%\n",
    "   mutate(continent = fct_rev(fct_infreq(continent)))\n",
    "head(gap_continent_freq)"
   ]
  },
  {
   "cell_type": "code",
   "execution_count": 28,
   "metadata": {
    "deletable": false,
    "editable": false,
    "nbgrader": {
     "cell_type": "code",
     "checksum": "c3828180276afc0102a4978f9731e8a0",
     "grade": true,
     "grade_id": "cell-b38804e6a06d9de3",
     "locked": true,
     "points": 1,
     "schema_version": 3,
     "solution": false,
     "task": false
    }
   },
   "outputs": [
    {
     "name": "stderr",
     "output_type": "stream",
     "text": [
      "Warning message in normalizePath(path.expand(path), winslash, mustWork):\n",
      "\"path[1]=\"C:/Users/41615/OneDrive/×ÀÃæ/stat545a/worksheets\": The system cannot find the path specified\"\n",
      "Warning message in normalizePath(path.expand(path), winslash, mustWork):\n",
      "\"path[1]=\"C:/Users/41615/OneDrive/×ÀÃæ/stat545a/worksheets\": The system cannot find the path specified\"\n",
      "Warning message in normalizePath(path.expand(path), winslash, mustWork):\n",
      "\"path[1]=\"C:/Users/41615/OneDrive/×ÀÃæ/stat545a\": The system cannot find the path specified\"\n",
      "Warning message in normalizePath(path.expand(path), winslash, mustWork):\n",
      "\"path[1]=\"C:/Users/41615/OneDrive/×ÀÃæ/stat545a\": The system cannot find the path specified\"\n",
      "Warning message in normalizePath(path.expand(path), winslash, mustWork):\n",
      "\"path[1]=\"C:/Users/41615/OneDrive/×ÀÃæ\": The system cannot find the file specified\"\n",
      "Warning message in normalizePath(path.expand(path), winslash, mustWork):\n",
      "\"path[1]=\"C:/Users/41615/OneDrive/×ÀÃæ\": The system cannot find the file specified\"\n"
     ]
    },
    {
     "name": "stdout",
     "output_type": "stream",
     "text": [
      "\u001b[32mTest passed\u001b[39m \n"
     ]
    }
   ],
   "source": [
    "test_that(\"Question 2.5\", expect_known_hash(table(gap_continent_freq$continent), \"0bb23ea87ce71deb5452eaae8cdbf7cf\"))"
   ]
  },
  {
   "cell_type": "markdown",
   "metadata": {
    "deletable": false,
    "editable": false,
    "nbgrader": {
     "cell_type": "markdown",
     "checksum": "20b5f11b6f24b9fed13a6135737a95b0",
     "grade": false,
     "grade_id": "cell-ff00d58b5fb34ad7",
     "locked": true,
     "schema_version": 3,
     "solution": false,
     "task": false
    }
   },
   "source": [
    "FYI: You can't \"see\" any difference in the tibble, but there are _attributes_ behind the hood keeping track of the order of the \"continent\" entries. You _can_ see the difference, however, in a plot, as below. Notice how the x-axis is no longer ordered alphabetically."
   ]
  },
  {
   "cell_type": "code",
   "execution_count": 29,
   "metadata": {
    "deletable": false,
    "editable": false,
    "nbgrader": {
     "cell_type": "code",
     "checksum": "c9da62f05387398682067d5af42f4019",
     "grade": false,
     "grade_id": "cell-1317f4d18c821807",
     "locked": true,
     "schema_version": 3,
     "solution": false,
     "task": false
    }
   },
   "outputs": [
    {
     "data": {
      "image/png": "[encoded data removed]",
      "text/plain": [
       "plot without title"
      ]
     },
     "metadata": {
      "image/png": {
       "height": 420,
       "width": 420
      }
     },
     "output_type": "display_data"
    }
   ],
   "source": [
    "ggplot(gap_continent_freq, aes(continent)) + geom_bar()"
   ]
  },
  {
   "cell_type": "markdown",
   "metadata": {
    "deletable": false,
    "editable": false,
    "nbgrader": {
     "cell_type": "markdown",
     "checksum": "9ed29c3ed2da088569d8acbec4466bf3",
     "grade": false,
     "grade_id": "cell-b8379204e1f83944",
     "locked": true,
     "schema_version": 3,
     "solution": false,
     "task": false
    }
   },
   "source": [
    "## Question 2.6\n",
    "\n",
    "Again based on the `gapminder` data set, create another data frame, with the levels of column `continent` in *increasing* order of their average life expectancy (from column `lifeExp`).\n",
    "Store the new data frame in variable `gap_continent_life`. _Hint_: use `fct_reorder()`.\n",
    "\n",
    "```\n",
    "gap_continent_life <- gapminder %>%\n",
    "   mutate(continent = FILL_THIS_IN(FILL_THIS_IN, FILL_THIS_IN, FILL_THIS_IN))\n",
    "```"
   ]
  },
  {
   "cell_type": "code",
   "execution_count": 30,
   "metadata": {
    "deletable": false,
    "lines_to_next_cell": 0,
    "nbgrader": {
     "cell_type": "code",
     "checksum": "7cb6057e8abd5a4083f9c08f43411355",
     "grade": false,
     "grade_id": "cell-d9568dc0d8c17add",
     "locked": false,
     "schema_version": 3,
     "solution": true,
     "task": false
    }
   },
   "outputs": [
    {
     "data": {
      "text/html": [
       "<table class=\"dataframe\">\n",
       "<caption>A tibble: 6 × 6</caption>\n",
       "<thead>\n",
       "\t<tr><th scope=col>country</th><th scope=col>continent</th><th scope=col>year</th><th scope=col>lifeExp</th><th scope=col>pop</th><th scope=col>gdpPercap</th></tr>\n",
       "\t<tr><th scope=col>&lt;fct&gt;</th><th scope=col>&lt;fct&gt;</th><th scope=col>&lt;int&gt;</th><th scope=col>&lt;dbl&gt;</th><th scope=col>&lt;int&gt;</th><th scope=col>&lt;dbl&gt;</th></tr>\n",
       "</thead>\n",
       "<tbody>\n",
       "\t<tr><td>Afghanistan</td><td>Asia</td><td>1952</td><td>28.801</td><td> 8425333</td><td>779.4453</td></tr>\n",
       "\t<tr><td>Afghanistan</td><td>Asia</td><td>1957</td><td>30.332</td><td> 9240934</td><td>820.8530</td></tr>\n",
       "\t<tr><td>Afghanistan</td><td>Asia</td><td>1962</td><td>31.997</td><td>10267083</td><td>853.1007</td></tr>\n",
       "\t<tr><td>Afghanistan</td><td>Asia</td><td>1967</td><td>34.020</td><td>11537966</td><td>836.1971</td></tr>\n",
       "\t<tr><td>Afghanistan</td><td>Asia</td><td>1972</td><td>36.088</td><td>13079460</td><td>739.9811</td></tr>\n",
       "\t<tr><td>Afghanistan</td><td>Asia</td><td>1977</td><td>38.438</td><td>14880372</td><td>786.1134</td></tr>\n",
       "</tbody>\n",
       "</table>\n"
      ],
      "text/latex": [
       "A tibble: 6 × 6\n",
       "\\begin{tabular}{llllll}\n",
       " country & continent & year & lifeExp & pop & gdpPercap\\\\\n",
       " <fct> & <fct> & <int> & <dbl> & <int> & <dbl>\\\\\n",
       "\\hline\n",
       "\t Afghanistan & Asia & 1952 & 28.801 &  8425333 & 779.4453\\\\\n",
       "\t Afghanistan & Asia & 1957 & 30.332 &  9240934 & 820.8530\\\\\n",
       "\t Afghanistan & Asia & 1962 & 31.997 & 10267083 & 853.1007\\\\\n",
       "\t Afghanistan & Asia & 1967 & 34.020 & 11537966 & 836.1971\\\\\n",
       "\t Afghanistan & Asia & 1972 & 36.088 & 13079460 & 739.9811\\\\\n",
       "\t Afghanistan & Asia & 1977 & 38.438 & 14880372 & 786.1134\\\\\n",
       "\\end{tabular}\n"
      ],
      "text/markdown": [
       "\n",
       "A tibble: 6 × 6\n",
       "\n",
       "| country &lt;fct&gt; | continent &lt;fct&gt; | year &lt;int&gt; | lifeExp &lt;dbl&gt; | pop &lt;int&gt; | gdpPercap &lt;dbl&gt; |\n",
       "|---|---|---|---|---|---|\n",
       "| Afghanistan | Asia | 1952 | 28.801 |  8425333 | 779.4453 |\n",
       "| Afghanistan | Asia | 1957 | 30.332 |  9240934 | 820.8530 |\n",
       "| Afghanistan | Asia | 1962 | 31.997 | 10267083 | 853.1007 |\n",
       "| Afghanistan | Asia | 1967 | 34.020 | 11537966 | 836.1971 |\n",
       "| Afghanistan | Asia | 1972 | 36.088 | 13079460 | 739.9811 |\n",
       "| Afghanistan | Asia | 1977 | 38.438 | 14880372 | 786.1134 |\n",
       "\n"
      ],
      "text/plain": [
       "  country     continent year lifeExp pop      gdpPercap\n",
       "1 Afghanistan Asia      1952 28.801   8425333 779.4453 \n",
       "2 Afghanistan Asia      1957 30.332   9240934 820.8530 \n",
       "3 Afghanistan Asia      1962 31.997  10267083 853.1007 \n",
       "4 Afghanistan Asia      1967 34.020  11537966 836.1971 \n",
       "5 Afghanistan Asia      1972 36.088  13079460 739.9811 \n",
       "6 Afghanistan Asia      1977 38.438  14880372 786.1134 "
      ]
     },
     "metadata": {},
     "output_type": "display_data"
    }
   ],
   "source": [
    "gap_continent_life <- gapminder %>%\n",
    "   mutate(continent = fct_reorder(continent, lifeExp, mean))\n",
    "head(gap_continent_life)"
   ]
  },
  {
   "cell_type": "code",
   "execution_count": 31,
   "metadata": {
    "deletable": false,
    "editable": false,
    "nbgrader": {
     "cell_type": "code",
     "checksum": "b4c54847aff6c135e62d54b8a27d82ed",
     "grade": true,
     "grade_id": "cell-7afaeb0beeff31e0",
     "locked": true,
     "points": 1,
     "schema_version": 3,
     "solution": false,
     "task": false
    }
   },
   "outputs": [
    {
     "name": "stderr",
     "output_type": "stream",
     "text": [
      "Warning message in normalizePath(path.expand(path), winslash, mustWork):\n",
      "\"path[1]=\"C:/Users/41615/OneDrive/×ÀÃæ/stat545a/worksheets\": The system cannot find the path specified\"\n",
      "Warning message in normalizePath(path.expand(path), winslash, mustWork):\n",
      "\"path[1]=\"C:/Users/41615/OneDrive/×ÀÃæ/stat545a/worksheets\": The system cannot find the path specified\"\n",
      "Warning message in normalizePath(path.expand(path), winslash, mustWork):\n",
      "\"path[1]=\"C:/Users/41615/OneDrive/×ÀÃæ/stat545a\": The system cannot find the path specified\"\n",
      "Warning message in normalizePath(path.expand(path), winslash, mustWork):\n",
      "\"path[1]=\"C:/Users/41615/OneDrive/×ÀÃæ/stat545a\": The system cannot find the path specified\"\n",
      "Warning message in normalizePath(path.expand(path), winslash, mustWork):\n",
      "\"path[1]=\"C:/Users/41615/OneDrive/×ÀÃæ\": The system cannot find the file specified\"\n",
      "Warning message in normalizePath(path.expand(path), winslash, mustWork):\n",
      "\"path[1]=\"C:/Users/41615/OneDrive/×ÀÃæ\": The system cannot find the file specified\"\n"
     ]
    },
    {
     "name": "stdout",
     "output_type": "stream",
     "text": [
      "\u001b[32mTest passed\u001b[39m \n"
     ]
    }
   ],
   "source": [
    "test_that(\"Question 2.6\", expect_known_hash(table(gap_continent_life$continent), \"7688676a0807063f1bfa5b4cc721c2d9\"))"
   ]
  },
  {
   "cell_type": "markdown",
   "metadata": {
    "deletable": false,
    "editable": false,
    "nbgrader": {
     "cell_type": "markdown",
     "checksum": "9a928e67b020017df4a9d01eaa41596e",
     "grade": false,
     "grade_id": "cell-c3992342f9ce1001",
     "locked": true,
     "schema_version": 3,
     "solution": false,
     "task": false
    }
   },
   "source": [
    "Again, you can't \"see\" any difference in the tibble. But here's a plot that makes the difference clearer. Notice the ordering of the x-axis."
   ]
  },
  {
   "cell_type": "code",
   "execution_count": 32,
   "metadata": {
    "deletable": false,
    "editable": false,
    "nbgrader": {
     "cell_type": "code",
     "checksum": "6d289297f5bed91afe065f8082874b65",
     "grade": false,
     "grade_id": "cell-50e1fa7db691ef53",
     "locked": true,
     "schema_version": 3,
     "solution": false,
     "task": false
    }
   },
   "outputs": [
    {
     "data": {
      "image/png": "[encoded data removed]",
      "text/plain": [
       "plot without title"
      ]
     },
     "metadata": {
      "image/png": {
       "height": 420,
       "width": 420
      }
     },
     "output_type": "display_data"
    }
   ],
   "source": [
    "ggplot(gap_continent_life, aes(continent, lifeExp)) + geom_boxplot()"
   ]
  },
  {
   "cell_type": "markdown",
   "metadata": {
    "deletable": false,
    "editable": false,
    "nbgrader": {
     "cell_type": "markdown",
     "checksum": "aa5ff73ce33259884777c352474405b2",
     "grade": false,
     "grade_id": "cell-99aa45fbba8d8199",
     "locked": true,
     "schema_version": 3,
     "solution": false,
     "task": false
    }
   },
   "source": [
    "## Question 2.7\n",
    "\n",
    "Consider now you want to make comparisons between countries, relative to Canada.\n",
    "Create a new data frame, with the levels of column `country` rearranged to have Canada as the first one.\n",
    "Store the new data frame in variable `gap_canada_base`.\n",
    "\n",
    "```\n",
    "(gap_canada_base <- gapminder %>%\n",
    "   mutate(country = FILL_THIS_IN(FILL_THIS_IN, \"FILL_THIS_IN\")))\n",
    "```"
   ]
  },
  {
   "cell_type": "code",
   "execution_count": 33,
   "metadata": {
    "deletable": false,
    "lines_to_next_cell": 0,
    "nbgrader": {
     "cell_type": "code",
     "checksum": "8cd80b87102d4581e588fd2a73ced4f5",
     "grade": false,
     "grade_id": "cell-636b191a444f10bf",
     "locked": false,
     "schema_version": 3,
     "solution": true,
     "task": false
    }
   },
   "outputs": [
    {
     "data": {
      "text/html": [
       "<table class=\"dataframe\">\n",
       "<caption>A tibble: 1704 × 6</caption>\n",
       "<thead>\n",
       "\t<tr><th scope=col>country</th><th scope=col>continent</th><th scope=col>year</th><th scope=col>lifeExp</th><th scope=col>pop</th><th scope=col>gdpPercap</th></tr>\n",
       "\t<tr><th scope=col>&lt;fct&gt;</th><th scope=col>&lt;fct&gt;</th><th scope=col>&lt;int&gt;</th><th scope=col>&lt;dbl&gt;</th><th scope=col>&lt;int&gt;</th><th scope=col>&lt;dbl&gt;</th></tr>\n",
       "</thead>\n",
       "<tbody>\n",
       "\t<tr><td>Afghanistan</td><td>Asia  </td><td>1952</td><td>28.801</td><td> 8425333</td><td> 779.4453</td></tr>\n",
       "\t<tr><td>Afghanistan</td><td>Asia  </td><td>1957</td><td>30.332</td><td> 9240934</td><td> 820.8530</td></tr>\n",
       "\t<tr><td>Afghanistan</td><td>Asia  </td><td>1962</td><td>31.997</td><td>10267083</td><td> 853.1007</td></tr>\n",
       "\t<tr><td>Afghanistan</td><td>Asia  </td><td>1967</td><td>34.020</td><td>11537966</td><td> 836.1971</td></tr>\n",
       "\t<tr><td>Afghanistan</td><td>Asia  </td><td>1972</td><td>36.088</td><td>13079460</td><td> 739.9811</td></tr>\n",
       "\t<tr><td>Afghanistan</td><td>Asia  </td><td>1977</td><td>38.438</td><td>14880372</td><td> 786.1134</td></tr>\n",
       "\t<tr><td>Afghanistan</td><td>Asia  </td><td>1982</td><td>39.854</td><td>12881816</td><td> 978.0114</td></tr>\n",
       "\t<tr><td>Afghanistan</td><td>Asia  </td><td>1987</td><td>40.822</td><td>13867957</td><td> 852.3959</td></tr>\n",
       "\t<tr><td>Afghanistan</td><td>Asia  </td><td>1992</td><td>41.674</td><td>16317921</td><td> 649.3414</td></tr>\n",
       "\t<tr><td>Afghanistan</td><td>Asia  </td><td>1997</td><td>41.763</td><td>22227415</td><td> 635.3414</td></tr>\n",
       "\t<tr><td>Afghanistan</td><td>Asia  </td><td>2002</td><td>42.129</td><td>25268405</td><td> 726.7341</td></tr>\n",
       "\t<tr><td>Afghanistan</td><td>Asia  </td><td>2007</td><td>43.828</td><td>31889923</td><td> 974.5803</td></tr>\n",
       "\t<tr><td>Albania    </td><td>Europe</td><td>1952</td><td>55.230</td><td> 1282697</td><td>1601.0561</td></tr>\n",
       "\t<tr><td>Albania    </td><td>Europe</td><td>1957</td><td>59.280</td><td> 1476505</td><td>1942.2842</td></tr>\n",
       "\t<tr><td>Albania    </td><td>Europe</td><td>1962</td><td>64.820</td><td> 1728137</td><td>2312.8890</td></tr>\n",
       "\t<tr><td>Albania    </td><td>Europe</td><td>1967</td><td>66.220</td><td> 1984060</td><td>2760.1969</td></tr>\n",
       "\t<tr><td>Albania    </td><td>Europe</td><td>1972</td><td>67.690</td><td> 2263554</td><td>3313.4222</td></tr>\n",
       "\t<tr><td>Albania    </td><td>Europe</td><td>1977</td><td>68.930</td><td> 2509048</td><td>3533.0039</td></tr>\n",
       "\t<tr><td>Albania    </td><td>Europe</td><td>1982</td><td>70.420</td><td> 2780097</td><td>3630.8807</td></tr>\n",
       "\t<tr><td>Albania    </td><td>Europe</td><td>1987</td><td>72.000</td><td> 3075321</td><td>3738.9327</td></tr>\n",
       "\t<tr><td>Albania    </td><td>Europe</td><td>1992</td><td>71.581</td><td> 3326498</td><td>2497.4379</td></tr>\n",
       "\t<tr><td>Albania    </td><td>Europe</td><td>1997</td><td>72.950</td><td> 3428038</td><td>3193.0546</td></tr>\n",
       "\t<tr><td>Albania    </td><td>Europe</td><td>2002</td><td>75.651</td><td> 3508512</td><td>4604.2117</td></tr>\n",
       "\t<tr><td>Albania    </td><td>Europe</td><td>2007</td><td>76.423</td><td> 3600523</td><td>5937.0295</td></tr>\n",
       "\t<tr><td>Algeria    </td><td>Africa</td><td>1952</td><td>43.077</td><td> 9279525</td><td>2449.0082</td></tr>\n",
       "\t<tr><td>Algeria    </td><td>Africa</td><td>1957</td><td>45.685</td><td>10270856</td><td>3013.9760</td></tr>\n",
       "\t<tr><td>Algeria    </td><td>Africa</td><td>1962</td><td>48.303</td><td>11000948</td><td>2550.8169</td></tr>\n",
       "\t<tr><td>Algeria    </td><td>Africa</td><td>1967</td><td>51.407</td><td>12760499</td><td>3246.9918</td></tr>\n",
       "\t<tr><td>Algeria    </td><td>Africa</td><td>1972</td><td>54.518</td><td>14760787</td><td>4182.6638</td></tr>\n",
       "\t<tr><td>Algeria    </td><td>Africa</td><td>1977</td><td>58.014</td><td>17152804</td><td>4910.4168</td></tr>\n",
       "\t<tr><td>...</td><td>...</td><td>...</td><td>...</td><td>...</td><td>...</td></tr>\n",
       "\t<tr><td>Yemen, Rep.</td><td>Asia  </td><td>1982</td><td>49.113</td><td> 9657618</td><td>1977.5570</td></tr>\n",
       "\t<tr><td>Yemen, Rep.</td><td>Asia  </td><td>1987</td><td>52.922</td><td>11219340</td><td>1971.7415</td></tr>\n",
       "\t<tr><td>Yemen, Rep.</td><td>Asia  </td><td>1992</td><td>55.599</td><td>13367997</td><td>1879.4967</td></tr>\n",
       "\t<tr><td>Yemen, Rep.</td><td>Asia  </td><td>1997</td><td>58.020</td><td>15826497</td><td>2117.4845</td></tr>\n",
       "\t<tr><td>Yemen, Rep.</td><td>Asia  </td><td>2002</td><td>60.308</td><td>18701257</td><td>2234.8208</td></tr>\n",
       "\t<tr><td>Yemen, Rep.</td><td>Asia  </td><td>2007</td><td>62.698</td><td>22211743</td><td>2280.7699</td></tr>\n",
       "\t<tr><td>Zambia     </td><td>Africa</td><td>1952</td><td>42.038</td><td> 2672000</td><td>1147.3888</td></tr>\n",
       "\t<tr><td>Zambia     </td><td>Africa</td><td>1957</td><td>44.077</td><td> 3016000</td><td>1311.9568</td></tr>\n",
       "\t<tr><td>Zambia     </td><td>Africa</td><td>1962</td><td>46.023</td><td> 3421000</td><td>1452.7258</td></tr>\n",
       "\t<tr><td>Zambia     </td><td>Africa</td><td>1967</td><td>47.768</td><td> 3900000</td><td>1777.0773</td></tr>\n",
       "\t<tr><td>Zambia     </td><td>Africa</td><td>1972</td><td>50.107</td><td> 4506497</td><td>1773.4983</td></tr>\n",
       "\t<tr><td>Zambia     </td><td>Africa</td><td>1977</td><td>51.386</td><td> 5216550</td><td>1588.6883</td></tr>\n",
       "\t<tr><td>Zambia     </td><td>Africa</td><td>1982</td><td>51.821</td><td> 6100407</td><td>1408.6786</td></tr>\n",
       "\t<tr><td>Zambia     </td><td>Africa</td><td>1987</td><td>50.821</td><td> 7272406</td><td>1213.3151</td></tr>\n",
       "\t<tr><td>Zambia     </td><td>Africa</td><td>1992</td><td>46.100</td><td> 8381163</td><td>1210.8846</td></tr>\n",
       "\t<tr><td>Zambia     </td><td>Africa</td><td>1997</td><td>40.238</td><td> 9417789</td><td>1071.3538</td></tr>\n",
       "\t<tr><td>Zambia     </td><td>Africa</td><td>2002</td><td>39.193</td><td>10595811</td><td>1071.6139</td></tr>\n",
       "\t<tr><td>Zambia     </td><td>Africa</td><td>2007</td><td>42.384</td><td>11746035</td><td>1271.2116</td></tr>\n",
       "\t<tr><td>Zimbabwe   </td><td>Africa</td><td>1952</td><td>48.451</td><td> 3080907</td><td> 406.8841</td></tr>\n",
       "\t<tr><td>Zimbabwe   </td><td>Africa</td><td>1957</td><td>50.469</td><td> 3646340</td><td> 518.7643</td></tr>\n",
       "\t<tr><td>Zimbabwe   </td><td>Africa</td><td>1962</td><td>52.358</td><td> 4277736</td><td> 527.2722</td></tr>\n",
       "\t<tr><td>Zimbabwe   </td><td>Africa</td><td>1967</td><td>53.995</td><td> 4995432</td><td> 569.7951</td></tr>\n",
       "\t<tr><td>Zimbabwe   </td><td>Africa</td><td>1972</td><td>55.635</td><td> 5861135</td><td> 799.3622</td></tr>\n",
       "\t<tr><td>Zimbabwe   </td><td>Africa</td><td>1977</td><td>57.674</td><td> 6642107</td><td> 685.5877</td></tr>\n",
       "\t<tr><td>Zimbabwe   </td><td>Africa</td><td>1982</td><td>60.363</td><td> 7636524</td><td> 788.8550</td></tr>\n",
       "\t<tr><td>Zimbabwe   </td><td>Africa</td><td>1987</td><td>62.351</td><td> 9216418</td><td> 706.1573</td></tr>\n",
       "\t<tr><td>Zimbabwe   </td><td>Africa</td><td>1992</td><td>60.377</td><td>10704340</td><td> 693.4208</td></tr>\n",
       "\t<tr><td>Zimbabwe   </td><td>Africa</td><td>1997</td><td>46.809</td><td>11404948</td><td> 792.4500</td></tr>\n",
       "\t<tr><td>Zimbabwe   </td><td>Africa</td><td>2002</td><td>39.989</td><td>11926563</td><td> 672.0386</td></tr>\n",
       "\t<tr><td>Zimbabwe   </td><td>Africa</td><td>2007</td><td>43.487</td><td>12311143</td><td> 469.7093</td></tr>\n",
       "</tbody>\n",
       "</table>\n"
      ],
      "text/latex": [
       "A tibble: 1704 × 6\n",
       "\\begin{tabular}{llllll}\n",
       " country & continent & year & lifeExp & pop & gdpPercap\\\\\n",
       " <fct> & <fct> & <int> & <dbl> & <int> & <dbl>\\\\\n",
       "\\hline\n",
       "\t Afghanistan & Asia   & 1952 & 28.801 &  8425333 &  779.4453\\\\\n",
       "\t Afghanistan & Asia   & 1957 & 30.332 &  9240934 &  820.8530\\\\\n",
       "\t Afghanistan & Asia   & 1962 & 31.997 & 10267083 &  853.1007\\\\\n",
       "\t Afghanistan & Asia   & 1967 & 34.020 & 11537966 &  836.1971\\\\\n",
       "\t Afghanistan & Asia   & 1972 & 36.088 & 13079460 &  739.9811\\\\\n",
       "\t Afghanistan & Asia   & 1977 & 38.438 & 14880372 &  786.1134\\\\\n",
       "\t Afghanistan & Asia   & 1982 & 39.854 & 12881816 &  978.0114\\\\\n",
       "\t Afghanistan & Asia   & 1987 & 40.822 & 13867957 &  852.3959\\\\\n",
       "\t Afghanistan & Asia   & 1992 & 41.674 & 16317921 &  649.3414\\\\\n",
       "\t Afghanistan & Asia   & 1997 & 41.763 & 22227415 &  635.3414\\\\\n",
       "\t Afghanistan & Asia   & 2002 & 42.129 & 25268405 &  726.7341\\\\\n",
       "\t Afghanistan & Asia   & 2007 & 43.828 & 31889923 &  974.5803\\\\\n",
       "\t Albania     & Europe & 1952 & 55.230 &  1282697 & 1601.0561\\\\\n",
       "\t Albania     & Europe & 1957 & 59.280 &  1476505 & 1942.2842\\\\\n",
       "\t Albania     & Europe & 1962 & 64.820 &  1728137 & 2312.8890\\\\\n",
       "\t Albania     & Europe & 1967 & 66.220 &  1984060 & 2760.1969\\\\\n",
       "\t Albania     & Europe & 1972 & 67.690 &  2263554 & 3313.4222\\\\\n",
       "\t Albania     & Europe & 1977 & 68.930 &  2509048 & 3533.0039\\\\\n",
       "\t Albania     & Europe & 1982 & 70.420 &  2780097 & 3630.8807\\\\\n",
       "\t Albania     & Europe & 1987 & 72.000 &  3075321 & 3738.9327\\\\\n",
       "\t Albania     & Europe & 1992 & 71.581 &  3326498 & 2497.4379\\\\\n",
       "\t Albania     & Europe & 1997 & 72.950 &  3428038 & 3193.0546\\\\\n",
       "\t Albania     & Europe & 2002 & 75.651 &  3508512 & 4604.2117\\\\\n",
       "\t Albania     & Europe & 2007 & 76.423 &  3600523 & 5937.0295\\\\\n",
       "\t Algeria     & Africa & 1952 & 43.077 &  9279525 & 2449.0082\\\\\n",
       "\t Algeria     & Africa & 1957 & 45.685 & 10270856 & 3013.9760\\\\\n",
       "\t Algeria     & Africa & 1962 & 48.303 & 11000948 & 2550.8169\\\\\n",
       "\t Algeria     & Africa & 1967 & 51.407 & 12760499 & 3246.9918\\\\\n",
       "\t Algeria     & Africa & 1972 & 54.518 & 14760787 & 4182.6638\\\\\n",
       "\t Algeria     & Africa & 1977 & 58.014 & 17152804 & 4910.4168\\\\\n",
       "\t ... & ... & ... & ... & ... & ...\\\\\n",
       "\t Yemen, Rep. & Asia   & 1982 & 49.113 &  9657618 & 1977.5570\\\\\n",
       "\t Yemen, Rep. & Asia   & 1987 & 52.922 & 11219340 & 1971.7415\\\\\n",
       "\t Yemen, Rep. & Asia   & 1992 & 55.599 & 13367997 & 1879.4967\\\\\n",
       "\t Yemen, Rep. & Asia   & 1997 & 58.020 & 15826497 & 2117.4845\\\\\n",
       "\t Yemen, Rep. & Asia   & 2002 & 60.308 & 18701257 & 2234.8208\\\\\n",
       "\t Yemen, Rep. & Asia   & 2007 & 62.698 & 22211743 & 2280.7699\\\\\n",
       "\t Zambia      & Africa & 1952 & 42.038 &  2672000 & 1147.3888\\\\\n",
       "\t Zambia      & Africa & 1957 & 44.077 &  3016000 & 1311.9568\\\\\n",
       "\t Zambia      & Africa & 1962 & 46.023 &  3421000 & 1452.7258\\\\\n",
       "\t Zambia      & Africa & 1967 & 47.768 &  3900000 & 1777.0773\\\\\n",
       "\t Zambia      & Africa & 1972 & 50.107 &  4506497 & 1773.4983\\\\\n",
       "\t Zambia      & Africa & 1977 & 51.386 &  5216550 & 1588.6883\\\\\n",
       "\t Zambia      & Africa & 1982 & 51.821 &  6100407 & 1408.6786\\\\\n",
       "\t Zambia      & Africa & 1987 & 50.821 &  7272406 & 1213.3151\\\\\n",
       "\t Zambia      & Africa & 1992 & 46.100 &  8381163 & 1210.8846\\\\\n",
       "\t Zambia      & Africa & 1997 & 40.238 &  9417789 & 1071.3538\\\\\n",
       "\t Zambia      & Africa & 2002 & 39.193 & 10595811 & 1071.6139\\\\\n",
       "\t Zambia      & Africa & 2007 & 42.384 & 11746035 & 1271.2116\\\\\n",
       "\t Zimbabwe    & Africa & 1952 & 48.451 &  3080907 &  406.8841\\\\\n",
       "\t Zimbabwe    & Africa & 1957 & 50.469 &  3646340 &  518.7643\\\\\n",
       "\t Zimbabwe    & Africa & 1962 & 52.358 &  4277736 &  527.2722\\\\\n",
       "\t Zimbabwe    & Africa & 1967 & 53.995 &  4995432 &  569.7951\\\\\n",
       "\t Zimbabwe    & Africa & 1972 & 55.635 &  5861135 &  799.3622\\\\\n",
       "\t Zimbabwe    & Africa & 1977 & 57.674 &  6642107 &  685.5877\\\\\n",
       "\t Zimbabwe    & Africa & 1982 & 60.363 &  7636524 &  788.8550\\\\\n",
       "\t Zimbabwe    & Africa & 1987 & 62.351 &  9216418 &  706.1573\\\\\n",
       "\t Zimbabwe    & Africa & 1992 & 60.377 & 10704340 &  693.4208\\\\\n",
       "\t Zimbabwe    & Africa & 1997 & 46.809 & 11404948 &  792.4500\\\\\n",
       "\t Zimbabwe    & Africa & 2002 & 39.989 & 11926563 &  672.0386\\\\\n",
       "\t Zimbabwe    & Africa & 2007 & 43.487 & 12311143 &  469.7093\\\\\n",
       "\\end{tabular}\n"
      ],
      "text/markdown": [
       "\n",
       "A tibble: 1704 × 6\n",
       "\n",
       "| country &lt;fct&gt; | continent &lt;fct&gt; | year &lt;int&gt; | lifeExp &lt;dbl&gt; | pop &lt;int&gt; | gdpPercap &lt;dbl&gt; |\n",
       "|---|---|---|---|---|---|\n",
       "| Afghanistan | Asia   | 1952 | 28.801 |  8425333 |  779.4453 |\n",
       "| Afghanistan | Asia   | 1957 | 30.332 |  9240934 |  820.8530 |\n",
       "| Afghanistan | Asia   | 1962 | 31.997 | 10267083 |  853.1007 |\n",
       "| Afghanistan | Asia   | 1967 | 34.020 | 11537966 |  836.1971 |\n",
       "| Afghanistan | Asia   | 1972 | 36.088 | 13079460 |  739.9811 |\n",
       "| Afghanistan | Asia   | 1977 | 38.438 | 14880372 |  786.1134 |\n",
       "| Afghanistan | Asia   | 1982 | 39.854 | 12881816 |  978.0114 |\n",
       "| Afghanistan | Asia   | 1987 | 40.822 | 13867957 |  852.3959 |\n",
       "| Afghanistan | Asia   | 1992 | 41.674 | 16317921 |  649.3414 |\n",
       "| Afghanistan | Asia   | 1997 | 41.763 | 22227415 |  635.3414 |\n",
       "| Afghanistan | Asia   | 2002 | 42.129 | 25268405 |  726.7341 |\n",
       "| Afghanistan | Asia   | 2007 | 43.828 | 31889923 |  974.5803 |\n",
       "| Albania     | Europe | 1952 | 55.230 |  1282697 | 1601.0561 |\n",
       "| Albania     | Europe | 1957 | 59.280 |  1476505 | 1942.2842 |\n",
       "| Albania     | Europe | 1962 | 64.820 |  1728137 | 2312.8890 |\n",
       "| Albania     | Europe | 1967 | 66.220 |  1984060 | 2760.1969 |\n",
       "| Albania     | Europe | 1972 | 67.690 |  2263554 | 3313.4222 |\n",
       "| Albania     | Europe | 1977 | 68.930 |  2509048 | 3533.0039 |\n",
       "| Albania     | Europe | 1982 | 70.420 |  2780097 | 3630.8807 |\n",
       "| Albania     | Europe | 1987 | 72.000 |  3075321 | 3738.9327 |\n",
       "| Albania     | Europe | 1992 | 71.581 |  3326498 | 2497.4379 |\n",
       "| Albania     | Europe | 1997 | 72.950 |  3428038 | 3193.0546 |\n",
       "| Albania     | Europe | 2002 | 75.651 |  3508512 | 4604.2117 |\n",
       "| Albania     | Europe | 2007 | 76.423 |  3600523 | 5937.0295 |\n",
       "| Algeria     | Africa | 1952 | 43.077 |  9279525 | 2449.0082 |\n",
       "| Algeria     | Africa | 1957 | 45.685 | 10270856 | 3013.9760 |\n",
       "| Algeria     | Africa | 1962 | 48.303 | 11000948 | 2550.8169 |\n",
       "| Algeria     | Africa | 1967 | 51.407 | 12760499 | 3246.9918 |\n",
       "| Algeria     | Africa | 1972 | 54.518 | 14760787 | 4182.6638 |\n",
       "| Algeria     | Africa | 1977 | 58.014 | 17152804 | 4910.4168 |\n",
       "| ... | ... | ... | ... | ... | ... |\n",
       "| Yemen, Rep. | Asia   | 1982 | 49.113 |  9657618 | 1977.5570 |\n",
       "| Yemen, Rep. | Asia   | 1987 | 52.922 | 11219340 | 1971.7415 |\n",
       "| Yemen, Rep. | Asia   | 1992 | 55.599 | 13367997 | 1879.4967 |\n",
       "| Yemen, Rep. | Asia   | 1997 | 58.020 | 15826497 | 2117.4845 |\n",
       "| Yemen, Rep. | Asia   | 2002 | 60.308 | 18701257 | 2234.8208 |\n",
       "| Yemen, Rep. | Asia   | 2007 | 62.698 | 22211743 | 2280.7699 |\n",
       "| Zambia      | Africa | 1952 | 42.038 |  2672000 | 1147.3888 |\n",
       "| Zambia      | Africa | 1957 | 44.077 |  3016000 | 1311.9568 |\n",
       "| Zambia      | Africa | 1962 | 46.023 |  3421000 | 1452.7258 |\n",
       "| Zambia      | Africa | 1967 | 47.768 |  3900000 | 1777.0773 |\n",
       "| Zambia      | Africa | 1972 | 50.107 |  4506497 | 1773.4983 |\n",
       "| Zambia      | Africa | 1977 | 51.386 |  5216550 | 1588.6883 |\n",
       "| Zambia      | Africa | 1982 | 51.821 |  6100407 | 1408.6786 |\n",
       "| Zambia      | Africa | 1987 | 50.821 |  7272406 | 1213.3151 |\n",
       "| Zambia      | Africa | 1992 | 46.100 |  8381163 | 1210.8846 |\n",
       "| Zambia      | Africa | 1997 | 40.238 |  9417789 | 1071.3538 |\n",
       "| Zambia      | Africa | 2002 | 39.193 | 10595811 | 1071.6139 |\n",
       "| Zambia      | Africa | 2007 | 42.384 | 11746035 | 1271.2116 |\n",
       "| Zimbabwe    | Africa | 1952 | 48.451 |  3080907 |  406.8841 |\n",
       "| Zimbabwe    | Africa | 1957 | 50.469 |  3646340 |  518.7643 |\n",
       "| Zimbabwe    | Africa | 1962 | 52.358 |  4277736 |  527.2722 |\n",
       "| Zimbabwe    | Africa | 1967 | 53.995 |  4995432 |  569.7951 |\n",
       "| Zimbabwe    | Africa | 1972 | 55.635 |  5861135 |  799.3622 |\n",
       "| Zimbabwe    | Africa | 1977 | 57.674 |  6642107 |  685.5877 |\n",
       "| Zimbabwe    | Africa | 1982 | 60.363 |  7636524 |  788.8550 |\n",
       "| Zimbabwe    | Africa | 1987 | 62.351 |  9216418 |  706.1573 |\n",
       "| Zimbabwe    | Africa | 1992 | 60.377 | 10704340 |  693.4208 |\n",
       "| Zimbabwe    | Africa | 1997 | 46.809 | 11404948 |  792.4500 |\n",
       "| Zimbabwe    | Africa | 2002 | 39.989 | 11926563 |  672.0386 |\n",
       "| Zimbabwe    | Africa | 2007 | 43.487 | 12311143 |  469.7093 |\n",
       "\n"
      ],
      "text/plain": [
       "     country     continent year lifeExp pop      gdpPercap\n",
       "1    Afghanistan Asia      1952 28.801   8425333  779.4453\n",
       "2    Afghanistan Asia      1957 30.332   9240934  820.8530\n",
       "3    Afghanistan Asia      1962 31.997  10267083  853.1007\n",
       "4    Afghanistan Asia      1967 34.020  11537966  836.1971\n",
       "5    Afghanistan Asia      1972 36.088  13079460  739.9811\n",
       "6    Afghanistan Asia      1977 38.438  14880372  786.1134\n",
       "7    Afghanistan Asia      1982 39.854  12881816  978.0114\n",
       "8    Afghanistan Asia      1987 40.822  13867957  852.3959\n",
       "9    Afghanistan Asia      1992 41.674  16317921  649.3414\n",
       "10   Afghanistan Asia      1997 41.763  22227415  635.3414\n",
       "11   Afghanistan Asia      2002 42.129  25268405  726.7341\n",
       "12   Afghanistan Asia      2007 43.828  31889923  974.5803\n",
       "13   Albania     Europe    1952 55.230   1282697 1601.0561\n",
       "14   Albania     Europe    1957 59.280   1476505 1942.2842\n",
       "15   Albania     Europe    1962 64.820   1728137 2312.8890\n",
       "16   Albania     Europe    1967 66.220   1984060 2760.1969\n",
       "17   Albania     Europe    1972 67.690   2263554 3313.4222\n",
       "18   Albania     Europe    1977 68.930   2509048 3533.0039\n",
       "19   Albania     Europe    1982 70.420   2780097 3630.8807\n",
       "20   Albania     Europe    1987 72.000   3075321 3738.9327\n",
       "21   Albania     Europe    1992 71.581   3326498 2497.4379\n",
       "22   Albania     Europe    1997 72.950   3428038 3193.0546\n",
       "23   Albania     Europe    2002 75.651   3508512 4604.2117\n",
       "24   Albania     Europe    2007 76.423   3600523 5937.0295\n",
       "25   Algeria     Africa    1952 43.077   9279525 2449.0082\n",
       "26   Algeria     Africa    1957 45.685  10270856 3013.9760\n",
       "27   Algeria     Africa    1962 48.303  11000948 2550.8169\n",
       "28   Algeria     Africa    1967 51.407  12760499 3246.9918\n",
       "29   Algeria     Africa    1972 54.518  14760787 4182.6638\n",
       "30   Algeria     Africa    1977 58.014  17152804 4910.4168\n",
       "...  ...         ...       ...  ...     ...      ...      \n",
       "1675 Yemen, Rep. Asia      1982 49.113   9657618 1977.5570\n",
       "1676 Yemen, Rep. Asia      1987 52.922  11219340 1971.7415\n",
       "1677 Yemen, Rep. Asia      1992 55.599  13367997 1879.4967\n",
       "1678 Yemen, Rep. Asia      1997 58.020  15826497 2117.4845\n",
       "1679 Yemen, Rep. Asia      2002 60.308  18701257 2234.8208\n",
       "1680 Yemen, Rep. Asia      2007 62.698  22211743 2280.7699\n",
       "1681 Zambia      Africa    1952 42.038   2672000 1147.3888\n",
       "1682 Zambia      Africa    1957 44.077   3016000 1311.9568\n",
       "1683 Zambia      Africa    1962 46.023   3421000 1452.7258\n",
       "1684 Zambia      Africa    1967 47.768   3900000 1777.0773\n",
       "1685 Zambia      Africa    1972 50.107   4506497 1773.4983\n",
       "1686 Zambia      Africa    1977 51.386   5216550 1588.6883\n",
       "1687 Zambia      Africa    1982 51.821   6100407 1408.6786\n",
       "1688 Zambia      Africa    1987 50.821   7272406 1213.3151\n",
       "1689 Zambia      Africa    1992 46.100   8381163 1210.8846\n",
       "1690 Zambia      Africa    1997 40.238   9417789 1071.3538\n",
       "1691 Zambia      Africa    2002 39.193  10595811 1071.6139\n",
       "1692 Zambia      Africa    2007 42.384  11746035 1271.2116\n",
       "1693 Zimbabwe    Africa    1952 48.451   3080907  406.8841\n",
       "1694 Zimbabwe    Africa    1957 50.469   3646340  518.7643\n",
       "1695 Zimbabwe    Africa    1962 52.358   4277736  527.2722\n",
       "1696 Zimbabwe    Africa    1967 53.995   4995432  569.7951\n",
       "1697 Zimbabwe    Africa    1972 55.635   5861135  799.3622\n",
       "1698 Zimbabwe    Africa    1977 57.674   6642107  685.5877\n",
       "1699 Zimbabwe    Africa    1982 60.363   7636524  788.8550\n",
       "1700 Zimbabwe    Africa    1987 62.351   9216418  706.1573\n",
       "1701 Zimbabwe    Africa    1992 60.377  10704340  693.4208\n",
       "1702 Zimbabwe    Africa    1997 46.809  11404948  792.4500\n",
       "1703 Zimbabwe    Africa    2002 39.989  11926563  672.0386\n",
       "1704 Zimbabwe    Africa    2007 43.487  12311143  469.7093"
      ]
     },
     "metadata": {},
     "output_type": "display_data"
    },
    {
     "data": {
      "text/html": [
       "<table class=\"dataframe\">\n",
       "<caption>A tibble: 6 × 6</caption>\n",
       "<thead>\n",
       "\t<tr><th scope=col>country</th><th scope=col>continent</th><th scope=col>year</th><th scope=col>lifeExp</th><th scope=col>pop</th><th scope=col>gdpPercap</th></tr>\n",
       "\t<tr><th scope=col>&lt;fct&gt;</th><th scope=col>&lt;fct&gt;</th><th scope=col>&lt;int&gt;</th><th scope=col>&lt;dbl&gt;</th><th scope=col>&lt;int&gt;</th><th scope=col>&lt;dbl&gt;</th></tr>\n",
       "</thead>\n",
       "<tbody>\n",
       "\t<tr><td>Afghanistan</td><td>Asia</td><td>1952</td><td>28.801</td><td> 8425333</td><td>779.4453</td></tr>\n",
       "\t<tr><td>Afghanistan</td><td>Asia</td><td>1957</td><td>30.332</td><td> 9240934</td><td>820.8530</td></tr>\n",
       "\t<tr><td>Afghanistan</td><td>Asia</td><td>1962</td><td>31.997</td><td>10267083</td><td>853.1007</td></tr>\n",
       "\t<tr><td>Afghanistan</td><td>Asia</td><td>1967</td><td>34.020</td><td>11537966</td><td>836.1971</td></tr>\n",
       "\t<tr><td>Afghanistan</td><td>Asia</td><td>1972</td><td>36.088</td><td>13079460</td><td>739.9811</td></tr>\n",
       "\t<tr><td>Afghanistan</td><td>Asia</td><td>1977</td><td>38.438</td><td>14880372</td><td>786.1134</td></tr>\n",
       "</tbody>\n",
       "</table>\n"
      ],
      "text/latex": [
       "A tibble: 6 × 6\n",
       "\\begin{tabular}{llllll}\n",
       " country & continent & year & lifeExp & pop & gdpPercap\\\\\n",
       " <fct> & <fct> & <int> & <dbl> & <int> & <dbl>\\\\\n",
       "\\hline\n",
       "\t Afghanistan & Asia & 1952 & 28.801 &  8425333 & 779.4453\\\\\n",
       "\t Afghanistan & Asia & 1957 & 30.332 &  9240934 & 820.8530\\\\\n",
       "\t Afghanistan & Asia & 1962 & 31.997 & 10267083 & 853.1007\\\\\n",
       "\t Afghanistan & Asia & 1967 & 34.020 & 11537966 & 836.1971\\\\\n",
       "\t Afghanistan & Asia & 1972 & 36.088 & 13079460 & 739.9811\\\\\n",
       "\t Afghanistan & Asia & 1977 & 38.438 & 14880372 & 786.1134\\\\\n",
       "\\end{tabular}\n"
      ],
      "text/markdown": [
       "\n",
       "A tibble: 6 × 6\n",
       "\n",
       "| country &lt;fct&gt; | continent &lt;fct&gt; | year &lt;int&gt; | lifeExp &lt;dbl&gt; | pop &lt;int&gt; | gdpPercap &lt;dbl&gt; |\n",
       "|---|---|---|---|---|---|\n",
       "| Afghanistan | Asia | 1952 | 28.801 |  8425333 | 779.4453 |\n",
       "| Afghanistan | Asia | 1957 | 30.332 |  9240934 | 820.8530 |\n",
       "| Afghanistan | Asia | 1962 | 31.997 | 10267083 | 853.1007 |\n",
       "| Afghanistan | Asia | 1967 | 34.020 | 11537966 | 836.1971 |\n",
       "| Afghanistan | Asia | 1972 | 36.088 | 13079460 | 739.9811 |\n",
       "| Afghanistan | Asia | 1977 | 38.438 | 14880372 | 786.1134 |\n",
       "\n"
      ],
      "text/plain": [
       "  country     continent year lifeExp pop      gdpPercap\n",
       "1 Afghanistan Asia      1952 28.801   8425333 779.4453 \n",
       "2 Afghanistan Asia      1957 30.332   9240934 820.8530 \n",
       "3 Afghanistan Asia      1962 31.997  10267083 853.1007 \n",
       "4 Afghanistan Asia      1967 34.020  11537966 836.1971 \n",
       "5 Afghanistan Asia      1972 36.088  13079460 739.9811 \n",
       "6 Afghanistan Asia      1977 38.438  14880372 786.1134 "
      ]
     },
     "metadata": {},
     "output_type": "display_data"
    }
   ],
   "source": [
    "(gap_canada_base <- gapminder %>%\n",
    "   mutate(country = fct_relevel(country, \"Canada\")))\n",
    "head(gap_canada_base)"
   ]
  },
  {
   "cell_type": "code",
   "execution_count": 34,
   "metadata": {
    "deletable": false,
    "editable": false,
    "nbgrader": {
     "cell_type": "code",
     "checksum": "9e04c74ef9f16087badabdd4d35b0a5e",
     "grade": true,
     "grade_id": "cell-de2504ab380c7da4",
     "locked": true,
     "points": 1,
     "schema_version": 3,
     "solution": false,
     "task": false
    }
   },
   "outputs": [
    {
     "name": "stderr",
     "output_type": "stream",
     "text": [
      "Warning message in normalizePath(path.expand(path), winslash, mustWork):\n",
      "\"path[1]=\"C:/Users/41615/OneDrive/×ÀÃæ/stat545a/worksheets\": The system cannot find the path specified\"\n",
      "Warning message in normalizePath(path.expand(path), winslash, mustWork):\n",
      "\"path[1]=\"C:/Users/41615/OneDrive/×ÀÃæ/stat545a/worksheets\": The system cannot find the path specified\"\n",
      "Warning message in normalizePath(path.expand(path), winslash, mustWork):\n",
      "\"path[1]=\"C:/Users/41615/OneDrive/×ÀÃæ/stat545a\": The system cannot find the path specified\"\n",
      "Warning message in normalizePath(path.expand(path), winslash, mustWork):\n",
      "\"path[1]=\"C:/Users/41615/OneDrive/×ÀÃæ/stat545a\": The system cannot find the path specified\"\n",
      "Warning message in normalizePath(path.expand(path), winslash, mustWork):\n",
      "\"path[1]=\"C:/Users/41615/OneDrive/×ÀÃæ\": The system cannot find the file specified\"\n",
      "Warning message in normalizePath(path.expand(path), winslash, mustWork):\n",
      "\"path[1]=\"C:/Users/41615/OneDrive/×ÀÃæ\": The system cannot find the file specified\"\n"
     ]
    },
    {
     "name": "stdout",
     "output_type": "stream",
     "text": [
      "\u001b[32mTest passed\u001b[39m \n"
     ]
    }
   ],
   "source": [
    "test_that(\"Question 2.7\", expect_known_hash(table(gap_canada_base$country), \"72d75ce05a16d8965f7bd0ae3fb986d3\"))"
   ]
  },
  {
   "cell_type": "markdown",
   "metadata": {
    "deletable": false,
    "editable": false,
    "nbgrader": {
     "cell_type": "markdown",
     "checksum": "9d58e265ab80ca22275c8b12936eaebd",
     "grade": false,
     "grade_id": "cell-ab318aa41d0d5f13",
     "locked": true,
     "schema_version": 3,
     "solution": false,
     "task": false
    }
   },
   "source": [
    "Take a look at the levels of the \"country\" factor, and you'll now see Canada first:"
   ]
  },
  {
   "cell_type": "code",
   "execution_count": 35,
   "metadata": {
    "deletable": false,
    "editable": false,
    "nbgrader": {
     "cell_type": "code",
     "checksum": "efc00230990576f114feeda6ffd242c5",
     "grade": false,
     "grade_id": "cell-81562f5b59805bcf",
     "locked": true,
     "schema_version": 3,
     "solution": false,
     "task": false
    }
   },
   "outputs": [
    {
     "data": {
      "text/html": [
       "<style>\n",
       ".list-inline {list-style: none; margin:0; padding: 0}\n",
       ".list-inline>li {display: inline-block}\n",
       ".list-inline>li:not(:last-child)::after {content: \"\\00b7\"; padding: 0 .5ex}\n",
       "</style>\n",
       "<ol class=list-inline><li>'Canada'</li><li>'Afghanistan'</li><li>'Albania'</li><li>'Algeria'</li><li>'Angola'</li><li>'Argentina'</li><li>'Australia'</li><li>'Austria'</li><li>'Bahrain'</li><li>'Bangladesh'</li><li>'Belgium'</li><li>'Benin'</li><li>'Bolivia'</li><li>'Bosnia and Herzegovina'</li><li>'Botswana'</li><li>'Brazil'</li><li>'Bulgaria'</li><li>'Burkina Faso'</li><li>'Burundi'</li><li>'Cambodia'</li><li>'Cameroon'</li><li>'Central African Republic'</li><li>'Chad'</li><li>'Chile'</li><li>'China'</li><li>'Colombia'</li><li>'Comoros'</li><li>'Congo, Dem. Rep.'</li><li>'Congo, Rep.'</li><li>'Costa Rica'</li><li>'Cote d\\'Ivoire'</li><li>'Croatia'</li><li>'Cuba'</li><li>'Czech Republic'</li><li>'Denmark'</li><li>'Djibouti'</li><li>'Dominican Republic'</li><li>'Ecuador'</li><li>'Egypt'</li><li>'El Salvador'</li><li>'Equatorial Guinea'</li><li>'Eritrea'</li><li>'Ethiopia'</li><li>'Finland'</li><li>'France'</li><li>'Gabon'</li><li>'Gambia'</li><li>'Germany'</li><li>'Ghana'</li><li>'Greece'</li><li>'Guatemala'</li><li>'Guinea'</li><li>'Guinea-Bissau'</li><li>'Haiti'</li><li>'Honduras'</li><li>'Hong Kong, China'</li><li>'Hungary'</li><li>'Iceland'</li><li>'India'</li><li>'Indonesia'</li><li>'Iran'</li><li>'Iraq'</li><li>'Ireland'</li><li>'Israel'</li><li>'Italy'</li><li>'Jamaica'</li><li>'Japan'</li><li>'Jordan'</li><li>'Kenya'</li><li>'Korea, Dem. Rep.'</li><li>'Korea, Rep.'</li><li>'Kuwait'</li><li>'Lebanon'</li><li>'Lesotho'</li><li>'Liberia'</li><li>'Libya'</li><li>'Madagascar'</li><li>'Malawi'</li><li>'Malaysia'</li><li>'Mali'</li><li>'Mauritania'</li><li>'Mauritius'</li><li>'Mexico'</li><li>'Mongolia'</li><li>'Montenegro'</li><li>'Morocco'</li><li>'Mozambique'</li><li>'Myanmar'</li><li>'Namibia'</li><li>'Nepal'</li><li>'Netherlands'</li><li>'New Zealand'</li><li>'Nicaragua'</li><li>'Niger'</li><li>'Nigeria'</li><li>'Norway'</li><li>'Oman'</li><li>'Pakistan'</li><li>'Panama'</li><li>'Paraguay'</li><li>'Peru'</li><li>'Philippines'</li><li>'Poland'</li><li>'Portugal'</li><li>'Puerto Rico'</li><li>'Reunion'</li><li>'Romania'</li><li>'Rwanda'</li><li>'Sao Tome and Principe'</li><li>'Saudi Arabia'</li><li>'Senegal'</li><li>'Serbia'</li><li>'Sierra Leone'</li><li>'Singapore'</li><li>'Slovak Republic'</li><li>'Slovenia'</li><li>'Somalia'</li><li>'South Africa'</li><li>'Spain'</li><li>'Sri Lanka'</li><li>'Sudan'</li><li>'Swaziland'</li><li>'Sweden'</li><li>'Switzerland'</li><li>'Syria'</li><li>'Taiwan'</li><li>'Tanzania'</li><li>'Thailand'</li><li>'Togo'</li><li>'Trinidad and Tobago'</li><li>'Tunisia'</li><li>'Turkey'</li><li>'Uganda'</li><li>'United Kingdom'</li><li>'United States'</li><li>'Uruguay'</li><li>'Venezuela'</li><li>'Vietnam'</li><li>'West Bank and Gaza'</li><li>'Yemen, Rep.'</li><li>'Zambia'</li><li>'Zimbabwe'</li></ol>\n"
      ],
      "text/latex": [
       "\\begin{enumerate*}\n",
       "\\item 'Canada'\n",
       "\\item 'Afghanistan'\n",
       "\\item 'Albania'\n",
       "\\item 'Algeria'\n",
       "\\item 'Angola'\n",
       "\\item 'Argentina'\n",
       "\\item 'Australia'\n",
       "\\item 'Austria'\n",
       "\\item 'Bahrain'\n",
       "\\item 'Bangladesh'\n",
       "\\item 'Belgium'\n",
       "\\item 'Benin'\n",
       "\\item 'Bolivia'\n",
       "\\item 'Bosnia and Herzegovina'\n",
       "\\item 'Botswana'\n",
       "\\item 'Brazil'\n",
       "\\item 'Bulgaria'\n",
       "\\item 'Burkina Faso'\n",
       "\\item 'Burundi'\n",
       "\\item 'Cambodia'\n",
       "\\item 'Cameroon'\n",
       "\\item 'Central African Republic'\n",
       "\\item 'Chad'\n",
       "\\item 'Chile'\n",
       "\\item 'China'\n",
       "\\item 'Colombia'\n",
       "\\item 'Comoros'\n",
       "\\item 'Congo, Dem. Rep.'\n",
       "\\item 'Congo, Rep.'\n",
       "\\item 'Costa Rica'\n",
       "\\item 'Cote d\\textbackslash{}'Ivoire'\n",
       "\\item 'Croatia'\n",
       "\\item 'Cuba'\n",
       "\\item 'Czech Republic'\n",
       "\\item 'Denmark'\n",
       "\\item 'Djibouti'\n",
       "\\item 'Dominican Republic'\n",
       "\\item 'Ecuador'\n",
       "\\item 'Egypt'\n",
       "\\item 'El Salvador'\n",
       "\\item 'Equatorial Guinea'\n",
       "\\item 'Eritrea'\n",
       "\\item 'Ethiopia'\n",
       "\\item 'Finland'\n",
       "\\item 'France'\n",
       "\\item 'Gabon'\n",
       "\\item 'Gambia'\n",
       "\\item 'Germany'\n",
       "\\item 'Ghana'\n",
       "\\item 'Greece'\n",
       "\\item 'Guatemala'\n",
       "\\item 'Guinea'\n",
       "\\item 'Guinea-Bissau'\n",
       "\\item 'Haiti'\n",
       "\\item 'Honduras'\n",
       "\\item 'Hong Kong, China'\n",
       "\\item 'Hungary'\n",
       "\\item 'Iceland'\n",
       "\\item 'India'\n",
       "\\item 'Indonesia'\n",
       "\\item 'Iran'\n",
       "\\item 'Iraq'\n",
       "\\item 'Ireland'\n",
       "\\item 'Israel'\n",
       "\\item 'Italy'\n",
       "\\item 'Jamaica'\n",
       "\\item 'Japan'\n",
       "\\item 'Jordan'\n",
       "\\item 'Kenya'\n",
       "\\item 'Korea, Dem. Rep.'\n",
       "\\item 'Korea, Rep.'\n",
       "\\item 'Kuwait'\n",
       "\\item 'Lebanon'\n",
       "\\item 'Lesotho'\n",
       "\\item 'Liberia'\n",
       "\\item 'Libya'\n",
       "\\item 'Madagascar'\n",
       "\\item 'Malawi'\n",
       "\\item 'Malaysia'\n",
       "\\item 'Mali'\n",
       "\\item 'Mauritania'\n",
       "\\item 'Mauritius'\n",
       "\\item 'Mexico'\n",
       "\\item 'Mongolia'\n",
       "\\item 'Montenegro'\n",
       "\\item 'Morocco'\n",
       "\\item 'Mozambique'\n",
       "\\item 'Myanmar'\n",
       "\\item 'Namibia'\n",
       "\\item 'Nepal'\n",
       "\\item 'Netherlands'\n",
       "\\item 'New Zealand'\n",
       "\\item 'Nicaragua'\n",
       "\\item 'Niger'\n",
       "\\item 'Nigeria'\n",
       "\\item 'Norway'\n",
       "\\item 'Oman'\n",
       "\\item 'Pakistan'\n",
       "\\item 'Panama'\n",
       "\\item 'Paraguay'\n",
       "\\item 'Peru'\n",
       "\\item 'Philippines'\n",
       "\\item 'Poland'\n",
       "\\item 'Portugal'\n",
       "\\item 'Puerto Rico'\n",
       "\\item 'Reunion'\n",
       "\\item 'Romania'\n",
       "\\item 'Rwanda'\n",
       "\\item 'Sao Tome and Principe'\n",
       "\\item 'Saudi Arabia'\n",
       "\\item 'Senegal'\n",
       "\\item 'Serbia'\n",
       "\\item 'Sierra Leone'\n",
       "\\item 'Singapore'\n",
       "\\item 'Slovak Republic'\n",
       "\\item 'Slovenia'\n",
       "\\item 'Somalia'\n",
       "\\item 'South Africa'\n",
       "\\item 'Spain'\n",
       "\\item 'Sri Lanka'\n",
       "\\item 'Sudan'\n",
       "\\item 'Swaziland'\n",
       "\\item 'Sweden'\n",
       "\\item 'Switzerland'\n",
       "\\item 'Syria'\n",
       "\\item 'Taiwan'\n",
       "\\item 'Tanzania'\n",
       "\\item 'Thailand'\n",
       "\\item 'Togo'\n",
       "\\item 'Trinidad and Tobago'\n",
       "\\item 'Tunisia'\n",
       "\\item 'Turkey'\n",
       "\\item 'Uganda'\n",
       "\\item 'United Kingdom'\n",
       "\\item 'United States'\n",
       "\\item 'Uruguay'\n",
       "\\item 'Venezuela'\n",
       "\\item 'Vietnam'\n",
       "\\item 'West Bank and Gaza'\n",
       "\\item 'Yemen, Rep.'\n",
       "\\item 'Zambia'\n",
       "\\item 'Zimbabwe'\n",
       "\\end{enumerate*}\n"
      ],
      "text/markdown": [
       "1. 'Canada'\n",
       "2. 'Afghanistan'\n",
       "3. 'Albania'\n",
       "4. 'Algeria'\n",
       "5. 'Angola'\n",
       "6. 'Argentina'\n",
       "7. 'Australia'\n",
       "8. 'Austria'\n",
       "9. 'Bahrain'\n",
       "10. 'Bangladesh'\n",
       "11. 'Belgium'\n",
       "12. 'Benin'\n",
       "13. 'Bolivia'\n",
       "14. 'Bosnia and Herzegovina'\n",
       "15. 'Botswana'\n",
       "16. 'Brazil'\n",
       "17. 'Bulgaria'\n",
       "18. 'Burkina Faso'\n",
       "19. 'Burundi'\n",
       "20. 'Cambodia'\n",
       "21. 'Cameroon'\n",
       "22. 'Central African Republic'\n",
       "23. 'Chad'\n",
       "24. 'Chile'\n",
       "25. 'China'\n",
       "26. 'Colombia'\n",
       "27. 'Comoros'\n",
       "28. 'Congo, Dem. Rep.'\n",
       "29. 'Congo, Rep.'\n",
       "30. 'Costa Rica'\n",
       "31. 'Cote d\\'Ivoire'\n",
       "32. 'Croatia'\n",
       "33. 'Cuba'\n",
       "34. 'Czech Republic'\n",
       "35. 'Denmark'\n",
       "36. 'Djibouti'\n",
       "37. 'Dominican Republic'\n",
       "38. 'Ecuador'\n",
       "39. 'Egypt'\n",
       "40. 'El Salvador'\n",
       "41. 'Equatorial Guinea'\n",
       "42. 'Eritrea'\n",
       "43. 'Ethiopia'\n",
       "44. 'Finland'\n",
       "45. 'France'\n",
       "46. 'Gabon'\n",
       "47. 'Gambia'\n",
       "48. 'Germany'\n",
       "49. 'Ghana'\n",
       "50. 'Greece'\n",
       "51. 'Guatemala'\n",
       "52. 'Guinea'\n",
       "53. 'Guinea-Bissau'\n",
       "54. 'Haiti'\n",
       "55. 'Honduras'\n",
       "56. 'Hong Kong, China'\n",
       "57. 'Hungary'\n",
       "58. 'Iceland'\n",
       "59. 'India'\n",
       "60. 'Indonesia'\n",
       "61. 'Iran'\n",
       "62. 'Iraq'\n",
       "63. 'Ireland'\n",
       "64. 'Israel'\n",
       "65. 'Italy'\n",
       "66. 'Jamaica'\n",
       "67. 'Japan'\n",
       "68. 'Jordan'\n",
       "69. 'Kenya'\n",
       "70. 'Korea, Dem. Rep.'\n",
       "71. 'Korea, Rep.'\n",
       "72. 'Kuwait'\n",
       "73. 'Lebanon'\n",
       "74. 'Lesotho'\n",
       "75. 'Liberia'\n",
       "76. 'Libya'\n",
       "77. 'Madagascar'\n",
       "78. 'Malawi'\n",
       "79. 'Malaysia'\n",
       "80. 'Mali'\n",
       "81. 'Mauritania'\n",
       "82. 'Mauritius'\n",
       "83. 'Mexico'\n",
       "84. 'Mongolia'\n",
       "85. 'Montenegro'\n",
       "86. 'Morocco'\n",
       "87. 'Mozambique'\n",
       "88. 'Myanmar'\n",
       "89. 'Namibia'\n",
       "90. 'Nepal'\n",
       "91. 'Netherlands'\n",
       "92. 'New Zealand'\n",
       "93. 'Nicaragua'\n",
       "94. 'Niger'\n",
       "95. 'Nigeria'\n",
       "96. 'Norway'\n",
       "97. 'Oman'\n",
       "98. 'Pakistan'\n",
       "99. 'Panama'\n",
       "100. 'Paraguay'\n",
       "101. 'Peru'\n",
       "102. 'Philippines'\n",
       "103. 'Poland'\n",
       "104. 'Portugal'\n",
       "105. 'Puerto Rico'\n",
       "106. 'Reunion'\n",
       "107. 'Romania'\n",
       "108. 'Rwanda'\n",
       "109. 'Sao Tome and Principe'\n",
       "110. 'Saudi Arabia'\n",
       "111. 'Senegal'\n",
       "112. 'Serbia'\n",
       "113. 'Sierra Leone'\n",
       "114. 'Singapore'\n",
       "115. 'Slovak Republic'\n",
       "116. 'Slovenia'\n",
       "117. 'Somalia'\n",
       "118. 'South Africa'\n",
       "119. 'Spain'\n",
       "120. 'Sri Lanka'\n",
       "121. 'Sudan'\n",
       "122. 'Swaziland'\n",
       "123. 'Sweden'\n",
       "124. 'Switzerland'\n",
       "125. 'Syria'\n",
       "126. 'Taiwan'\n",
       "127. 'Tanzania'\n",
       "128. 'Thailand'\n",
       "129. 'Togo'\n",
       "130. 'Trinidad and Tobago'\n",
       "131. 'Tunisia'\n",
       "132. 'Turkey'\n",
       "133. 'Uganda'\n",
       "134. 'United Kingdom'\n",
       "135. 'United States'\n",
       "136. 'Uruguay'\n",
       "137. 'Venezuela'\n",
       "138. 'Vietnam'\n",
       "139. 'West Bank and Gaza'\n",
       "140. 'Yemen, Rep.'\n",
       "141. 'Zambia'\n",
       "142. 'Zimbabwe'\n",
       "\n",
       "\n"
      ],
      "text/plain": [
       "  [1] \"Canada\"                   \"Afghanistan\"             \n",
       "  [3] \"Albania\"                  \"Algeria\"                 \n",
       "  [5] \"Angola\"                   \"Argentina\"               \n",
       "  [7] \"Australia\"                \"Austria\"                 \n",
       "  [9] \"Bahrain\"                  \"Bangladesh\"              \n",
       " [11] \"Belgium\"                  \"Benin\"                   \n",
       " [13] \"Bolivia\"                  \"Bosnia and Herzegovina\"  \n",
       " [15] \"Botswana\"                 \"Brazil\"                  \n",
       " [17] \"Bulgaria\"                 \"Burkina Faso\"            \n",
       " [19] \"Burundi\"                  \"Cambodia\"                \n",
       " [21] \"Cameroon\"                 \"Central African Republic\"\n",
       " [23] \"Chad\"                     \"Chile\"                   \n",
       " [25] \"China\"                    \"Colombia\"                \n",
       " [27] \"Comoros\"                  \"Congo, Dem. Rep.\"        \n",
       " [29] \"Congo, Rep.\"              \"Costa Rica\"              \n",
       " [31] \"Cote d'Ivoire\"            \"Croatia\"                 \n",
       " [33] \"Cuba\"                     \"Czech Republic\"          \n",
       " [35] \"Denmark\"                  \"Djibouti\"                \n",
       " [37] \"Dominican Republic\"       \"Ecuador\"                 \n",
       " [39] \"Egypt\"                    \"El Salvador\"             \n",
       " [41] \"Equatorial Guinea\"        \"Eritrea\"                 \n",
       " [43] \"Ethiopia\"                 \"Finland\"                 \n",
       " [45] \"France\"                   \"Gabon\"                   \n",
       " [47] \"Gambia\"                   \"Germany\"                 \n",
       " [49] \"Ghana\"                    \"Greece\"                  \n",
       " [51] \"Guatemala\"                \"Guinea\"                  \n",
       " [53] \"Guinea-Bissau\"            \"Haiti\"                   \n",
       " [55] \"Honduras\"                 \"Hong Kong, China\"        \n",
       " [57] \"Hungary\"                  \"Iceland\"                 \n",
       " [59] \"India\"                    \"Indonesia\"               \n",
       " [61] \"Iran\"                     \"Iraq\"                    \n",
       " [63] \"Ireland\"                  \"Israel\"                  \n",
       " [65] \"Italy\"                    \"Jamaica\"                 \n",
       " [67] \"Japan\"                    \"Jordan\"                  \n",
       " [69] \"Kenya\"                    \"Korea, Dem. Rep.\"        \n",
       " [71] \"Korea, Rep.\"              \"Kuwait\"                  \n",
       " [73] \"Lebanon\"                  \"Lesotho\"                 \n",
       " [75] \"Liberia\"                  \"Libya\"                   \n",
       " [77] \"Madagascar\"               \"Malawi\"                  \n",
       " [79] \"Malaysia\"                 \"Mali\"                    \n",
       " [81] \"Mauritania\"               \"Mauritius\"               \n",
       " [83] \"Mexico\"                   \"Mongolia\"                \n",
       " [85] \"Montenegro\"               \"Morocco\"                 \n",
       " [87] \"Mozambique\"               \"Myanmar\"                 \n",
       " [89] \"Namibia\"                  \"Nepal\"                   \n",
       " [91] \"Netherlands\"              \"New Zealand\"             \n",
       " [93] \"Nicaragua\"                \"Niger\"                   \n",
       " [95] \"Nigeria\"                  \"Norway\"                  \n",
       " [97] \"Oman\"                     \"Pakistan\"                \n",
       " [99] \"Panama\"                   \"Paraguay\"                \n",
       "[101] \"Peru\"                     \"Philippines\"             \n",
       "[103] \"Poland\"                   \"Portugal\"                \n",
       "[105] \"Puerto Rico\"              \"Reunion\"                 \n",
       "[107] \"Romania\"                  \"Rwanda\"                  \n",
       "[109] \"Sao Tome and Principe\"    \"Saudi Arabia\"            \n",
       "[111] \"Senegal\"                  \"Serbia\"                  \n",
       "[113] \"Sierra Leone\"             \"Singapore\"               \n",
       "[115] \"Slovak Republic\"          \"Slovenia\"                \n",
       "[117] \"Somalia\"                  \"South Africa\"            \n",
       "[119] \"Spain\"                    \"Sri Lanka\"               \n",
       "[121] \"Sudan\"                    \"Swaziland\"               \n",
       "[123] \"Sweden\"                   \"Switzerland\"             \n",
       "[125] \"Syria\"                    \"Taiwan\"                  \n",
       "[127] \"Tanzania\"                 \"Thailand\"                \n",
       "[129] \"Togo\"                     \"Trinidad and Tobago\"     \n",
       "[131] \"Tunisia\"                  \"Turkey\"                  \n",
       "[133] \"Uganda\"                   \"United Kingdom\"          \n",
       "[135] \"United States\"            \"Uruguay\"                 \n",
       "[137] \"Venezuela\"                \"Vietnam\"                 \n",
       "[139] \"West Bank and Gaza\"       \"Yemen, Rep.\"             \n",
       "[141] \"Zambia\"                   \"Zimbabwe\"                "
      ]
     },
     "metadata": {},
     "output_type": "display_data"
    }
   ],
   "source": [
    "gap_canada_base %>% \n",
    "   pull(country) %>% \n",
    "   levels()"
   ]
  },
  {
   "cell_type": "markdown",
   "metadata": {
    "deletable": false,
    "editable": false,
    "nbgrader": {
     "cell_type": "markdown",
     "checksum": "c9df0f3698f933b15811ea39f8968d4e",
     "grade": false,
     "grade_id": "cell-4474329a11f182dd",
     "locked": true,
     "schema_version": 3,
     "solution": false,
     "task": false
    }
   },
   "source": [
    "## Question 2.8\n",
    "\n",
    "Sometimes you want to manually change a few factor levels, e.g., if the level is too wide for plotting.\n",
    "Based on the `gapminder` data set, create a new data frame with the Central African Republic renamed to *Central African Rep.* and Bosnia and Herzegovina renamed to *Bosnia & Herzegovina*.\n",
    "Store the new data frame in variable `gap_car`. _Hint_: use `fct_recode()`.\n",
    "\n",
    "```\n",
    "gap_car <- gapminder %>%\n",
    "   mutate(country = FILL_THIS_IN(FILL_THIS_IN, \"Central African Rep.\" = \"FILL_THIS_IN\",\n",
    "                               \"Bosnia & Herzegovina\" = \"FILL_THIS_IN\"))\n",
    "```"
   ]
  },
  {
   "cell_type": "code",
   "execution_count": 36,
   "metadata": {
    "deletable": false,
    "lines_to_next_cell": 0,
    "nbgrader": {
     "cell_type": "code",
     "checksum": "ce084968f1e3785c1637a76d3df88371",
     "grade": false,
     "grade_id": "cell-57746edd3f5caa7d",
     "locked": false,
     "schema_version": 3,
     "solution": true,
     "task": false
    }
   },
   "outputs": [
    {
     "data": {
      "text/html": [
       "<table class=\"dataframe\">\n",
       "<caption>A tibble: 6 × 6</caption>\n",
       "<thead>\n",
       "\t<tr><th scope=col>country</th><th scope=col>continent</th><th scope=col>year</th><th scope=col>lifeExp</th><th scope=col>pop</th><th scope=col>gdpPercap</th></tr>\n",
       "\t<tr><th scope=col>&lt;fct&gt;</th><th scope=col>&lt;fct&gt;</th><th scope=col>&lt;int&gt;</th><th scope=col>&lt;dbl&gt;</th><th scope=col>&lt;int&gt;</th><th scope=col>&lt;dbl&gt;</th></tr>\n",
       "</thead>\n",
       "<tbody>\n",
       "\t<tr><td>Afghanistan</td><td>Asia</td><td>1952</td><td>28.801</td><td> 8425333</td><td>779.4453</td></tr>\n",
       "\t<tr><td>Afghanistan</td><td>Asia</td><td>1957</td><td>30.332</td><td> 9240934</td><td>820.8530</td></tr>\n",
       "\t<tr><td>Afghanistan</td><td>Asia</td><td>1962</td><td>31.997</td><td>10267083</td><td>853.1007</td></tr>\n",
       "\t<tr><td>Afghanistan</td><td>Asia</td><td>1967</td><td>34.020</td><td>11537966</td><td>836.1971</td></tr>\n",
       "\t<tr><td>Afghanistan</td><td>Asia</td><td>1972</td><td>36.088</td><td>13079460</td><td>739.9811</td></tr>\n",
       "\t<tr><td>Afghanistan</td><td>Asia</td><td>1977</td><td>38.438</td><td>14880372</td><td>786.1134</td></tr>\n",
       "</tbody>\n",
       "</table>\n"
      ],
      "text/latex": [
       "A tibble: 6 × 6\n",
       "\\begin{tabular}{llllll}\n",
       " country & continent & year & lifeExp & pop & gdpPercap\\\\\n",
       " <fct> & <fct> & <int> & <dbl> & <int> & <dbl>\\\\\n",
       "\\hline\n",
       "\t Afghanistan & Asia & 1952 & 28.801 &  8425333 & 779.4453\\\\\n",
       "\t Afghanistan & Asia & 1957 & 30.332 &  9240934 & 820.8530\\\\\n",
       "\t Afghanistan & Asia & 1962 & 31.997 & 10267083 & 853.1007\\\\\n",
       "\t Afghanistan & Asia & 1967 & 34.020 & 11537966 & 836.1971\\\\\n",
       "\t Afghanistan & Asia & 1972 & 36.088 & 13079460 & 739.9811\\\\\n",
       "\t Afghanistan & Asia & 1977 & 38.438 & 14880372 & 786.1134\\\\\n",
       "\\end{tabular}\n"
      ],
      "text/markdown": [
       "\n",
       "A tibble: 6 × 6\n",
       "\n",
       "| country &lt;fct&gt; | continent &lt;fct&gt; | year &lt;int&gt; | lifeExp &lt;dbl&gt; | pop &lt;int&gt; | gdpPercap &lt;dbl&gt; |\n",
       "|---|---|---|---|---|---|\n",
       "| Afghanistan | Asia | 1952 | 28.801 |  8425333 | 779.4453 |\n",
       "| Afghanistan | Asia | 1957 | 30.332 |  9240934 | 820.8530 |\n",
       "| Afghanistan | Asia | 1962 | 31.997 | 10267083 | 853.1007 |\n",
       "| Afghanistan | Asia | 1967 | 34.020 | 11537966 | 836.1971 |\n",
       "| Afghanistan | Asia | 1972 | 36.088 | 13079460 | 739.9811 |\n",
       "| Afghanistan | Asia | 1977 | 38.438 | 14880372 | 786.1134 |\n",
       "\n"
      ],
      "text/plain": [
       "  country     continent year lifeExp pop      gdpPercap\n",
       "1 Afghanistan Asia      1952 28.801   8425333 779.4453 \n",
       "2 Afghanistan Asia      1957 30.332   9240934 820.8530 \n",
       "3 Afghanistan Asia      1962 31.997  10267083 853.1007 \n",
       "4 Afghanistan Asia      1967 34.020  11537966 836.1971 \n",
       "5 Afghanistan Asia      1972 36.088  13079460 739.9811 \n",
       "6 Afghanistan Asia      1977 38.438  14880372 786.1134 "
      ]
     },
     "metadata": {},
     "output_type": "display_data"
    }
   ],
   "source": [
    "gap_car <- gapminder %>%\n",
    "   mutate(country = fct_recode(country, \"Central African Rep.\" = \"Central African Republic\",\n",
    "                               \"Bosnia & Herzegovina\" = \"Bosnia and Herzegovina\"))\n",
    "head(gap_car)"
   ]
  },
  {
   "cell_type": "code",
   "execution_count": 37,
   "metadata": {
    "deletable": false,
    "editable": false,
    "lines_to_next_cell": 2,
    "nbgrader": {
     "cell_type": "code",
     "checksum": "8238a1b5e4f9338ffcd0652717b9b4cf",
     "grade": true,
     "grade_id": "cell-339f3fc46993a445",
     "locked": true,
     "points": 1,
     "schema_version": 3,
     "solution": false,
     "task": false
    }
   },
   "outputs": [
    {
     "name": "stderr",
     "output_type": "stream",
     "text": [
      "Warning message in normalizePath(path.expand(path), winslash, mustWork):\n",
      "\"path[1]=\"C:/Users/41615/OneDrive/×ÀÃæ/stat545a/worksheets\": The system cannot find the path specified\"\n",
      "Warning message in normalizePath(path.expand(path), winslash, mustWork):\n",
      "\"path[1]=\"C:/Users/41615/OneDrive/×ÀÃæ/stat545a/worksheets\": The system cannot find the path specified\"\n",
      "Warning message in normalizePath(path.expand(path), winslash, mustWork):\n",
      "\"path[1]=\"C:/Users/41615/OneDrive/×ÀÃæ/stat545a\": The system cannot find the path specified\"\n",
      "Warning message in normalizePath(path.expand(path), winslash, mustWork):\n",
      "\"path[1]=\"C:/Users/41615/OneDrive/×ÀÃæ/stat545a\": The system cannot find the path specified\"\n",
      "Warning message in normalizePath(path.expand(path), winslash, mustWork):\n",
      "\"path[1]=\"C:/Users/41615/OneDrive/×ÀÃæ\": The system cannot find the file specified\"\n",
      "Warning message in normalizePath(path.expand(path), winslash, mustWork):\n",
      "\"path[1]=\"C:/Users/41615/OneDrive/×ÀÃæ\": The system cannot find the file specified\"\n"
     ]
    },
    {
     "name": "stdout",
     "output_type": "stream",
     "text": [
      "\u001b[32mTest passed\u001b[39m \n"
     ]
    }
   ],
   "source": [
    "test_that(\"Question 2.8\", expect_known_hash(table(gap_car$country), \"9cc15f09cb70b5596bbf3feaa73ee471\"))"
   ]
  },
  {
   "cell_type": "markdown",
   "metadata": {
    "deletable": false,
    "editable": false,
    "lines_to_next_cell": 0,
    "nbgrader": {
     "cell_type": "markdown",
     "checksum": "debd146fdf7bd7f964caf53e5664791c",
     "grade": false,
     "grade_id": "cell-ebce2cf9fcfbd426",
     "locked": true,
     "schema_version": 3,
     "solution": false,
     "task": false
    }
   },
   "source": [
    "# Part 3: Tibble Joins\n",
    "\n",
    "At the start of this worksheet, we loaded a couple datasets from the [singer](https://github.com/JoeyBernhardt/singer) package, and called them `time` and `album`. These two data sets contain information about a few popular songs and albums.\n",
    "\n",
    "We'll practice various joins using these two datasets. You'll need to find out which join is appropriate for each case!\n",
    "\n",
    "Run the following R codes to look at the two data sets:"
   ]
  },
  {
   "cell_type": "code",
   "execution_count": 38,
   "metadata": {
    "deletable": false,
    "editable": false,
    "lines_to_next_cell": 0,
    "nbgrader": {
     "cell_type": "code",
     "checksum": "75a59fdaeb80fc4672eb7cfe95760f4a",
     "grade": false,
     "grade_id": "cell-e42385546e19be2e",
     "locked": true,
     "schema_version": 3,
     "solution": false,
     "task": false
    }
   },
   "outputs": [
    {
     "data": {
      "text/html": [
       "<table class=\"dataframe\">\n",
       "<caption>A tibble: 6 × 3</caption>\n",
       "<thead>\n",
       "\t<tr><th scope=col>song</th><th scope=col>artist_name</th><th scope=col>year</th></tr>\n",
       "\t<tr><th scope=col>&lt;chr&gt;</th><th scope=col>&lt;chr&gt;</th><th scope=col>&lt;dbl&gt;</th></tr>\n",
       "</thead>\n",
       "<tbody>\n",
       "\t<tr><td>Corduroy     </td><td>Pearl Jam</td><td>1994</td></tr>\n",
       "\t<tr><td>Grievance    </td><td>Pearl Jam</td><td>2000</td></tr>\n",
       "\t<tr><td>Stupidmop    </td><td>Pearl Jam</td><td>1994</td></tr>\n",
       "\t<tr><td>Present Tense</td><td>Pearl Jam</td><td>1996</td></tr>\n",
       "\t<tr><td>MFC          </td><td>Pearl Jam</td><td>1998</td></tr>\n",
       "\t<tr><td>Lukin        </td><td>Pearl Jam</td><td>1996</td></tr>\n",
       "</tbody>\n",
       "</table>\n"
      ],
      "text/latex": [
       "A tibble: 6 × 3\n",
       "\\begin{tabular}{lll}\n",
       " song & artist\\_name & year\\\\\n",
       " <chr> & <chr> & <dbl>\\\\\n",
       "\\hline\n",
       "\t Corduroy      & Pearl Jam & 1994\\\\\n",
       "\t Grievance     & Pearl Jam & 2000\\\\\n",
       "\t Stupidmop     & Pearl Jam & 1994\\\\\n",
       "\t Present Tense & Pearl Jam & 1996\\\\\n",
       "\t MFC           & Pearl Jam & 1998\\\\\n",
       "\t Lukin         & Pearl Jam & 1996\\\\\n",
       "\\end{tabular}\n"
      ],
      "text/markdown": [
       "\n",
       "A tibble: 6 × 3\n",
       "\n",
       "| song &lt;chr&gt; | artist_name &lt;chr&gt; | year &lt;dbl&gt; |\n",
       "|---|---|---|\n",
       "| Corduroy      | Pearl Jam | 1994 |\n",
       "| Grievance     | Pearl Jam | 2000 |\n",
       "| Stupidmop     | Pearl Jam | 1994 |\n",
       "| Present Tense | Pearl Jam | 1996 |\n",
       "| MFC           | Pearl Jam | 1998 |\n",
       "| Lukin         | Pearl Jam | 1996 |\n",
       "\n"
      ],
      "text/plain": [
       "  song          artist_name year\n",
       "1 Corduroy      Pearl Jam   1994\n",
       "2 Grievance     Pearl Jam   2000\n",
       "3 Stupidmop     Pearl Jam   1994\n",
       "4 Present Tense Pearl Jam   1996\n",
       "5 MFC           Pearl Jam   1998\n",
       "6 Lukin         Pearl Jam   1996"
      ]
     },
     "metadata": {},
     "output_type": "display_data"
    }
   ],
   "source": [
    "head(time)"
   ]
  },
  {
   "cell_type": "code",
   "execution_count": 61,
   "metadata": {
    "deletable": false,
    "editable": false,
    "nbgrader": {
     "cell_type": "code",
     "checksum": "4f30e20a803c7da4a45fa2ce0b832722",
     "grade": false,
     "grade_id": "cell-43a2ee99557fd52e",
     "locked": true,
     "schema_version": 3,
     "solution": false,
     "task": false
    }
   },
   "outputs": [
    {
     "data": {
      "text/html": [
       "<table class=\"dataframe\">\n",
       "<caption>A tibble: 6 × 4</caption>\n",
       "<thead>\n",
       "\t<tr><th scope=col>song</th><th scope=col>artist_name</th><th scope=col>city</th><th scope=col>album</th></tr>\n",
       "\t<tr><th scope=col>&lt;chr&gt;</th><th scope=col>&lt;chr&gt;</th><th scope=col>&lt;chr&gt;</th><th scope=col>&lt;chr&gt;</th></tr>\n",
       "</thead>\n",
       "<tbody>\n",
       "\t<tr><td>Grievance     </td><td>Pearl Jam      </td><td>Seattle, WA       </td><td>Binaural                          </td></tr>\n",
       "\t<tr><td>Stupidmop     </td><td>Pearl Jam      </td><td>Seattle, WA       </td><td>Vitalogy                          </td></tr>\n",
       "\t<tr><td>Present Tense </td><td>Pearl Jam      </td><td>Seattle, WA       </td><td>No Code                           </td></tr>\n",
       "\t<tr><td>MFC           </td><td>Pearl Jam      </td><td>Seattle, WA       </td><td>Live On Two Legs                  </td></tr>\n",
       "\t<tr><td>Lukin         </td><td>Pearl Jam      </td><td>Seattle, WA       </td><td>Seattle Washington November 5 2000</td></tr>\n",
       "\t<tr><td>Stuck On Amber</td><td>The Boo Radleys</td><td>Liverpool, England</td><td>Wake Up!                          </td></tr>\n",
       "</tbody>\n",
       "</table>\n"
      ],
      "text/latex": [
       "A tibble: 6 × 4\n",
       "\\begin{tabular}{llll}\n",
       " song & artist\\_name & city & album\\\\\n",
       " <chr> & <chr> & <chr> & <chr>\\\\\n",
       "\\hline\n",
       "\t Grievance      & Pearl Jam       & Seattle, WA        & Binaural                          \\\\\n",
       "\t Stupidmop      & Pearl Jam       & Seattle, WA        & Vitalogy                          \\\\\n",
       "\t Present Tense  & Pearl Jam       & Seattle, WA        & No Code                           \\\\\n",
       "\t MFC            & Pearl Jam       & Seattle, WA        & Live On Two Legs                  \\\\\n",
       "\t Lukin          & Pearl Jam       & Seattle, WA        & Seattle Washington November 5 2000\\\\\n",
       "\t Stuck On Amber & The Boo Radleys & Liverpool, England & Wake Up!                          \\\\\n",
       "\\end{tabular}\n"
      ],
      "text/markdown": [
       "\n",
       "A tibble: 6 × 4\n",
       "\n",
       "| song &lt;chr&gt; | artist_name &lt;chr&gt; | city &lt;chr&gt; | album &lt;chr&gt; |\n",
       "|---|---|---|---|\n",
       "| Grievance      | Pearl Jam       | Seattle, WA        | Binaural                           |\n",
       "| Stupidmop      | Pearl Jam       | Seattle, WA        | Vitalogy                           |\n",
       "| Present Tense  | Pearl Jam       | Seattle, WA        | No Code                            |\n",
       "| MFC            | Pearl Jam       | Seattle, WA        | Live On Two Legs                   |\n",
       "| Lukin          | Pearl Jam       | Seattle, WA        | Seattle Washington November 5 2000 |\n",
       "| Stuck On Amber | The Boo Radleys | Liverpool, England | Wake Up!                           |\n",
       "\n"
      ],
      "text/plain": [
       "  song           artist_name     city              \n",
       "1 Grievance      Pearl Jam       Seattle, WA       \n",
       "2 Stupidmop      Pearl Jam       Seattle, WA       \n",
       "3 Present Tense  Pearl Jam       Seattle, WA       \n",
       "4 MFC            Pearl Jam       Seattle, WA       \n",
       "5 Lukin          Pearl Jam       Seattle, WA       \n",
       "6 Stuck On Amber The Boo Radleys Liverpool, England\n",
       "  album                             \n",
       "1 Binaural                          \n",
       "2 Vitalogy                          \n",
       "3 No Code                           \n",
       "4 Live On Two Legs                  \n",
       "5 Seattle Washington November 5 2000\n",
       "6 Wake Up!                          "
      ]
     },
     "metadata": {},
     "output_type": "display_data"
    }
   ],
   "source": [
    "head(album)"
   ]
  },
  {
   "cell_type": "markdown",
   "metadata": {
    "deletable": false,
    "editable": false,
    "nbgrader": {
     "cell_type": "markdown",
     "checksum": "35472bba0705175e11fe420529003810",
     "grade": false,
     "grade_id": "cell-81082dfacbaa989f",
     "locked": true,
     "schema_version": 3,
     "solution": false,
     "task": false
    }
   },
   "source": [
    "## Question 3.1\n",
    "\n",
    "Create a new data frame containing all songs from `time` that have a corresponding album in the `album` dataset, while also adding the album information. Store the joined data set in variable `songs_with_album`.\n",
    "\n",
    "```\n",
    "songs_with_album <- time %>% \n",
    "  FILL_THIS_IN(FILL_THIS_IN, by = c(\"FILL_THIS_IN\", \"FILL_THIS_IN\"))\n",
    "```"
   ]
  },
  {
   "cell_type": "code",
   "execution_count": 58,
   "metadata": {
    "deletable": false,
    "lines_to_next_cell": 0,
    "nbgrader": {
     "cell_type": "code",
     "checksum": "5cc779ee29fc8f53bff600d1517061ca",
     "grade": false,
     "grade_id": "cell-7d3c34b0dd2dff5c",
     "locked": false,
     "schema_version": 3,
     "solution": true,
     "task": false
    }
   },
   "outputs": [
    {
     "data": {
      "text/html": [
       "<table class=\"dataframe\">\n",
       "<caption>A tibble: 6 × 5</caption>\n",
       "<thead>\n",
       "\t<tr><th scope=col>song</th><th scope=col>artist_name</th><th scope=col>year</th><th scope=col>city</th><th scope=col>album</th></tr>\n",
       "\t<tr><th scope=col>&lt;chr&gt;</th><th scope=col>&lt;chr&gt;</th><th scope=col>&lt;dbl&gt;</th><th scope=col>&lt;chr&gt;</th><th scope=col>&lt;chr&gt;</th></tr>\n",
       "</thead>\n",
       "<tbody>\n",
       "\t<tr><td>Grievance    </td><td>Pearl Jam      </td><td>2000</td><td>Seattle, WA       </td><td>Binaural                          </td></tr>\n",
       "\t<tr><td>Stupidmop    </td><td>Pearl Jam      </td><td>1994</td><td>Seattle, WA       </td><td>Vitalogy                          </td></tr>\n",
       "\t<tr><td>Present Tense</td><td>Pearl Jam      </td><td>1996</td><td>Seattle, WA       </td><td>No Code                           </td></tr>\n",
       "\t<tr><td>MFC          </td><td>Pearl Jam      </td><td>1998</td><td>Seattle, WA       </td><td>Live On Two Legs                  </td></tr>\n",
       "\t<tr><td>Lukin        </td><td>Pearl Jam      </td><td>1996</td><td>Seattle, WA       </td><td>Seattle Washington November 5 2000</td></tr>\n",
       "\t<tr><td>It's Lulu    </td><td>The Boo Radleys</td><td>1995</td><td>Liverpool, England</td><td>Best Of                           </td></tr>\n",
       "</tbody>\n",
       "</table>\n"
      ],
      "text/latex": [
       "A tibble: 6 × 5\n",
       "\\begin{tabular}{lllll}\n",
       " song & artist\\_name & year & city & album\\\\\n",
       " <chr> & <chr> & <dbl> & <chr> & <chr>\\\\\n",
       "\\hline\n",
       "\t Grievance     & Pearl Jam       & 2000 & Seattle, WA        & Binaural                          \\\\\n",
       "\t Stupidmop     & Pearl Jam       & 1994 & Seattle, WA        & Vitalogy                          \\\\\n",
       "\t Present Tense & Pearl Jam       & 1996 & Seattle, WA        & No Code                           \\\\\n",
       "\t MFC           & Pearl Jam       & 1998 & Seattle, WA        & Live On Two Legs                  \\\\\n",
       "\t Lukin         & Pearl Jam       & 1996 & Seattle, WA        & Seattle Washington November 5 2000\\\\\n",
       "\t It's Lulu     & The Boo Radleys & 1995 & Liverpool, England & Best Of                           \\\\\n",
       "\\end{tabular}\n"
      ],
      "text/markdown": [
       "\n",
       "A tibble: 6 × 5\n",
       "\n",
       "| song &lt;chr&gt; | artist_name &lt;chr&gt; | year &lt;dbl&gt; | city &lt;chr&gt; | album &lt;chr&gt; |\n",
       "|---|---|---|---|---|\n",
       "| Grievance     | Pearl Jam       | 2000 | Seattle, WA        | Binaural                           |\n",
       "| Stupidmop     | Pearl Jam       | 1994 | Seattle, WA        | Vitalogy                           |\n",
       "| Present Tense | Pearl Jam       | 1996 | Seattle, WA        | No Code                            |\n",
       "| MFC           | Pearl Jam       | 1998 | Seattle, WA        | Live On Two Legs                   |\n",
       "| Lukin         | Pearl Jam       | 1996 | Seattle, WA        | Seattle Washington November 5 2000 |\n",
       "| It's Lulu     | The Boo Radleys | 1995 | Liverpool, England | Best Of                            |\n",
       "\n"
      ],
      "text/plain": [
       "  song          artist_name     year city              \n",
       "1 Grievance     Pearl Jam       2000 Seattle, WA       \n",
       "2 Stupidmop     Pearl Jam       1994 Seattle, WA       \n",
       "3 Present Tense Pearl Jam       1996 Seattle, WA       \n",
       "4 MFC           Pearl Jam       1998 Seattle, WA       \n",
       "5 Lukin         Pearl Jam       1996 Seattle, WA       \n",
       "6 It's Lulu     The Boo Radleys 1995 Liverpool, England\n",
       "  album                             \n",
       "1 Binaural                          \n",
       "2 Vitalogy                          \n",
       "3 No Code                           \n",
       "4 Live On Two Legs                  \n",
       "5 Seattle Washington November 5 2000\n",
       "6 Best Of                           "
      ]
     },
     "metadata": {},
     "output_type": "display_data"
    }
   ],
   "source": [
    "songs_with_album <- time %>%\n",
    "  inner_join(album, by = c(\"song\", \"artist_name\"))\n",
    "head(songs_with_album)"
   ]
  },
  {
   "cell_type": "code",
   "execution_count": 59,
   "metadata": {
    "deletable": false,
    "editable": false,
    "nbgrader": {
     "cell_type": "code",
     "checksum": "666f98d3da6a8105b0434ab63a65b016",
     "grade": true,
     "grade_id": "cell-e851d23c3d11b3bd",
     "locked": true,
     "points": 1,
     "schema_version": 3,
     "solution": false,
     "task": false
    }
   },
   "outputs": [
    {
     "name": "stderr",
     "output_type": "stream",
     "text": [
      "Warning message in normalizePath(path.expand(path), winslash, mustWork):\n",
      "\"path[1]=\"C:/Users/41615/OneDrive/×ÀÃæ/stat545a/worksheets\": The system cannot find the path specified\"\n",
      "Warning message in normalizePath(path.expand(path), winslash, mustWork):\n",
      "\"path[1]=\"C:/Users/41615/OneDrive/×ÀÃæ/stat545a/worksheets\": The system cannot find the path specified\"\n",
      "Warning message in normalizePath(path.expand(path), winslash, mustWork):\n",
      "\"path[1]=\"C:/Users/41615/OneDrive/×ÀÃæ/stat545a\": The system cannot find the path specified\"\n",
      "Warning message in normalizePath(path.expand(path), winslash, mustWork):\n",
      "\"path[1]=\"C:/Users/41615/OneDrive/×ÀÃæ/stat545a\": The system cannot find the path specified\"\n",
      "Warning message in normalizePath(path.expand(path), winslash, mustWork):\n",
      "\"path[1]=\"C:/Users/41615/OneDrive/×ÀÃæ\": The system cannot find the file specified\"\n",
      "Warning message in normalizePath(path.expand(path), winslash, mustWork):\n",
      "\"path[1]=\"C:/Users/41615/OneDrive/×ÀÃæ\": The system cannot find the file specified\"\n"
     ]
    },
    {
     "name": "stdout",
     "output_type": "stream",
     "text": [
      "-- \u001b[1m\u001b[33mFailure\u001b[39m (<text>:2:3): Question 3.1\u001b[22m ------------------------------------------\n",
      "Value hashes to f76d75b00fa39cf3103416e36a545ddf, not 146ff293a74ccc1ad24505a6bc0b6682\n",
      "\n"
     ]
    }
   ],
   "source": [
    "test_that(\"Question 3.1\", {\n",
    "  expect_known_hash(sort(songs_with_album$song), \"146ff293a74ccc1ad24505a6bc0b6682\")\n",
    "  expect_known_hash(table(songs_with_album$artist_name), \"51f7daeec65e839e5ae6c84ac5a1cb70\")\n",
    "})"
   ]
  },
  {
   "cell_type": "markdown",
   "metadata": {
    "deletable": false,
    "editable": false,
    "nbgrader": {
     "cell_type": "markdown",
     "checksum": "0b3ef8ada4ced8c99e905200c5f4e101",
     "grade": false,
     "grade_id": "cell-bfbeb7e5c7c5da68",
     "locked": true,
     "schema_version": 3,
     "solution": false,
     "task": false
    }
   },
   "source": [
    "## Question 3.2\n",
    "\n",
    "Go ahead and add the corresponding albums to the `time` tibble, being sure to preserve rows even if album info is not readily available.\n",
    "Store the joined data set in variable `all_songs`.\n",
    "\n",
    "```\n",
    "all_songs <- time %>% \n",
    "  FILL_THIS_IN(FILL_THIS_IN, by = c(\"FILL_THIS_IN\", \"FILL_THIS_IN\"))\n",
    "```"
   ]
  },
  {
   "cell_type": "code",
   "execution_count": 70,
   "metadata": {
    "deletable": false,
    "lines_to_next_cell": 0,
    "nbgrader": {
     "cell_type": "code",
     "checksum": "b69ab410a37f5b67909c472e8b372518",
     "grade": false,
     "grade_id": "cell-05f5f08439831d83",
     "locked": false,
     "schema_version": 3,
     "solution": true,
     "task": false
    }
   },
   "outputs": [
    {
     "data": {
      "text/html": [
       "<table class=\"dataframe\">\n",
       "<caption>A tibble: 6 × 5</caption>\n",
       "<thead>\n",
       "\t<tr><th scope=col>song</th><th scope=col>artist_name</th><th scope=col>year</th><th scope=col>city</th><th scope=col>album</th></tr>\n",
       "\t<tr><th scope=col>&lt;chr&gt;</th><th scope=col>&lt;chr&gt;</th><th scope=col>&lt;dbl&gt;</th><th scope=col>&lt;chr&gt;</th><th scope=col>&lt;chr&gt;</th></tr>\n",
       "</thead>\n",
       "<tbody>\n",
       "\t<tr><td>Corduroy     </td><td>Pearl Jam</td><td>1994</td><td>NA         </td><td>NA                                </td></tr>\n",
       "\t<tr><td>Grievance    </td><td>Pearl Jam</td><td>2000</td><td>Seattle, WA</td><td>Binaural                          </td></tr>\n",
       "\t<tr><td>Stupidmop    </td><td>Pearl Jam</td><td>1994</td><td>Seattle, WA</td><td>Vitalogy                          </td></tr>\n",
       "\t<tr><td>Present Tense</td><td>Pearl Jam</td><td>1996</td><td>Seattle, WA</td><td>No Code                           </td></tr>\n",
       "\t<tr><td>MFC          </td><td>Pearl Jam</td><td>1998</td><td>Seattle, WA</td><td>Live On Two Legs                  </td></tr>\n",
       "\t<tr><td>Lukin        </td><td>Pearl Jam</td><td>1996</td><td>Seattle, WA</td><td>Seattle Washington November 5 2000</td></tr>\n",
       "</tbody>\n",
       "</table>\n"
      ],
      "text/latex": [
       "A tibble: 6 × 5\n",
       "\\begin{tabular}{lllll}\n",
       " song & artist\\_name & year & city & album\\\\\n",
       " <chr> & <chr> & <dbl> & <chr> & <chr>\\\\\n",
       "\\hline\n",
       "\t Corduroy      & Pearl Jam & 1994 & NA          & NA                                \\\\\n",
       "\t Grievance     & Pearl Jam & 2000 & Seattle, WA & Binaural                          \\\\\n",
       "\t Stupidmop     & Pearl Jam & 1994 & Seattle, WA & Vitalogy                          \\\\\n",
       "\t Present Tense & Pearl Jam & 1996 & Seattle, WA & No Code                           \\\\\n",
       "\t MFC           & Pearl Jam & 1998 & Seattle, WA & Live On Two Legs                  \\\\\n",
       "\t Lukin         & Pearl Jam & 1996 & Seattle, WA & Seattle Washington November 5 2000\\\\\n",
       "\\end{tabular}\n"
      ],
      "text/markdown": [
       "\n",
       "A tibble: 6 × 5\n",
       "\n",
       "| song &lt;chr&gt; | artist_name &lt;chr&gt; | year &lt;dbl&gt; | city &lt;chr&gt; | album &lt;chr&gt; |\n",
       "|---|---|---|---|---|\n",
       "| Corduroy      | Pearl Jam | 1994 | NA          | NA                                 |\n",
       "| Grievance     | Pearl Jam | 2000 | Seattle, WA | Binaural                           |\n",
       "| Stupidmop     | Pearl Jam | 1994 | Seattle, WA | Vitalogy                           |\n",
       "| Present Tense | Pearl Jam | 1996 | Seattle, WA | No Code                            |\n",
       "| MFC           | Pearl Jam | 1998 | Seattle, WA | Live On Two Legs                   |\n",
       "| Lukin         | Pearl Jam | 1996 | Seattle, WA | Seattle Washington November 5 2000 |\n",
       "\n"
      ],
      "text/plain": [
       "  song          artist_name year city        album                             \n",
       "1 Corduroy      Pearl Jam   1994 NA          NA                                \n",
       "2 Grievance     Pearl Jam   2000 Seattle, WA Binaural                          \n",
       "3 Stupidmop     Pearl Jam   1994 Seattle, WA Vitalogy                          \n",
       "4 Present Tense Pearl Jam   1996 Seattle, WA No Code                           \n",
       "5 MFC           Pearl Jam   1998 Seattle, WA Live On Two Legs                  \n",
       "6 Lukin         Pearl Jam   1996 Seattle, WA Seattle Washington November 5 2000"
      ]
     },
     "metadata": {},
     "output_type": "display_data"
    }
   ],
   "source": [
    "all_songs <- time %>% \n",
    "  left_join(album, by = c(\"song\", \"artist_name\"))\n",
    "head(all_songs)"
   ]
  },
  {
   "cell_type": "code",
   "execution_count": 71,
   "metadata": {
    "deletable": false,
    "editable": false,
    "nbgrader": {
     "cell_type": "code",
     "checksum": "5b3a04b4745c60a770421763b1891c87",
     "grade": true,
     "grade_id": "cell-3add15a64f96339a",
     "locked": true,
     "points": 1,
     "schema_version": 3,
     "solution": false,
     "task": false
    }
   },
   "outputs": [
    {
     "name": "stderr",
     "output_type": "stream",
     "text": [
      "Warning message in normalizePath(path.expand(path), winslash, mustWork):\n",
      "\"path[1]=\"C:/Users/41615/OneDrive/×ÀÃæ/stat545a/worksheets\": The system cannot find the path specified\"\n",
      "Warning message in normalizePath(path.expand(path), winslash, mustWork):\n",
      "\"path[1]=\"C:/Users/41615/OneDrive/×ÀÃæ/stat545a/worksheets\": The system cannot find the path specified\"\n",
      "Warning message in normalizePath(path.expand(path), winslash, mustWork):\n",
      "\"path[1]=\"C:/Users/41615/OneDrive/×ÀÃæ/stat545a\": The system cannot find the path specified\"\n",
      "Warning message in normalizePath(path.expand(path), winslash, mustWork):\n",
      "\"path[1]=\"C:/Users/41615/OneDrive/×ÀÃæ/stat545a\": The system cannot find the path specified\"\n",
      "Warning message in normalizePath(path.expand(path), winslash, mustWork):\n",
      "\"path[1]=\"C:/Users/41615/OneDrive/×ÀÃæ\": The system cannot find the file specified\"\n",
      "Warning message in normalizePath(path.expand(path), winslash, mustWork):\n",
      "\"path[1]=\"C:/Users/41615/OneDrive/×ÀÃæ\": The system cannot find the file specified\"\n"
     ]
    },
    {
     "name": "stdout",
     "output_type": "stream",
     "text": [
      "-- \u001b[1m\u001b[33mFailure\u001b[39m (<text>:2:3): Question 3.2\u001b[22m ------------------------------------------\n",
      "Value hashes to b6a0faa350d8f365e415bda4653191f6, not dd1c0b2e14a879cb1a6f07077ed38e97\n",
      "\n",
      "-- \u001b[1m\u001b[33mFailure\u001b[39m (<text>:3:3): Question 3.2\u001b[22m ------------------------------------------\n",
      "Value hashes to c8744340b70f54ae54b45ea7d8357e67, not 2baea3c1a23797fdac5a9e0dc119073e\n",
      "\n"
     ]
    }
   ],
   "source": [
    "test_that(\"Question 3.2\", {\n",
    "  expect_known_hash(sort(all_songs$song), \"dd1c0b2e14a879cb1a6f07077ed38e97\")\n",
    "  expect_known_hash(all_songs$album[order(all_songs$song)], \"2baea3c1a23797fdac5a9e0dc119073e\")\n",
    "})"
   ]
  },
  {
   "cell_type": "markdown",
   "metadata": {
    "deletable": false,
    "editable": false,
    "nbgrader": {
     "cell_type": "markdown",
     "checksum": "4b4e8a80b05c8cdf79e203f51f10d3d7",
     "grade": false,
     "grade_id": "cell-eff281d8aeda3161",
     "locked": true,
     "schema_version": 3,
     "solution": false,
     "task": false
    }
   },
   "source": [
    "## Question 3.3: Joining Rows by Columns\n",
    "\n",
    "Create a new tibble with songs from `time` for which there is no album info.\n",
    "Store the new data set in variable `songs_without_album`.\n",
    "\n",
    "```\n",
    "songs_without_album <- time %>% \n",
    "  FILL_THIS_IN(FILL_THIS_IN, by = c(\"FILL_THIS_IN\", \"FILL_THIS_IN\"))\n",
    "```"
   ]
  },
  {
   "cell_type": "code",
   "execution_count": 68,
   "metadata": {
    "deletable": false,
    "lines_to_next_cell": 0,
    "nbgrader": {
     "cell_type": "code",
     "checksum": "93ae01956cda7b91c33d53d66815ef03",
     "grade": false,
     "grade_id": "cell-bd6ca35fe501ec50",
     "locked": false,
     "schema_version": 3,
     "solution": true,
     "task": false
    }
   },
   "outputs": [
    {
     "data": {
      "text/html": [
       "<table class=\"dataframe\">\n",
       "<caption>A tibble: 6 × 3</caption>\n",
       "<thead>\n",
       "\t<tr><th scope=col>song</th><th scope=col>artist_name</th><th scope=col>year</th></tr>\n",
       "\t<tr><th scope=col>&lt;chr&gt;</th><th scope=col>&lt;chr&gt;</th><th scope=col>&lt;dbl&gt;</th></tr>\n",
       "</thead>\n",
       "<tbody>\n",
       "\t<tr><td>Corduroy                        </td><td>Pearl Jam      </td><td>1994</td></tr>\n",
       "\t<tr><td>Martin_ Doom! It's Seven O'Clock</td><td>The Boo Radleys</td><td>1995</td></tr>\n",
       "\t<tr><td>Leaves And Sand                 </td><td>The Boo Radleys</td><td>1993</td></tr>\n",
       "\t<tr><td>Comb Your Hair                  </td><td>The Boo Radleys</td><td>1998</td></tr>\n",
       "\t<tr><td>Mine Again                      </td><td>Mariah Carey   </td><td>2005</td></tr>\n",
       "\t<tr><td>Don't Forget About Us           </td><td>Mariah Carey   </td><td>2005</td></tr>\n",
       "</tbody>\n",
       "</table>\n"
      ],
      "text/latex": [
       "A tibble: 6 × 3\n",
       "\\begin{tabular}{lll}\n",
       " song & artist\\_name & year\\\\\n",
       " <chr> & <chr> & <dbl>\\\\\n",
       "\\hline\n",
       "\t Corduroy                         & Pearl Jam       & 1994\\\\\n",
       "\t Martin\\_ Doom! It's Seven O'Clock & The Boo Radleys & 1995\\\\\n",
       "\t Leaves And Sand                  & The Boo Radleys & 1993\\\\\n",
       "\t Comb Your Hair                   & The Boo Radleys & 1998\\\\\n",
       "\t Mine Again                       & Mariah Carey    & 2005\\\\\n",
       "\t Don't Forget About Us            & Mariah Carey    & 2005\\\\\n",
       "\\end{tabular}\n"
      ],
      "text/markdown": [
       "\n",
       "A tibble: 6 × 3\n",
       "\n",
       "| song &lt;chr&gt; | artist_name &lt;chr&gt; | year &lt;dbl&gt; |\n",
       "|---|---|---|\n",
       "| Corduroy                         | Pearl Jam       | 1994 |\n",
       "| Martin_ Doom! It's Seven O'Clock | The Boo Radleys | 1995 |\n",
       "| Leaves And Sand                  | The Boo Radleys | 1993 |\n",
       "| Comb Your Hair                   | The Boo Radleys | 1998 |\n",
       "| Mine Again                       | Mariah Carey    | 2005 |\n",
       "| Don't Forget About Us            | Mariah Carey    | 2005 |\n",
       "\n"
      ],
      "text/plain": [
       "  song                             artist_name     year\n",
       "1 Corduroy                         Pearl Jam       1994\n",
       "2 Martin_ Doom! It's Seven O'Clock The Boo Radleys 1995\n",
       "3 Leaves And Sand                  The Boo Radleys 1993\n",
       "4 Comb Your Hair                   The Boo Radleys 1998\n",
       "5 Mine Again                       Mariah Carey    2005\n",
       "6 Don't Forget About Us            Mariah Carey    2005"
      ]
     },
     "metadata": {},
     "output_type": "display_data"
    }
   ],
   "source": [
    "songs_without_album <- time %>% \n",
    "  anti_join(album, by = c(\"song\", \"artist_name\"))\n",
    "head(songs_without_album)"
   ]
  },
  {
   "cell_type": "code",
   "execution_count": 69,
   "metadata": {
    "deletable": false,
    "editable": false,
    "nbgrader": {
     "cell_type": "code",
     "checksum": "9d489d87cc1e4da2ab854637d4e17f2b",
     "grade": true,
     "grade_id": "cell-0c5e0fec11dfa949",
     "locked": true,
     "points": 1,
     "schema_version": 3,
     "solution": false,
     "task": false
    }
   },
   "outputs": [
    {
     "name": "stderr",
     "output_type": "stream",
     "text": [
      "Warning message in normalizePath(path.expand(path), winslash, mustWork):\n",
      "\"path[1]=\"C:/Users/41615/OneDrive/×ÀÃæ/stat545a/worksheets\": The system cannot find the path specified\"\n",
      "Warning message in normalizePath(path.expand(path), winslash, mustWork):\n",
      "\"path[1]=\"C:/Users/41615/OneDrive/×ÀÃæ/stat545a/worksheets\": The system cannot find the path specified\"\n",
      "Warning message in normalizePath(path.expand(path), winslash, mustWork):\n",
      "\"path[1]=\"C:/Users/41615/OneDrive/×ÀÃæ/stat545a\": The system cannot find the path specified\"\n",
      "Warning message in normalizePath(path.expand(path), winslash, mustWork):\n",
      "\"path[1]=\"C:/Users/41615/OneDrive/×ÀÃæ/stat545a\": The system cannot find the path specified\"\n",
      "Warning message in normalizePath(path.expand(path), winslash, mustWork):\n",
      "\"path[1]=\"C:/Users/41615/OneDrive/×ÀÃæ\": The system cannot find the file specified\"\n",
      "Warning message in normalizePath(path.expand(path), winslash, mustWork):\n",
      "\"path[1]=\"C:/Users/41615/OneDrive/×ÀÃæ\": The system cannot find the file specified\"\n"
     ]
    },
    {
     "name": "stdout",
     "output_type": "stream",
     "text": [
      "\u001b[32mTest passed\u001b[39m \n"
     ]
    }
   ],
   "source": [
    "test_that(\"Question 3.3\", expect_known_hash(sort(songs_without_album$song), \"3e6a210ad915fb07eb7e894a7ca0e856\"))"
   ]
  },
  {
   "cell_type": "markdown",
   "metadata": {},
   "source": [
    "## Question 3.4\n",
    "\n",
    "Create a new tibble with all songs from artists for whom there is no album information.\n",
    "Store the new data set in variable `songs_artists_no_album`.\n",
    "\n",
    "```\n",
    "songs_artists_no_album <- time %>% \n",
    "  FILL_THIS_IN(FILL_THIS_IN, by = \"FILL_THIS_IN\")\n",
    "```"
   ]
  },
  {
   "cell_type": "code",
   "execution_count": 75,
   "metadata": {
    "deletable": false,
    "lines_to_next_cell": 0,
    "nbgrader": {
     "cell_type": "code",
     "checksum": "6341db6003ef5b98261f5bf21bcaa4ef",
     "grade": false,
     "grade_id": "cell-129b24ab36ddde03",
     "locked": false,
     "schema_version": 3,
     "solution": true,
     "task": false
    }
   },
   "outputs": [
    {
     "data": {
      "text/html": [
       "<table class=\"dataframe\">\n",
       "<caption>A tibble: 5 × 3</caption>\n",
       "<thead>\n",
       "\t<tr><th scope=col>song</th><th scope=col>artist_name</th><th scope=col>year</th></tr>\n",
       "\t<tr><th scope=col>&lt;chr&gt;</th><th scope=col>&lt;chr&gt;</th><th scope=col>&lt;dbl&gt;</th></tr>\n",
       "</thead>\n",
       "<tbody>\n",
       "\t<tr><td>Mine Again           </td><td>Mariah Carey</td><td>2005</td></tr>\n",
       "\t<tr><td>Don't Forget About Us</td><td>Mariah Carey</td><td>2005</td></tr>\n",
       "\t<tr><td>Babydoll             </td><td>Mariah Carey</td><td>1997</td></tr>\n",
       "\t<tr><td>Don't Forget About Us</td><td>Mariah Carey</td><td>2005</td></tr>\n",
       "\t<tr><td>Vision Of Love       </td><td>Mariah Carey</td><td>1990</td></tr>\n",
       "</tbody>\n",
       "</table>\n"
      ],
      "text/latex": [
       "A tibble: 5 × 3\n",
       "\\begin{tabular}{lll}\n",
       " song & artist\\_name & year\\\\\n",
       " <chr> & <chr> & <dbl>\\\\\n",
       "\\hline\n",
       "\t Mine Again            & Mariah Carey & 2005\\\\\n",
       "\t Don't Forget About Us & Mariah Carey & 2005\\\\\n",
       "\t Babydoll              & Mariah Carey & 1997\\\\\n",
       "\t Don't Forget About Us & Mariah Carey & 2005\\\\\n",
       "\t Vision Of Love        & Mariah Carey & 1990\\\\\n",
       "\\end{tabular}\n"
      ],
      "text/markdown": [
       "\n",
       "A tibble: 5 × 3\n",
       "\n",
       "| song &lt;chr&gt; | artist_name &lt;chr&gt; | year &lt;dbl&gt; |\n",
       "|---|---|---|\n",
       "| Mine Again            | Mariah Carey | 2005 |\n",
       "| Don't Forget About Us | Mariah Carey | 2005 |\n",
       "| Babydoll              | Mariah Carey | 1997 |\n",
       "| Don't Forget About Us | Mariah Carey | 2005 |\n",
       "| Vision Of Love        | Mariah Carey | 1990 |\n",
       "\n"
      ],
      "text/plain": [
       "  song                  artist_name  year\n",
       "1 Mine Again            Mariah Carey 2005\n",
       "2 Don't Forget About Us Mariah Carey 2005\n",
       "3 Babydoll              Mariah Carey 1997\n",
       "4 Don't Forget About Us Mariah Carey 2005\n",
       "5 Vision Of Love        Mariah Carey 1990"
      ]
     },
     "metadata": {},
     "output_type": "display_data"
    }
   ],
   "source": [
    "songs_artists_no_album <- time %>% \n",
    "  anti_join(album, by = \"artist_name\")\n",
    "head(songs_artists_no_album)"
   ]
  },
  {
   "cell_type": "code",
   "execution_count": 76,
   "metadata": {
    "deletable": false,
    "editable": false,
    "nbgrader": {
     "cell_type": "code",
     "checksum": "18489049f84f807a1e708ae07a1f0e2c",
     "grade": true,
     "grade_id": "cell-3452c71d7eb8391d",
     "locked": true,
     "points": 1,
     "schema_version": 3,
     "solution": false,
     "task": false
    }
   },
   "outputs": [
    {
     "name": "stderr",
     "output_type": "stream",
     "text": [
      "Warning message in normalizePath(path.expand(path), winslash, mustWork):\n",
      "\"path[1]=\"C:/Users/41615/OneDrive/×ÀÃæ/stat545a/worksheets\": The system cannot find the path specified\"\n",
      "Warning message in normalizePath(path.expand(path), winslash, mustWork):\n",
      "\"path[1]=\"C:/Users/41615/OneDrive/×ÀÃæ/stat545a/worksheets\": The system cannot find the path specified\"\n",
      "Warning message in normalizePath(path.expand(path), winslash, mustWork):\n",
      "\"path[1]=\"C:/Users/41615/OneDrive/×ÀÃæ/stat545a\": The system cannot find the path specified\"\n",
      "Warning message in normalizePath(path.expand(path), winslash, mustWork):\n",
      "\"path[1]=\"C:/Users/41615/OneDrive/×ÀÃæ/stat545a\": The system cannot find the path specified\"\n",
      "Warning message in normalizePath(path.expand(path), winslash, mustWork):\n",
      "\"path[1]=\"C:/Users/41615/OneDrive/×ÀÃæ\": The system cannot find the file specified\"\n",
      "Warning message in normalizePath(path.expand(path), winslash, mustWork):\n",
      "\"path[1]=\"C:/Users/41615/OneDrive/×ÀÃæ\": The system cannot find the file specified\"\n"
     ]
    },
    {
     "name": "stdout",
     "output_type": "stream",
     "text": [
      "\u001b[32mTest passed\u001b[39m \n"
     ]
    }
   ],
   "source": [
    "test_that(\"Question 3.4\", expect_known_hash(table(songs_artists_no_album$artist_name), \n",
    "                                            \"244510c51477c31e6e795cbc0ca0b0d7\"))"
   ]
  },
  {
   "cell_type": "markdown",
   "metadata": {
    "deletable": false,
    "editable": false,
    "nbgrader": {
     "cell_type": "markdown",
     "checksum": "96b61edf9845504319d9cdb65bb84990",
     "grade": false,
     "grade_id": "cell-7fec11ba9e292ff8",
     "locked": true,
     "schema_version": 3,
     "solution": false,
     "task": false
    }
   },
   "source": [
    "## Question 3.5\n",
    "Create a new tibble with all the information from both tibbles, regardless of no corresponding information being present in the other tibble.\n",
    "Store the new data set in variable `all_songs_and_albums`.\n",
    "\n",
    "```\n",
    "all_songs_and_albums <- time %>% \n",
    "  FILL_THIS_IN(FILL_THIS_IN, by = c(\"FILL_THIS_IN\", \"FILL_THIS_IN\"))\n",
    "```"
   ]
  },
  {
   "cell_type": "code",
   "execution_count": 77,
   "metadata": {
    "deletable": false,
    "lines_to_next_cell": 0,
    "nbgrader": {
     "cell_type": "code",
     "checksum": "c3d7b242129fe696c878dff7ca1d3387",
     "grade": false,
     "grade_id": "cell-17f8124265baf8e0",
     "locked": false,
     "schema_version": 3,
     "solution": true,
     "task": false
    }
   },
   "outputs": [
    {
     "data": {
      "text/html": [
       "<table class=\"dataframe\">\n",
       "<caption>A tibble: 6 × 5</caption>\n",
       "<thead>\n",
       "\t<tr><th scope=col>song</th><th scope=col>artist_name</th><th scope=col>year</th><th scope=col>city</th><th scope=col>album</th></tr>\n",
       "\t<tr><th scope=col>&lt;chr&gt;</th><th scope=col>&lt;chr&gt;</th><th scope=col>&lt;dbl&gt;</th><th scope=col>&lt;chr&gt;</th><th scope=col>&lt;chr&gt;</th></tr>\n",
       "</thead>\n",
       "<tbody>\n",
       "\t<tr><td>Corduroy     </td><td>Pearl Jam</td><td>1994</td><td>NA         </td><td>NA                                </td></tr>\n",
       "\t<tr><td>Grievance    </td><td>Pearl Jam</td><td>2000</td><td>Seattle, WA</td><td>Binaural                          </td></tr>\n",
       "\t<tr><td>Stupidmop    </td><td>Pearl Jam</td><td>1994</td><td>Seattle, WA</td><td>Vitalogy                          </td></tr>\n",
       "\t<tr><td>Present Tense</td><td>Pearl Jam</td><td>1996</td><td>Seattle, WA</td><td>No Code                           </td></tr>\n",
       "\t<tr><td>MFC          </td><td>Pearl Jam</td><td>1998</td><td>Seattle, WA</td><td>Live On Two Legs                  </td></tr>\n",
       "\t<tr><td>Lukin        </td><td>Pearl Jam</td><td>1996</td><td>Seattle, WA</td><td>Seattle Washington November 5 2000</td></tr>\n",
       "</tbody>\n",
       "</table>\n"
      ],
      "text/latex": [
       "A tibble: 6 × 5\n",
       "\\begin{tabular}{lllll}\n",
       " song & artist\\_name & year & city & album\\\\\n",
       " <chr> & <chr> & <dbl> & <chr> & <chr>\\\\\n",
       "\\hline\n",
       "\t Corduroy      & Pearl Jam & 1994 & NA          & NA                                \\\\\n",
       "\t Grievance     & Pearl Jam & 2000 & Seattle, WA & Binaural                          \\\\\n",
       "\t Stupidmop     & Pearl Jam & 1994 & Seattle, WA & Vitalogy                          \\\\\n",
       "\t Present Tense & Pearl Jam & 1996 & Seattle, WA & No Code                           \\\\\n",
       "\t MFC           & Pearl Jam & 1998 & Seattle, WA & Live On Two Legs                  \\\\\n",
       "\t Lukin         & Pearl Jam & 1996 & Seattle, WA & Seattle Washington November 5 2000\\\\\n",
       "\\end{tabular}\n"
      ],
      "text/markdown": [
       "\n",
       "A tibble: 6 × 5\n",
       "\n",
       "| song &lt;chr&gt; | artist_name &lt;chr&gt; | year &lt;dbl&gt; | city &lt;chr&gt; | album &lt;chr&gt; |\n",
       "|---|---|---|---|---|\n",
       "| Corduroy      | Pearl Jam | 1994 | NA          | NA                                 |\n",
       "| Grievance     | Pearl Jam | 2000 | Seattle, WA | Binaural                           |\n",
       "| Stupidmop     | Pearl Jam | 1994 | Seattle, WA | Vitalogy                           |\n",
       "| Present Tense | Pearl Jam | 1996 | Seattle, WA | No Code                            |\n",
       "| MFC           | Pearl Jam | 1998 | Seattle, WA | Live On Two Legs                   |\n",
       "| Lukin         | Pearl Jam | 1996 | Seattle, WA | Seattle Washington November 5 2000 |\n",
       "\n"
      ],
      "text/plain": [
       "  song          artist_name year city        album                             \n",
       "1 Corduroy      Pearl Jam   1994 NA          NA                                \n",
       "2 Grievance     Pearl Jam   2000 Seattle, WA Binaural                          \n",
       "3 Stupidmop     Pearl Jam   1994 Seattle, WA Vitalogy                          \n",
       "4 Present Tense Pearl Jam   1996 Seattle, WA No Code                           \n",
       "5 MFC           Pearl Jam   1998 Seattle, WA Live On Two Legs                  \n",
       "6 Lukin         Pearl Jam   1996 Seattle, WA Seattle Washington November 5 2000"
      ]
     },
     "metadata": {},
     "output_type": "display_data"
    }
   ],
   "source": [
    "all_songs_and_albums <- time %>% \n",
    " full_join(album, by = c(\"song\", \"artist_name\"))\n",
    "head(all_songs_and_albums)"
   ]
  },
  {
   "cell_type": "code",
   "execution_count": 78,
   "metadata": {
    "deletable": false,
    "editable": false,
    "nbgrader": {
     "cell_type": "code",
     "checksum": "119604ad12e607f8ceae8ac1fc3d5e43",
     "grade": true,
     "grade_id": "cell-0bae4a61eb231bdc",
     "locked": true,
     "points": 1,
     "schema_version": 3,
     "solution": false,
     "task": false
    }
   },
   "outputs": [
    {
     "name": "stderr",
     "output_type": "stream",
     "text": [
      "Warning message in normalizePath(path.expand(path), winslash, mustWork):\n",
      "\"path[1]=\"C:/Users/41615/OneDrive/×ÀÃæ/stat545a/worksheets\": The system cannot find the path specified\"\n",
      "Warning message in normalizePath(path.expand(path), winslash, mustWork):\n",
      "\"path[1]=\"C:/Users/41615/OneDrive/×ÀÃæ/stat545a/worksheets\": The system cannot find the path specified\"\n",
      "Warning message in normalizePath(path.expand(path), winslash, mustWork):\n",
      "\"path[1]=\"C:/Users/41615/OneDrive/×ÀÃæ/stat545a\": The system cannot find the path specified\"\n",
      "Warning message in normalizePath(path.expand(path), winslash, mustWork):\n",
      "\"path[1]=\"C:/Users/41615/OneDrive/×ÀÃæ/stat545a\": The system cannot find the path specified\"\n",
      "Warning message in normalizePath(path.expand(path), winslash, mustWork):\n",
      "\"path[1]=\"C:/Users/41615/OneDrive/×ÀÃæ\": The system cannot find the file specified\"\n",
      "Warning message in normalizePath(path.expand(path), winslash, mustWork):\n",
      "\"path[1]=\"C:/Users/41615/OneDrive/×ÀÃæ\": The system cannot find the file specified\"\n"
     ]
    },
    {
     "name": "stdout",
     "output_type": "stream",
     "text": [
      "-- \u001b[1m\u001b[33mFailure\u001b[39m (<text>:2:3): Question 3.5\u001b[22m ------------------------------------------\n",
      "Value hashes to c497c2e708d516f2d7b6215bb7796755, not ba2ba3507e50c56d21028893404259a5\n",
      "\n",
      "-- \u001b[1m\u001b[33mFailure\u001b[39m (<text>:3:3): Question 3.5\u001b[22m ------------------------------------------\n",
      "Value hashes to ac73bb336fa9fbf3f6c52e40b22595e9, not dbc70af8d3078ea830be9cfb0dee6b9d\n",
      "\n",
      "-- \u001b[1m\u001b[33mFailure\u001b[39m (<text>:4:3): Question 3.5\u001b[22m ------------------------------------------\n",
      "Value hashes to 2ae534811f30a95e7d15b3f9165ccb54, not 10669b0750ab4d53b54f0e509430e2d1\n",
      "\n"
     ]
    }
   ],
   "source": [
    "test_that(\"Question 3.5\", {\n",
    "  expect_known_hash(sort(all_songs_and_albums$song), \"ba2ba3507e50c56d21028893404259a5\")\n",
    "  expect_known_hash(with(all_songs_and_albums, album[order(song)]), \"dbc70af8d3078ea830be9cfb0dee6b9d\")\n",
    "  expect_known_hash(with(all_songs_and_albums, year[order(song)]), \"10669b0750ab4d53b54f0e509430e2d1\")\n",
    "})"
   ]
  },
  {
   "cell_type": "markdown",
   "metadata": {
    "deletable": false,
    "editable": false,
    "nbgrader": {
     "cell_type": "markdown",
     "checksum": "a80eaac62f4f6cc387b81e6cc71ff526",
     "grade": false,
     "grade_id": "cell-3bca1c6621e1410f",
     "locked": true,
     "schema_version": 3,
     "solution": false,
     "task": false
    }
   },
   "source": [
    "## Part 4: Concatenating Rows\n",
    "\n",
    "At the start of the worksheet, we loaded three Lord of the Rings datasets (one for each of the three movies). Run the following R codes to take a look at the 3 tibbles:"
   ]
  },
  {
   "cell_type": "code",
   "execution_count": 79,
   "metadata": {
    "deletable": false,
    "editable": false,
    "lines_to_next_cell": 0,
    "nbgrader": {
     "cell_type": "code",
     "checksum": "cf3c8b40799f4e0901e1ba86eed4b994",
     "grade": false,
     "grade_id": "cell-83ad6b3db4ab34cd",
     "locked": true,
     "schema_version": 3,
     "solution": false,
     "task": false
    }
   },
   "outputs": [
    {
     "data": {
      "text/html": [
       "<table class=\"dataframe\">\n",
       "<caption>A spec_tbl_df: 3 × 4</caption>\n",
       "<thead>\n",
       "\t<tr><th scope=col>Film</th><th scope=col>Race</th><th scope=col>Female</th><th scope=col>Male</th></tr>\n",
       "\t<tr><th scope=col>&lt;chr&gt;</th><th scope=col>&lt;chr&gt;</th><th scope=col>&lt;dbl&gt;</th><th scope=col>&lt;dbl&gt;</th></tr>\n",
       "</thead>\n",
       "<tbody>\n",
       "\t<tr><td>The Fellowship Of The Ring</td><td>Elf   </td><td>1229</td><td> 971</td></tr>\n",
       "\t<tr><td>The Fellowship Of The Ring</td><td>Hobbit</td><td>  14</td><td>3644</td></tr>\n",
       "\t<tr><td>The Fellowship Of The Ring</td><td>Man   </td><td>   0</td><td>1995</td></tr>\n",
       "</tbody>\n",
       "</table>\n"
      ],
      "text/latex": [
       "A spec\\_tbl\\_df: 3 × 4\n",
       "\\begin{tabular}{llll}\n",
       " Film & Race & Female & Male\\\\\n",
       " <chr> & <chr> & <dbl> & <dbl>\\\\\n",
       "\\hline\n",
       "\t The Fellowship Of The Ring & Elf    & 1229 &  971\\\\\n",
       "\t The Fellowship Of The Ring & Hobbit &   14 & 3644\\\\\n",
       "\t The Fellowship Of The Ring & Man    &    0 & 1995\\\\\n",
       "\\end{tabular}\n"
      ],
      "text/markdown": [
       "\n",
       "A spec_tbl_df: 3 × 4\n",
       "\n",
       "| Film &lt;chr&gt; | Race &lt;chr&gt; | Female &lt;dbl&gt; | Male &lt;dbl&gt; |\n",
       "|---|---|---|---|\n",
       "| The Fellowship Of The Ring | Elf    | 1229 |  971 |\n",
       "| The Fellowship Of The Ring | Hobbit |   14 | 3644 |\n",
       "| The Fellowship Of The Ring | Man    |    0 | 1995 |\n",
       "\n"
      ],
      "text/plain": [
       "  Film                       Race   Female Male\n",
       "1 The Fellowship Of The Ring Elf    1229    971\n",
       "2 The Fellowship Of The Ring Hobbit   14   3644\n",
       "3 The Fellowship Of The Ring Man       0   1995"
      ]
     },
     "metadata": {},
     "output_type": "display_data"
    }
   ],
   "source": [
    "fell"
   ]
  },
  {
   "cell_type": "code",
   "execution_count": 80,
   "metadata": {
    "deletable": false,
    "editable": false,
    "lines_to_next_cell": 0,
    "nbgrader": {
     "cell_type": "code",
     "checksum": "735e681bd18461f3016d948b43c8787a",
     "grade": false,
     "grade_id": "cell-d6e0b8ca24c1e571",
     "locked": true,
     "schema_version": 3,
     "solution": false,
     "task": false
    }
   },
   "outputs": [
    {
     "data": {
      "text/html": [
       "<table class=\"dataframe\">\n",
       "<caption>A spec_tbl_df: 3 × 4</caption>\n",
       "<thead>\n",
       "\t<tr><th scope=col>Film</th><th scope=col>Race</th><th scope=col>Female</th><th scope=col>Male</th></tr>\n",
       "\t<tr><th scope=col>&lt;chr&gt;</th><th scope=col>&lt;chr&gt;</th><th scope=col>&lt;dbl&gt;</th><th scope=col>&lt;dbl&gt;</th></tr>\n",
       "</thead>\n",
       "<tbody>\n",
       "\t<tr><td>The Two Towers</td><td>Elf   </td><td>331</td><td> 513</td></tr>\n",
       "\t<tr><td>The Two Towers</td><td>Hobbit</td><td>  0</td><td>2463</td></tr>\n",
       "\t<tr><td>The Two Towers</td><td>Man   </td><td>401</td><td>3589</td></tr>\n",
       "</tbody>\n",
       "</table>\n"
      ],
      "text/latex": [
       "A spec\\_tbl\\_df: 3 × 4\n",
       "\\begin{tabular}{llll}\n",
       " Film & Race & Female & Male\\\\\n",
       " <chr> & <chr> & <dbl> & <dbl>\\\\\n",
       "\\hline\n",
       "\t The Two Towers & Elf    & 331 &  513\\\\\n",
       "\t The Two Towers & Hobbit &   0 & 2463\\\\\n",
       "\t The Two Towers & Man    & 401 & 3589\\\\\n",
       "\\end{tabular}\n"
      ],
      "text/markdown": [
       "\n",
       "A spec_tbl_df: 3 × 4\n",
       "\n",
       "| Film &lt;chr&gt; | Race &lt;chr&gt; | Female &lt;dbl&gt; | Male &lt;dbl&gt; |\n",
       "|---|---|---|---|\n",
       "| The Two Towers | Elf    | 331 |  513 |\n",
       "| The Two Towers | Hobbit |   0 | 2463 |\n",
       "| The Two Towers | Man    | 401 | 3589 |\n",
       "\n"
      ],
      "text/plain": [
       "  Film           Race   Female Male\n",
       "1 The Two Towers Elf    331     513\n",
       "2 The Two Towers Hobbit   0    2463\n",
       "3 The Two Towers Man    401    3589"
      ]
     },
     "metadata": {},
     "output_type": "display_data"
    }
   ],
   "source": [
    "ttow"
   ]
  },
  {
   "cell_type": "code",
   "execution_count": 81,
   "metadata": {
    "deletable": false,
    "editable": false,
    "nbgrader": {
     "cell_type": "code",
     "checksum": "5829d1044a023667ebcb840e4e1b02c2",
     "grade": false,
     "grade_id": "cell-35c54be74e77d971",
     "locked": true,
     "schema_version": 3,
     "solution": false,
     "task": false
    }
   },
   "outputs": [
    {
     "data": {
      "text/html": [
       "<table class=\"dataframe\">\n",
       "<caption>A spec_tbl_df: 3 × 4</caption>\n",
       "<thead>\n",
       "\t<tr><th scope=col>Film</th><th scope=col>Race</th><th scope=col>Female</th><th scope=col>Male</th></tr>\n",
       "\t<tr><th scope=col>&lt;chr&gt;</th><th scope=col>&lt;chr&gt;</th><th scope=col>&lt;dbl&gt;</th><th scope=col>&lt;dbl&gt;</th></tr>\n",
       "</thead>\n",
       "<tbody>\n",
       "\t<tr><td>The Return Of The King</td><td>Elf   </td><td>183</td><td> 510</td></tr>\n",
       "\t<tr><td>The Return Of The King</td><td>Hobbit</td><td>  2</td><td>2673</td></tr>\n",
       "\t<tr><td>The Return Of The King</td><td>Man   </td><td>268</td><td>2459</td></tr>\n",
       "</tbody>\n",
       "</table>\n"
      ],
      "text/latex": [
       "A spec\\_tbl\\_df: 3 × 4\n",
       "\\begin{tabular}{llll}\n",
       " Film & Race & Female & Male\\\\\n",
       " <chr> & <chr> & <dbl> & <dbl>\\\\\n",
       "\\hline\n",
       "\t The Return Of The King & Elf    & 183 &  510\\\\\n",
       "\t The Return Of The King & Hobbit &   2 & 2673\\\\\n",
       "\t The Return Of The King & Man    & 268 & 2459\\\\\n",
       "\\end{tabular}\n"
      ],
      "text/markdown": [
       "\n",
       "A spec_tbl_df: 3 × 4\n",
       "\n",
       "| Film &lt;chr&gt; | Race &lt;chr&gt; | Female &lt;dbl&gt; | Male &lt;dbl&gt; |\n",
       "|---|---|---|---|\n",
       "| The Return Of The King | Elf    | 183 |  510 |\n",
       "| The Return Of The King | Hobbit |   2 | 2673 |\n",
       "| The Return Of The King | Man    | 268 | 2459 |\n",
       "\n"
      ],
      "text/plain": [
       "  Film                   Race   Female Male\n",
       "1 The Return Of The King Elf    183     510\n",
       "2 The Return Of The King Hobbit   2    2673\n",
       "3 The Return Of The King Man    268    2459"
      ]
     },
     "metadata": {},
     "output_type": "display_data"
    }
   ],
   "source": [
    "retk"
   ]
  },
  {
   "cell_type": "markdown",
   "metadata": {
    "deletable": false,
    "editable": false,
    "nbgrader": {
     "cell_type": "markdown",
     "checksum": "6df4393256ea2618a5bda092ee43a195",
     "grade": false,
     "grade_id": "cell-dccbf8195a0dae5c",
     "locked": true,
     "schema_version": 3,
     "solution": false,
     "task": false
    }
   },
   "source": [
    "## Question 4.1\n",
    "\n",
    "Combine the three data sets into a single tibble, storing the new tibble in variable `lotr`.\n",
    "\n",
    "```\n",
    "lotr <- FILL_THIS_IN(fell, ttow, retk)\n",
    "```"
   ]
  },
  {
   "cell_type": "code",
   "execution_count": 82,
   "metadata": {
    "deletable": false,
    "lines_to_next_cell": 0,
    "nbgrader": {
     "cell_type": "code",
     "checksum": "c124fce98a9b8d0005c5af1541b6b970",
     "grade": false,
     "grade_id": "cell-ef7784a633e9d4cb",
     "locked": false,
     "schema_version": 3,
     "solution": true,
     "task": false
    }
   },
   "outputs": [
    {
     "name": "stdout",
     "output_type": "stream",
     "text": [
      "\u001b[90m# A tibble: 9 x 4\u001b[39m\n",
      "  Film                       Race   Female  Male\n",
      "  \u001b[3m\u001b[90m<chr>\u001b[39m\u001b[23m                      \u001b[3m\u001b[90m<chr>\u001b[39m\u001b[23m   \u001b[3m\u001b[90m<dbl>\u001b[39m\u001b[23m \u001b[3m\u001b[90m<dbl>\u001b[39m\u001b[23m\n",
      "\u001b[90m1\u001b[39m The Fellowship Of The Ring Elf      \u001b[4m1\u001b[24m229   971\n",
      "\u001b[90m2\u001b[39m The Fellowship Of The Ring Hobbit     14  \u001b[4m3\u001b[24m644\n",
      "\u001b[90m3\u001b[39m The Fellowship Of The Ring Man         0  \u001b[4m1\u001b[24m995\n",
      "\u001b[90m4\u001b[39m The Two Towers             Elf       331   513\n",
      "\u001b[90m5\u001b[39m The Two Towers             Hobbit      0  \u001b[4m2\u001b[24m463\n",
      "\u001b[90m6\u001b[39m The Two Towers             Man       401  \u001b[4m3\u001b[24m589\n",
      "\u001b[90m7\u001b[39m The Return Of The King     Elf       183   510\n",
      "\u001b[90m8\u001b[39m The Return Of The King     Hobbit      2  \u001b[4m2\u001b[24m673\n",
      "\u001b[90m9\u001b[39m The Return Of The King     Man       268  \u001b[4m2\u001b[24m459\n"
     ]
    }
   ],
   "source": [
    "lotr <- bind_rows(fell, ttow, retk)\n",
    "print(lotr)"
   ]
  },
  {
   "cell_type": "code",
   "execution_count": 83,
   "metadata": {
    "deletable": false,
    "editable": false,
    "nbgrader": {
     "cell_type": "code",
     "checksum": "0fc85ffc26aa13c84a427df1c7b6f11e",
     "grade": true,
     "grade_id": "cell-f900e47761160711",
     "locked": true,
     "points": 1,
     "schema_version": 3,
     "solution": false,
     "task": false
    }
   },
   "outputs": [
    {
     "name": "stderr",
     "output_type": "stream",
     "text": [
      "Warning message in normalizePath(path.expand(path), winslash, mustWork):\n",
      "\"path[1]=\"C:/Users/41615/OneDrive/×ÀÃæ/stat545a/worksheets\": The system cannot find the path specified\"\n",
      "Warning message in normalizePath(path.expand(path), winslash, mustWork):\n",
      "\"path[1]=\"C:/Users/41615/OneDrive/×ÀÃæ/stat545a/worksheets\": The system cannot find the path specified\"\n",
      "Warning message in normalizePath(path.expand(path), winslash, mustWork):\n",
      "\"path[1]=\"C:/Users/41615/OneDrive/×ÀÃæ/stat545a\": The system cannot find the path specified\"\n",
      "Warning message in normalizePath(path.expand(path), winslash, mustWork):\n",
      "\"path[1]=\"C:/Users/41615/OneDrive/×ÀÃæ/stat545a\": The system cannot find the path specified\"\n",
      "Warning message in normalizePath(path.expand(path), winslash, mustWork):\n",
      "\"path[1]=\"C:/Users/41615/OneDrive/×ÀÃæ\": The system cannot find the file specified\"\n",
      "Warning message in normalizePath(path.expand(path), winslash, mustWork):\n",
      "\"path[1]=\"C:/Users/41615/OneDrive/×ÀÃæ\": The system cannot find the file specified\"\n"
     ]
    },
    {
     "name": "stdout",
     "output_type": "stream",
     "text": [
      "\u001b[32mTest passed\u001b[39m \n"
     ]
    }
   ],
   "source": [
    "test_that(\"Question 4.1\", expect_known_hash(table(lotr$Film), \"41c29122f6c217d447e85a9069f5a92f\"))"
   ]
  },
  {
   "cell_type": "markdown",
   "metadata": {
    "deletable": false,
    "editable": false,
    "lines_to_next_cell": 0,
    "nbgrader": {
     "cell_type": "markdown",
     "checksum": "26509d11eadc1f644d5e98d3f9e1d9d5",
     "grade": false,
     "grade_id": "cell-d1bd923a8a3c9a16",
     "locked": true,
     "schema_version": 3,
     "solution": false,
     "task": false
    }
   },
   "source": [
    "# Part 5: Set Operations\n",
    "\n",
    "Let's use three set functions: `intersect()`, `union()` and `setdiff()`.\n",
    "They work for data frames with the same column names.\n",
    "\n",
    "We'll work with two toy tibbles named `y` and `z`, similar to the Data Wrangling Cheatsheet.\n",
    "\n",
    "Run the following R codes to create the data."
   ]
  },
  {
   "cell_type": "code",
   "execution_count": 84,
   "metadata": {
    "deletable": false,
    "editable": false,
    "nbgrader": {
     "cell_type": "code",
     "checksum": "70773086505cfcc2bf778def8428e9e8",
     "grade": false,
     "grade_id": "cell-baae74bab6546360",
     "locked": true,
     "schema_version": 3,
     "solution": false,
     "task": false
    }
   },
   "outputs": [
    {
     "data": {
      "text/html": [
       "<table class=\"dataframe\">\n",
       "<caption>A tibble: 3 × 2</caption>\n",
       "<thead>\n",
       "\t<tr><th scope=col>x1</th><th scope=col>x2</th></tr>\n",
       "\t<tr><th scope=col>&lt;chr&gt;</th><th scope=col>&lt;int&gt;</th></tr>\n",
       "</thead>\n",
       "<tbody>\n",
       "\t<tr><td>A</td><td>1</td></tr>\n",
       "\t<tr><td>B</td><td>2</td></tr>\n",
       "\t<tr><td>C</td><td>3</td></tr>\n",
       "</tbody>\n",
       "</table>\n"
      ],
      "text/latex": [
       "A tibble: 3 × 2\n",
       "\\begin{tabular}{ll}\n",
       " x1 & x2\\\\\n",
       " <chr> & <int>\\\\\n",
       "\\hline\n",
       "\t A & 1\\\\\n",
       "\t B & 2\\\\\n",
       "\t C & 3\\\\\n",
       "\\end{tabular}\n"
      ],
      "text/markdown": [
       "\n",
       "A tibble: 3 × 2\n",
       "\n",
       "| x1 &lt;chr&gt; | x2 &lt;int&gt; |\n",
       "|---|---|\n",
       "| A | 1 |\n",
       "| B | 2 |\n",
       "| C | 3 |\n",
       "\n"
      ],
      "text/plain": [
       "  x1 x2\n",
       "1 A  1 \n",
       "2 B  2 \n",
       "3 C  3 "
      ]
     },
     "metadata": {},
     "output_type": "display_data"
    }
   ],
   "source": [
    "(y <-  tibble(x1 = LETTERS[1:3], x2 = 1:3))"
   ]
  },
  {
   "cell_type": "code",
   "execution_count": 85,
   "metadata": {
    "deletable": false,
    "editable": false,
    "nbgrader": {
     "cell_type": "code",
     "checksum": "ef560d32a3416dbb9632c4d77c2af662",
     "grade": false,
     "grade_id": "cell-2b7351a73648122a",
     "locked": true,
     "schema_version": 3,
     "solution": false,
     "task": false
    }
   },
   "outputs": [
    {
     "data": {
      "text/html": [
       "<table class=\"dataframe\">\n",
       "<caption>A tibble: 3 × 2</caption>\n",
       "<thead>\n",
       "\t<tr><th scope=col>x1</th><th scope=col>x2</th></tr>\n",
       "\t<tr><th scope=col>&lt;chr&gt;</th><th scope=col>&lt;int&gt;</th></tr>\n",
       "</thead>\n",
       "<tbody>\n",
       "\t<tr><td>B</td><td>2</td></tr>\n",
       "\t<tr><td>C</td><td>3</td></tr>\n",
       "\t<tr><td>D</td><td>4</td></tr>\n",
       "</tbody>\n",
       "</table>\n"
      ],
      "text/latex": [
       "A tibble: 3 × 2\n",
       "\\begin{tabular}{ll}\n",
       " x1 & x2\\\\\n",
       " <chr> & <int>\\\\\n",
       "\\hline\n",
       "\t B & 2\\\\\n",
       "\t C & 3\\\\\n",
       "\t D & 4\\\\\n",
       "\\end{tabular}\n"
      ],
      "text/markdown": [
       "\n",
       "A tibble: 3 × 2\n",
       "\n",
       "| x1 &lt;chr&gt; | x2 &lt;int&gt; |\n",
       "|---|---|\n",
       "| B | 2 |\n",
       "| C | 3 |\n",
       "| D | 4 |\n",
       "\n"
      ],
      "text/plain": [
       "  x1 x2\n",
       "1 B  2 \n",
       "2 C  3 \n",
       "3 D  4 "
      ]
     },
     "metadata": {},
     "output_type": "display_data"
    }
   ],
   "source": [
    "(z <- tibble(x1 = c(\"B\", \"C\", \"D\"), x2 = 2:4))"
   ]
  },
  {
   "cell_type": "markdown",
   "metadata": {
    "deletable": false,
    "editable": false,
    "nbgrader": {
     "cell_type": "markdown",
     "checksum": "282f5a3dd799ea922bbf17d055d8ac2c",
     "grade": false,
     "grade_id": "cell-5e730724ecd74680",
     "locked": true,
     "schema_version": 3,
     "solution": false,
     "task": false
    }
   },
   "source": [
    "## Question 5.1\n",
    "\n",
    "Use one of the three methods mentioned above to create a new data set which contains all rows that appear in both `y` and `z`.\n",
    "Store the new data frame in variable `in_both`\n",
    "\n",
    "```\n",
    "in_both <- FILL_THIS_IN(y, z)\n",
    "```"
   ]
  },
  {
   "cell_type": "code",
   "execution_count": 86,
   "metadata": {
    "deletable": false,
    "lines_to_next_cell": 0,
    "nbgrader": {
     "cell_type": "code",
     "checksum": "f34d6e1fa9f1bb1cd7d083f3d51d5f8e",
     "grade": false,
     "grade_id": "cell-e267783b3599e511",
     "locked": false,
     "schema_version": 3,
     "solution": true,
     "task": false
    }
   },
   "outputs": [
    {
     "data": {
      "text/html": [
       "<table class=\"dataframe\">\n",
       "<caption>A tibble: 2 × 2</caption>\n",
       "<thead>\n",
       "\t<tr><th scope=col>x1</th><th scope=col>x2</th></tr>\n",
       "\t<tr><th scope=col>&lt;chr&gt;</th><th scope=col>&lt;int&gt;</th></tr>\n",
       "</thead>\n",
       "<tbody>\n",
       "\t<tr><td>B</td><td>2</td></tr>\n",
       "\t<tr><td>C</td><td>3</td></tr>\n",
       "</tbody>\n",
       "</table>\n"
      ],
      "text/latex": [
       "A tibble: 2 × 2\n",
       "\\begin{tabular}{ll}\n",
       " x1 & x2\\\\\n",
       " <chr> & <int>\\\\\n",
       "\\hline\n",
       "\t B & 2\\\\\n",
       "\t C & 3\\\\\n",
       "\\end{tabular}\n"
      ],
      "text/markdown": [
       "\n",
       "A tibble: 2 × 2\n",
       "\n",
       "| x1 &lt;chr&gt; | x2 &lt;int&gt; |\n",
       "|---|---|\n",
       "| B | 2 |\n",
       "| C | 3 |\n",
       "\n"
      ],
      "text/plain": [
       "  x1 x2\n",
       "1 B  2 \n",
       "2 C  3 "
      ]
     },
     "metadata": {},
     "output_type": "display_data"
    }
   ],
   "source": [
    "in_both <- intersect(y, z)\n",
    "in_both"
   ]
  },
  {
   "cell_type": "code",
   "execution_count": 87,
   "metadata": {
    "deletable": false,
    "editable": false,
    "nbgrader": {
     "cell_type": "code",
     "checksum": "033a343ffb57c19e288b52e0f3a24448",
     "grade": true,
     "grade_id": "cell-52d241c8bca32dad",
     "locked": true,
     "points": 1,
     "schema_version": 3,
     "solution": false,
     "task": false
    }
   },
   "outputs": [
    {
     "name": "stderr",
     "output_type": "stream",
     "text": [
      "Warning message in normalizePath(path.expand(path), winslash, mustWork):\n",
      "\"path[1]=\"C:/Users/41615/OneDrive/×ÀÃæ/stat545a/worksheets\": The system cannot find the path specified\"\n",
      "Warning message in normalizePath(path.expand(path), winslash, mustWork):\n",
      "\"path[1]=\"C:/Users/41615/OneDrive/×ÀÃæ/stat545a/worksheets\": The system cannot find the path specified\"\n",
      "Warning message in normalizePath(path.expand(path), winslash, mustWork):\n",
      "\"path[1]=\"C:/Users/41615/OneDrive/×ÀÃæ/stat545a\": The system cannot find the path specified\"\n",
      "Warning message in normalizePath(path.expand(path), winslash, mustWork):\n",
      "\"path[1]=\"C:/Users/41615/OneDrive/×ÀÃæ/stat545a\": The system cannot find the path specified\"\n",
      "Warning message in normalizePath(path.expand(path), winslash, mustWork):\n",
      "\"path[1]=\"C:/Users/41615/OneDrive/×ÀÃæ\": The system cannot find the file specified\"\n",
      "Warning message in normalizePath(path.expand(path), winslash, mustWork):\n",
      "\"path[1]=\"C:/Users/41615/OneDrive/×ÀÃæ\": The system cannot find the file specified\"\n"
     ]
    },
    {
     "name": "stdout",
     "output_type": "stream",
     "text": [
      "\u001b[32mTest passed\u001b[39m \n"
     ]
    }
   ],
   "source": [
    "test_that(\"Question 5.1\", expect_known_hash(in_both$x1, \"745ec49ab3231655a04484be44a15f98\"))"
   ]
  },
  {
   "cell_type": "markdown",
   "metadata": {
    "deletable": false,
    "editable": false,
    "nbgrader": {
     "cell_type": "markdown",
     "checksum": "fedddaca18f2be0fd68c2f848c31ce32",
     "grade": false,
     "grade_id": "cell-26dd7f2f3531aef8",
     "locked": true,
     "schema_version": 3,
     "solution": false,
     "task": false
    }
   },
   "source": [
    "## Question 5.2\n",
    "Assume that rows in `y` are from *Day 1* and rows in `z` are from *Day 2*.\n",
    "Create a new data set with all rows from `y` and `z`, as well as an additional column `day` which is *Day 1* for rows from `y` and *Day 2* for rows from `z`.\n",
    "Store the new data set in variable `both_days`.\n",
    "\n",
    "```\n",
    "both_days <- FILL_THIS_IN(\n",
    "  mutate(y, day = \"Day 1\"),\n",
    "  mutate(z, day = \"Day 2\")\n",
    ")\n",
    "```"
   ]
  },
  {
   "cell_type": "code",
   "execution_count": 88,
   "metadata": {
    "deletable": false,
    "lines_to_next_cell": 0,
    "nbgrader": {
     "cell_type": "code",
     "checksum": "4845d5d3090b34c53e1e9139ef317f7c",
     "grade": false,
     "grade_id": "cell-cb58ae9785411629",
     "locked": false,
     "schema_version": 3,
     "solution": true,
     "task": false
    }
   },
   "outputs": [
    {
     "data": {
      "text/html": [
       "<table class=\"dataframe\">\n",
       "<caption>A tibble: 6 × 3</caption>\n",
       "<thead>\n",
       "\t<tr><th scope=col>x1</th><th scope=col>x2</th><th scope=col>day</th></tr>\n",
       "\t<tr><th scope=col>&lt;chr&gt;</th><th scope=col>&lt;int&gt;</th><th scope=col>&lt;chr&gt;</th></tr>\n",
       "</thead>\n",
       "<tbody>\n",
       "\t<tr><td>A</td><td>1</td><td>Day 1</td></tr>\n",
       "\t<tr><td>B</td><td>2</td><td>Day 1</td></tr>\n",
       "\t<tr><td>C</td><td>3</td><td>Day 1</td></tr>\n",
       "\t<tr><td>B</td><td>2</td><td>Day 2</td></tr>\n",
       "\t<tr><td>C</td><td>3</td><td>Day 2</td></tr>\n",
       "\t<tr><td>D</td><td>4</td><td>Day 2</td></tr>\n",
       "</tbody>\n",
       "</table>\n"
      ],
      "text/latex": [
       "A tibble: 6 × 3\n",
       "\\begin{tabular}{lll}\n",
       " x1 & x2 & day\\\\\n",
       " <chr> & <int> & <chr>\\\\\n",
       "\\hline\n",
       "\t A & 1 & Day 1\\\\\n",
       "\t B & 2 & Day 1\\\\\n",
       "\t C & 3 & Day 1\\\\\n",
       "\t B & 2 & Day 2\\\\\n",
       "\t C & 3 & Day 2\\\\\n",
       "\t D & 4 & Day 2\\\\\n",
       "\\end{tabular}\n"
      ],
      "text/markdown": [
       "\n",
       "A tibble: 6 × 3\n",
       "\n",
       "| x1 &lt;chr&gt; | x2 &lt;int&gt; | day &lt;chr&gt; |\n",
       "|---|---|---|\n",
       "| A | 1 | Day 1 |\n",
       "| B | 2 | Day 1 |\n",
       "| C | 3 | Day 1 |\n",
       "| B | 2 | Day 2 |\n",
       "| C | 3 | Day 2 |\n",
       "| D | 4 | Day 2 |\n",
       "\n"
      ],
      "text/plain": [
       "  x1 x2 day  \n",
       "1 A  1  Day 1\n",
       "2 B  2  Day 1\n",
       "3 C  3  Day 1\n",
       "4 B  2  Day 2\n",
       "5 C  3  Day 2\n",
       "6 D  4  Day 2"
      ]
     },
     "metadata": {},
     "output_type": "display_data"
    }
   ],
   "source": [
    "both_days <- union(\n",
    "  mutate(y, day = \"Day 1\"),\n",
    "  mutate(z, day = \"Day 2\")\n",
    ")\n",
    "both_days"
   ]
  },
  {
   "cell_type": "code",
   "execution_count": 89,
   "metadata": {
    "deletable": false,
    "editable": false,
    "nbgrader": {
     "cell_type": "code",
     "checksum": "490b32df7c2550866c72f06573441b2e",
     "grade": true,
     "grade_id": "cell-50e235b2f53237e1",
     "locked": true,
     "points": 1,
     "schema_version": 3,
     "solution": false,
     "task": false
    }
   },
   "outputs": [
    {
     "name": "stderr",
     "output_type": "stream",
     "text": [
      "Warning message in normalizePath(path.expand(path), winslash, mustWork):\n",
      "\"path[1]=\"C:/Users/41615/OneDrive/×ÀÃæ/stat545a/worksheets\": The system cannot find the path specified\"\n",
      "Warning message in normalizePath(path.expand(path), winslash, mustWork):\n",
      "\"path[1]=\"C:/Users/41615/OneDrive/×ÀÃæ/stat545a/worksheets\": The system cannot find the path specified\"\n",
      "Warning message in normalizePath(path.expand(path), winslash, mustWork):\n",
      "\"path[1]=\"C:/Users/41615/OneDrive/×ÀÃæ/stat545a\": The system cannot find the path specified\"\n",
      "Warning message in normalizePath(path.expand(path), winslash, mustWork):\n",
      "\"path[1]=\"C:/Users/41615/OneDrive/×ÀÃæ/stat545a\": The system cannot find the path specified\"\n",
      "Warning message in normalizePath(path.expand(path), winslash, mustWork):\n",
      "\"path[1]=\"C:/Users/41615/OneDrive/×ÀÃæ\": The system cannot find the file specified\"\n",
      "Warning message in normalizePath(path.expand(path), winslash, mustWork):\n",
      "\"path[1]=\"C:/Users/41615/OneDrive/×ÀÃæ\": The system cannot find the file specified\"\n"
     ]
    },
    {
     "name": "stdout",
     "output_type": "stream",
     "text": [
      "\u001b[32mTest passed\u001b[39m \n"
     ]
    }
   ],
   "source": [
    "test_that(\"Question 5.2\", expect_known_hash(with(both_days, x1[order(x2, day)]), \"66b9eefd39c2f0b5d130453c139a2051\"))"
   ]
  },
  {
   "cell_type": "markdown",
   "metadata": {
    "deletable": false,
    "editable": false,
    "nbgrader": {
     "cell_type": "markdown",
     "checksum": "8587d824ff4b560782dd97fd5dd84d4f",
     "grade": false,
     "grade_id": "cell-199323d324c8580e",
     "locked": true,
     "schema_version": 3,
     "solution": false,
     "task": false
    }
   },
   "source": [
    "## Question 5.3\n",
    "\n",
    "The rows contained in `z` are bad.\n",
    "Use one of the three methods mentioned above to create a new data set which contains only the rows from `y` which are not in `z`.\n",
    "Store the new data frame in variable `only_y`\n",
    "\n",
    "```\n",
    "only_y <- FILL_THIS_IN(y, z)\n",
    "```"
   ]
  },
  {
   "cell_type": "code",
   "execution_count": 92,
   "metadata": {
    "deletable": false,
    "lines_to_next_cell": 0,
    "nbgrader": {
     "cell_type": "code",
     "checksum": "02a4edeff864160a7265c3968b7fc732",
     "grade": false,
     "grade_id": "cell-f23a4f7c749f9a42",
     "locked": false,
     "schema_version": 3,
     "solution": true,
     "task": false
    }
   },
   "outputs": [
    {
     "data": {
      "text/html": [
       "<table class=\"dataframe\">\n",
       "<caption>A tibble: 1 × 2</caption>\n",
       "<thead>\n",
       "\t<tr><th scope=col>x1</th><th scope=col>x2</th></tr>\n",
       "\t<tr><th scope=col>&lt;chr&gt;</th><th scope=col>&lt;int&gt;</th></tr>\n",
       "</thead>\n",
       "<tbody>\n",
       "\t<tr><td>A</td><td>1</td></tr>\n",
       "</tbody>\n",
       "</table>\n"
      ],
      "text/latex": [
       "A tibble: 1 × 2\n",
       "\\begin{tabular}{ll}\n",
       " x1 & x2\\\\\n",
       " <chr> & <int>\\\\\n",
       "\\hline\n",
       "\t A & 1\\\\\n",
       "\\end{tabular}\n"
      ],
      "text/markdown": [
       "\n",
       "A tibble: 1 × 2\n",
       "\n",
       "| x1 &lt;chr&gt; | x2 &lt;int&gt; |\n",
       "|---|---|\n",
       "| A | 1 |\n",
       "\n"
      ],
      "text/plain": [
       "  x1 x2\n",
       "1 A  1 "
      ]
     },
     "metadata": {},
     "output_type": "display_data"
    }
   ],
   "source": [
    "only_y <- setdiff(y, z)\n",
    "only_y"
   ]
  },
  {
   "cell_type": "code",
   "execution_count": 93,
   "metadata": {
    "deletable": false,
    "editable": false,
    "nbgrader": {
     "cell_type": "code",
     "checksum": "8ef3b98e9a5b5ad79b39ff547de4e1bd",
     "grade": true,
     "grade_id": "cell-99b0c66bc2260c3a",
     "locked": true,
     "points": 1,
     "schema_version": 3,
     "solution": false,
     "task": false
    }
   },
   "outputs": [
    {
     "name": "stderr",
     "output_type": "stream",
     "text": [
      "Warning message in normalizePath(path.expand(path), winslash, mustWork):\n",
      "\"path[1]=\"C:/Users/41615/OneDrive/×ÀÃæ/stat545a/worksheets\": The system cannot find the path specified\"\n",
      "Warning message in normalizePath(path.expand(path), winslash, mustWork):\n",
      "\"path[1]=\"C:/Users/41615/OneDrive/×ÀÃæ/stat545a/worksheets\": The system cannot find the path specified\"\n",
      "Warning message in normalizePath(path.expand(path), winslash, mustWork):\n",
      "\"path[1]=\"C:/Users/41615/OneDrive/×ÀÃæ/stat545a\": The system cannot find the path specified\"\n",
      "Warning message in normalizePath(path.expand(path), winslash, mustWork):\n",
      "\"path[1]=\"C:/Users/41615/OneDrive/×ÀÃæ/stat545a\": The system cannot find the path specified\"\n",
      "Warning message in normalizePath(path.expand(path), winslash, mustWork):\n",
      "\"path[1]=\"C:/Users/41615/OneDrive/×ÀÃæ\": The system cannot find the file specified\"\n",
      "Warning message in normalizePath(path.expand(path), winslash, mustWork):\n",
      "\"path[1]=\"C:/Users/41615/OneDrive/×ÀÃæ\": The system cannot find the file specified\"\n"
     ]
    },
    {
     "name": "stdout",
     "output_type": "stream",
     "text": [
      "\u001b[32mTest passed\u001b[39m \n"
     ]
    }
   ],
   "source": [
    "test_that(\"Question 5.3\", expect_known_hash(only_y$x1, \"75f1160e72554f4270c809f041c7a776\"))"
   ]
  },
  {
   "cell_type": "markdown",
   "metadata": {},
   "source": [
    "### Attribution\n",
    "\n",
    "Assembled by Almas Khan and Vincenzo Coia, reviewed by Diana Lin, and assisted by David Kepplinger."
   ]
  },
  {
   "cell_type": "code",
   "execution_count": null,
   "metadata": {},
   "outputs": [],
   "source": []
  }
 ],
 "metadata": {
  "jupytext": {
   "cell_metadata_filter": "-all"
  },
  "kernelspec": {
   "display_name": "R",
   "language": "R",
   "name": "ir"
  },
  "language_info": {
   "codemirror_mode": "r",
   "file_extension": ".r",
   "mimetype": "text/x-r-source",
   "name": "R",
   "pygments_lexer": "r",
   "version": "4.1.1"
  }
 },
 "nbformat": 4,
 "nbformat_minor": 4
}
