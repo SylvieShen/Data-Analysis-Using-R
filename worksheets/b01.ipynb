{
 "cells": [
  {
   "cell_type": "markdown",
   "metadata": {
    "deletable": false,
    "editable": false,
    "nbgrader": {
     "cell_type": "markdown",
     "checksum": "d318a69c0183d493dc01e862e2873199",
     "grade": false,
     "grade_id": "cell-e485a74242e7179c",
     "locked": true,
     "schema_version": 3,
     "solution": false,
     "task": false
    }
   },
   "source": [
    "# Worksheet 01b: Writing functions & tests\n",
    "\n",
    "## Getting Started\n",
    "\n",
    "Load the requirements for this worksheet:"
   ]
  },
  {
   "cell_type": "code",
   "execution_count": 2,
   "metadata": {
    "deletable": false,
    "editable": false,
    "nbgrader": {
     "cell_type": "code",
     "checksum": "dcad541c1a8b922ccc27d249078abd86",
     "grade": false,
     "grade_id": "cell-a4468420bb3744af",
     "locked": true,
     "schema_version": 3,
     "solution": false,
     "task": false
    }
   },
   "outputs": [],
   "source": [
    "suppressPackageStartupMessages(library(palmerpenguins))\n",
    "suppressPackageStartupMessages(library(lubridate))\n",
    "suppressPackageStartupMessages(library(tidyverse))\n",
    "suppressPackageStartupMessages(library(testthat))\n",
    "suppressPackageStartupMessages(library(dplyr))\n",
    "suppressPackageStartupMessages(library(gapminder))\n",
    "suppressPackageStartupMessages(library(digest))"
   ]
  },
  {
   "cell_type": "markdown",
   "metadata": {
    "deletable": false,
    "editable": false,
    "nbgrader": {
     "cell_type": "markdown",
     "checksum": "ea8fd55508fed592395a0bbe0082b804",
     "grade": false,
     "grade_id": "cell-61ef8fcf920036ba",
     "locked": true,
     "schema_version": 3,
     "solution": false,
     "task": false
    }
   },
   "source": [
    "The following code chunk has been unlocked, to give you the flexibility to start this document with some of your own code. Remember, it's bad manners to keep a call to `install.packages()` in your source code, so don't forget to delete these lines if you ever need to run them."
   ]
  },
  {
   "cell_type": "code",
   "execution_count": null,
   "metadata": {},
   "outputs": [],
   "source": [
    "# An unlocked code cell."
   ]
  },
  {
   "cell_type": "markdown",
   "metadata": {
    "deletable": false,
    "editable": false,
    "nbgrader": {
     "cell_type": "markdown",
     "checksum": "ead7b991d3c4bf44bf66551806a70433",
     "grade": false,
     "grade_id": "cell-bcacce63d5eb75b0",
     "locked": true,
     "schema_version": 3,
     "solution": false,
     "task": false
    }
   },
   "source": [
    "## QUESTION 1\n",
    "\n",
    "Create a function that allows you to compute the max minus min of the Adelie penguins body mass. A code snippet to calculate max minus min *without a function* is shown to help you - essentially, your task is to turn this code snippet into a function. Be sure to make all three objects shown below.\n",
    "\n",
    "```r\n",
    "# put into practice your knowledge of dplyr to subset the penguins dataset to only those from the Adelie species\n",
    "adelie <- penguins %>% \n",
    "    filter(FILL_THIS_IN == FILL_THIS_IN) %>% \n",
    "    drop_na()\n",
    "\n",
    "# write your function here\n",
    "max_minus_min <- function (x) FILL_THIS_IN - FILL_THIS_IN\n",
    "\n",
    "# apply your function to the Adelie penguins body mass\n",
    "answer1.0 <- max_minus_min(FILL_THIS_IN)\n",
    "```"
   ]
  },
  {
   "cell_type": "code",
   "execution_count": 4,
   "metadata": {
    "deletable": false,
    "nbgrader": {
     "cell_type": "code",
     "checksum": "2b8df34e28903792af3018977fae6fd0",
     "grade": false,
     "grade_id": "cell-87603a76f3c2d5f9",
     "locked": false,
     "schema_version": 3,
     "solution": true,
     "task": false
    }
   },
   "outputs": [
    {
     "data": {
      "text/html": [
       "<table class=\"dataframe\">\n",
       "<caption>A tibble: 6 × 8</caption>\n",
       "<thead>\n",
       "\t<tr><th scope=col>species</th><th scope=col>island</th><th scope=col>bill_length_mm</th><th scope=col>bill_depth_mm</th><th scope=col>flipper_length_mm</th><th scope=col>body_mass_g</th><th scope=col>sex</th><th scope=col>year</th></tr>\n",
       "\t<tr><th scope=col>&lt;fct&gt;</th><th scope=col>&lt;fct&gt;</th><th scope=col>&lt;dbl&gt;</th><th scope=col>&lt;dbl&gt;</th><th scope=col>&lt;int&gt;</th><th scope=col>&lt;int&gt;</th><th scope=col>&lt;fct&gt;</th><th scope=col>&lt;int&gt;</th></tr>\n",
       "</thead>\n",
       "<tbody>\n",
       "\t<tr><td>Adelie</td><td>Torgersen</td><td>39.1</td><td>18.7</td><td>181</td><td>3750</td><td>male  </td><td>2007</td></tr>\n",
       "\t<tr><td>Adelie</td><td>Torgersen</td><td>39.5</td><td>17.4</td><td>186</td><td>3800</td><td>female</td><td>2007</td></tr>\n",
       "\t<tr><td>Adelie</td><td>Torgersen</td><td>40.3</td><td>18.0</td><td>195</td><td>3250</td><td>female</td><td>2007</td></tr>\n",
       "\t<tr><td>Adelie</td><td>Torgersen</td><td>36.7</td><td>19.3</td><td>193</td><td>3450</td><td>female</td><td>2007</td></tr>\n",
       "\t<tr><td>Adelie</td><td>Torgersen</td><td>39.3</td><td>20.6</td><td>190</td><td>3650</td><td>male  </td><td>2007</td></tr>\n",
       "\t<tr><td>Adelie</td><td>Torgersen</td><td>38.9</td><td>17.8</td><td>181</td><td>3625</td><td>female</td><td>2007</td></tr>\n",
       "</tbody>\n",
       "</table>\n"
      ],
      "text/latex": [
       "A tibble: 6 × 8\n",
       "\\begin{tabular}{llllllll}\n",
       " species & island & bill\\_length\\_mm & bill\\_depth\\_mm & flipper\\_length\\_mm & body\\_mass\\_g & sex & year\\\\\n",
       " <fct> & <fct> & <dbl> & <dbl> & <int> & <int> & <fct> & <int>\\\\\n",
       "\\hline\n",
       "\t Adelie & Torgersen & 39.1 & 18.7 & 181 & 3750 & male   & 2007\\\\\n",
       "\t Adelie & Torgersen & 39.5 & 17.4 & 186 & 3800 & female & 2007\\\\\n",
       "\t Adelie & Torgersen & 40.3 & 18.0 & 195 & 3250 & female & 2007\\\\\n",
       "\t Adelie & Torgersen & 36.7 & 19.3 & 193 & 3450 & female & 2007\\\\\n",
       "\t Adelie & Torgersen & 39.3 & 20.6 & 190 & 3650 & male   & 2007\\\\\n",
       "\t Adelie & Torgersen & 38.9 & 17.8 & 181 & 3625 & female & 2007\\\\\n",
       "\\end{tabular}\n"
      ],
      "text/markdown": [
       "\n",
       "A tibble: 6 × 8\n",
       "\n",
       "| species &lt;fct&gt; | island &lt;fct&gt; | bill_length_mm &lt;dbl&gt; | bill_depth_mm &lt;dbl&gt; | flipper_length_mm &lt;int&gt; | body_mass_g &lt;int&gt; | sex &lt;fct&gt; | year &lt;int&gt; |\n",
       "|---|---|---|---|---|---|---|---|\n",
       "| Adelie | Torgersen | 39.1 | 18.7 | 181 | 3750 | male   | 2007 |\n",
       "| Adelie | Torgersen | 39.5 | 17.4 | 186 | 3800 | female | 2007 |\n",
       "| Adelie | Torgersen | 40.3 | 18.0 | 195 | 3250 | female | 2007 |\n",
       "| Adelie | Torgersen | 36.7 | 19.3 | 193 | 3450 | female | 2007 |\n",
       "| Adelie | Torgersen | 39.3 | 20.6 | 190 | 3650 | male   | 2007 |\n",
       "| Adelie | Torgersen | 38.9 | 17.8 | 181 | 3625 | female | 2007 |\n",
       "\n"
      ],
      "text/plain": [
       "  species island    bill_length_mm bill_depth_mm flipper_length_mm body_mass_g\n",
       "1 Adelie  Torgersen 39.1           18.7          181               3750       \n",
       "2 Adelie  Torgersen 39.5           17.4          186               3800       \n",
       "3 Adelie  Torgersen 40.3           18.0          195               3250       \n",
       "4 Adelie  Torgersen 36.7           19.3          193               3450       \n",
       "5 Adelie  Torgersen 39.3           20.6          190               3650       \n",
       "6 Adelie  Torgersen 38.9           17.8          181               3625       \n",
       "  sex    year\n",
       "1 male   2007\n",
       "2 female 2007\n",
       "3 female 2007\n",
       "4 female 2007\n",
       "5 male   2007\n",
       "6 female 2007"
      ]
     },
     "metadata": {},
     "output_type": "display_data"
    },
    {
     "name": "stdout",
     "output_type": "stream",
     "text": [
      "Your final answer:"
     ]
    },
    {
     "data": {
      "text/html": [
       "1925"
      ],
      "text/latex": [
       "1925"
      ],
      "text/markdown": [
       "1925"
      ],
      "text/plain": [
       "[1] 1925"
      ]
     },
     "metadata": {},
     "output_type": "display_data"
    }
   ],
   "source": [
    "# put into practice your knowledge of dplyr to subset the penguins dataset to only those from the Adelie species\n",
    "adelie <- penguins %>% \n",
    "    filter(species == \"Adelie\") %>% \n",
    "    drop_na()\n",
    "\n",
    "# write your function here\n",
    "max_minus_min <- function(x) max(x) - min(x)\n",
    "\n",
    "# apply your function to the Adelie penguins body mass\n",
    "answer1.0 <- max_minus_min(adelie$body_mass_g)\n",
    "head(adelie)\n",
    "cat(\"Your final answer:\")\n",
    "answer1.0"
   ]
  },
  {
   "cell_type": "code",
   "execution_count": 5,
   "metadata": {
    "deletable": false,
    "editable": false,
    "nbgrader": {
     "cell_type": "code",
     "checksum": "1fb36535e38c48506a5de8f884ab66d1",
     "grade": true,
     "grade_id": "cell-76deea33a2374b6f",
     "locked": true,
     "points": 1,
     "schema_version": 3,
     "solution": false,
     "task": false
    }
   },
   "outputs": [
    {
     "name": "stderr",
     "output_type": "stream",
     "text": [
      "Warning message in normalizePath(path.expand(path), winslash, mustWork):\n",
      "\"path[1]=\"C:/Users/41615/OneDrive/×ÀÃæ/stat545a/worksheets\": The system cannot find the path specified\"\n",
      "Warning message in normalizePath(path.expand(path), winslash, mustWork):\n",
      "\"path[1]=\"C:/Users/41615/OneDrive/×ÀÃæ/stat545a/worksheets\": The system cannot find the path specified\"\n",
      "Warning message in normalizePath(path.expand(path), winslash, mustWork):\n",
      "\"path[1]=\"C:/Users/41615/OneDrive/×ÀÃæ/stat545a\": The system cannot find the path specified\"\n",
      "Warning message in normalizePath(path.expand(path), winslash, mustWork):\n",
      "\"path[1]=\"C:/Users/41615/OneDrive/×ÀÃæ/stat545a\": The system cannot find the path specified\"\n",
      "Warning message in normalizePath(path.expand(path), winslash, mustWork):\n",
      "\"path[1]=\"C:/Users/41615/OneDrive/×ÀÃæ\": The system cannot find the file specified\"\n",
      "Warning message in normalizePath(path.expand(path), winslash, mustWork):\n",
      "\"path[1]=\"C:/Users/41615/OneDrive/×ÀÃæ\": The system cannot find the file specified\"\n"
     ]
    },
    {
     "name": "stdout",
     "output_type": "stream",
     "text": [
      "\u001b[32mTest passed\u001b[39m \n"
     ]
    }
   ],
   "source": [
    "test_that(\"Question 1\", {\n",
    "    expect_known_hash(sort(round(adelie$body_mass_g, 2)), '4c17a7083ab7d3e61b770cfd1ea2515d')\n",
    "    expect_known_hash(round(answer1.0, 3), '112052893c8bd4663fea8754262dfb9e')\n",
    "})"
   ]
  },
  {
   "cell_type": "markdown",
   "metadata": {
    "deletable": false,
    "editable": false,
    "nbgrader": {
     "cell_type": "markdown",
     "checksum": "d68aa953992315003f42127c5d977f7b",
     "grade": false,
     "grade_id": "cell-cb4a911466e26ceb",
     "locked": true,
     "schema_version": 3,
     "solution": false,
     "task": false
    }
   },
   "source": [
    "## QUESTION 2\n",
    "\n",
    "Test your function on the life expectancy variable of the `gapminder` dataset and assign the returned value to R object `answer2.0`. Does it work?"
   ]
  },
  {
   "cell_type": "code",
   "execution_count": 6,
   "metadata": {
    "deletable": false,
    "nbgrader": {
     "cell_type": "code",
     "checksum": "aa2ea8cb0f0c07b3b0f24020854482fe",
     "grade": false,
     "grade_id": "cell-f5b58ab34c202448",
     "locked": false,
     "schema_version": 3,
     "solution": true,
     "task": false
    }
   },
   "outputs": [
    {
     "name": "stdout",
     "output_type": "stream",
     "text": [
      "[1] 59.004\n"
     ]
    }
   ],
   "source": [
    "# apply your function to the Adelie penguins body mass\n",
    "answer2.0 <- max_minus_min(gapminder$lifeExp)\n",
    "print(answer2.0)"
   ]
  },
  {
   "cell_type": "code",
   "execution_count": 7,
   "metadata": {
    "deletable": false,
    "editable": false,
    "nbgrader": {
     "cell_type": "code",
     "checksum": "786d732e42365f3e5cfd59ac0b9054a4",
     "grade": true,
     "grade_id": "cell-bce7628c22c0193f",
     "locked": true,
     "points": 1,
     "schema_version": 3,
     "solution": false,
     "task": false
    }
   },
   "outputs": [
    {
     "name": "stderr",
     "output_type": "stream",
     "text": [
      "Warning message in normalizePath(path.expand(path), winslash, mustWork):\n",
      "\"path[1]=\"C:/Users/41615/OneDrive/×ÀÃæ/stat545a/worksheets\": The system cannot find the path specified\"\n",
      "Warning message in normalizePath(path.expand(path), winslash, mustWork):\n",
      "\"path[1]=\"C:/Users/41615/OneDrive/×ÀÃæ/stat545a/worksheets\": The system cannot find the path specified\"\n",
      "Warning message in normalizePath(path.expand(path), winslash, mustWork):\n",
      "\"path[1]=\"C:/Users/41615/OneDrive/×ÀÃæ/stat545a\": The system cannot find the path specified\"\n",
      "Warning message in normalizePath(path.expand(path), winslash, mustWork):\n",
      "\"path[1]=\"C:/Users/41615/OneDrive/×ÀÃæ/stat545a\": The system cannot find the path specified\"\n",
      "Warning message in normalizePath(path.expand(path), winslash, mustWork):\n",
      "\"path[1]=\"C:/Users/41615/OneDrive/×ÀÃæ\": The system cannot find the file specified\"\n",
      "Warning message in normalizePath(path.expand(path), winslash, mustWork):\n",
      "\"path[1]=\"C:/Users/41615/OneDrive/×ÀÃæ\": The system cannot find the file specified\"\n"
     ]
    },
    {
     "name": "stdout",
     "output_type": "stream",
     "text": [
      "\u001b[32mTest passed\u001b[39m \n"
     ]
    }
   ],
   "source": [
    "test_that(\"Question 2\", {\n",
    "    expect_known_hash(round(answer2.0, 3), '4ca07c689295be575d7b41d1c7d8c61f')\n",
    "})"
   ]
  },
  {
   "cell_type": "markdown",
   "metadata": {
    "deletable": false,
    "editable": false,
    "nbgrader": {
     "cell_type": "markdown",
     "checksum": "3c6a422d81b8fdd0140adbf1ae10fa17",
     "grade": false,
     "grade_id": "cell-b8a402fb6bb3f999",
     "locked": true,
     "schema_version": 3,
     "solution": false,
     "task": false
    }
   },
   "source": [
    "## QUESTION 3\n",
    "\n",
    "The function shouldn't work with all inputs, such as the following examples:\n",
    "\n",
    "```\n",
    "max_minus_min(adelie)\n",
    "max_minus_min(penguins$species)\n",
    "max_minus_min(\"stat545 is great\")\n",
    "```\n",
    "\n",
    "We expect errors for these, because it wouldn't make sense to compute the max minus min in any of those arguments. \n",
    "\n",
    "However, R will often try and make sense of your function... and that is not always a good thing. If you run the code below, you will see that the function is giving us an output for arguments that do not make any sense."
   ]
  },
  {
   "cell_type": "code",
   "execution_count": 8,
   "metadata": {
    "deletable": false,
    "editable": false,
    "nbgrader": {
     "cell_type": "code",
     "checksum": "5db53ba48dc7d8c256f32919a87fe4f5",
     "grade": false,
     "grade_id": "cell-163c191696c36e5f",
     "locked": true,
     "schema_version": 3,
     "solution": false,
     "task": false
    }
   },
   "outputs": [
    {
     "data": {
      "text/html": [
       "1318683072.401"
      ],
      "text/latex": [
       "1318683072.401"
      ],
      "text/markdown": [
       "1318683072.401"
      ],
      "text/plain": [
       "[1] 1318683072"
      ]
     },
     "metadata": {},
     "output_type": "display_data"
    },
    {
     "data": {
      "text/html": [
       "1"
      ],
      "text/latex": [
       "1"
      ],
      "text/markdown": [
       "1"
      ],
      "text/plain": [
       "[1] 1"
      ]
     },
     "metadata": {},
     "output_type": "display_data"
    }
   ],
   "source": [
    "max_minus_min(gapminder[c('lifeExp', 'gdpPercap', 'pop')])\n",
    "max_minus_min(c(TRUE, FALSE, TRUE))"
   ]
  },
  {
   "cell_type": "markdown",
   "metadata": {
    "deletable": false,
    "editable": false,
    "nbgrader": {
     "cell_type": "markdown",
     "checksum": "3e32181c255d808b7a3975271ccf1ddd",
     "grade": false,
     "grade_id": "cell-630d1c2f6690c65e",
     "locked": true,
     "schema_version": 3,
     "solution": false,
     "task": false
    }
   },
   "source": [
    "To avoid this from happening, rewrite the `max_minus_min` function to include a `stopifnot()`. Think of what should be the argument of `stopifnot()` to solve this issue - in other words, what should be the object class that the function `max_minus_min` should accept (e.g. a dataframe, a character, a number...)?\n",
    "\n",
    "```r\n",
    "answer3.0 <- function(x) {\n",
    "  stopifnot(FILL_THIS_IN) \n",
    "  max(x) - min(x)\n",
    "}\n",
    "```"
   ]
  },
  {
   "cell_type": "code",
   "execution_count": 9,
   "metadata": {
    "deletable": false,
    "nbgrader": {
     "cell_type": "code",
     "checksum": "5a599054f27ef267bbfdcf3033cd41ac",
     "grade": false,
     "grade_id": "cell-dd463f2745b2f285",
     "locked": false,
     "schema_version": 3,
     "solution": true,
     "task": false
    }
   },
   "outputs": [
    {
     "data": {
      "text/html": [
       "<pre class=language-r><code>function (x) \n",
       "{\n",
       "<span style=white-space:pre-wrap>    stopifnot(is.numeric(x))</span>\n",
       "<span style=white-space:pre-wrap>    max(x) - min(x)</span>\n",
       "}</code></pre>"
      ],
      "text/latex": [
       "\\begin{minted}{r}\n",
       "function (x) \n",
       "\\{\n",
       "    stopifnot(is.numeric(x))\n",
       "    max(x) - min(x)\n",
       "\\}\n",
       "\\end{minted}"
      ],
      "text/markdown": [
       "```r\n",
       "function (x) \n",
       "{\n",
       "    stopifnot(is.numeric(x))\n",
       "    max(x) - min(x)\n",
       "}\n",
       "```"
      ],
      "text/plain": [
       "function(x) {\n",
       "  stopifnot(is.numeric(x)) \n",
       "  max(x) - min(x)\n",
       "}"
      ]
     },
     "metadata": {},
     "output_type": "display_data"
    }
   ],
   "source": [
    "answer3.0 <- function(x) {\n",
    "  stopifnot(is.numeric(x)) \n",
    "  max(x) - min(x)\n",
    "}\n",
    "answer3.0"
   ]
  },
  {
   "cell_type": "code",
   "execution_count": 10,
   "metadata": {
    "deletable": false,
    "editable": false,
    "nbgrader": {
     "cell_type": "code",
     "checksum": "3be442c05f2eef31aff8fea8d8baf66e",
     "grade": true,
     "grade_id": "cell-c4f721c6b2b4cb91",
     "locked": true,
     "points": 1,
     "schema_version": 3,
     "solution": false,
     "task": false
    }
   },
   "outputs": [
    {
     "name": "stderr",
     "output_type": "stream",
     "text": [
      "Warning message in normalizePath(path.expand(path), winslash, mustWork):\n",
      "\"path[1]=\"C:/Users/41615/OneDrive/×ÀÃæ/stat545a/worksheets\": The system cannot find the path specified\"\n",
      "Warning message in normalizePath(path.expand(path), winslash, mustWork):\n",
      "\"path[1]=\"C:/Users/41615/OneDrive/×ÀÃæ/stat545a/worksheets\": The system cannot find the path specified\"\n",
      "Warning message in normalizePath(path.expand(path), winslash, mustWork):\n",
      "\"path[1]=\"C:/Users/41615/OneDrive/×ÀÃæ/stat545a\": The system cannot find the path specified\"\n",
      "Warning message in normalizePath(path.expand(path), winslash, mustWork):\n",
      "\"path[1]=\"C:/Users/41615/OneDrive/×ÀÃæ/stat545a\": The system cannot find the path specified\"\n",
      "Warning message in normalizePath(path.expand(path), winslash, mustWork):\n",
      "\"path[1]=\"C:/Users/41615/OneDrive/×ÀÃæ\": The system cannot find the file specified\"\n",
      "Warning message in normalizePath(path.expand(path), winslash, mustWork):\n",
      "\"path[1]=\"C:/Users/41615/OneDrive/×ÀÃæ\": The system cannot find the file specified\"\n"
     ]
    },
    {
     "name": "stdout",
     "output_type": "stream",
     "text": [
      "\u001b[32mTest passed\u001b[39m \n"
     ]
    }
   ],
   "source": [
    "test_that(\"Question 3\", {\n",
    "    expect_known_hash(mode(answer3.0), 'ecce171f95c8c2466c6516b40beca466')\n",
    "    expect_known_hash(length(formals(answer3.0)), '4b5630ee914e848e8d07221556b0a2fb')\n",
    "    expect_error(answer3.0('a'), 'is.numeric')\n",
    "    expect_error(answer3.0(c(TRUE, FALSE)), 'is.numeric')\n",
    "    expect_error(answer3.0(list(1:5)), 'is.numeric')\n",
    "    expect_known_hash(answer3.0(1:5), '234a2a5581872457b9fe1187d1616b13')\n",
    "})"
   ]
  },
  {
   "cell_type": "markdown",
   "metadata": {
    "deletable": false,
    "editable": false,
    "nbgrader": {
     "cell_type": "markdown",
     "checksum": "8892e2d5e18d938cf17694975d719abe",
     "grade": false,
     "grade_id": "cell-d083a08f5ad1cc6e",
     "locked": true,
     "schema_version": 3,
     "solution": false,
     "task": false
    }
   },
   "source": [
    "## QUESTION 4\n",
    "\n",
    "In the following chunk, I created a function to convert fahrenheit to celsius. When I test it with arguments that theoretically shouldn't give an output, it appears to have the same problem as our original `max_minus_min()` function."
   ]
  },
  {
   "cell_type": "code",
   "execution_count": 11,
   "metadata": {
    "deletable": false,
    "editable": false,
    "nbgrader": {
     "cell_type": "code",
     "checksum": "3b27d88a04e1254fcf747de7fd4b9a30",
     "grade": false,
     "grade_id": "cell-b101dbc844542503",
     "locked": true,
     "schema_version": 3,
     "solution": false,
     "task": false
    }
   },
   "outputs": [],
   "source": [
    "# here I write the function\n",
    "fahrenheit_to_celsius <- function(temp_F) {\n",
    "  (temp_F - 32) * 5 / 9\n",
    "}"
   ]
  },
  {
   "cell_type": "code",
   "execution_count": 12,
   "metadata": {
    "deletable": false,
    "editable": false,
    "nbgrader": {
     "cell_type": "code",
     "checksum": "757ab31240f8b684db7c8cee81ee7e48",
     "grade": false,
     "grade_id": "cell-6ba3a71b7e8416aa",
     "locked": true,
     "schema_version": 3,
     "solution": false,
     "task": false
    }
   },
   "outputs": [
    {
     "data": {
      "text/html": [
       "<style>\n",
       ".list-inline {list-style: none; margin:0; padding: 0}\n",
       ".list-inline>li {display: inline-block}\n",
       ".list-inline>li:not(:last-child)::after {content: \"\\00b7\"; padding: 0 .5ex}\n",
       "</style>\n",
       "<ol class=list-inline><li>-17.2222222222222</li><li>-17.7777777777778</li><li>-17.7777777777778</li><li>-17.2222222222222</li></ol>\n"
      ],
      "text/latex": [
       "\\begin{enumerate*}\n",
       "\\item -17.2222222222222\n",
       "\\item -17.7777777777778\n",
       "\\item -17.7777777777778\n",
       "\\item -17.2222222222222\n",
       "\\end{enumerate*}\n"
      ],
      "text/markdown": [
       "1. -17.2222222222222\n",
       "2. -17.7777777777778\n",
       "3. -17.7777777777778\n",
       "4. -17.2222222222222\n",
       "\n",
       "\n"
      ],
      "text/plain": [
       "[1] -17.22222 -17.77778 -17.77778 -17.22222"
      ]
     },
     "metadata": {},
     "output_type": "display_data"
    }
   ],
   "source": [
    "# here I test it on something that theoretically should not work.. but does\n",
    "fahrenheit_to_celsius(c(TRUE, FALSE, FALSE, TRUE))"
   ]
  },
  {
   "cell_type": "markdown",
   "metadata": {
    "deletable": false,
    "editable": false,
    "nbgrader": {
     "cell_type": "markdown",
     "checksum": "b3582e3e0a105870e093ac0280f161a6",
     "grade": false,
     "grade_id": "cell-92b59ed8a017de13",
     "locked": true,
     "schema_version": 3,
     "solution": false,
     "task": false
    }
   },
   "source": [
    "Rewrite the `fahrenheit_to_celsius` function using `if()` and `stop()` instead of `stopifnot()`. This allows you to write your own (more informative) error message.\n",
    "\n",
    "*Hint:* Remember that you are trying to stop the function from working **if the argument is not numeric.**\n",
    "\n",
    "```r\n",
    "answer4.0 <- function(temp_F) {\n",
    "  if(!FILL_THIS_IN(FILL_THIS_IN)) {\n",
    "    stop('I am so sorry, but this function only works for numeric input!\\n',\n",
    "         'You have provided an object of class: ', class(FILL_THIS_IN)[1])\n",
    "  }\n",
    "  temp_C <- (temp_F - 32) * 5 / 9\n",
    "  return(FILL_THIS_IN)\n",
    "}\n",
    "```"
   ]
  },
  {
   "cell_type": "code",
   "execution_count": 15,
   "metadata": {
    "deletable": false,
    "nbgrader": {
     "cell_type": "code",
     "checksum": "96525dd30c69ab812b70394e151fbb68",
     "grade": false,
     "grade_id": "cell-a9fd920afd588b68",
     "locked": false,
     "schema_version": 3,
     "solution": true,
     "task": false
    }
   },
   "outputs": [],
   "source": [
    "answer4.0 <- function(temp_F) {\n",
    "  if(!is.numeric(temp_F)) {\n",
    "    stop('I am so sorry, but this function only works for numeric input!\\n',\n",
    "         'You have provided an object of class: ', class(temp_F)[1])\n",
    "  }\n",
    "  temp_C <- (temp_F - 32) * 5 / 9\n",
    "  return(temp_C)\n",
    "}"
   ]
  },
  {
   "cell_type": "code",
   "execution_count": 16,
   "metadata": {
    "deletable": false,
    "editable": false,
    "nbgrader": {
     "cell_type": "code",
     "checksum": "3d6771c73327b4194a82742827da5c1b",
     "grade": true,
     "grade_id": "cell-bd7e981ed966e789",
     "locked": true,
     "points": 1,
     "schema_version": 3,
     "solution": false,
     "task": false
    }
   },
   "outputs": [
    {
     "name": "stderr",
     "output_type": "stream",
     "text": [
      "Warning message in normalizePath(path.expand(path), winslash, mustWork):\n",
      "\"path[1]=\"C:/Users/41615/OneDrive/×ÀÃæ/stat545a/worksheets\": The system cannot find the path specified\"\n",
      "Warning message in normalizePath(path.expand(path), winslash, mustWork):\n",
      "\"path[1]=\"C:/Users/41615/OneDrive/×ÀÃæ/stat545a/worksheets\": The system cannot find the path specified\"\n",
      "Warning message in normalizePath(path.expand(path), winslash, mustWork):\n",
      "\"path[1]=\"C:/Users/41615/OneDrive/×ÀÃæ/stat545a\": The system cannot find the path specified\"\n",
      "Warning message in normalizePath(path.expand(path), winslash, mustWork):\n",
      "\"path[1]=\"C:/Users/41615/OneDrive/×ÀÃæ/stat545a\": The system cannot find the path specified\"\n",
      "Warning message in normalizePath(path.expand(path), winslash, mustWork):\n",
      "\"path[1]=\"C:/Users/41615/OneDrive/×ÀÃæ\": The system cannot find the file specified\"\n",
      "Warning message in normalizePath(path.expand(path), winslash, mustWork):\n",
      "\"path[1]=\"C:/Users/41615/OneDrive/×ÀÃæ\": The system cannot find the file specified\"\n"
     ]
    },
    {
     "name": "stdout",
     "output_type": "stream",
     "text": [
      "\u001b[32mTest passed\u001b[39m \n"
     ]
    }
   ],
   "source": [
    "test_that(\"Question 4\", {\n",
    "    expect_known_hash(mode(answer4.0), 'ecce171f95c8c2466c6516b40beca466')\n",
    "    expect_known_hash(length(formals(answer4.0)), '4b5630ee914e848e8d07221556b0a2fb')\n",
    "    expect_error(answer4.0(c('4', '20', '12')))\n",
    "    expect_error(answer4.0(c(TRUE, FALSE)))\n",
    "    expect_error(answer4.0(list(1:5)))\n",
    "    expect_known_hash(answer4.0(c(350, 425, 550)), 'ebd71f9f1506f215d50b4d64546b8f7e')\n",
    "    expect_known_hash(answer4.0(1:5), '1faaa13b49412d6a48b0d25c0011f38f')\n",
    "})"
   ]
  },
  {
   "cell_type": "markdown",
   "metadata": {
    "deletable": false,
    "editable": false,
    "nbgrader": {
     "cell_type": "markdown",
     "checksum": "c097fb95d73b43836c2ab3cac728d2a9",
     "grade": false,
     "grade_id": "cell-ae8804db6997b30d",
     "locked": true,
     "schema_version": 3,
     "solution": false,
     "task": false
    }
   },
   "source": [
    "## QUESTION 5\n",
    "\n",
    "Write a function that takes 2 arguments (name them `x` and `y`), raises the first argument to the power of the second one, and outputs a string with a message that indicates what the output of the function is. Use `stopifnot()` so that the function *only* takes numeric arguments."
   ]
  },
  {
   "cell_type": "markdown",
   "metadata": {
    "deletable": false,
    "editable": false,
    "nbgrader": {
     "cell_type": "markdown",
     "checksum": "d49d06446a317948123a30c17347f233",
     "grade": false,
     "grade_id": "cell-9cd9dead5f850e93",
     "locked": true,
     "schema_version": 3,
     "solution": false,
     "task": false
    }
   },
   "source": [
    "```r\n",
    "# function to write text output of x raised to the power y.\n",
    "answer5.0 <- function(FILL_THIS_IN, FILL_THIS_IN) {\n",
    "    stopifnot(FILL_THIS_IN && FILL_THIS_IN)\n",
    "    result <- FILL_THIS_IN\n",
    "    paste(FILL_THIS_IN, \"raised to the power\", FILL_THIS_IN, \"is\", FILL_THIS_IN)\n",
    "}\n",
    "```"
   ]
  },
  {
   "cell_type": "code",
   "execution_count": 17,
   "metadata": {
    "deletable": false,
    "nbgrader": {
     "cell_type": "code",
     "checksum": "5b3c1e749d07c6af7d1649fa5a003591",
     "grade": false,
     "grade_id": "cell-cccfed813998b291",
     "locked": false,
     "schema_version": 3,
     "solution": true,
     "task": false
    }
   },
   "outputs": [
    {
     "data": {
      "text/html": [
       "'3 raised to the power 4 is 81'"
      ],
      "text/latex": [
       "'3 raised to the power 4 is 81'"
      ],
      "text/markdown": [
       "'3 raised to the power 4 is 81'"
      ],
      "text/plain": [
       "[1] \"3 raised to the power 4 is 81\""
      ]
     },
     "metadata": {},
     "output_type": "display_data"
    }
   ],
   "source": [
    "# function to write text output of x raised to the power y.\n",
    "answer5.0 <- function(x, y) {\n",
    "    stopifnot(is.numeric(x) && is.numeric (y))\n",
    "    result <- x ^ y\n",
    "    paste(x, \"raised to the power\", y, \"is\", result)\n",
    "}\n",
    "answer5.0(3, 4)"
   ]
  },
  {
   "cell_type": "code",
   "execution_count": 18,
   "metadata": {
    "deletable": false,
    "editable": false,
    "nbgrader": {
     "cell_type": "code",
     "checksum": "7e1ee4f901cf7c58d6fec35d6cac8ba6",
     "grade": true,
     "grade_id": "cell-d812b59d2daad9c2",
     "locked": true,
     "points": 1,
     "schema_version": 3,
     "solution": false,
     "task": false
    }
   },
   "outputs": [
    {
     "name": "stderr",
     "output_type": "stream",
     "text": [
      "Warning message in normalizePath(path.expand(path), winslash, mustWork):\n",
      "\"path[1]=\"C:/Users/41615/OneDrive/×ÀÃæ/stat545a/worksheets\": The system cannot find the path specified\"\n",
      "Warning message in normalizePath(path.expand(path), winslash, mustWork):\n",
      "\"path[1]=\"C:/Users/41615/OneDrive/×ÀÃæ/stat545a/worksheets\": The system cannot find the path specified\"\n",
      "Warning message in normalizePath(path.expand(path), winslash, mustWork):\n",
      "\"path[1]=\"C:/Users/41615/OneDrive/×ÀÃæ/stat545a\": The system cannot find the path specified\"\n",
      "Warning message in normalizePath(path.expand(path), winslash, mustWork):\n",
      "\"path[1]=\"C:/Users/41615/OneDrive/×ÀÃæ/stat545a\": The system cannot find the path specified\"\n",
      "Warning message in normalizePath(path.expand(path), winslash, mustWork):\n",
      "\"path[1]=\"C:/Users/41615/OneDrive/×ÀÃæ\": The system cannot find the file specified\"\n",
      "Warning message in normalizePath(path.expand(path), winslash, mustWork):\n",
      "\"path[1]=\"C:/Users/41615/OneDrive/×ÀÃæ\": The system cannot find the file specified\"\n"
     ]
    },
    {
     "name": "stdout",
     "output_type": "stream",
     "text": [
      "\u001b[32mTest passed\u001b[39m \n"
     ]
    }
   ],
   "source": [
    "test_that(\"Question 5\", {\n",
    "    expect_known_hash(mode(answer5.0), 'ecce171f95c8c2466c6516b40beca466')\n",
    "    expect_known_hash(length(formals(answer5.0)), 'c01f179e4b57ab8bd9de309e6d576c48')\n",
    "    expect_error(answer5.0(3, c('4', '20', '12')), 'is.numeric')\n",
    "    expect_error(answer5.0(c(TRUE, FALSE), 2), 'is.numeric')\n",
    "    expect_error(answer5.0(list(1:5), 1:3), 'is.numeric')\n",
    "    expect_equal(answer5.0(1/5, 4), '0.2 raised to the power 4 is 0.0016')\n",
    "    expect_known_hash(answer5.0(2, 2:5), \"b6c31695e3646007c2364b462147e44b\")\n",
    "})"
   ]
  },
  {
   "cell_type": "markdown",
   "metadata": {
    "deletable": false,
    "editable": false,
    "nbgrader": {
     "cell_type": "markdown",
     "checksum": "cc74320130479be8b34f1aa98fd5e9d5",
     "grade": false,
     "grade_id": "cell-7005bc21c9703ebd",
     "locked": true,
     "schema_version": 3,
     "solution": false,
     "task": false
    }
   },
   "source": [
    "## QUESTION 6\n",
    "\n",
    "Use `expect_equal()` to check that manually calculating the max minus min of the bill length of all penguins in the `penguins` dataset yields the same result as using a function.\n",
    "\n",
    "Run the following chunk of code first."
   ]
  },
  {
   "cell_type": "code",
   "execution_count": 19,
   "metadata": {
    "deletable": false,
    "editable": false,
    "nbgrader": {
     "cell_type": "code",
     "checksum": "eecc89b71ee8f9b15dd617306475dfe7",
     "grade": false,
     "grade_id": "cell-383f8acc4706a9b9",
     "locked": true,
     "schema_version": 3,
     "solution": false,
     "task": false
    }
   },
   "outputs": [
    {
     "data": {
      "text/html": [
       "27.5"
      ],
      "text/latex": [
       "27.5"
      ],
      "text/markdown": [
       "27.5"
      ],
      "text/plain": [
       "[1] 27.5"
      ]
     },
     "metadata": {},
     "output_type": "display_data"
    }
   ],
   "source": [
    "x <- max(penguins$bill_length_mm, na.rm = TRUE) \n",
    "y <- min(penguins$bill_length_mm, na.rm = TRUE) \n",
    "x - y"
   ]
  },
  {
   "cell_type": "markdown",
   "metadata": {
    "deletable": false,
    "editable": false,
    "nbgrader": {
     "cell_type": "markdown",
     "checksum": "c7ab0f49ce98067e567345ec17e68dcb",
     "grade": false,
     "grade_id": "cell-b37d00bcab16b017",
     "locked": true,
     "schema_version": 3,
     "solution": false,
     "task": false
    }
   },
   "source": [
    "I have written a slightly tweaked version of the `max_minus_min()` function created in **Q1** that allows the user to control the behaviours around NAs. This is important - without removing NAs, if you try running `max_minus_min()` with `penguins$bill_length_mm` as an argument, the output will be NA."
   ]
  },
  {
   "cell_type": "code",
   "execution_count": 21,
   "metadata": {
    "deletable": false,
    "editable": false,
    "nbgrader": {
     "cell_type": "code",
     "checksum": "b3dd4729e9a10d0fd0625096cc481ca5",
     "grade": false,
     "grade_id": "cell-eaf5b985bb719eb9",
     "locked": true,
     "schema_version": 3,
     "solution": false,
     "task": false
    }
   },
   "outputs": [],
   "source": [
    "# new function\n",
    "max_minus_min2 <- function(x, na.rm = TRUE) {\n",
    "  if(!is.numeric(x)) {\n",
    "    stop('I am so sorry, but this function only works for numeric input!\\n',\n",
    "         'You have provided an object of class: ', class(x)[1])\n",
    "  }\n",
    "  max(x, na.rm = na.rm) - min(x, na.rm = na.rm)\n",
    "}"
   ]
  },
  {
   "cell_type": "markdown",
   "metadata": {
    "deletable": false,
    "editable": false,
    "nbgrader": {
     "cell_type": "markdown",
     "checksum": "71ad2c7bd9b4dbb887baf8377dd29852",
     "grade": false,
     "grade_id": "cell-cbf1064e3c65e120",
     "locked": true,
     "schema_version": 3,
     "solution": false,
     "task": false
    }
   },
   "source": [
    "Now, check that the output of this function when calculating the max minus min of the bill length across all penguins in the `penguins` dataset is the same as calculating it \"manually\" as we did above - in other words, that the function output **equals** 27.5.\n",
    "\n",
    "__NOTE__: We're _only_ getting you to store the output of `expect_equal()` in variable `answer6.0` so that we can run the autograder! Otherwise, you'd only ever run it on its own, without assigning it to anything.\n",
    "\n",
    "_Psst... take a look at the test cells in these worksheets. Notice a similarity?_\n",
    "\n",
    "```r\n",
    "answer6.0 <- expect_equal(FILL_THIS_IN, FILL_THIS_IN(FILL_THIS_IN$FILL_THIS_IN, na.rm = TRUE))\n",
    "```"
   ]
  },
  {
   "cell_type": "code",
   "execution_count": 24,
   "metadata": {
    "deletable": false,
    "nbgrader": {
     "cell_type": "code",
     "checksum": "2cbb571ec512286d0159a41d3e25267a",
     "grade": false,
     "grade_id": "cell-e175cc0e06687492",
     "locked": false,
     "schema_version": 3,
     "solution": true,
     "task": false
    }
   },
   "outputs": [
    {
     "name": "stderr",
     "output_type": "stream",
     "text": [
      "Warning message in normalizePath(path.expand(path), winslash, mustWork):\n",
      "\"path[1]=\"C:/Users/41615/OneDrive/×ÀÃæ/stat545a/worksheets\": The system cannot find the path specified\"\n",
      "Warning message in normalizePath(path.expand(path), winslash, mustWork):\n",
      "\"path[1]=\"C:/Users/41615/OneDrive/×ÀÃæ/stat545a/worksheets\": The system cannot find the path specified\"\n",
      "Warning message in normalizePath(path.expand(path), winslash, mustWork):\n",
      "\"path[1]=\"C:/Users/41615/OneDrive/×ÀÃæ/stat545a\": The system cannot find the path specified\"\n",
      "Warning message in normalizePath(path.expand(path), winslash, mustWork):\n",
      "\"path[1]=\"C:/Users/41615/OneDrive/×ÀÃæ/stat545a\": The system cannot find the path specified\"\n",
      "Warning message in normalizePath(path.expand(path), winslash, mustWork):\n",
      "\"path[1]=\"C:/Users/41615/OneDrive/×ÀÃæ\": The system cannot find the file specified\"\n",
      "Warning message in normalizePath(path.expand(path), winslash, mustWork):\n",
      "\"path[1]=\"C:/Users/41615/OneDrive/×ÀÃæ\": The system cannot find the file specified\"\n",
      "Warning message in normalizePath(path.expand(path), winslash, mustWork):\n",
      "\"path[1]=\"C:/Users/41615/OneDrive/×ÀÃæ/stat545a/worksheets\": The system cannot find the path specified\"\n",
      "Warning message in normalizePath(path.expand(path), winslash, mustWork):\n",
      "\"path[1]=\"C:/Users/41615/OneDrive/×ÀÃæ/stat545a/worksheets\": The system cannot find the path specified\"\n",
      "Warning message in normalizePath(path.expand(path), winslash, mustWork):\n",
      "\"path[1]=\"C:/Users/41615/OneDrive/×ÀÃæ/stat545a\": The system cannot find the path specified\"\n",
      "Warning message in normalizePath(path.expand(path), winslash, mustWork):\n",
      "\"path[1]=\"C:/Users/41615/OneDrive/×ÀÃæ/stat545a\": The system cannot find the path specified\"\n",
      "Warning message in normalizePath(path.expand(path), winslash, mustWork):\n",
      "\"path[1]=\"C:/Users/41615/OneDrive/×ÀÃæ\": The system cannot find the file specified\"\n",
      "Warning message in normalizePath(path.expand(path), winslash, mustWork):\n",
      "\"path[1]=\"C:/Users/41615/OneDrive/×ÀÃæ\": The system cannot find the file specified\"\n"
     ]
    },
    {
     "data": {
      "text/html": [
       "27.5"
      ],
      "text/latex": [
       "27.5"
      ],
      "text/markdown": [
       "27.5"
      ],
      "text/plain": [
       "[1] 27.5"
      ]
     },
     "metadata": {},
     "output_type": "display_data"
    }
   ],
   "source": [
    "answer6.0 <-  expect_equal(27.5, max_minus_min2(penguins$bill_length_mm, na.rm = TRUE))\n",
    "answer6.0"
   ]
  },
  {
   "cell_type": "code",
   "execution_count": 25,
   "metadata": {
    "deletable": false,
    "editable": false,
    "nbgrader": {
     "cell_type": "code",
     "checksum": "0fcdfa9add7a236f7e9a07fd7f783176",
     "grade": true,
     "grade_id": "cell-852745acab813c93",
     "locked": true,
     "points": 1,
     "schema_version": 3,
     "solution": false,
     "task": false
    }
   },
   "outputs": [
    {
     "name": "stderr",
     "output_type": "stream",
     "text": [
      "Warning message in normalizePath(path.expand(path), winslash, mustWork):\n",
      "\"path[1]=\"C:/Users/41615/OneDrive/×ÀÃæ/stat545a/worksheets\": The system cannot find the path specified\"\n",
      "Warning message in normalizePath(path.expand(path), winslash, mustWork):\n",
      "\"path[1]=\"C:/Users/41615/OneDrive/×ÀÃæ/stat545a/worksheets\": The system cannot find the path specified\"\n",
      "Warning message in normalizePath(path.expand(path), winslash, mustWork):\n",
      "\"path[1]=\"C:/Users/41615/OneDrive/×ÀÃæ/stat545a\": The system cannot find the path specified\"\n",
      "Warning message in normalizePath(path.expand(path), winslash, mustWork):\n",
      "\"path[1]=\"C:/Users/41615/OneDrive/×ÀÃæ/stat545a\": The system cannot find the path specified\"\n",
      "Warning message in normalizePath(path.expand(path), winslash, mustWork):\n",
      "\"path[1]=\"C:/Users/41615/OneDrive/×ÀÃæ\": The system cannot find the file specified\"\n",
      "Warning message in normalizePath(path.expand(path), winslash, mustWork):\n",
      "\"path[1]=\"C:/Users/41615/OneDrive/×ÀÃæ\": The system cannot find the file specified\"\n"
     ]
    },
    {
     "name": "stdout",
     "output_type": "stream",
     "text": [
      "\u001b[32mTest passed\u001b[39m \n"
     ]
    }
   ],
   "source": [
    "test_that(\"Question 6\", {\n",
    "    expect_known_hash(answer6.0, 'b342fe04b00f00610a95dd8ebcc5967c')\n",
    "})"
   ]
  },
  {
   "cell_type": "markdown",
   "metadata": {
    "deletable": false,
    "editable": false,
    "nbgrader": {
     "cell_type": "markdown",
     "checksum": "7b4a2e40d11577c61b7231af316d1de8",
     "grade": false,
     "grade_id": "cell-c9eb8afbacc927c2",
     "locked": true,
     "schema_version": 3,
     "solution": false,
     "task": false
    }
   },
   "source": [
    "There are other `expect_` functions such as `expect_identical()`, `expect_match()` or `expect_output()` that you can look into further [here](https://r-pkgs.org/tests.html#test-structure). "
   ]
  },
  {
   "cell_type": "markdown",
   "metadata": {
    "deletable": false,
    "editable": false,
    "nbgrader": {
     "cell_type": "markdown",
     "checksum": "1232e4565f61c25d3e3ffd75a6992278",
     "grade": false,
     "grade_id": "cell-de5e8aafd7ed7bbd",
     "locked": true,
     "schema_version": 3,
     "solution": false,
     "task": false
    }
   },
   "source": [
    "## QUESTION 7\n",
    "\n",
    "Let's try combining a different expectation function and `test_that()` with a very easy example. We start by writing a very simple function that returns the string \"Hello world, my name is\" + your name."
   ]
  },
  {
   "cell_type": "code",
   "execution_count": 27,
   "metadata": {
    "deletable": false,
    "editable": false,
    "nbgrader": {
     "cell_type": "code",
     "checksum": "8e2ab05b729787c122ed185bd7e49b88",
     "grade": false,
     "grade_id": "cell-e1471a691fd2d1bb",
     "locked": true,
     "schema_version": 3,
     "solution": false,
     "task": false
    }
   },
   "outputs": [],
   "source": [
    "hello_world <- function(x) {\n",
    "    stopifnot(is.character(x)) # we want x to be a character\n",
    "    paste('Hello world, my name is', x)\n",
    "}"
   ]
  },
  {
   "cell_type": "markdown",
   "metadata": {
    "deletable": false,
    "editable": false,
    "nbgrader": {
     "cell_type": "markdown",
     "checksum": "5588fad9619b8c97f25bd1e0eb3e8445",
     "grade": false,
     "grade_id": "cell-4b9a5ac3822d15a8",
     "locked": true,
     "schema_version": 3,
     "solution": false,
     "task": false
    }
   },
   "source": [
    "In the next code cell, we'll run `hello_world()` with \"Julie Payette\" as an argument, just to see the output!"
   ]
  },
  {
   "cell_type": "code",
   "execution_count": 28,
   "metadata": {
    "deletable": false,
    "editable": false,
    "nbgrader": {
     "cell_type": "code",
     "checksum": "446711188810651063ff8f10e8278e76",
     "grade": false,
     "grade_id": "cell-59d7decdaf647c97",
     "locked": true,
     "schema_version": 3,
     "solution": false,
     "task": false
    }
   },
   "outputs": [
    {
     "data": {
      "text/html": [
       "'Hello world, my name is Julie Payette'"
      ],
      "text/latex": [
       "'Hello world, my name is Julie Payette'"
      ],
      "text/markdown": [
       "'Hello world, my name is Julie Payette'"
      ],
      "text/plain": [
       "[1] \"Hello world, my name is Julie Payette\""
      ]
     },
     "metadata": {},
     "output_type": "display_data"
    }
   ],
   "source": [
    "hello_world(\"Julie Payette\")"
   ]
  },
  {
   "cell_type": "markdown",
   "metadata": {
    "deletable": false,
    "editable": false,
    "nbgrader": {
     "cell_type": "markdown",
     "checksum": "cbf2ff1ffa8245dbb09e0371bbac03e2",
     "grade": false,
     "grade_id": "cell-5f61dc5783562620",
     "locked": true,
     "schema_version": 3,
     "solution": false,
     "task": false
    }
   },
   "source": [
    "Great! Now, let's simply test that the output of `hello_world()` with _your_ name as an argument matches the character vector **'Hello world, my name is'**. I have added an example of how `expect_match()` works to help you write your test.\n",
    "\n",
    "```\n",
    "eggplants <- \"Eggplants are purple\"\n",
    "expect_match(eggplants, \"Eggplants\") # works\n",
    "expect_match(eggplants, \"purple\") # works\n",
    "\n",
    "# your turn\n",
    "answer7.0 <- test_that(\"returns hello world + your name string\", {\n",
    "    expect_match(FILL_THIS_IN(FILL_THIS_IN), FILL_THIS_IN)\n",
    "})\n",
    "```"
   ]
  },
  {
   "cell_type": "code",
   "execution_count": 30,
   "metadata": {
    "deletable": false,
    "nbgrader": {
     "cell_type": "code",
     "checksum": "c68a159a8355f3224fbda4522a0ec4c3",
     "grade": false,
     "grade_id": "cell-b539fd87839f379e",
     "locked": false,
     "schema_version": 3,
     "solution": true,
     "task": false
    }
   },
   "outputs": [
    {
     "name": "stderr",
     "output_type": "stream",
     "text": [
      "Warning message in normalizePath(path.expand(path), winslash, mustWork):\n",
      "\"path[1]=\"C:/Users/41615/OneDrive/×ÀÃæ/stat545a/worksheets\": The system cannot find the path specified\"\n",
      "Warning message in normalizePath(path.expand(path), winslash, mustWork):\n",
      "\"path[1]=\"C:/Users/41615/OneDrive/×ÀÃæ/stat545a/worksheets\": The system cannot find the path specified\"\n",
      "Warning message in normalizePath(path.expand(path), winslash, mustWork):\n",
      "\"path[1]=\"C:/Users/41615/OneDrive/×ÀÃæ/stat545a\": The system cannot find the path specified\"\n",
      "Warning message in normalizePath(path.expand(path), winslash, mustWork):\n",
      "\"path[1]=\"C:/Users/41615/OneDrive/×ÀÃæ/stat545a\": The system cannot find the path specified\"\n",
      "Warning message in normalizePath(path.expand(path), winslash, mustWork):\n",
      "\"path[1]=\"C:/Users/41615/OneDrive/×ÀÃæ\": The system cannot find the file specified\"\n",
      "Warning message in normalizePath(path.expand(path), winslash, mustWork):\n",
      "\"path[1]=\"C:/Users/41615/OneDrive/×ÀÃæ\": The system cannot find the file specified\"\n"
     ]
    },
    {
     "name": "stdout",
     "output_type": "stream",
     "text": [
      "\u001b[32mTest passed\u001b[39m \n"
     ]
    }
   ],
   "source": [
    "# your turn\n",
    "answer7.0 <- test_that(\"returns hello world + Yue Shen\", {\n",
    "    expect_match(hello_world('Yue Shen'), 'Hello world, my name is Yue Shen')\n",
    "})"
   ]
  },
  {
   "cell_type": "code",
   "execution_count": 31,
   "metadata": {
    "deletable": false,
    "editable": false,
    "nbgrader": {
     "cell_type": "code",
     "checksum": "49ddd10d28f80e50581d27b5c2af5a28",
     "grade": true,
     "grade_id": "cell-eed9a46d9c5ae258",
     "locked": true,
     "points": 1,
     "schema_version": 3,
     "solution": false,
     "task": false
    }
   },
   "outputs": [
    {
     "name": "stderr",
     "output_type": "stream",
     "text": [
      "Warning message in normalizePath(path.expand(path), winslash, mustWork):\n",
      "\"path[1]=\"C:/Users/41615/OneDrive/×ÀÃæ/stat545a/worksheets\": The system cannot find the path specified\"\n",
      "Warning message in normalizePath(path.expand(path), winslash, mustWork):\n",
      "\"path[1]=\"C:/Users/41615/OneDrive/×ÀÃæ/stat545a/worksheets\": The system cannot find the path specified\"\n",
      "Warning message in normalizePath(path.expand(path), winslash, mustWork):\n",
      "\"path[1]=\"C:/Users/41615/OneDrive/×ÀÃæ/stat545a\": The system cannot find the path specified\"\n",
      "Warning message in normalizePath(path.expand(path), winslash, mustWork):\n",
      "\"path[1]=\"C:/Users/41615/OneDrive/×ÀÃæ/stat545a\": The system cannot find the path specified\"\n",
      "Warning message in normalizePath(path.expand(path), winslash, mustWork):\n",
      "\"path[1]=\"C:/Users/41615/OneDrive/×ÀÃæ\": The system cannot find the file specified\"\n",
      "Warning message in normalizePath(path.expand(path), winslash, mustWork):\n",
      "\"path[1]=\"C:/Users/41615/OneDrive/×ÀÃæ\": The system cannot find the file specified\"\n"
     ]
    },
    {
     "name": "stdout",
     "output_type": "stream",
     "text": [
      "\u001b[32mTest passed\u001b[39m \n"
     ]
    }
   ],
   "source": [
    "test_that(\"Question 7\", {\n",
    "    expect_known_hash(answer7.0, 'bb73ad91bcb7e948250d465016f7b')\n",
    "})"
   ]
  },
  {
   "cell_type": "markdown",
   "metadata": {
    "deletable": false,
    "editable": false,
    "nbgrader": {
     "cell_type": "markdown",
     "checksum": "857dbc8d84ee5c1d881c3a4830b7c9aa",
     "grade": false,
     "grade_id": "cell-95fbf3199a22b139",
     "locked": true,
     "schema_version": 3,
     "solution": false,
     "task": false
    }
   },
   "source": [
    "## QUESTION 8\n",
    "\n",
    "Create a function called `m` that multiplies two numbers (arguments `x` and `y`). Create a test for function `m` with description \"Testing multiplication function\" and add a few scenarios to it:\n",
    "\n",
    "+ Check if `m(2,3)` equals `6`\n",
    "+ Check if `m(2, c(2,3))` equals `c(4,6)`\n",
    "+ Check if `m(2, \"3\")` throws an error \"non-numeric argument to binary operator\"\n",
    "\n",
    "```r\n",
    "m <- function(FILL_THIS_IN) FILL_THIS_IN\n",
    "answer8.0 <- test_that(\"Testing multiplication function\", {\n",
    "  expect_equal(FILL_THIS_IN)\n",
    "  expect_equal(FILL_THIS_IN)\n",
    "  expect_error(FILL_THIS_IN, FILL_THIS_IN)\n",
    "})\n",
    "```"
   ]
  },
  {
   "cell_type": "code",
   "execution_count": 32,
   "metadata": {
    "deletable": false,
    "nbgrader": {
     "cell_type": "code",
     "checksum": "cca1904eab99340a3a7a3de1c71bee0d",
     "grade": false,
     "grade_id": "cell-df60f586bfdb80b7",
     "locked": false,
     "schema_version": 3,
     "solution": true,
     "task": false
    }
   },
   "outputs": [
    {
     "name": "stderr",
     "output_type": "stream",
     "text": [
      "Warning message in normalizePath(path.expand(path), winslash, mustWork):\n",
      "\"path[1]=\"C:/Users/41615/OneDrive/×ÀÃæ/stat545a/worksheets\": The system cannot find the path specified\"\n",
      "Warning message in normalizePath(path.expand(path), winslash, mustWork):\n",
      "\"path[1]=\"C:/Users/41615/OneDrive/×ÀÃæ/stat545a/worksheets\": The system cannot find the path specified\"\n",
      "Warning message in normalizePath(path.expand(path), winslash, mustWork):\n",
      "\"path[1]=\"C:/Users/41615/OneDrive/×ÀÃæ/stat545a\": The system cannot find the path specified\"\n",
      "Warning message in normalizePath(path.expand(path), winslash, mustWork):\n",
      "\"path[1]=\"C:/Users/41615/OneDrive/×ÀÃæ/stat545a\": The system cannot find the path specified\"\n",
      "Warning message in normalizePath(path.expand(path), winslash, mustWork):\n",
      "\"path[1]=\"C:/Users/41615/OneDrive/×ÀÃæ\": The system cannot find the file specified\"\n",
      "Warning message in normalizePath(path.expand(path), winslash, mustWork):\n",
      "\"path[1]=\"C:/Users/41615/OneDrive/×ÀÃæ\": The system cannot find the file specified\"\n"
     ]
    },
    {
     "name": "stdout",
     "output_type": "stream",
     "text": [
      "\u001b[32mTest passed\u001b[39m \n"
     ]
    }
   ],
   "source": [
    "m <- function(x, y) x * y\n",
    "answer8.0 <- test_that(\"Testing multiplication function\", {\n",
    "  expect_equal(m(2, 3), 6)\n",
    "  expect_equal(m(2, c(2, 3)), c(4, 6))\n",
    "  expect_error(m(2, \"3\"), \"non-numeric argument to binary operator\")\n",
    "})"
   ]
  },
  {
   "cell_type": "code",
   "execution_count": 33,
   "metadata": {
    "deletable": false,
    "editable": false,
    "nbgrader": {
     "cell_type": "code",
     "checksum": "0e113112eb3ab7c0c5f6b36cd2caf57b",
     "grade": true,
     "grade_id": "cell-64b58cd50bfda83c",
     "locked": true,
     "points": 1,
     "schema_version": 3,
     "solution": false,
     "task": false
    }
   },
   "outputs": [
    {
     "name": "stderr",
     "output_type": "stream",
     "text": [
      "Warning message in normalizePath(path.expand(path), winslash, mustWork):\n",
      "\"path[1]=\"C:/Users/41615/OneDrive/×ÀÃæ/stat545a/worksheets\": The system cannot find the path specified\"\n",
      "Warning message in normalizePath(path.expand(path), winslash, mustWork):\n",
      "\"path[1]=\"C:/Users/41615/OneDrive/×ÀÃæ/stat545a/worksheets\": The system cannot find the path specified\"\n",
      "Warning message in normalizePath(path.expand(path), winslash, mustWork):\n",
      "\"path[1]=\"C:/Users/41615/OneDrive/×ÀÃæ/stat545a\": The system cannot find the path specified\"\n",
      "Warning message in normalizePath(path.expand(path), winslash, mustWork):\n",
      "\"path[1]=\"C:/Users/41615/OneDrive/×ÀÃæ/stat545a\": The system cannot find the path specified\"\n",
      "Warning message in normalizePath(path.expand(path), winslash, mustWork):\n",
      "\"path[1]=\"C:/Users/41615/OneDrive/×ÀÃæ\": The system cannot find the file specified\"\n",
      "Warning message in normalizePath(path.expand(path), winslash, mustWork):\n",
      "\"path[1]=\"C:/Users/41615/OneDrive/×ÀÃæ\": The system cannot find the file specified\"\n"
     ]
    },
    {
     "name": "stdout",
     "output_type": "stream",
     "text": [
      "\u001b[32mTest passed\u001b[39m \n"
     ]
    }
   ],
   "source": [
    "test_that(\"Question 8\", {\n",
    "    expect_known_hash(round(answer8.0, 2), '6717f2823d3202449301145073ab8')\n",
    "})"
   ]
  },
  {
   "cell_type": "markdown",
   "metadata": {
    "deletable": false,
    "editable": false,
    "nbgrader": {
     "cell_type": "markdown",
     "checksum": "366d16253815aa8834212dd9b563f851",
     "grade": false,
     "grade_id": "cell-cff10f7821f03135",
     "locked": true,
     "schema_version": 3,
     "solution": false,
     "task": false
    }
   },
   "source": [
    "\n",
    "\n",
    "## QUESTION 9\n",
    "\n",
    "Identify how many missing values there are in each column of the `penguins` dataset. Hint: use `summarise()`, `everything()` and `across()`.\n",
    "\n",
    "Assign your answer to a variable named `answer9`. It should be a tibble with one row and the same column names as the original `penguins` dataset.\n",
    "\n",
    "```\n",
    "answer9 <- FILL_THIS_IN %>%\n",
    " FILL_THIS_IN(FILL_THIS_IN(FILL_THIS_IN(), ~ sum(is.na(.x))))\n",
    "```                           "
   ]
  },
  {
   "cell_type": "code",
   "execution_count": 34,
   "metadata": {
    "deletable": false,
    "nbgrader": {
     "cell_type": "code",
     "checksum": "2bbf0a1d7f5bc2f18e1e6888db3767cf",
     "grade": false,
     "grade_id": "cell-c0d9962d91397d26",
     "locked": false,
     "schema_version": 3,
     "solution": true,
     "task": false
    }
   },
   "outputs": [
    {
     "data": {
      "text/html": [
       "<table class=\"dataframe\">\n",
       "<caption>A tibble: 1 × 8</caption>\n",
       "<thead>\n",
       "\t<tr><th scope=col>species</th><th scope=col>island</th><th scope=col>bill_length_mm</th><th scope=col>bill_depth_mm</th><th scope=col>flipper_length_mm</th><th scope=col>body_mass_g</th><th scope=col>sex</th><th scope=col>year</th></tr>\n",
       "\t<tr><th scope=col>&lt;int&gt;</th><th scope=col>&lt;int&gt;</th><th scope=col>&lt;int&gt;</th><th scope=col>&lt;int&gt;</th><th scope=col>&lt;int&gt;</th><th scope=col>&lt;int&gt;</th><th scope=col>&lt;int&gt;</th><th scope=col>&lt;int&gt;</th></tr>\n",
       "</thead>\n",
       "<tbody>\n",
       "\t<tr><td>0</td><td>0</td><td>2</td><td>2</td><td>2</td><td>2</td><td>11</td><td>0</td></tr>\n",
       "</tbody>\n",
       "</table>\n"
      ],
      "text/latex": [
       "A tibble: 1 × 8\n",
       "\\begin{tabular}{llllllll}\n",
       " species & island & bill\\_length\\_mm & bill\\_depth\\_mm & flipper\\_length\\_mm & body\\_mass\\_g & sex & year\\\\\n",
       " <int> & <int> & <int> & <int> & <int> & <int> & <int> & <int>\\\\\n",
       "\\hline\n",
       "\t 0 & 0 & 2 & 2 & 2 & 2 & 11 & 0\\\\\n",
       "\\end{tabular}\n"
      ],
      "text/markdown": [
       "\n",
       "A tibble: 1 × 8\n",
       "\n",
       "| species &lt;int&gt; | island &lt;int&gt; | bill_length_mm &lt;int&gt; | bill_depth_mm &lt;int&gt; | flipper_length_mm &lt;int&gt; | body_mass_g &lt;int&gt; | sex &lt;int&gt; | year &lt;int&gt; |\n",
       "|---|---|---|---|---|---|---|---|\n",
       "| 0 | 0 | 2 | 2 | 2 | 2 | 11 | 0 |\n",
       "\n"
      ],
      "text/plain": [
       "  species island bill_length_mm bill_depth_mm flipper_length_mm body_mass_g sex\n",
       "1 0       0      2              2             2                 2           11 \n",
       "  year\n",
       "1 0   "
      ]
     },
     "metadata": {},
     "output_type": "display_data"
    }
   ],
   "source": [
    "answer9 <- penguins %>%\n",
    " summarise(across(everything(), ~ sum(is.na(.x))))\n",
    "head(answer9)"
   ]
  },
  {
   "cell_type": "code",
   "execution_count": 35,
   "metadata": {
    "deletable": false,
    "editable": false,
    "nbgrader": {
     "cell_type": "code",
     "checksum": "cdfb0b996ccd22351cc5108fca8a678f",
     "grade": true,
     "grade_id": "cell-767dcf0ba2c9071d",
     "locked": true,
     "points": 1,
     "schema_version": 3,
     "solution": false,
     "task": false
    }
   },
   "outputs": [
    {
     "name": "stderr",
     "output_type": "stream",
     "text": [
      "Warning message in normalizePath(path.expand(path), winslash, mustWork):\n",
      "\"path[1]=\"C:/Users/41615/OneDrive/×ÀÃæ/stat545a/worksheets\": The system cannot find the path specified\"\n",
      "Warning message in normalizePath(path.expand(path), winslash, mustWork):\n",
      "\"path[1]=\"C:/Users/41615/OneDrive/×ÀÃæ/stat545a/worksheets\": The system cannot find the path specified\"\n",
      "Warning message in normalizePath(path.expand(path), winslash, mustWork):\n",
      "\"path[1]=\"C:/Users/41615/OneDrive/×ÀÃæ/stat545a\": The system cannot find the path specified\"\n",
      "Warning message in normalizePath(path.expand(path), winslash, mustWork):\n",
      "\"path[1]=\"C:/Users/41615/OneDrive/×ÀÃæ/stat545a\": The system cannot find the path specified\"\n",
      "Warning message in normalizePath(path.expand(path), winslash, mustWork):\n",
      "\"path[1]=\"C:/Users/41615/OneDrive/×ÀÃæ\": The system cannot find the file specified\"\n",
      "Warning message in normalizePath(path.expand(path), winslash, mustWork):\n",
      "\"path[1]=\"C:/Users/41615/OneDrive/×ÀÃæ\": The system cannot find the file specified\"\n"
     ]
    },
    {
     "name": "stdout",
     "output_type": "stream",
     "text": [
      "\u001b[32mTest passed\u001b[39m \n"
     ]
    }
   ],
   "source": [
    "test_that(\"Question 9\", {\n",
    "    expect_equal(digest(unname(as.matrix(answer9))[1, ]), \"299537c4d0eeeca44bddd11a2b02f68d\")\n",
    "})"
   ]
  },
  {
   "cell_type": "markdown",
   "metadata": {
    "deletable": false,
    "editable": false,
    "nbgrader": {
     "cell_type": "markdown",
     "checksum": "d294be5e09d0f8bbd304fe9acdd5bc8a",
     "grade": false,
     "grade_id": "cell-076ab7bb5ded1102",
     "locked": true,
     "schema_version": 3,
     "solution": false,
     "task": false
    }
   },
   "source": [
    "## QUESTION 10\n",
    "\n",
    "Replace the missing values of the numeric columns in the `penguins` dataset with the *mean* of the relevant column. Hint: `FILL_THIS_IN_SAME` should be the same in all three expressions where it is noted. Another hint, look at question 9 above!\n",
    "\n",
    "Assign your answer to a variable named `answer10`\n",
    "\n",
    "```\n",
    "answer1.5 <- penguins %>%\n",
    " FILL_THIS_IN(across(FILL_THIS_IN(is.numeric), ~if_else(is.na(FILL_THIS_IN_SAME), mean(FILL_THIS_IN_SAME, na.rm = T), as.numeric(FILL_THIS_IN_SAME))))\n",
    "```"
   ]
  },
  {
   "cell_type": "code",
   "execution_count": 36,
   "metadata": {
    "deletable": false,
    "nbgrader": {
     "cell_type": "code",
     "checksum": "afefdd6add98bf8d7282a6cf5ebb0a6d",
     "grade": false,
     "grade_id": "cell-600cc9a22bcf11ab",
     "locked": false,
     "schema_version": 3,
     "solution": true,
     "task": false
    }
   },
   "outputs": [
    {
     "name": "stdout",
     "output_type": "stream",
     "text": [
      "\u001b[90m# A tibble: 344 x 8\u001b[39m\n",
      "   species island    bill_length_mm bill_depth_mm flipper_length_mm body_mass_g\n",
      "   \u001b[3m\u001b[90m<fct>\u001b[39m\u001b[23m   \u001b[3m\u001b[90m<fct>\u001b[39m\u001b[23m              \u001b[3m\u001b[90m<dbl>\u001b[39m\u001b[23m         \u001b[3m\u001b[90m<dbl>\u001b[39m\u001b[23m             \u001b[3m\u001b[90m<dbl>\u001b[39m\u001b[23m       \u001b[3m\u001b[90m<dbl>\u001b[39m\u001b[23m\n",
      "\u001b[90m 1\u001b[39m Adelie  Torgersen           39.1          18.7              181        \u001b[4m3\u001b[24m750 \n",
      "\u001b[90m 2\u001b[39m Adelie  Torgersen           39.5          17.4              186        \u001b[4m3\u001b[24m800 \n",
      "\u001b[90m 3\u001b[39m Adelie  Torgersen           40.3          18                195        \u001b[4m3\u001b[24m250 \n",
      "\u001b[90m 4\u001b[39m Adelie  Torgersen           43.9          17.2              201.       \u001b[4m4\u001b[24m202.\n",
      "\u001b[90m 5\u001b[39m Adelie  Torgersen           36.7          19.3              193        \u001b[4m3\u001b[24m450 \n",
      "\u001b[90m 6\u001b[39m Adelie  Torgersen           39.3          20.6              190        \u001b[4m3\u001b[24m650 \n",
      "\u001b[90m 7\u001b[39m Adelie  Torgersen           38.9          17.8              181        \u001b[4m3\u001b[24m625 \n",
      "\u001b[90m 8\u001b[39m Adelie  Torgersen           39.2          19.6              195        \u001b[4m4\u001b[24m675 \n",
      "\u001b[90m 9\u001b[39m Adelie  Torgersen           34.1          18.1              193        \u001b[4m3\u001b[24m475 \n",
      "\u001b[90m10\u001b[39m Adelie  Torgersen           42            20.2              190        \u001b[4m4\u001b[24m250 \n",
      "\u001b[90m# ... with 334 more rows, and 2 more variables: sex <fct>, year <dbl>\u001b[39m\n"
     ]
    }
   ],
   "source": [
    "answer10 <- penguins %>%\n",
    " mutate(across(where(is.numeric), ~if_else(is.na(.), mean(., na.rm = T), as.numeric(.))))\n",
    "print(answer10)"
   ]
  },
  {
   "cell_type": "code",
   "execution_count": 37,
   "metadata": {
    "deletable": false,
    "editable": false,
    "nbgrader": {
     "cell_type": "code",
     "checksum": "c22134dd30e93f81f67feef5a708d494",
     "grade": true,
     "grade_id": "cell-5abb50bdeafb9537",
     "locked": true,
     "points": 1,
     "schema_version": 3,
     "solution": false,
     "task": false
    }
   },
   "outputs": [
    {
     "name": "stderr",
     "output_type": "stream",
     "text": [
      "Warning message in normalizePath(path.expand(path), winslash, mustWork):\n",
      "\"path[1]=\"C:/Users/41615/OneDrive/×ÀÃæ/stat545a/worksheets\": The system cannot find the path specified\"\n",
      "Warning message in normalizePath(path.expand(path), winslash, mustWork):\n",
      "\"path[1]=\"C:/Users/41615/OneDrive/×ÀÃæ/stat545a/worksheets\": The system cannot find the path specified\"\n",
      "Warning message in normalizePath(path.expand(path), winslash, mustWork):\n",
      "\"path[1]=\"C:/Users/41615/OneDrive/×ÀÃæ/stat545a\": The system cannot find the path specified\"\n",
      "Warning message in normalizePath(path.expand(path), winslash, mustWork):\n",
      "\"path[1]=\"C:/Users/41615/OneDrive/×ÀÃæ/stat545a\": The system cannot find the path specified\"\n",
      "Warning message in normalizePath(path.expand(path), winslash, mustWork):\n",
      "\"path[1]=\"C:/Users/41615/OneDrive/×ÀÃæ\": The system cannot find the file specified\"\n",
      "Warning message in normalizePath(path.expand(path), winslash, mustWork):\n",
      "\"path[1]=\"C:/Users/41615/OneDrive/×ÀÃæ\": The system cannot find the file specified\"\n"
     ]
    },
    {
     "name": "stdout",
     "output_type": "stream",
     "text": [
      "\u001b[32mTest passed\u001b[39m \n"
     ]
    }
   ],
   "source": [
    "test_that(\"Answer 10\", {\n",
    "    tsort <- arrange(answer10, species, island)\n",
    "    expect_known_hash(round(tsort$bill_length_mm, 1), \"42c55f33a4903658d064d9f817c50cf3\")\n",
    "    expect_known_hash(round(tsort$bill_depth_mm, 1), \"0dc1516dfa8e9982ee592e0f3dad77be\")\n",
    "    expect_known_hash(round(tsort$flipper_length_mm, 1), \"7460035cc5737948243b080a95c87063\")\n",
    "    expect_known_hash(round(tsort$body_mass_g, 1), \"02f14b0f090195c2fda524cc8aa593dd\")\n",
    "})"
   ]
  },
  {
   "cell_type": "code",
   "execution_count": null,
   "metadata": {},
   "outputs": [],
   "source": []
  }
 ],
 "metadata": {
  "kernelspec": {
   "display_name": "R",
   "language": "R",
   "name": "ir"
  },
  "language_info": {
   "codemirror_mode": "r",
   "file_extension": ".r",
   "mimetype": "text/x-r-source",
   "name": "R",
   "pygments_lexer": "r",
   "version": "4.1.1"
  }
 },
 "nbformat": 4,
 "nbformat_minor": 4
}
